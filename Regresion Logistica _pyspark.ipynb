{
 "cells": [
  {
   "cell_type": "markdown",
   "id": "afe6561d",
   "metadata": {},
   "source": [
    "# Regresión Logistica en PYSPARK \n",
    "\n",
    "Aplicamos la regresion logistica a la data newdatapandas que es el 4% de la la data train e la cual presanta las variables\n",
    "\n",
    "    root\n",
    "- fare_amount: double (nullable = true)\n",
    "- pickup_longitude: double (nullable = true)\n",
    "- pickup_latitude: double (nullable = true)\n",
    "- dropoff_longitude: double (nullable = true)\n",
    "- dropoff_latitude: double (nullable = true)\n",
    "- distancia: double (nullable = true)\n",
    "- dia_semana: double (nullable = true)\n",
    "- hora: double (nullable = true)\n",
    "- passenger: string (nullable = true\n",
    "\n",
    "primero importaremos las librerias de spark\n",
    "y para poder iniciar sesion\n",
    " "
   ]
  },
  {
   "cell_type": "code",
   "execution_count": 2,
   "id": "3c24b232",
   "metadata": {},
   "outputs": [],
   "source": [
    "import findspark\n",
    "#findspark.init(\"/usr/local/spark/spark-3.1.1-bin-hadoop2.7\")    #para linux\n",
    "findspark.init()    "
   ]
  },
  {
   "cell_type": "code",
   "execution_count": 3,
   "id": "4ff6caee",
   "metadata": {},
   "outputs": [
    {
     "data": {
      "text/html": [
       "\n",
       "        <div>\n",
       "            <p><b>SparkContext</b></p>\n",
       "\n",
       "            <p><a href=\"http://192.168.1.3:4040\">Spark UI</a></p>\n",
       "\n",
       "            <dl>\n",
       "              <dt>Version</dt>\n",
       "                <dd><code>v3.1.2</code></dd>\n",
       "              <dt>Master</dt>\n",
       "                <dd><code>local[*]</code></dd>\n",
       "              <dt>AppName</dt>\n",
       "                <dd><code>ModeloML</code></dd>\n",
       "            </dl>\n",
       "        </div>\n",
       "        "
      ],
      "text/plain": [
       "<SparkContext master=local[*] appName=ModeloML>"
      ]
     },
     "execution_count": 3,
     "metadata": {},
     "output_type": "execute_result"
    }
   ],
   "source": [
    "# importamos pyspark\n",
    "from pyspark import SparkConf, SparkContext\n",
    "# Variable de configuración\n",
    "conf = SparkConf().setMaster(\"local[*]\").setAppName(\"ModeloML\").set(\"spark.driver.maxResultSize\", \"0\")\n",
    "\n",
    "# iniciamos un contexto spark (solo se ejecuta uno. Para ejecutar otra vez , reiniciar el kernel)\n",
    "sc = SparkContext(conf = conf)\n",
    "sc"
   ]
  },
  {
   "cell_type": "code",
   "execution_count": 6,
   "id": "849c58eb",
   "metadata": {},
   "outputs": [],
   "source": [
    "from pyspark.sql import SparkSession"
   ]
  },
  {
   "cell_type": "code",
   "execution_count": 166,
   "id": "ac6c006d",
   "metadata": {},
   "outputs": [],
   "source": [
    "from pyspark.sql.types import StringType\n",
    "from pyspark import SQLContext\n",
    "# le pasamos el contexto anterior\n",
    "sqlContext = SQLContext(sc)\n",
    "dfspark = sqlContext.read.format('csv').option(\"header\",\"true\").option(\"inferSchema\",\"true\").load('newDatapandas.csv')"
   ]
  },
  {
   "cell_type": "code",
   "execution_count": 167,
   "id": "182044b5",
   "metadata": {},
   "outputs": [
    {
     "name": "stdout",
     "output_type": "stream",
     "text": [
      "+-----------+--------------------+-----------------+-----------------+------------------+------------------+---------------+--------------------+--------------------+---------+----------+----+\n",
      "|fare_amount|     pickup_datetime| pickup_longitude|  pickup_latitude| dropoff_longitude|  dropoff_latitude|passenger_count|        dif_latitude|       dif_longitude|distancia|dia_semana|hora|\n",
      "+-----------+--------------------+-----------------+-----------------+------------------+------------------+---------------+--------------------+--------------------+---------+----------+----+\n",
      "|        8.0|2015-03-12 23:14:...|-73.9931411743164|40.72793960571289|-73.99661254882812|40.744529724121094|              2|0.016590118408203125| 0.00347137451171875|1.8683056|         4|  23|\n",
      "|       10.0|2013-08-21 08:38:...|       -73.964837|        40.769933|        -73.983462|         40.761655|              1|0.008278000000004226|0.018625000000000114|1.8191968|         3|   8|\n",
      "|        5.5|2014-01-23 18:40:...|       -74.001017|        40.746352|        -73.990873|         40.739497|              1| 0.00685500000000161|0.010144000000011033| 1.145462|         4|  18|\n",
      "|        6.1|2011-12-24 14:03:...|       -73.982433|        40.768137|        -73.989684|         40.776138|              1|0.008001000000000147|0.007250999999996566|1.0793539|         6|  14|\n",
      "|        5.0|2012-10-14 23:24:...|       -73.990358|        40.740377|         -74.00085|         40.733955|              1|0.006422000000000594| 0.01049199999999928|1.1367035|         7|  23|\n",
      "+-----------+--------------------+-----------------+-----------------+------------------+------------------+---------------+--------------------+--------------------+---------+----------+----+\n",
      "only showing top 5 rows\n",
      "\n"
     ]
    }
   ],
   "source": [
    "dfspark.show(5)"
   ]
  },
  {
   "cell_type": "markdown",
   "id": "731c58b1",
   "metadata": {},
   "source": [
    "Verificamos nuestros datos ahora nuestra variable de evaluacion es la variable `passenger_count` por lo tanto usamos la funcion `printShema pára ver que tipo de dato es"
   ]
  },
  {
   "cell_type": "code",
   "execution_count": 168,
   "id": "168e4ecc",
   "metadata": {},
   "outputs": [
    {
     "name": "stdout",
     "output_type": "stream",
     "text": [
      "root\n",
      " |-- fare_amount: double (nullable = true)\n",
      " |-- pickup_datetime: string (nullable = true)\n",
      " |-- pickup_longitude: double (nullable = true)\n",
      " |-- pickup_latitude: double (nullable = true)\n",
      " |-- dropoff_longitude: double (nullable = true)\n",
      " |-- dropoff_latitude: double (nullable = true)\n",
      " |-- passenger_count: integer (nullable = true)\n",
      " |-- dif_latitude: double (nullable = true)\n",
      " |-- dif_longitude: double (nullable = true)\n",
      " |-- distancia: double (nullable = true)\n",
      " |-- dia_semana: integer (nullable = true)\n",
      " |-- hora: integer (nullable = true)\n",
      "\n"
     ]
    }
   ],
   "source": [
    "dfspark.printSchema()"
   ]
  },
  {
   "cell_type": "code",
   "execution_count": 169,
   "id": "3bda5509",
   "metadata": {},
   "outputs": [
    {
     "data": {
      "text/plain": [
       "['fare_amount',\n",
       " 'pickup_datetime',\n",
       " 'pickup_longitude',\n",
       " 'pickup_latitude',\n",
       " 'dropoff_longitude',\n",
       " 'dropoff_latitude',\n",
       " 'passenger_count',\n",
       " 'dif_latitude',\n",
       " 'dif_longitude',\n",
       " 'distancia',\n",
       " 'dia_semana',\n",
       " 'hora']"
      ]
     },
     "execution_count": 169,
     "metadata": {},
     "output_type": "execute_result"
    }
   ],
   "source": [
    "list(dfspark.columns)"
   ]
  },
  {
   "cell_type": "markdown",
   "id": "223fdfc9",
   "metadata": {},
   "source": [
    "Seleccionamos solo los datos que usaremos y lo convertimos a un tipo double"
   ]
  },
  {
   "cell_type": "code",
   "execution_count": 170,
   "id": "98afb3a9",
   "metadata": {},
   "outputs": [],
   "source": [
    "from pyspark.sql import functions as F\n",
    "#casteamos todas las variables a double\n",
    "\n",
    "lista_columnas_admisibles = ['fare_amount','passenger_count','pickup_longitude','pickup_latitude','dropoff_longitude','dropoff_latitude','distancia','dia_semana','hora']\n",
    "dfspark = dfspark.select(*(F.col(c).cast('double').alias(c) for c in lista_columnas_admisibles))"
   ]
  },
  {
   "cell_type": "markdown",
   "id": "86293772",
   "metadata": {},
   "source": [
    "Verificamos nuestros datos nuevamente"
   ]
  },
  {
   "cell_type": "code",
   "execution_count": 171,
   "id": "8f893029",
   "metadata": {},
   "outputs": [
    {
     "name": "stdout",
     "output_type": "stream",
     "text": [
      "root\n",
      " |-- fare_amount: double (nullable = true)\n",
      " |-- passenger_count: double (nullable = true)\n",
      " |-- pickup_longitude: double (nullable = true)\n",
      " |-- pickup_latitude: double (nullable = true)\n",
      " |-- dropoff_longitude: double (nullable = true)\n",
      " |-- dropoff_latitude: double (nullable = true)\n",
      " |-- distancia: double (nullable = true)\n",
      " |-- dia_semana: double (nullable = true)\n",
      " |-- hora: double (nullable = true)\n",
      "\n"
     ]
    }
   ],
   "source": [
    "dfspark.printSchema()\n"
   ]
  },
  {
   "cell_type": "code",
   "execution_count": 172,
   "id": "cfb7a5cf",
   "metadata": {},
   "outputs": [
    {
     "name": "stdout",
     "output_type": "stream",
     "text": [
      "+-----------+---------------+-----------------+-----------------+------------------+------------------+---------+----------+----+\n",
      "|fare_amount|passenger_count| pickup_longitude|  pickup_latitude| dropoff_longitude|  dropoff_latitude|distancia|dia_semana|hora|\n",
      "+-----------+---------------+-----------------+-----------------+------------------+------------------+---------+----------+----+\n",
      "|        8.0|            2.0|-73.9931411743164|40.72793960571289|-73.99661254882812|40.744529724121094|1.8683056|       4.0|23.0|\n",
      "|       10.0|            1.0|       -73.964837|        40.769933|        -73.983462|         40.761655|1.8191968|       3.0| 8.0|\n",
      "|        5.5|            1.0|       -74.001017|        40.746352|        -73.990873|         40.739497| 1.145462|       4.0|18.0|\n",
      "|        6.1|            1.0|       -73.982433|        40.768137|        -73.989684|         40.776138|1.0793539|       6.0|14.0|\n",
      "|        5.0|            1.0|       -73.990358|        40.740377|         -74.00085|         40.733955|1.1367035|       7.0|23.0|\n",
      "+-----------+---------------+-----------------+-----------------+------------------+------------------+---------+----------+----+\n",
      "only showing top 5 rows\n",
      "\n"
     ]
    }
   ],
   "source": [
    "dfspark.show(5)"
   ]
  },
  {
   "cell_type": "markdown",
   "id": "286c17cb",
   "metadata": {},
   "source": [
    "Ahora creamos una funcion para poder darle etiquetas a los datos de estudio y porder clasificarlas "
   ]
  },
  {
   "cell_type": "code",
   "execution_count": 173,
   "id": "c265d43d",
   "metadata": {},
   "outputs": [],
   "source": [
    "def string_to_float(x):\n",
    "    return float(x)\n",
    "\n",
    "def condicion(r):\n",
    "    if (1.0<= r<=3.0):\n",
    "        label =\" Pocos pasajeros\"\n",
    "    elif (3.0< r<= 5.0):\n",
    "        label = \"Normal Pasajeros\"\n",
    "    else:\n",
    "        label = \"Muchos pasajeros\"\n",
    "    return label\n",
    "from pyspark.sql.functions import udf\n",
    "from pyspark.sql.types import StringType, DoubleType\n",
    "\n",
    "\n",
    "string_to_float_udf = udf(string_to_float, DoubleType())\n",
    "class_udf =udf(lambda x: condicion(x),StringType())\n",
    "dfspark = dfspark.withColumn(\"passenger\",class_udf(dfspark['passenger_count']))\n"
   ]
  },
  {
   "cell_type": "code",
   "execution_count": 174,
   "id": "7b23e417",
   "metadata": {},
   "outputs": [],
   "source": [
    "from pyspark.sql.functions import udf, array, col"
   ]
  },
  {
   "cell_type": "code",
   "execution_count": 177,
   "id": "04183c0f",
   "metadata": {},
   "outputs": [],
   "source": [
    "dfspark = dfspark.drop(\"passenger_count\")"
   ]
  },
  {
   "cell_type": "markdown",
   "id": "5b8b9a8a",
   "metadata": {},
   "source": [
    "Verificamosa nuevamente nuestra data que haya agregaso la columna y eliminamos los dataos que los etiquetamos"
   ]
  },
  {
   "cell_type": "code",
   "execution_count": 178,
   "id": "e2e3658e",
   "metadata": {},
   "outputs": [
    {
     "name": "stdout",
     "output_type": "stream",
     "text": [
      "root\n",
      " |-- fare_amount: double (nullable = true)\n",
      " |-- pickup_longitude: double (nullable = true)\n",
      " |-- pickup_latitude: double (nullable = true)\n",
      " |-- dropoff_longitude: double (nullable = true)\n",
      " |-- dropoff_latitude: double (nullable = true)\n",
      " |-- distancia: double (nullable = true)\n",
      " |-- dia_semana: double (nullable = true)\n",
      " |-- hora: double (nullable = true)\n",
      " |-- passenger: string (nullable = true)\n",
      "\n"
     ]
    }
   ],
   "source": [
    "dfspark.printSchema()"
   ]
  },
  {
   "cell_type": "markdown",
   "id": "7e55cb55",
   "metadata": {},
   "source": [
    "Primero crearemos nuestro stringIndexer a donde agregaremos nuestros valores numericas a  ciertas variables que estan en string\n",
    "despues crreamos nuestro `pipeline` que es un especie de constructor para utilizar diversas funciones\n",
    "y utilizamos nuestras entradas de columnas y como van a salir.\n"
   ]
  },
  {
   "cell_type": "code",
   "execution_count": 182,
   "id": "38eb6642",
   "metadata": {},
   "outputs": [],
   "source": [
    "def get_dummy(dfspark, indexcol, categoricalCols,continuousCols,labelsCol):\n",
    "    from pyspark.ml import Pipeline\n",
    "    from pyspark.ml.feacture import StringIndexer, OneHotEncoder,VectorAssembler\n",
    "    from pyspark.sql.functions import col\n",
    "    \n",
    "    #indexar las variables en String\n",
    "    indexers =[StringIndexer(inputCol = c,outputCol =\"{0}_indexed\".format(c))for c in categoricalCols]\n",
    "    #vamos a encodificar esta variables en string\n",
    "    encoders = [OneHotEncoder(inputCol= indexer.getOutputCol(),\n",
    "                              outputCol =\"{0}_encoded\".format(indexer.getOutputCol()))for indexer in indexers]\n",
    "\n",
    "    # convertimos nuestras variables de entrada en un vector denso\n",
    "    assembler = VectorAssembler(inputCols =[encoder.getOutputCol()for encoder in encoders]+continuousCols, \n",
    "                                          outputCol =\"features\")\n",
    "    # añadimos a pipeline\n",
    "    pipeline = Pipeline(stages=indexers + encoders +[assembler])#nos indiac un solo vector\n",
    "    # entrenaremos  la data\n",
    "    model= pipeline.fit(dfspark)\n",
    "    \n",
    "    data = model.transform(dfspark)\n",
    "    data = data.withColmn('label',col(labelCol))\n",
    "    \n",
    "    return data.select(indexCol,'features','label')\n",
    "# crearemos las etiquetas de las columnas label nuestra variable salida y feature nuestras variables de entreda\n",
    "    "
   ]
  },
  {
   "cell_type": "code",
   "execution_count": 183,
   "id": "da52da81",
   "metadata": {},
   "outputs": [],
   "source": [
    "from pyspark.ml.linalg import Vectors\n",
    "from pyspark.ml import Pipeline\n",
    "from pyspark.ml.feature import IndexToString,StringIndexer,VectorIndexer\n",
    "from pyspark.ml.tuning import CrossValidator, ParamGridBuilder\n",
    "from pyspark.ml.evaluation import MulticlassClassificationEvaluator\n",
    "# con esta funcion mostramos la data en u dataframe\n",
    "def transData(data):\n",
    "    return data.rdd.map(lambda r :[Vectors.dense(r[:-1]),r[-1]]).toDF(['features','label'])\n",
    "\n"
   ]
  },
  {
   "cell_type": "code",
   "execution_count": null,
   "id": "3be68d4c",
   "metadata": {},
   "outputs": [],
   "source": []
  },
  {
   "cell_type": "code",
   "execution_count": 186,
   "id": "29b279f1",
   "metadata": {},
   "outputs": [
    {
     "name": "stdout",
     "output_type": "stream",
     "text": [
      "+--------------------------------------------------------------------------------------------------+----------------+\n",
      "|features                                                                                          |label           |\n",
      "+--------------------------------------------------------------------------------------------------+----------------+\n",
      "|[8.0,-73.9931411743164,40.72793960571289,-73.99661254882812,40.744529724121094,1.8683056,4.0,23.0]| Pocos pasajeros|\n",
      "|[10.0,-73.964837,40.769933,-73.983462,40.761655,1.8191968,3.0,8.0]                                | Pocos pasajeros|\n",
      "|[5.5,-74.001017,40.746352,-73.990873,40.739497,1.145462,4.0,18.0]                                 | Pocos pasajeros|\n",
      "|[6.1,-73.982433,40.768137,-73.989684,40.776138,1.0793539,6.0,14.0]                                | Pocos pasajeros|\n",
      "|[5.0,-73.990358,40.740377,-74.00085,40.733955,1.1367035,7.0,23.0]                                 | Pocos pasajeros|\n",
      "|[5.7,-73.990648,40.763472,-73.976782,40.78257,2.424119,1.0,16.0]                                  |Normal Pasajeros|\n",
      "|[10.2,-73.981319,40.753531,-73.996766,40.721148,3.829884,4.0,22.0]                                | Pocos pasajeros|\n",
      "|[4.9,-73.991235,40.727735,-73.992067,40.717955,1.0900514,7.0,2.0]                                 | Pocos pasajeros|\n",
      "|[22.1,-73.948315,40.724691,-73.966977,40.772335,5.5276585,7.0,15.0]                               | Pocos pasajeros|\n",
      "|[9.3,-73.989308,40.719017,-74.006488,40.743892,3.122764,1.0,22.0]                                 | Pocos pasajeros|\n",
      "+--------------------------------------------------------------------------------------------------+----------------+\n",
      "only showing top 10 rows\n",
      "\n"
     ]
    }
   ],
   "source": [
    "transformed = transData(dfspark)\n",
    "# cpomo se muestra que cada solumna de variable de entreda se convertieron en un solo dato vector\n",
    "# u la variable de salida se convierte en un label\n",
    "transformed.show(10,False)"
   ]
  },
  {
   "cell_type": "code",
   "execution_count": null,
   "id": "44ce1a5c",
   "metadata": {},
   "outputs": [],
   "source": [
    "#crearemos un nuevos String iodexer\n",
    "#nuevamente iniciaremos el mismo proceso"
   ]
  },
  {
   "cell_type": "code",
   "execution_count": 188,
   "id": "151e493b",
   "metadata": {},
   "outputs": [
    {
     "name": "stdout",
     "output_type": "stream",
     "text": [
      "+--------------------+----------------+------------+\n",
      "|            features|           label|indexedLabel|\n",
      "+--------------------+----------------+------------+\n",
      "|[8.0,-73.99314117...| Pocos pasajeros|         0.0|\n",
      "|[10.0,-73.964837,...| Pocos pasajeros|         0.0|\n",
      "|[5.5,-74.001017,4...| Pocos pasajeros|         0.0|\n",
      "|[6.1,-73.982433,4...| Pocos pasajeros|         0.0|\n",
      "|[5.0,-73.990358,4...| Pocos pasajeros|         0.0|\n",
      "|[5.7,-73.990648,4...|Normal Pasajeros|         1.0|\n",
      "|[10.2,-73.981319,...| Pocos pasajeros|         0.0|\n",
      "|[4.9,-73.991235,4...| Pocos pasajeros|         0.0|\n",
      "|[22.1,-73.948315,...| Pocos pasajeros|         0.0|\n",
      "|[9.3,-73.989308,4...| Pocos pasajeros|         0.0|\n",
      "+--------------------+----------------+------------+\n",
      "only showing top 10 rows\n",
      "\n"
     ]
    }
   ],
   "source": [
    "labelIndexer = StringIndexer(inputCol ='label',outputCol ='indexedLabel').fit(transformed)\n",
    "labelIndexer.transform(transformed).show(10,True)"
   ]
  },
  {
   "cell_type": "code",
   "execution_count": 192,
   "id": "fff235c4",
   "metadata": {},
   "outputs": [
    {
     "name": "stdout",
     "output_type": "stream",
     "text": [
      "+--------------------+----------------+--------------------+\n",
      "|            features|           label|     indexedFeatures|\n",
      "+--------------------+----------------+--------------------+\n",
      "|[8.0,-73.99314117...| Pocos pasajeros|[8.0,-73.99314117...|\n",
      "|[10.0,-73.964837,...| Pocos pasajeros|[10.0,-73.964837,...|\n",
      "|[5.5,-74.001017,4...| Pocos pasajeros|[5.5,-74.001017,4...|\n",
      "|[6.1,-73.982433,4...| Pocos pasajeros|[6.1,-73.982433,4...|\n",
      "|[5.0,-73.990358,4...| Pocos pasajeros|[5.0,-73.990358,4...|\n",
      "+--------------------+----------------+--------------------+\n",
      "only showing top 5 rows\n",
      "\n"
     ]
    }
   ],
   "source": [
    "#hacemos un uevo tratamenitneop de datos para volver a metre nuetrso datos de entrada en un vector para aplicarlo a la regresion logistica\n",
    "featureIndexer = VectorIndexer(inputCol ='features',outputCol ='indexedFeatures',maxCategories =4).fit(transformed)\n",
    "featureIndexer.transform(transformed).show(5,True)"
   ]
  },
  {
   "cell_type": "markdown",
   "id": "9e281cbf",
   "metadata": {},
   "source": [
    "### TERMINAMOS EL TRATAMIENTO DE LA DATA PARA APLICAR LA REGRESION LOGISTICA"
   ]
  },
  {
   "cell_type": "code",
   "execution_count": 193,
   "id": "01bb0d33",
   "metadata": {},
   "outputs": [
    {
     "name": "stderr",
     "output_type": "stream",
     "text": [
      "Exception ignored in: <function JavaWrapper.__del__ at 0x000001FFDE3D0D30>\n",
      "Traceback (most recent call last):\n",
      "  File \"C:\\spark-3.1.2-bin-hadoop3.2\\spark-3.1.2-bin-hadoop3.2\\python\\pyspark\\ml\\wrapper.py\", line 39, in __del__\n",
      "    if SparkContext._active_spark_context and self._java_obj is not None:\n",
      "AttributeError: 'VectorIndexer' object has no attribute '_java_obj'\n"
     ]
    },
    {
     "name": "stdout",
     "output_type": "stream",
     "text": [
      "+--------------------------------------------------------------------------------------------------+----------------+\n",
      "|features                                                                                          |label           |\n",
      "+--------------------------------------------------------------------------------------------------+----------------+\n",
      "|[0.0,-74.06729888916016,40.702171325683594,-74.07487487792969,40.6984748840332,0.7597047,5.0,4.0] | Pocos pasajeros|\n",
      "|[0.0,-73.9375991821289,40.7584228515625,-73.93760681152344,40.75836944580078,0.0059748,5.0,3.0]   | Pocos pasajeros|\n",
      "|[0.0,-73.93758,40.758127,-73.937583,40.758137,0.0011406192,3.0,11.0]                              | Pocos pasajeros|\n",
      "|[0.01,-74.02980041503906,40.75298309326172,-74.02978515625,40.75297546386719,0.0015404668,4.0,1.0]| Pocos pasajeros|\n",
      "|[0.01,-73.96696472167969,40.76126480102539,-73.58683776855469,41.03192901611328,43.90549,4.0,3.0] | Pocos pasajeros|\n",
      "+--------------------------------------------------------------------------------------------------+----------------+\n",
      "only showing top 5 rows\n",
      "\n",
      "+-------------------------------------------------------------------------------------------------+----------------+\n",
      "|features                                                                                         |label           |\n",
      "+-------------------------------------------------------------------------------------------------+----------------+\n",
      "|[0.0,-74.009997,40.73946,-73.96709,40.588747,17.14967,6.0,3.0]                                   | Pocos pasajeros|\n",
      "|[0.0,-73.7877197265625,40.66359329223633,-74.21056365966797,40.94793701171875,47.618713,3.0,16.0]| Pocos pasajeros|\n",
      "|[0.01,-73.981872,40.76191,-73.980377,40.761723,0.12765385,6.0,13.0]                              | Pocos pasajeros|\n",
      "|[1.9,-73.9377670288086,40.75841522216797,0.0,0.0,8664.793,4.0,14.0]                              | Pocos pasajeros|\n",
      "|[2.5,-75.329235715427,40.645565616332,-73.981302256939,40.773967144671,114.53974,1.0,14.0]       | Pocos pasajeros|\n",
      "+-------------------------------------------------------------------------------------------------+----------------+\n",
      "only showing top 5 rows\n",
      "\n"
     ]
    }
   ],
   "source": [
    "\n",
    "# dividimos nuestra data en dat de entrenamiento y testeo 60% de entrenamiento de manera aleatoria y el 40% a la data de testeo\n",
    "(X_train, x_test) = transformed.randomSplit([0.6,0.4])\n",
    "X_train.show(5,False)\n",
    "x_test.show(5,False)"
   ]
  },
  {
   "cell_type": "markdown",
   "id": "a700b5a1",
   "metadata": {},
   "source": [
    "### AHORA CREAREMOS NUESTRO MODELO DE REGRESION lOGISTICA"
   ]
  },
  {
   "cell_type": "code",
   "execution_count": 195,
   "id": "0e1df51e",
   "metadata": {},
   "outputs": [],
   "source": [
    "# crearemos nuestro modelo de regresion logistica\n",
    "from pyspark.ml.classification import LogisticRegression\n",
    "logr = LogisticRegression(featuresCol ='indexedFeatures', labelCol ='indexedLabel')"
   ]
  },
  {
   "cell_type": "code",
   "execution_count": 196,
   "id": "c5e8c64c",
   "metadata": {},
   "outputs": [],
   "source": [
    "#devolvemos la nuestra variable numerica a la clase en que pertenecia\n",
    "\n",
    "labelConverter = IndexToString(inputCol = \"prediction\",outputCol =\"predictedLabel\",labels =labelIndexer.labels)"
   ]
  },
  {
   "cell_type": "code",
   "execution_count": 200,
   "id": "76ba7fd4",
   "metadata": {},
   "outputs": [],
   "source": [
    "#labelIndexer = variable de categoria\n",
    "#feactureIndexer= vector donde esta todas nuestras variables de entreda\n",
    "# labelConverter variables de prediccion convertidas en su label original\n",
    "# logr que es el modelo de regresion logistica\n",
    "pipeline =Pipeline(stages =[labelIndexer,featureIndexer,logr,labelConverter])\n"
   ]
  },
  {
   "cell_type": "code",
   "execution_count": 201,
   "id": "c0683a70",
   "metadata": {
    "collapsed": true
   },
   "outputs": [
    {
     "name": "stderr",
     "output_type": "stream",
     "text": [
      "Exception ignored in: <function JavaWrapper.__del__ at 0x000001FFDE3D0D30>\n",
      "Traceback (most recent call last):\n",
      "  File \"C:\\spark-3.1.2-bin-hadoop3.2\\spark-3.1.2-bin-hadoop3.2\\python\\pyspark\\ml\\wrapper.py\", line 39, in __del__\n",
      "    if SparkContext._active_spark_context and self._java_obj is not None:\n",
      "AttributeError: 'LogisticRegression' object has no attribute '_java_obj'\n"
     ]
    }
   ],
   "source": [
    "# procedemos a netrenar\n",
    "model = pipeline.fit(X_train)"
   ]
  },
  {
   "cell_type": "code",
   "execution_count": 204,
   "id": "8365b945",
   "metadata": {},
   "outputs": [
    {
     "name": "stdout",
     "output_type": "stream",
     "text": [
      "+--------------------+----------------+----------------+\n",
      "|            features|           label|  predictedLabel|\n",
      "+--------------------+----------------+----------------+\n",
      "|[0.0,-74.009997,4...| Pocos pasajeros| Pocos pasajeros|\n",
      "|[0.0,-73.78771972...| Pocos pasajeros| Pocos pasajeros|\n",
      "|[0.01,-73.981872,...| Pocos pasajeros| Pocos pasajeros|\n",
      "|[1.9,-73.93776702...| Pocos pasajeros| Pocos pasajeros|\n",
      "|[2.5,-75.32923571...| Pocos pasajeros| Pocos pasajeros|\n",
      "|[2.5,-74.070413,4...| Pocos pasajeros| Pocos pasajeros|\n",
      "|[2.5,-74.025002,4...| Pocos pasajeros| Pocos pasajeros|\n",
      "|[2.5,-74.016172,4...| Pocos pasajeros| Pocos pasajeros|\n",
      "|[2.5,-74.013349,4...| Pocos pasajeros| Pocos pasajeros|\n",
      "|[2.5,-74.012193,4...| Pocos pasajeros| Pocos pasajeros|\n",
      "|[2.5,-74.011313,4...| Pocos pasajeros| Pocos pasajeros|\n",
      "|[2.5,-74.00861,40...| Pocos pasajeros| Pocos pasajeros|\n",
      "|[2.5,-74.008482,4...| Pocos pasajeros| Pocos pasajeros|\n",
      "|[2.5,-74.008252,4...| Pocos pasajeros| Pocos pasajeros|\n",
      "|[2.5,-74.008175,4...|Muchos pasajeros| Pocos pasajeros|\n",
      "|[2.5,-74.008168,4...| Pocos pasajeros| Pocos pasajeros|\n",
      "|[2.5,-74.007857,4...| Pocos pasajeros| Pocos pasajeros|\n",
      "|[2.5,-74.007844,4...| Pocos pasajeros| Pocos pasajeros|\n",
      "|[2.5,-74.007391,4...| Pocos pasajeros| Pocos pasajeros|\n",
      "|[2.5,-74.006717,4...| Pocos pasajeros| Pocos pasajeros|\n",
      "|[2.5,-74.006547,4...| Pocos pasajeros| Pocos pasajeros|\n",
      "|[2.5,-74.006464,4...| Pocos pasajeros| Pocos pasajeros|\n",
      "|[2.5,-74.006197,4...| Pocos pasajeros| Pocos pasajeros|\n",
      "|[2.5,-74.00554,40...| Pocos pasajeros| Pocos pasajeros|\n",
      "|[2.5,-74.00536,40...| Pocos pasajeros| Pocos pasajeros|\n",
      "|[2.5,-74.005302,4...| Pocos pasajeros| Pocos pasajeros|\n",
      "|[2.5,-74.005168,4...| Pocos pasajeros| Pocos pasajeros|\n",
      "|[2.5,-74.0051,40....|Muchos pasajeros| Pocos pasajeros|\n",
      "|[2.5,-74.004241,4...| Pocos pasajeros| Pocos pasajeros|\n",
      "|[2.5,-74.004142,4...| Pocos pasajeros| Pocos pasajeros|\n",
      "|[2.5,-74.004098,4...| Pocos pasajeros| Pocos pasajeros|\n",
      "|[2.5,-74.003922,4...| Pocos pasajeros| Pocos pasajeros|\n",
      "|[2.5,-74.00287,40...| Pocos pasajeros| Pocos pasajeros|\n",
      "|[2.5,-74.002866,4...| Pocos pasajeros| Pocos pasajeros|\n",
      "|[2.5,-74.002694,4...| Pocos pasajeros| Pocos pasajeros|\n",
      "|[2.5,-74.002253,4...| Pocos pasajeros| Pocos pasajeros|\n",
      "|[2.5,-74.00218200...| Pocos pasajeros| Pocos pasajeros|\n",
      "|[2.5,-74.001642,4...| Pocos pasajeros| Pocos pasajeros|\n",
      "|[2.5,-74.001463,4...| Pocos pasajeros| Pocos pasajeros|\n",
      "|[2.5,-74.001437,4...| Pocos pasajeros| Pocos pasajeros|\n",
      "|[2.5,-74.000876,4...| Pocos pasajeros| Pocos pasajeros|\n",
      "|[2.5,-74.000846,4...| Pocos pasajeros| Pocos pasajeros|\n",
      "|[2.5,-74.000751,4...| Pocos pasajeros| Pocos pasajeros|\n",
      "|[2.5,-74.000303,4...| Pocos pasajeros| Pocos pasajeros|\n",
      "|[2.5,-73.999783,4...| Pocos pasajeros| Pocos pasajeros|\n",
      "|[2.5,-73.99975,40...| Pocos pasajeros| Pocos pasajeros|\n",
      "|[2.5,-73.999457,4...| Pocos pasajeros| Pocos pasajeros|\n",
      "|[2.5,-73.998918,4...| Pocos pasajeros| Pocos pasajeros|\n",
      "|[2.5,-73.998345,4...| Pocos pasajeros| Pocos pasajeros|\n",
      "|[2.5,-73.998149,4...| Pocos pasajeros| Pocos pasajeros|\n",
      "+--------------------+----------------+----------------+\n",
      "only showing top 50 rows\n",
      "\n"
     ]
    }
   ],
   "source": [
    "# verificamos la prediccion\n",
    "predictions = model.transform(x_test)\n",
    "#datos de entreda |||lebel: dato real ||| predictedlabel  dato de prediccion\n",
    "predictions.select(\"features\",\"label\",\"predictedLabel\").show(50)"
   ]
  },
  {
   "cell_type": "markdown",
   "id": "6aa7660c",
   "metadata": {},
   "source": [
    "### Para saber nuestra tasa de aprendizaje  de nuestro modelo "
   ]
  },
  {
   "cell_type": "code",
   "execution_count": 208,
   "id": "2031f1af",
   "metadata": {},
   "outputs": [],
   "source": [
    "from pyspark.ml.evaluation import MulticlassClassificationEvaluator\n",
    "\n",
    "evaluator = MulticlassClassificationEvaluator(labelCol =\"indexedLabel\",predictionCol =\"prediction\",metricName =\"accuracy\")\n",
    "acuracy = evaluator.evaluate(predictions)\n"
   ]
  },
  {
   "cell_type": "code",
   "execution_count": 209,
   "id": "7204987c",
   "metadata": {
    "scrolled": true
   },
   "outputs": [
    {
     "name": "stdout",
     "output_type": "stream",
     "text": [
      "Precisión = 0.883267  \n",
      "Test error = 0.116733\n"
     ]
    }
   ],
   "source": [
    "print(\"Precisión = %g  \"%(acuracy))\n",
    "print(\"Test error = %g\" %(1.0-acuracy))"
   ]
  },
  {
   "cell_type": "code",
   "execution_count": 217,
   "id": "8771473f",
   "metadata": {},
   "outputs": [],
   "source": [
    "\n",
    "# haremos nuestro ploteo y veremos en una matriz de confucion una matrix normalizada y una sin normalizar\n",
    "import matplotlib.pyplot as plt\n",
    "import numpy as np\n",
    "import itertools\n",
    "\n",
    "def plot_confusion_matriz(cm,classes,normalize = False, title ='Confusion matrix',cmap = plt.cm.Blues):\n",
    "    if normalize:\n",
    "        cm =cm.astype('float')/cm.sum(axis=1)[:,np.newaxis]\n",
    "        print(\"Matriz normalizada de confusion\")\n",
    "    else:\n",
    "        print(\"Matriz de confusion sin normalizacion\")\n",
    "            \n",
    "    print(cm)\n",
    "    plt.imshow(cm,interpolation='nearest',cmap =cmap)\n",
    "    plt.title(title)\n",
    "    plt.colorbar()\n",
    "    tick_marks = np.arange(len(classes))\n",
    "    plt.xticks(tick_marks,classes,rotation =45)\n",
    "    plt.yticks(tick_marks,classes)\n",
    "    \n",
    "    fmt = '.2f' if normalize else 'd'\n",
    "    thresh = cm.max()/2.\n",
    "    for i , j in itertools.product(range(cm.shape[0]),range(cm.shape[1])):\n",
    "        plt.text(j,i,format(cm[i,j],fmt),\n",
    "        horizontalalignment =\"center\",\n",
    "        color =\"white\" if cm[i,j]> thresh else \"black\")\n",
    "        \n",
    "    plt.tight_layout()\n",
    "    plt.ylabel('True label')\n",
    "    plt.xlabel('predicted label')"
   ]
  },
  {
   "cell_type": "code",
   "execution_count": 213,
   "id": "ff3b871a",
   "metadata": {},
   "outputs": [
    {
     "data": {
      "text/plain": [
       "[' Pocos pasajeros', 'Normal Pasajeros', 'Muchos pasajeros']"
      ]
     },
     "execution_count": 213,
     "metadata": {},
     "output_type": "execute_result"
    }
   ],
   "source": [
    "class_temp =predictions.select ('label').groupBy('label').count().sort('count',ascending = False).toPandas()\n",
    "class_temp = class_temp['label'].values.tolist()\n",
    "class_names = map(str,class_temp)\n",
    "class_temp"
   ]
  },
  {
   "cell_type": "code",
   "execution_count": 214,
   "id": "d578c61a",
   "metadata": {},
   "outputs": [
    {
     "data": {
      "text/plain": [
       "array([[784066,      0,      1],\n",
       "       [ 81712,      0,      0],\n",
       "       [ 21910,      0,      0]], dtype=int64)"
      ]
     },
     "execution_count": 214,
     "metadata": {},
     "output_type": "execute_result"
    }
   ],
   "source": [
    "\n",
    "#usaremo sklearn para omostrar nuestra matriz de confucion\n",
    "from sklearn.metrics import confusion_matrix\n",
    "y_true = predictions.select('label')\n",
    "y_true = y_true.toPandas()\n",
    "y_pred = predictions.select('predictedLabel')\n",
    "y_pred = y_pred.toPandas()\n",
    "\n",
    "cnf_matrix = confusion_matrix(y_true,y_pred,labels =class_temp)\n",
    "cnf_matrix"
   ]
  },
  {
   "cell_type": "code",
   "execution_count": 218,
   "id": "b9536ac0",
   "metadata": {},
   "outputs": [
    {
     "name": "stdout",
     "output_type": "stream",
     "text": [
      "Matriz de confusion sin normalizacion\n",
      "[[784066      0      1]\n",
      " [ 81712      0      0]\n",
      " [ 21910      0      0]]\n"
     ]
    },
    {
     "data": {
      "image/png": "[encoded data removed]",
      "text/plain": [
       "<Figure size 432x288 with 2 Axes>"
      ]
     },
     "metadata": {
      "needs_background": "light"
     },
     "output_type": "display_data"
    }
   ],
   "source": [
    "plt.figure()\n",
    "plot_confusion_matriz(cnf_matrix,classes =class_temp,title='Matriz de confusion sin normalizacion')\n",
    "plt.show()"
   ]
  },
  {
   "cell_type": "code",
   "execution_count": 220,
   "id": "41dbd78c",
   "metadata": {},
   "outputs": [
    {
     "name": "stdout",
     "output_type": "stream",
     "text": [
      "Matriz normalizada de confusion\n",
      "[[9.99998725e-01 0.00000000e+00 1.27540121e-06]\n",
      " [1.00000000e+00 0.00000000e+00 0.00000000e+00]\n",
      " [1.00000000e+00 0.00000000e+00 0.00000000e+00]]\n"
     ]
    },
    {
     "data": {
      "image/png": "[encoded data removed]",
      "text/plain": [
       "<Figure size 432x288 with 2 Axes>"
      ]
     },
     "metadata": {
      "needs_background": "light"
     },
     "output_type": "display_data"
    }
   ],
   "source": [
    "plt.figure()\n",
    "plot_confusion_matriz(cnf_matrix,classes =class_temp,normalize = True, title='Matriz de confusion normalizada')\n",
    "plt.show()"
   ]
  },
  {
   "cell_type": "code",
   "execution_count": null,
   "id": "f2b841c2",
   "metadata": {},
   "outputs": [],
   "source": []
  },
  {
   "cell_type": "code",
   "execution_count": null,
   "id": "3aa2bee2",
   "metadata": {},
   "outputs": [],
   "source": []
  },
  {
   "cell_type": "code",
   "execution_count": null,
   "id": "ec6a88b6",
   "metadata": {},
   "outputs": [],
   "source": []
  },
  {
   "cell_type": "code",
   "execution_count": null,
   "id": "23c3edfb",
   "metadata": {},
   "outputs": [],
   "source": []
  },
  {
   "cell_type": "code",
   "execution_count": null,
   "id": "83f6e8fe",
   "metadata": {},
   "outputs": [],
   "source": []
  }
 ],
 "metadata": {
  "kernelspec": {
   "display_name": "Python 3",
   "language": "python",
   "name": "python3"
  },
  "language_info": {
   "codemirror_mode": {
    "name": "ipython",
    "version": 3
   },
   "file_extension": ".py",
   "mimetype": "text/x-python",
   "name": "python",
   "nbconvert_exporter": "python",
   "pygments_lexer": "ipython3",
   "version": "3.8.8"
  }
 },
 "nbformat": 4,
 "nbformat_minor": 5
}
