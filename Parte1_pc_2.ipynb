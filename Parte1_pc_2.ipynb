{
 "cells": [
  {
   "cell_type": "code",
   "execution_count": 1,
   "id": "746ff73e",
   "metadata": {},
   "outputs": [],
   "source": [
    "import pandas as pd"
   ]
  },
  {
   "cell_type": "code",
   "execution_count": 2,
   "id": "c472fee7",
   "metadata": {},
   "outputs": [],
   "source": [
    "new_data =  pd.read_csv(\"newDatapandas.csv\")"
   ]
  },
  {
   "cell_type": "code",
   "execution_count": 3,
   "id": "5c03ee81",
   "metadata": {},
   "outputs": [],
   "source": [
    "\n",
    "# Tratamiento de datos\n",
    "# ------------------------------------------------------------------------------\n",
    "import numpy as np\n",
    "import pandas as pd\n",
    "\n",
    "# Gráficos\n",
    "# ------------------------------------------------------------------------------\n",
    "import matplotlib.pyplot as plt\n",
    "\n",
    "# Preprocesado y modelado\n",
    "# ------------------------------------------------------------------------------\n",
    "from sklearn.datasets import load_boston\n",
    "from sklearn.model_selection import train_test_split\n",
    "from sklearn.tree import DecisionTreeRegressor\n",
    "from sklearn.tree import plot_tree\n",
    "from sklearn.tree import export_graphviz\n",
    "from sklearn.tree import export_text\n",
    "from sklearn.model_selection import GridSearchCV\n",
    "from sklearn.metrics import mean_squared_error\n",
    "\n",
    "# Configuración warnings\n",
    "# ------------------------------------------------------------------------------\n",
    "import warnings\n",
    "warnings.filterwarnings('once')\n"
   ]
  },
  {
   "cell_type": "code",
   "execution_count": 4,
   "id": "6fe556cc",
   "metadata": {},
   "outputs": [
    {
     "name": "stderr",
     "output_type": "stream",
     "text": [
      "C:\\Users\\frank\\anaconda3\\lib\\site-packages\\ipykernel\\ipkernel.py:287: DeprecationWarning: `should_run_async` will not call `transform_cell` automatically in the future. Please pass the result to `transformed_cell` argument and any exception that happen during thetransform in `preprocessing_exc_tuple` in IPython 7.17 and above.\n",
      "  and should_run_async(code)\n"
     ]
    },
    {
     "data": {
      "text/html": [
       "<div>\n",
       "<style scoped>\n",
       "    .dataframe tbody tr th:only-of-type {\n",
       "        vertical-align: middle;\n",
       "    }\n",
       "\n",
       "    .dataframe tbody tr th {\n",
       "        vertical-align: top;\n",
       "    }\n",
       "\n",
       "    .dataframe thead th {\n",
       "        text-align: right;\n",
       "    }\n",
       "</style>\n",
       "<table border=\"1\" class=\"dataframe\">\n",
       "  <thead>\n",
       "    <tr style=\"text-align: right;\">\n",
       "      <th></th>\n",
       "      <th>fare_amount</th>\n",
       "      <th>pickup_datetime</th>\n",
       "      <th>pickup_longitude</th>\n",
       "      <th>pickup_latitude</th>\n",
       "      <th>dropoff_longitude</th>\n",
       "      <th>dropoff_latitude</th>\n",
       "      <th>passenger_count</th>\n",
       "      <th>dif_latitude</th>\n",
       "      <th>dif_longitude</th>\n",
       "      <th>distancia</th>\n",
       "      <th>dia_semana</th>\n",
       "      <th>hora</th>\n",
       "    </tr>\n",
       "  </thead>\n",
       "  <tbody>\n",
       "    <tr>\n",
       "      <th>0</th>\n",
       "      <td>8.0</td>\n",
       "      <td>2015-03-12 23:14:59 UTC</td>\n",
       "      <td>-73.993141</td>\n",
       "      <td>40.727940</td>\n",
       "      <td>-73.996613</td>\n",
       "      <td>40.744530</td>\n",
       "      <td>2</td>\n",
       "      <td>0.016590</td>\n",
       "      <td>0.003471</td>\n",
       "      <td>1.868306</td>\n",
       "      <td>4</td>\n",
       "      <td>23</td>\n",
       "    </tr>\n",
       "    <tr>\n",
       "      <th>1</th>\n",
       "      <td>10.0</td>\n",
       "      <td>2013-08-21 08:38:06 UTC</td>\n",
       "      <td>-73.964837</td>\n",
       "      <td>40.769933</td>\n",
       "      <td>-73.983462</td>\n",
       "      <td>40.761655</td>\n",
       "      <td>1</td>\n",
       "      <td>0.008278</td>\n",
       "      <td>0.018625</td>\n",
       "      <td>1.819197</td>\n",
       "      <td>3</td>\n",
       "      <td>8</td>\n",
       "    </tr>\n",
       "    <tr>\n",
       "      <th>2</th>\n",
       "      <td>5.5</td>\n",
       "      <td>2014-01-23 18:40:00 UTC</td>\n",
       "      <td>-74.001017</td>\n",
       "      <td>40.746352</td>\n",
       "      <td>-73.990873</td>\n",
       "      <td>40.739497</td>\n",
       "      <td>1</td>\n",
       "      <td>0.006855</td>\n",
       "      <td>0.010144</td>\n",
       "      <td>1.145462</td>\n",
       "      <td>4</td>\n",
       "      <td>18</td>\n",
       "    </tr>\n",
       "  </tbody>\n",
       "</table>\n",
       "</div>"
      ],
      "text/plain": [
       "   fare_amount          pickup_datetime  pickup_longitude  pickup_latitude  \\\n",
       "0          8.0  2015-03-12 23:14:59 UTC        -73.993141        40.727940   \n",
       "1         10.0  2013-08-21 08:38:06 UTC        -73.964837        40.769933   \n",
       "2          5.5  2014-01-23 18:40:00 UTC        -74.001017        40.746352   \n",
       "\n",
       "   dropoff_longitude  dropoff_latitude  passenger_count  dif_latitude  \\\n",
       "0         -73.996613         40.744530                2      0.016590   \n",
       "1         -73.983462         40.761655                1      0.008278   \n",
       "2         -73.990873         40.739497                1      0.006855   \n",
       "\n",
       "   dif_longitude  distancia  dia_semana  hora  \n",
       "0       0.003471   1.868306           4    23  \n",
       "1       0.018625   1.819197           3     8  \n",
       "2       0.010144   1.145462           4    18  "
      ]
     },
     "execution_count": 4,
     "metadata": {},
     "output_type": "execute_result"
    }
   ],
   "source": [
    "new_data.head(3)"
   ]
  },
  {
   "cell_type": "code",
   "execution_count": 5,
   "id": "8c7c4059",
   "metadata": {},
   "outputs": [
    {
     "name": "stdout",
     "output_type": "stream",
     "text": [
      "<class 'pandas.core.frame.DataFrame'>\n",
      "RangeIndex: 2219173 entries, 0 to 2219172\n",
      "Data columns (total 12 columns):\n",
      " #   Column             Dtype  \n",
      "---  ------             -----  \n",
      " 0   fare_amount        float64\n",
      " 1   pickup_datetime    object \n",
      " 2   pickup_longitude   float64\n",
      " 3   pickup_latitude    float64\n",
      " 4   dropoff_longitude  float64\n",
      " 5   dropoff_latitude   float64\n",
      " 6   passenger_count    int64  \n",
      " 7   dif_latitude       float64\n",
      " 8   dif_longitude      float64\n",
      " 9   distancia          float64\n",
      " 10  dia_semana         int64  \n",
      " 11  hora               int64  \n",
      "dtypes: float64(8), int64(3), object(1)\n",
      "memory usage: 203.2+ MB\n"
     ]
    },
    {
     "name": "stderr",
     "output_type": "stream",
     "text": [
      "C:\\Users\\frank\\anaconda3\\lib\\site-packages\\ipykernel\\ipkernel.py:287: DeprecationWarning: `should_run_async` will not call `transform_cell` automatically in the future. Please pass the result to `transformed_cell` argument and any exception that happen during thetransform in `preprocessing_exc_tuple` in IPython 7.17 and above.\n",
      "  and should_run_async(code)\n"
     ]
    }
   ],
   "source": [
    "new_data.info()\n"
   ]
  },
  {
   "cell_type": "code",
   "execution_count": 6,
   "id": "8f8dfb82",
   "metadata": {},
   "outputs": [],
   "source": [
    "#se entablece las variables predictoras y obejtivos\n",
    "# se establece las columnas\n",
    "columnas_float = [\"passenger_count\",\"distancia\",\"dia_semana\", \"hora\"]\n",
    "#extraccion de datos predictores\n",
    "predictors = new_data[columnas_float]\n",
    "#extraccion de dato objetivo\n",
    "target = new_data[\"fare_amount\"]"
   ]
  },
  {
   "cell_type": "code",
   "execution_count": 10,
   "id": "3c4e80f1",
   "metadata": {},
   "outputs": [],
   "source": [
    "#Se indican las etiquetas de las variable predictoras y objetivos\n",
    "predictors_label = [\"passenger_count\",\"distancia\",\"dia_semana\", \"hora\"]\n",
    "\n",
    "target_label =[\"fare_amount\"]"
   ]
  },
  {
   "cell_type": "markdown",
   "id": "4d228165",
   "metadata": {
    "scrolled": true
   },
   "source": [
    "### Ajuste del modelos \n",
    "\n",
    " No solo es importante ajustar el mdelos sino que tambien es importante cuantificar su capacidad para predecir observaciones, para esto dividimos los datos en dos grupos uno de entrenamiento y otro en test"
   ]
  },
  {
   "cell_type": "code",
   "execution_count": 11,
   "id": "8da6517b",
   "metadata": {},
   "outputs": [
    {
     "data": {
      "text/plain": [
       "DecisionTreeRegressor(max_depth=3, random_state=123)"
      ]
     },
     "execution_count": 11,
     "metadata": {},
     "output_type": "execute_result"
    }
   ],
   "source": [
    "# División de los datos en train y test\n",
    "\n",
    "X_train, X_test, y_train, y_test = train_test_split(predictors,target,random_state = 123)\n",
    "# Creación del modelo\n",
    "\n",
    "modelo = DecisionTreeRegressor(max_depth = 3,random_state = 123)\n",
    "\n",
    "# Entrenamiento del modelo\n",
    "# ------------------------------------------------------------------------------\n",
    "modelo.fit(X_train, y_train)"
   ]
  },
  {
   "cell_type": "code",
   "execution_count": 12,
   "id": "45e43733",
   "metadata": {},
   "outputs": [
    {
     "name": "stderr",
     "output_type": "stream",
     "text": [
      "C:\\Users\\frank\\anaconda3\\lib\\site-packages\\ipykernel\\ipkernel.py:287: DeprecationWarning: `should_run_async` will not call `transform_cell` automatically in the future. Please pass the result to `transformed_cell` argument and any exception that happen during thetransform in `preprocessing_exc_tuple` in IPython 7.17 and above.\n",
      "  and should_run_async(code)\n"
     ]
    }
   ],
   "source": [
    "predic = new_data[predictors_label]"
   ]
  },
  {
   "cell_type": "code",
   "execution_count": 13,
   "id": "b1618b08",
   "metadata": {},
   "outputs": [
    {
     "name": "stdout",
     "output_type": "stream",
     "text": [
      "Profundidad del árbol: 3\n",
      "Número de nodos terminales: 8\n"
     ]
    },
    {
     "data": {
      "image/png": "[encoded data removed]",
      "text/plain": [
       "<Figure size 1296x360 with 1 Axes>"
      ]
     },
     "metadata": {
      "needs_background": "light"
     },
     "output_type": "display_data"
    }
   ],
   "source": [
    "# Estructura del árbol creado\n",
    "# ------------------------------------------------------------------------------\n",
    "fig, ax = plt.subplots(figsize=(18, 5))\n",
    "\n",
    "print(f\"Profundidad del árbol: {modelo.get_depth()}\")\n",
    "print(f\"Número de nodos terminales: {modelo.get_n_leaves()}\")\n",
    "\n",
    "plot = plot_tree(\n",
    "            decision_tree = modelo,\n",
    "            feature_names = predic.columns,\n",
    "            class_names   = 'fare_amount',\n",
    "            filled        = True,\n",
    "            impurity      = False,\n",
    "            fontsize      = 10,\n",
    "            precision     = 2,\n",
    "            ax            = ax\n",
    "       )\n"
   ]
  },
  {
   "cell_type": "code",
   "execution_count": 14,
   "id": "27bb6776",
   "metadata": {},
   "outputs": [
    {
     "name": "stdout",
     "output_type": "stream",
     "text": [
      "|--- distancia <= 7.82\n",
      "|   |--- distancia <= 3.35\n",
      "|   |   |--- distancia <= 2.06\n",
      "|   |   |   |--- value: [6.81]\n",
      "|   |   |--- distancia >  2.06\n",
      "|   |   |   |--- value: [9.73]\n",
      "|   |--- distancia >  3.35\n",
      "|   |   |--- distancia <= 5.27\n",
      "|   |   |   |--- value: [12.86]\n",
      "|   |   |--- distancia >  5.27\n",
      "|   |   |   |--- value: [17.57]\n",
      "|--- distancia >  7.82\n",
      "|   |--- distancia <= 14.95\n",
      "|   |   |--- distancia <= 9.16\n",
      "|   |   |   |--- value: [24.01]\n",
      "|   |   |--- distancia >  9.16\n",
      "|   |   |   |--- value: [30.37]\n",
      "|   |--- distancia >  14.95\n",
      "|   |   |--- distancia <= 88.82\n",
      "|   |   |   |--- value: [49.90]\n",
      "|   |   |--- distancia >  88.82\n",
      "|   |   |   |--- value: [16.60]\n",
      "\n"
     ]
    }
   ],
   "source": [
    "texto_modelo = export_text(decision_tree = modelo,feature_names = list(new_data[predictors_label].columns)\n",
    "               )\n",
    "print(texto_modelo)"
   ]
  },
  {
   "cell_type": "markdown",
   "id": "50f5d1cd",
   "metadata": {},
   "source": [
    "Si seguimos la rama mas a la izquierda del arbol podemos notar que predice un precio promedio de 6.81 dolares por viaje que estan a un distancia <= 7.82 kilometros"
   ]
  },
  {
   "cell_type": "markdown",
   "id": "fb1e7303",
   "metadata": {},
   "source": [
    "### Importancia de Predictores"
   ]
  },
  {
   "cell_type": "code",
   "execution_count": 15,
   "id": "886a9ab2",
   "metadata": {},
   "outputs": [
    {
     "name": "stdout",
     "output_type": "stream",
     "text": [
      "Importancia de los predictores en el modelo\n",
      "-------------------------------------------\n"
     ]
    },
    {
     "data": {
      "text/html": [
       "<div>\n",
       "<style scoped>\n",
       "    .dataframe tbody tr th:only-of-type {\n",
       "        vertical-align: middle;\n",
       "    }\n",
       "\n",
       "    .dataframe tbody tr th {\n",
       "        vertical-align: top;\n",
       "    }\n",
       "\n",
       "    .dataframe thead th {\n",
       "        text-align: right;\n",
       "    }\n",
       "</style>\n",
       "<table border=\"1\" class=\"dataframe\">\n",
       "  <thead>\n",
       "    <tr style=\"text-align: right;\">\n",
       "      <th></th>\n",
       "      <th>predictor</th>\n",
       "      <th>importancia</th>\n",
       "    </tr>\n",
       "  </thead>\n",
       "  <tbody>\n",
       "    <tr>\n",
       "      <th>1</th>\n",
       "      <td>distancia</td>\n",
       "      <td>1.0</td>\n",
       "    </tr>\n",
       "    <tr>\n",
       "      <th>0</th>\n",
       "      <td>passenger_count</td>\n",
       "      <td>0.0</td>\n",
       "    </tr>\n",
       "    <tr>\n",
       "      <th>2</th>\n",
       "      <td>dia_semana</td>\n",
       "      <td>0.0</td>\n",
       "    </tr>\n",
       "    <tr>\n",
       "      <th>3</th>\n",
       "      <td>hora</td>\n",
       "      <td>0.0</td>\n",
       "    </tr>\n",
       "  </tbody>\n",
       "</table>\n",
       "</div>"
      ],
      "text/plain": [
       "         predictor  importancia\n",
       "1        distancia          1.0\n",
       "0  passenger_count          0.0\n",
       "2       dia_semana          0.0\n",
       "3             hora          0.0"
      ]
     },
     "execution_count": 15,
     "metadata": {},
     "output_type": "execute_result"
    }
   ],
   "source": [
    "importancia_predictores = pd.DataFrame(\n",
    "                            {'predictor': predic.columns,\n",
    "                             'importancia': modelo.feature_importances_}\n",
    "                            )\n",
    "print(\"Importancia de los predictores en el modelo\")\n",
    "print(\"-------------------------------------------\")\n",
    "importancia_predictores.sort_values('importancia', ascending=False)"
   ]
  },
  {
   "cell_type": "markdown",
   "id": "562e6b1f",
   "metadata": {},
   "source": [
    "Como podemos notar en la tabla la variable mas importante en el predictor es la distancia\n",
    "tenendo en cuenta que la importancia de cada predictor en un modelo se calcula como la reduccion total(normalizada)en un criterio de division\n",
    "si el predictor no ha sido seleccionado en ninguna prediccion, no se ha incluido en el modelo por tanto su valor es cero"
   ]
  },
  {
   "cell_type": "markdown",
   "id": "a4e05a28",
   "metadata": {},
   "source": [
    "## Podando el arbol\n",
    "Se intenta encontrar el arbol mas sencillo ( menor tamaño) que consigue los mejores resultados de prediccion"
   ]
  },
  {
   "cell_type": "code",
   "execution_count": 15,
   "id": "51293eb3",
   "metadata": {},
   "outputs": [],
   "source": [
    "#descomentar el codigo faltante para ejecutar el grafico\n",
    "\n",
    "# Pruning (const complexity pruning) por validación cruzada\n",
    "# Valores de ccp_alpha evaluados\n",
    "param_grid = {'ccp_alpha':np.linspace(0, 80, 20)}\n",
    "\n",
    "# Búsqueda por validación cruzada\n",
    "grid = GridSearchCV(\n",
    "        # El árbol se crece al máximo posible para luego aplicar el pruning\n",
    "        estimator = DecisionTreeRegressor(max_depth  = None,min_samples_split = 2,min_samples_leaf  = 1,random_state      = 123),\n",
    "        param_grid = param_grid,cv = 10,refit = True,return_train_score = True)\n",
    "\n",
    "grid.fit(X_train, y_train)\n",
    "\n",
    "#fig, ax = plt.subplots(figsize=(6, 3.84))\n",
    "#scores = pd.DataFrame(grid.cv_results_)\n",
    "#scores.plot(x='param_ccp_alpha', y='mean_train_score', yerr='std_train_score', ax=ax)\n",
    "#scores.plot(x='param_ccp_alpha', y='mean_test_score', yerr='std_test_score', ax=ax)\n",
    "#ax.set_title(\"Error de validacion cruzada vs hiperparámetro ccp_alpha\");\n",
    "\n"
   ]
  },
  {
   "cell_type": "markdown",
   "id": "e79c54ab",
   "metadata": {},
   "source": [
    "Para aplicar un proceso de prunning es necesario indicar el argumento ccp_aplpha que determine el grado de penalizacion por complejidad, cuando mayor sea este valor menor sera elk tamaño del arbol\n",
    "Una vez que encontremos el cpp_alpha optimo lo que haremos es reentrenar el arbol."
   ]
  },
  {
   "cell_type": "code",
   "execution_count": 17,
   "id": "70df6b94",
   "metadata": {},
   "outputs": [
    {
     "data": {
      "text/plain": [
       "55423480"
      ]
     },
     "execution_count": 17,
     "metadata": {},
     "output_type": "execute_result"
    }
   ],
   "source": [
    "#Mejor cpp_alpha encontrado\n",
    "grid.best_params_"
   ]
  },
  {
   "cell_type": "code",
   "execution_count": 18,
   "id": "8dc565c3",
   "metadata": {},
   "outputs": [
    {
     "name": "stdout",
     "output_type": "stream",
     "text": [
      "<class 'dask.dataframe.core.DataFrame'>\n",
      "Columns: 8 entries, key to passenger_count\n",
      "dtypes: object(2), float64(5), int64(1)"
     ]
    }
   ],
   "source": [
    "# Estructura del árbol final\n",
    "\n",
    "modelo_final = grid.best_estimator_\n",
    "print(f\"Profundidad del árbol: {modelo_final.get_depth()}\")\n",
    "print(f\"Número de nodos terminales: {modelo_final.get_n_leaves()}\")\n",
    "\n",
    "fig, ax = plt.subplots(figsize=(7, 5))\n",
    "plot = plot_tree(\n",
    "            decision_tree = modelo_final,\n",
    "            feature_names = predic.columns,\n",
    "            class_names   = 'fare_amount',\n",
    "            filled        = True,\n",
    "            impurity      = False,\n",
    "            ax            = ax)\n",
    "\n"
   ]
  },
  {
   "cell_type": "markdown",
   "id": "27e297e3",
   "metadata": {},
   "source": [
    "El proceso de pruning a identificado como mejor árbol uno mucho más pequeño que el modelo inicialmente entrenado"
   ]
  },
  {
   "cell_type": "code",
   "execution_count": null,
   "id": "8c73d046",
   "metadata": {},
   "outputs": [],
   "source": [
    "# Error de test del modelo inicial\n",
    "predicciones = modelo.predict(X = X_test)\n",
    "\n",
    "rmse = mean_squared_error(\n",
    "        y_true  = y_test,\n",
    "        y_pred  = predicciones,\n",
    "        squared = False\n",
    "       )\n",
    "print(f\"El error (rmse) de test es: {rmse}\")"
   ]
  },
  {
   "cell_type": "code",
   "execution_count": null,
   "id": "42de1e5e",
   "metadata": {},
   "outputs": [],
   "source": [
    "# Error de test del modelo final (tras aplicar pruning)\n",
    "predicciones = modelo_final.predict(X = X_test)\n",
    "\n",
    "rmse = mean_squared_error(\n",
    "        y_true  = y_test,\n",
    "        y_pred  = predicciones,\n",
    "        squared = False\n",
    "       )\n",
    "print(f\"El error (rmse) de test es: {rmse}\")"
   ]
  },
  {
   "cell_type": "markdown",
   "id": "249f8f21",
   "metadata": {},
   "source": [
    "## Arbol de clasificacion"
   ]
  },
  {
   "cell_type": "markdown",
   "id": "6e2eb06a",
   "metadata": {},
   "source": [
    "#### Librerias"
   ]
  },
  {
   "cell_type": "code",
   "execution_count": 17,
   "id": "dbecbfa5",
   "metadata": {},
   "outputs": [
    {
     "name": "stderr",
     "output_type": "stream",
     "text": [
      "C:\\Users\\frank\\anaconda3\\lib\\site-packages\\ipykernel\\ipkernel.py:287: DeprecationWarning: `should_run_async` will not call `transform_cell` automatically in the future. Please pass the result to `transformed_cell` argument and any exception that happen during thetransform in `preprocessing_exc_tuple` in IPython 7.17 and above.\n",
      "  and should_run_async(code)\n"
     ]
    }
   ],
   "source": [
    "\n",
    "import numpy as np\n",
    "import pandas as pd\n",
    "import statsmodels.api as sm\n",
    "import matplotlib.pyplot as plt\n",
    "from sklearn.model_selection import train_test_split\n",
    "from sklearn.tree import DecisionTreeClassifier\n",
    "from sklearn.tree import plot_tree\n",
    "from sklearn.tree import export_graphviz\n",
    "from sklearn.tree import export_text\n",
    "from sklearn.model_selection import GridSearchCV\n",
    "from sklearn.compose import ColumnTransformer\n",
    "from sklearn.preprocessing import OneHotEncoder\n",
    "from sklearn.metrics import accuracy_score\n",
    "from sklearn.metrics import confusion_matrix\n",
    "import warnings\n",
    "warnings.filterwarnings('once')\n"
   ]
  },
  {
   "cell_type": "code",
   "execution_count": 18,
   "id": "3354f8aa",
   "metadata": {},
   "outputs": [
    {
     "name": "stderr",
     "output_type": "stream",
     "text": [
      "C:\\Users\\frank\\anaconda3\\lib\\site-packages\\ipykernel\\ipkernel.py:287: DeprecationWarning: `should_run_async` will not call `transform_cell` automatically in the future. Please pass the result to `transformed_cell` argument and any exception that happen during thetransform in `preprocessing_exc_tuple` in IPython 7.17 and above.\n",
      "  and should_run_async(code)\n"
     ]
    },
    {
     "data": {
      "text/html": [
       "<div>\n",
       "<style scoped>\n",
       "    .dataframe tbody tr th:only-of-type {\n",
       "        vertical-align: middle;\n",
       "    }\n",
       "\n",
       "    .dataframe tbody tr th {\n",
       "        vertical-align: top;\n",
       "    }\n",
       "\n",
       "    .dataframe thead th {\n",
       "        text-align: right;\n",
       "    }\n",
       "</style>\n",
       "<table border=\"1\" class=\"dataframe\">\n",
       "  <thead>\n",
       "    <tr style=\"text-align: right;\">\n",
       "      <th></th>\n",
       "      <th>fare_amount</th>\n",
       "      <th>pickup_datetime</th>\n",
       "      <th>pickup_longitude</th>\n",
       "      <th>pickup_latitude</th>\n",
       "      <th>dropoff_longitude</th>\n",
       "      <th>dropoff_latitude</th>\n",
       "      <th>passenger_count</th>\n",
       "      <th>dif_latitude</th>\n",
       "      <th>dif_longitude</th>\n",
       "      <th>distancia</th>\n",
       "      <th>dia_semana</th>\n",
       "      <th>hora</th>\n",
       "    </tr>\n",
       "  </thead>\n",
       "  <tbody>\n",
       "    <tr>\n",
       "      <th>0</th>\n",
       "      <td>8.0</td>\n",
       "      <td>2015-03-12 23:14:59 UTC</td>\n",
       "      <td>-73.993141</td>\n",
       "      <td>40.727940</td>\n",
       "      <td>-73.996613</td>\n",
       "      <td>40.744530</td>\n",
       "      <td>2</td>\n",
       "      <td>0.016590</td>\n",
       "      <td>0.003471</td>\n",
       "      <td>1.868306</td>\n",
       "      <td>4</td>\n",
       "      <td>23</td>\n",
       "    </tr>\n",
       "    <tr>\n",
       "      <th>1</th>\n",
       "      <td>10.0</td>\n",
       "      <td>2013-08-21 08:38:06 UTC</td>\n",
       "      <td>-73.964837</td>\n",
       "      <td>40.769933</td>\n",
       "      <td>-73.983462</td>\n",
       "      <td>40.761655</td>\n",
       "      <td>1</td>\n",
       "      <td>0.008278</td>\n",
       "      <td>0.018625</td>\n",
       "      <td>1.819197</td>\n",
       "      <td>3</td>\n",
       "      <td>8</td>\n",
       "    </tr>\n",
       "    <tr>\n",
       "      <th>2</th>\n",
       "      <td>5.5</td>\n",
       "      <td>2014-01-23 18:40:00 UTC</td>\n",
       "      <td>-74.001017</td>\n",
       "      <td>40.746352</td>\n",
       "      <td>-73.990873</td>\n",
       "      <td>40.739497</td>\n",
       "      <td>1</td>\n",
       "      <td>0.006855</td>\n",
       "      <td>0.010144</td>\n",
       "      <td>1.145462</td>\n",
       "      <td>4</td>\n",
       "      <td>18</td>\n",
       "    </tr>\n",
       "  </tbody>\n",
       "</table>\n",
       "</div>"
      ],
      "text/plain": [
       "   fare_amount          pickup_datetime  pickup_longitude  pickup_latitude  \\\n",
       "0          8.0  2015-03-12 23:14:59 UTC        -73.993141        40.727940   \n",
       "1         10.0  2013-08-21 08:38:06 UTC        -73.964837        40.769933   \n",
       "2          5.5  2014-01-23 18:40:00 UTC        -74.001017        40.746352   \n",
       "\n",
       "   dropoff_longitude  dropoff_latitude  passenger_count  dif_latitude  \\\n",
       "0         -73.996613         40.744530                2      0.016590   \n",
       "1         -73.983462         40.761655                1      0.008278   \n",
       "2         -73.990873         40.739497                1      0.006855   \n",
       "\n",
       "   dif_longitude  distancia  dia_semana  hora  \n",
       "0       0.003471   1.868306           4    23  \n",
       "1       0.018625   1.819197           3     8  \n",
       "2       0.010144   1.145462           4    18  "
      ]
     },
     "execution_count": 18,
     "metadata": {},
     "output_type": "execute_result"
    }
   ],
   "source": [
    "new_data.head(3)"
   ]
  },
  {
   "cell_type": "code",
   "execution_count": 19,
   "id": "b96c9808",
   "metadata": {},
   "outputs": [
    {
     "name": "stderr",
     "output_type": "stream",
     "text": [
      "C:\\Users\\frank\\anaconda3\\lib\\site-packages\\ipykernel\\ipkernel.py:287: DeprecationWarning: `should_run_async` will not call `transform_cell` automatically in the future. Please pass the result to `transformed_cell` argument and any exception that happen during thetransform in `preprocessing_exc_tuple` in IPython 7.17 and above.\n",
      "  and should_run_async(code)\n"
     ]
    }
   ],
   "source": [
    "\n",
    "\n",
    "new_data['muchos_pasajeros'] = np.where(new_data.passenger_count > 5, 0, 1)\n",
    "# Una vez creada la nueva variable respuesta se descarta la original\n",
    "new_data = new_data.drop(columns = 'passenger_count')\n"
   ]
  },
  {
   "cell_type": "code",
   "execution_count": 20,
   "id": "aa5e5f6d",
   "metadata": {},
   "outputs": [
    {
     "name": "stdout",
     "output_type": "stream",
     "text": [
      "<class 'pandas.core.frame.DataFrame'>\n",
      "RangeIndex: 2219173 entries, 0 to 2219172\n",
      "Data columns (total 12 columns):\n",
      " #   Column             Dtype  \n",
      "---  ------             -----  \n",
      " 0   fare_amount        float64\n",
      " 1   pickup_datetime    object \n",
      " 2   pickup_longitude   float64\n",
      " 3   pickup_latitude    float64\n",
      " 4   dropoff_longitude  float64\n",
      " 5   dropoff_latitude   float64\n",
      " 6   dif_latitude       float64\n",
      " 7   dif_longitude      float64\n",
      " 8   distancia          float64\n",
      " 9   dia_semana         int64  \n",
      " 10  hora               int64  \n",
      " 11  muchos_pasajeros   int32  \n",
      "dtypes: float64(8), int32(1), int64(2), object(1)\n",
      "memory usage: 194.7+ MB\n"
     ]
    },
    {
     "name": "stderr",
     "output_type": "stream",
     "text": [
      "C:\\Users\\frank\\anaconda3\\lib\\site-packages\\ipykernel\\ipkernel.py:287: DeprecationWarning: `should_run_async` will not call `transform_cell` automatically in the future. Please pass the result to `transformed_cell` argument and any exception that happen during thetransform in `preprocessing_exc_tuple` in IPython 7.17 and above.\n",
      "  and should_run_async(code)\n"
     ]
    }
   ],
   "source": [
    "new_data.info()"
   ]
  },
  {
   "cell_type": "code",
   "execution_count": 21,
   "id": "f3054e9c",
   "metadata": {},
   "outputs": [],
   "source": [
    "#se entablece las variables predictoras y obejtivos\n",
    "# se establece las columnas\n",
    "columnas_float = [\"distancia\",\"dia_semana\", \"hora\",\"fare_amount\"]\n",
    "#extraccion de datos predictores\n",
    "predictors = new_data[columnas_float]\n",
    "#extraccion de dato objetivo\n",
    "\n",
    "objetivo = [\"muchos_pasajeros\"]\n",
    "target = new_data[objetivo]"
   ]
  },
  {
   "cell_type": "code",
   "execution_count": 22,
   "id": "4908aa4c",
   "metadata": {},
   "outputs": [],
   "source": [
    "#Se indican las etiquetas de las variable predictoras y objetivos\n",
    "predictors_label = [\"distancia\",\"dia_semana\", \"hora\",\"fare_amount\"]\n",
    "\n",
    "target_label =[\"muchos_pasajeros\"]"
   ]
  },
  {
   "cell_type": "markdown",
   "id": "ad8a7626",
   "metadata": {},
   "source": [
    "### Ajuste del modelo"
   ]
  },
  {
   "cell_type": "markdown",
   "id": "5993000e",
   "metadata": {},
   "source": [
    "En este arbol d clasificacion empleamos la variable de respuesta `muchos_pasajeros` y las demas variables las variables predictoras usamos los hiperparametros `max_deppth =5` y `creiterion = 'gini`"
   ]
  },
  {
   "cell_type": "code",
   "execution_count": 23,
   "id": "6032cad8",
   "metadata": {},
   "outputs": [],
   "source": [
    "# División de los datos en train y test\n",
    "X_train, X_test, y_train, y_test = train_test_split(predictors,target,random_state = 123)\n",
    "\n",
    "# One-hot-encoding de las variables categóricas\n",
    "\n",
    "# Se identifica el nobre de las columnas numéricas y categóricas\n",
    "cat_cols = X_train.select_dtypes(include=['object', 'category']).columns.to_list()\n",
    "numeric_cols = X_train.select_dtypes(include=['float64', 'int64']).columns.to_list()\n",
    "\n",
    "# Se aplica one-hot-encoding solo a las columnas categóricas\n",
    "preprocessor = ColumnTransformer(\n",
    "                    [('onehot', OneHotEncoder(handle_unknown='ignore'), cat_cols)],\n",
    "                    remainder='passthrough')\n",
    "\n",
    "# Una vez que se ha definido el objeto ColumnTransformer, con el método fit()\n",
    "# se aprenden las transformaciones con los datos de entrenamiento y se aplican a\n",
    "# los dos conjuntos con transform(). Ambas operaciones a la vez con fit_transform().\n",
    "X_train_prep = preprocessor.fit_transform(X_train)\n",
    "X_test_prep  = preprocessor.transform(X_test)\n"
   ]
  },
  {
   "cell_type": "markdown",
   "id": "1245f70d",
   "metadata": {},
   "source": [
    "El resultado devuelto por `ColumnTransformer` es un `numpy array`, por lo que se pierden los nombres de las columnas. Suele ser interesante poder inspeccionar cómo queda el set de datos tras el preprocesado en formato dataframe. Por defecto, `OneHotEncoder` ordena las nuevas columnas de izquierda a derecha por orden alfabético"
   ]
  },
  {
   "cell_type": "code",
   "execution_count": 24,
   "id": "22f3455f",
   "metadata": {},
   "outputs": [
    {
     "name": "stdout",
     "output_type": "stream",
     "text": [
      "<class 'pandas.core.frame.DataFrame'>\n",
      "RangeIndex: 1664379 entries, 0 to 1664378\n",
      "Data columns (total 4 columns):\n",
      " #   Column       Non-Null Count    Dtype  \n",
      "---  ------       --------------    -----  \n",
      " 0   distancia    1664379 non-null  float64\n",
      " 1   dia_semana   1664379 non-null  float64\n",
      " 2   hora         1664379 non-null  float64\n",
      " 3   fare_amount  1664379 non-null  float64\n",
      "dtypes: float64(4)\n",
      "memory usage: 50.8 MB\n"
     ]
    }
   ],
   "source": [
    "X_train_prep = pd.DataFrame(X_train_prep,columns =numeric_cols)\n",
    "X_test_prep  = pd.DataFrame(X_test_prep,columns = numeric_cols)\n",
    "X_train_prep.info()"
   ]
  },
  {
   "cell_type": "code",
   "execution_count": 25,
   "id": "847579fe",
   "metadata": {},
   "outputs": [
    {
     "data": {
      "text/plain": [
       "DecisionTreeClassifier(max_depth=5, random_state=123)"
      ]
     },
     "execution_count": 25,
     "metadata": {},
     "output_type": "execute_result"
    }
   ],
   "source": [
    "# Creación del modelo\n",
    "# ------------------------------------------------------------------------------\n",
    "modelo = DecisionTreeClassifier(\n",
    "            max_depth         = 5,\n",
    "            criterion         = 'gini',\n",
    "            random_state      = 123\n",
    "          )\n",
    "\n",
    "# Entrenamiento del modelo\n",
    "# ------------------------------------------------------------------------------\n",
    "modelo.fit(X_train_prep, y_train)"
   ]
  },
  {
   "cell_type": "code",
   "execution_count": 26,
   "id": "726beb87",
   "metadata": {},
   "outputs": [
    {
     "name": "stderr",
     "output_type": "stream",
     "text": [
      "C:\\Users\\frank\\anaconda3\\lib\\site-packages\\ipykernel\\ipkernel.py:287: DeprecationWarning: `should_run_async` will not call `transform_cell` automatically in the future. Please pass the result to `transformed_cell` argument and any exception that happen during thetransform in `preprocessing_exc_tuple` in IPython 7.17 and above.\n",
      "  and should_run_async(code)\n"
     ]
    },
    {
     "name": "stdout",
     "output_type": "stream",
     "text": [
      "Profundidad del árbol: 5\n",
      "Número de nodos terminales: 32\n"
     ]
    },
    {
     "data": {
      "image/png": "[encoded data removed]",
      "text/plain": [
       "<Figure size 1584x576 with 1 Axes>"
      ]
     },
     "metadata": {
      "needs_background": "light"
     },
     "output_type": "display_data"
    }
   ],
   "source": [
    "# Estructura del árbol creado\n",
    "# ------------------------------------------------------------------------------\n",
    "fig, ax = plt.subplots(figsize=(22, 8))\n",
    "\n",
    "print(f\"Profundidad del árbol: {modelo.get_depth()}\")\n",
    "print(f\"Número de nodos terminales: {modelo.get_n_leaves()}\")\n",
    "\n",
    "plot = plot_tree(\n",
    "            decision_tree = modelo,\n",
    "            feature_names = numeric_cols,\n",
    "            class_names   = \"muchos_pasajeros\",\n",
    "            filled        = True,\n",
    "            impurity      = False,\n",
    "            fontsize      = 7,\n",
    "            ax            = ax\n",
    "       )"
   ]
  },
  {
   "cell_type": "markdown",
   "id": "96032189",
   "metadata": {},
   "source": [
    "### Prediccion y evaluacion del modelo"
   ]
  },
  {
   "cell_type": "markdown",
   "id": "ba443edd",
   "metadata": {},
   "source": [
    "Evaluaremos la capacidad predictiva del arbol"
   ]
  },
  {
   "cell_type": "code",
   "execution_count": 27,
   "id": "a1d9059d",
   "metadata": {},
   "outputs": [
    {
     "name": "stdout",
     "output_type": "stream",
     "text": [
      "Matriz de confusión\n",
      "-------------------\n"
     ]
    },
    {
     "data": {
      "text/plain": [
       "array([[     0,  11829],\n",
       "       [     2, 542963]], dtype=int64)"
      ]
     },
     "execution_count": 27,
     "metadata": {},
     "output_type": "execute_result"
    }
   ],
   "source": [
    "# Error de test del modelo\n",
    "predicciones = modelo.predict(X = X_test_prep,)\n",
    "\n",
    "print(\"Matriz de confusión\")\n",
    "print(\"-------------------\")\n",
    "confusion_matrix(\n",
    "    y_true    = y_test,\n",
    "    y_pred    = predicciones\n",
    ")\n",
    "\n"
   ]
  },
  {
   "cell_type": "code",
   "execution_count": 28,
   "id": "c1d0cd67",
   "metadata": {},
   "outputs": [
    {
     "name": "stdout",
     "output_type": "stream",
     "text": [
      "El accuracy de test es: 97.86749676456486 %\n"
     ]
    },
    {
     "name": "stderr",
     "output_type": "stream",
     "text": [
      "C:\\Users\\frank\\anaconda3\\lib\\site-packages\\ipykernel\\ipkernel.py:287: DeprecationWarning: `should_run_async` will not call `transform_cell` automatically in the future. Please pass the result to `transformed_cell` argument and any exception that happen during thetransform in `preprocessing_exc_tuple` in IPython 7.17 and above.\n",
      "  and should_run_async(code)\n"
     ]
    }
   ],
   "source": [
    "accuracy = accuracy_score(\n",
    "            y_true    = y_test,\n",
    "            y_pred    = predicciones,\n",
    "            normalize = True\n",
    "           )\n",
    "print(f\"El accuracy de test es: {100 * accuracy} %\")\n"
   ]
  },
  {
   "cell_type": "markdown",
   "id": "ed8e46be",
   "metadata": {},
   "source": [
    "Esto nos indica que el modelo inicial es capz de predecir el 97.87% de las observaciones del conjunto de test"
   ]
  },
  {
   "cell_type": "markdown",
   "id": "8afde876",
   "metadata": {},
   "source": [
    "### Podando el arbol "
   ]
  },
  {
   "cell_type": "code",
   "execution_count": null,
   "id": "88886987",
   "metadata": {},
   "outputs": [
    {
     "name": "stderr",
     "output_type": "stream",
     "text": [
      "C:\\Users\\frank\\anaconda3\\lib\\site-packages\\ipykernel\\ipkernel.py:287: DeprecationWarning: `should_run_async` will not call `transform_cell` automatically in the future. Please pass the result to `transformed_cell` argument and any exception that happen during thetransform in `preprocessing_exc_tuple` in IPython 7.17 and above.\n",
      "  and should_run_async(code)\n"
     ]
    }
   ],
   "source": [
    "\n",
    "# Post pruning (const complexity pruning) por validación cruzada\n",
    "# ------------------------------------------------------------------------------\n",
    "# Valores de ccp_alpha evaluados\n",
    "param_grid = {'ccp_alpha':np.linspace(0, 5, 10)}\n",
    "\n",
    "# Búsqueda por validación cruzada\n",
    "grid = GridSearchCV(\n",
    "        # El árbol se crece al máximo posible antes de aplicar el pruning\n",
    "        estimator = DecisionTreeClassifier(\n",
    "                            max_depth         = None,\n",
    "                            min_samples_split = 2,\n",
    "                            min_samples_leaf  = 1,\n",
    "                            random_state      = 123\n",
    "                       ),\n",
    "        param_grid = param_grid,\n",
    "        scoring    = 'accuracy',\n",
    "        cv         = 10,\n",
    "        refit      = True,\n",
    "        return_train_score = True\n",
    "      )\n",
    "\n",
    "grid.fit(X_train_prep, y_train)\n",
    "\n",
    "fig, ax = plt.subplots(figsize=(6, 3.84))\n",
    "scores = pd.DataFrame(grid.cv_results_)\n",
    "scores.plot(x='param_ccp_alpha', y='mean_train_score', yerr='std_train_score', ax=ax)\n",
    "scores.plot(x='param_ccp_alpha', y='mean_test_score', yerr='std_test_score', ax=ax)\n",
    "ax.set_title(\"Error de validacion cruzada vs hiperparámetro ccp_alpha\");\n",
    "\n"
   ]
  },
  {
   "cell_type": "code",
   "execution_count": null,
   "id": "27f2de72",
   "metadata": {},
   "outputs": [],
   "source": []
  }
 ],
 "metadata": {
  "kernelspec": {
   "display_name": "Python 3",
   "language": "python",
   "name": "python3"
  }
 },
 "nbformat": 4,
 "nbformat_minor": 5
}
