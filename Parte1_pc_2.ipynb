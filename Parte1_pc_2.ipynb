{
 "cells": [
  {
   "cell_type": "code",
   "execution_count": 1,
   "id": "746ff73e",
   "metadata": {},
   "outputs": [],
   "source": [
    "import pandas as pd"
   ]
  },
  {
   "cell_type": "code",
   "execution_count": 2,
   "id": "c472fee7",
   "metadata": {},
   "outputs": [],
   "source": [
    "new_data =  pd.read_csv(\"newDatapandas.csv\")"
   ]
  },
  {
   "cell_type": "code",
   "execution_count": 3,
   "id": "5c03ee81",
   "metadata": {},
   "outputs": [],
   "source": [
    "\n",
    "# Tratamiento de datos\n",
    "# ------------------------------------------------------------------------------\n",
    "import numpy as np\n",
    "import pandas as pd\n",
    "\n",
    "# Gráficos\n",
    "# ------------------------------------------------------------------------------\n",
    "import matplotlib.pyplot as plt\n",
    "\n",
    "# Preprocesado y modelado\n",
    "# ------------------------------------------------------------------------------\n",
    "from sklearn.datasets import load_boston\n",
    "from sklearn.model_selection import train_test_split\n",
    "from sklearn.tree import DecisionTreeRegressor\n",
    "from sklearn.tree import plot_tree\n",
    "from sklearn.tree import export_graphviz\n",
    "from sklearn.tree import export_text\n",
    "from sklearn.model_selection import GridSearchCV\n",
    "from sklearn.metrics import mean_squared_error\n",
    "\n",
    "# Configuración warnings\n",
    "# ------------------------------------------------------------------------------\n",
    "import warnings\n",
    "warnings.filterwarnings('once')\n"
   ]
  },
  {
   "cell_type": "code",
   "execution_count": 4,
   "id": "6fe556cc",
   "metadata": {},
   "outputs": [
    {
     "name": "stderr",
     "output_type": "stream",
     "text": [
      "C:\\Users\\frank\\anaconda3\\lib\\site-packages\\ipykernel\\ipkernel.py:287: DeprecationWarning: `should_run_async` will not call `transform_cell` automatically in the future. Please pass the result to `transformed_cell` argument and any exception that happen during thetransform in `preprocessing_exc_tuple` in IPython 7.17 and above.\n",
      "  and should_run_async(code)\n"
     ]
    },
    {
     "data": {
      "text/html": [
       "<div>\n",
       "<style scoped>\n",
       "    .dataframe tbody tr th:only-of-type {\n",
       "        vertical-align: middle;\n",
       "    }\n",
       "\n",
       "    .dataframe tbody tr th {\n",
       "        vertical-align: top;\n",
       "    }\n",
       "\n",
       "    .dataframe thead th {\n",
       "        text-align: right;\n",
       "    }\n",
       "</style>\n",
       "<table border=\"1\" class=\"dataframe\">\n",
       "  <thead>\n",
       "    <tr style=\"text-align: right;\">\n",
       "      <th></th>\n",
       "      <th>fare_amount</th>\n",
       "      <th>pickup_datetime</th>\n",
       "      <th>pickup_longitude</th>\n",
       "      <th>pickup_latitude</th>\n",
       "      <th>dropoff_longitude</th>\n",
       "      <th>dropoff_latitude</th>\n",
       "      <th>passenger_count</th>\n",
       "      <th>dif_latitude</th>\n",
       "      <th>dif_longitude</th>\n",
       "      <th>distancia</th>\n",
       "      <th>dia_semana</th>\n",
       "      <th>hora</th>\n",
       "    </tr>\n",
       "  </thead>\n",
       "  <tbody>\n",
       "    <tr>\n",
       "      <th>0</th>\n",
       "      <td>8.0</td>\n",
       "      <td>2015-03-12 23:14:59 UTC</td>\n",
       "      <td>-73.993141</td>\n",
       "      <td>40.727940</td>\n",
       "      <td>-73.996613</td>\n",
       "      <td>40.744530</td>\n",
       "      <td>2</td>\n",
       "      <td>0.016590</td>\n",
       "      <td>0.003471</td>\n",
       "      <td>1.868306</td>\n",
       "      <td>4</td>\n",
       "      <td>23</td>\n",
       "    </tr>\n",
       "    <tr>\n",
       "      <th>1</th>\n",
       "      <td>10.0</td>\n",
       "      <td>2013-08-21 08:38:06 UTC</td>\n",
       "      <td>-73.964837</td>\n",
       "      <td>40.769933</td>\n",
       "      <td>-73.983462</td>\n",
       "      <td>40.761655</td>\n",
       "      <td>1</td>\n",
       "      <td>0.008278</td>\n",
       "      <td>0.018625</td>\n",
       "      <td>1.819197</td>\n",
       "      <td>3</td>\n",
       "      <td>8</td>\n",
       "    </tr>\n",
       "    <tr>\n",
       "      <th>2</th>\n",
       "      <td>5.5</td>\n",
       "      <td>2014-01-23 18:40:00 UTC</td>\n",
       "      <td>-74.001017</td>\n",
       "      <td>40.746352</td>\n",
       "      <td>-73.990873</td>\n",
       "      <td>40.739497</td>\n",
       "      <td>1</td>\n",
       "      <td>0.006855</td>\n",
       "      <td>0.010144</td>\n",
       "      <td>1.145462</td>\n",
       "      <td>4</td>\n",
       "      <td>18</td>\n",
       "    </tr>\n",
       "  </tbody>\n",
       "</table>\n",
       "</div>"
      ],
      "text/plain": [
       "   fare_amount          pickup_datetime  pickup_longitude  pickup_latitude  \\\n",
       "0          8.0  2015-03-12 23:14:59 UTC        -73.993141        40.727940   \n",
       "1         10.0  2013-08-21 08:38:06 UTC        -73.964837        40.769933   \n",
       "2          5.5  2014-01-23 18:40:00 UTC        -74.001017        40.746352   \n",
       "\n",
       "   dropoff_longitude  dropoff_latitude  passenger_count  dif_latitude  \\\n",
       "0         -73.996613         40.744530                2      0.016590   \n",
       "1         -73.983462         40.761655                1      0.008278   \n",
       "2         -73.990873         40.739497                1      0.006855   \n",
       "\n",
       "   dif_longitude  distancia  dia_semana  hora  \n",
       "0       0.003471   1.868306           4    23  \n",
       "1       0.018625   1.819197           3     8  \n",
       "2       0.010144   1.145462           4    18  "
      ]
     },
     "execution_count": 4,
     "metadata": {},
     "output_type": "execute_result"
    }
   ],
   "source": [
    "new_data.head(3)"
   ]
  },
  {
   "cell_type": "code",
   "execution_count": 5,
   "id": "8c7c4059",
   "metadata": {},
   "outputs": [
    {
     "name": "stdout",
     "output_type": "stream",
     "text": [
      "<class 'pandas.core.frame.DataFrame'>\n",
      "RangeIndex: 2219173 entries, 0 to 2219172\n",
      "Data columns (total 12 columns):\n",
      " #   Column             Dtype  \n",
      "---  ------             -----  \n",
      " 0   fare_amount        float64\n",
      " 1   pickup_datetime    object \n",
      " 2   pickup_longitude   float64\n",
      " 3   pickup_latitude    float64\n",
      " 4   dropoff_longitude  float64\n",
      " 5   dropoff_latitude   float64\n",
      " 6   passenger_count    int64  \n",
      " 7   dif_latitude       float64\n",
      " 8   dif_longitude      float64\n",
      " 9   distancia          float64\n",
      " 10  dia_semana         int64  \n",
      " 11  hora               int64  \n",
      "dtypes: float64(8), int64(3), object(1)\n",
      "memory usage: 203.2+ MB\n"
     ]
    },
    {
     "name": "stderr",
     "output_type": "stream",
     "text": [
      "C:\\Users\\frank\\anaconda3\\lib\\site-packages\\ipykernel\\ipkernel.py:287: DeprecationWarning: `should_run_async` will not call `transform_cell` automatically in the future. Please pass the result to `transformed_cell` argument and any exception that happen during thetransform in `preprocessing_exc_tuple` in IPython 7.17 and above.\n",
      "  and should_run_async(code)\n"
     ]
    }
   ],
   "source": [
    "new_data.info()\n"
   ]
  },
  {
   "cell_type": "code",
   "execution_count": 6,
   "id": "8f8dfb82",
   "metadata": {},
   "outputs": [],
   "source": [
    "#se entablece las variables predictoras y obejtivos\n",
    "# se establece las columnas\n",
    "columnas_float = [\"passenger_count\",\"distancia\",\"dia_semana\", \"hora\"]\n",
    "#extraccion de datos predictores\n",
    "predictors = new_data[columnas_float]\n",
    "#extraccion de dato objetivo\n",
    "target = new_data[\"fare_amount\"]"
   ]
  },
  {
   "cell_type": "markdown",
   "id": "e5edda38",
   "metadata": {
    "scrolled": true
   },
   "source": [
    "### Ajuste del modelos \n",
    "\n",
    " No solo es importante ajustar el mdelos sino que tambien es importante cuantificar su capacidad para predecir observaciones, para esto dividimos los datos en dos grupos uno de entrenamiento y otro en test"
   ]
  },
  {
   "cell_type": "code",
   "execution_count": 7,
   "id": "8da6517b",
   "metadata": {},
   "outputs": [
    {
     "data": {
      "text/plain": [
       "DecisionTreeRegressor(max_depth=3, random_state=123)"
      ]
     },
     "execution_count": 7,
     "metadata": {},
     "output_type": "execute_result"
    }
   ],
   "source": [
    "# División de los datos en train y test\n",
    "\n",
    "X_train, X_test, y_train, y_test = train_test_split(predictors,target,random_state = 123)\n",
    "# Creación del modelo\n",
    "\n",
    "modelo = DecisionTreeRegressor(max_depth = 3,random_state = 123)\n",
    "\n",
    "# Entrenamiento del modelo\n",
    "# ------------------------------------------------------------------------------\n",
    "modelo.fit(X_train, y_train)"
   ]
  },
  {
   "cell_type": "code",
   "execution_count": 9,
   "id": "75e0aa6f",
   "metadata": {},
   "outputs": [
    {
     "ename": "NameError",
     "evalue": "name 'predictors_label' is not defined",
     "output_type": "error",
     "traceback": [
      "\u001b[1;31m---------------------------------------------------------------------------\u001b[0m",
      "\u001b[1;31mNameError\u001b[0m                                 Traceback (most recent call last)",
      "\u001b[1;32m<ipython-input-9-6ed32302522f>\u001b[0m in \u001b[0;36m<module>\u001b[1;34m\u001b[0m\n\u001b[1;32m----> 1\u001b[1;33m \u001b[0mpredic\u001b[0m \u001b[1;33m=\u001b[0m \u001b[0mnew_data\u001b[0m\u001b[1;33m[\u001b[0m\u001b[0mpredictors_label\u001b[0m\u001b[1;33m]\u001b[0m\u001b[1;33m\u001b[0m\u001b[1;33m\u001b[0m\u001b[0m\n\u001b[0m",
      "\u001b[1;31mNameError\u001b[0m: name 'predictors_label' is not defined"
     ]
    }
   ],
   "source": [
    "predic = new_data[predictors_label]"
   ]
  },
  {
   "cell_type": "code",
   "execution_count": 8,
   "id": "b1618b08",
   "metadata": {},
   "outputs": [
    {
     "name": "stderr",
     "output_type": "stream",
     "text": [
      "C:\\Users\\frank\\anaconda3\\lib\\site-packages\\ipykernel\\ipkernel.py:287: DeprecationWarning: `should_run_async` will not call `transform_cell` automatically in the future. Please pass the result to `transformed_cell` argument and any exception that happen during thetransform in `preprocessing_exc_tuple` in IPython 7.17 and above.\n",
      "  and should_run_async(code)\n"
     ]
    },
    {
     "name": "stdout",
     "output_type": "stream",
     "text": [
      "Profundidad del árbol: 3\n",
      "Número de nodos terminales: 8\n"
     ]
    },
    {
     "ename": "NameError",
     "evalue": "name 'predic' is not defined",
     "output_type": "error",
     "traceback": [
      "\u001b[1;31m---------------------------------------------------------------------------\u001b[0m",
      "\u001b[1;31mNameError\u001b[0m                                 Traceback (most recent call last)",
      "\u001b[1;32m<ipython-input-8-9bfa5ac01be1>\u001b[0m in \u001b[0;36m<module>\u001b[1;34m\u001b[0m\n\u001b[0;32m      8\u001b[0m plot = plot_tree(\n\u001b[0;32m      9\u001b[0m             \u001b[0mdecision_tree\u001b[0m \u001b[1;33m=\u001b[0m \u001b[0mmodelo\u001b[0m\u001b[1;33m,\u001b[0m\u001b[1;33m\u001b[0m\u001b[1;33m\u001b[0m\u001b[0m\n\u001b[1;32m---> 10\u001b[1;33m             \u001b[0mfeature_names\u001b[0m \u001b[1;33m=\u001b[0m \u001b[0mpredic\u001b[0m\u001b[1;33m.\u001b[0m\u001b[0mcolumns\u001b[0m\u001b[1;33m,\u001b[0m\u001b[1;33m\u001b[0m\u001b[1;33m\u001b[0m\u001b[0m\n\u001b[0m\u001b[0;32m     11\u001b[0m             \u001b[0mclass_names\u001b[0m   \u001b[1;33m=\u001b[0m \u001b[1;34m'fare_amount'\u001b[0m\u001b[1;33m,\u001b[0m\u001b[1;33m\u001b[0m\u001b[1;33m\u001b[0m\u001b[0m\n\u001b[0;32m     12\u001b[0m             \u001b[0mfilled\u001b[0m        \u001b[1;33m=\u001b[0m \u001b[1;32mTrue\u001b[0m\u001b[1;33m,\u001b[0m\u001b[1;33m\u001b[0m\u001b[1;33m\u001b[0m\u001b[0m\n",
      "\u001b[1;31mNameError\u001b[0m: name 'predic' is not defined"
     ]
    },
    {
     "data": {
      "image/png": "[encoded data removed]",
      "text/plain": [
       "<Figure size 1296x360 with 1 Axes>"
      ]
     },
     "metadata": {
      "needs_background": "light"
     },
     "output_type": "display_data"
    }
   ],
   "source": [
    "# Estructura del árbol creado\n",
    "# ------------------------------------------------------------------------------\n",
    "fig, ax = plt.subplots(figsize=(18, 5))\n",
    "\n",
    "print(f\"Profundidad del árbol: {modelo.get_depth()}\")\n",
    "print(f\"Número de nodos terminales: {modelo.get_n_leaves()}\")\n",
    "\n",
    "plot = plot_tree(\n",
    "            decision_tree = modelo,\n",
    "            feature_names = predic.columns,\n",
    "            class_names   = 'fare_amount',\n",
    "            filled        = True,\n",
    "            impurity      = False,\n",
    "            fontsize      = 10,\n",
    "            precision     = 2,\n",
    "            ax            = ax\n",
    "       )\n"
   ]
  },
  {
   "cell_type": "code",
   "execution_count": null,
   "id": "27bb6776",
   "metadata": {},
   "outputs": [],
   "source": [
    "texto_modelo = export_text(decision_tree = modelo,feature_names = list(new_data[predictors_label].columns)\n",
    "               )\n",
    "print(texto_modelo)"
   ]
  },
  {
   "cell_type": "markdown",
   "id": "acde0697",
   "metadata": {},
   "source": [
    "Si seguimos la rama mas a la izquierda del arbol podemos notar que predice un precio promedio de 6.81 dolares por viaje que estan a un distancia <= 7.82 kilometros"
   ]
  },
  {
   "cell_type": "code",
   "execution_count": null,
   "id": "0ee844eb",
   "metadata": {},
   "outputs": [],
   "source": []
  },
  {
   "cell_type": "code",
   "execution_count": 12,
   "id": "886a9ab2",
   "metadata": {},
   "outputs": [
    {
     "name": "stdout",
     "output_type": "stream",
     "text": [
      "(Delayed('int-532628ee-692e-408f-b480-1cf88cb26cb0'), 8)\n"
     ]
    }
   ],
   "source": [
    "print(dd.shape)"
   ]
  },
  {
   "cell_type": "code",
   "execution_count": 13,
   "id": "ac2eb6cb",
   "metadata": {},
   "outputs": [
    {
     "name": "stdout",
     "output_type": "stream",
     "text": [
      "[########################################] | 100% Completed |  1min 47.6s\n"
     ]
    }
   ],
   "source": [
    "with ProgressBar():\n",
    "    ratio_perdida = ratio_perdida.compute()"
   ]
  },
  {
   "cell_type": "code",
   "execution_count": 14,
   "id": "fdd1d9e2",
   "metadata": {},
   "outputs": [
    {
     "data": {
      "text/plain": [
       "key                  0.000000\n",
       "fare_amount          0.000000\n",
       "pickup_datetime      0.000000\n",
       "pickup_longitude     0.000000\n",
       "pickup_latitude      0.000000\n",
       "dropoff_longitude    0.000678\n",
       "dropoff_latitude     0.000678\n",
       "passenger_count      0.000000\n",
       "dtype: float64"
      ]
     },
     "execution_count": 14,
     "metadata": {},
     "output_type": "execute_result"
    }
   ],
   "source": [
    "ratio_perdida"
   ]
  },
  {
   "cell_type": "code",
   "execution_count": 15,
   "id": "51293eb3",
   "metadata": {},
   "outputs": [],
   "source": [
    "dd = dd.dropna()"
   ]
  },
  {
   "cell_type": "code",
   "execution_count": 16,
   "id": "37d11a8b",
   "metadata": {},
   "outputs": [
    {
     "data": {
      "text/html": [
       "<div><strong>Dask DataFrame Structure:</strong></div>\n",
       "<div>\n",
       "<style scoped>\n",
       "    .dataframe tbody tr th:only-of-type {\n",
       "        vertical-align: middle;\n",
       "    }\n",
       "\n",
       "    .dataframe tbody tr th {\n",
       "        vertical-align: top;\n",
       "    }\n",
       "\n",
       "    .dataframe thead th {\n",
       "        text-align: right;\n",
       "    }\n",
       "</style>\n",
       "<table border=\"1\" class=\"dataframe\">\n",
       "  <thead>\n",
       "    <tr style=\"text-align: right;\">\n",
       "      <th></th>\n",
       "      <th>key</th>\n",
       "      <th>fare_amount</th>\n",
       "      <th>pickup_datetime</th>\n",
       "      <th>pickup_longitude</th>\n",
       "      <th>pickup_latitude</th>\n",
       "      <th>dropoff_longitude</th>\n",
       "      <th>dropoff_latitude</th>\n",
       "      <th>passenger_count</th>\n",
       "    </tr>\n",
       "    <tr>\n",
       "      <th>npartitions=90</th>\n",
       "      <th></th>\n",
       "      <th></th>\n",
       "      <th></th>\n",
       "      <th></th>\n",
       "      <th></th>\n",
       "      <th></th>\n",
       "      <th></th>\n",
       "      <th></th>\n",
       "    </tr>\n",
       "  </thead>\n",
       "  <tbody>\n",
       "    <tr>\n",
       "      <th></th>\n",
       "      <td>object</td>\n",
       "      <td>float64</td>\n",
       "      <td>object</td>\n",
       "      <td>float64</td>\n",
       "      <td>float64</td>\n",
       "      <td>float64</td>\n",
       "      <td>float64</td>\n",
       "      <td>int64</td>\n",
       "    </tr>\n",
       "    <tr>\n",
       "      <th></th>\n",
       "      <td>...</td>\n",
       "      <td>...</td>\n",
       "      <td>...</td>\n",
       "      <td>...</td>\n",
       "      <td>...</td>\n",
       "      <td>...</td>\n",
       "      <td>...</td>\n",
       "      <td>...</td>\n",
       "    </tr>\n",
       "    <tr>\n",
       "      <th>...</th>\n",
       "      <td>...</td>\n",
       "      <td>...</td>\n",
       "      <td>...</td>\n",
       "      <td>...</td>\n",
       "      <td>...</td>\n",
       "      <td>...</td>\n",
       "      <td>...</td>\n",
       "      <td>...</td>\n",
       "    </tr>\n",
       "    <tr>\n",
       "      <th></th>\n",
       "      <td>...</td>\n",
       "      <td>...</td>\n",
       "      <td>...</td>\n",
       "      <td>...</td>\n",
       "      <td>...</td>\n",
       "      <td>...</td>\n",
       "      <td>...</td>\n",
       "      <td>...</td>\n",
       "    </tr>\n",
       "    <tr>\n",
       "      <th></th>\n",
       "      <td>...</td>\n",
       "      <td>...</td>\n",
       "      <td>...</td>\n",
       "      <td>...</td>\n",
       "      <td>...</td>\n",
       "      <td>...</td>\n",
       "      <td>...</td>\n",
       "      <td>...</td>\n",
       "    </tr>\n",
       "  </tbody>\n",
       "</table>\n",
       "</div>\n",
       "<div>Dask Name: dropna, 180 tasks</div>"
      ],
      "text/plain": [
       "Dask DataFrame Structure:\n",
       "                   key fare_amount pickup_datetime pickup_longitude pickup_latitude dropoff_longitude dropoff_latitude passenger_count\n",
       "npartitions=90                                                                                                                        \n",
       "                object     float64          object          float64         float64           float64          float64           int64\n",
       "                   ...         ...             ...              ...             ...               ...              ...             ...\n",
       "...                ...         ...             ...              ...             ...               ...              ...             ...\n",
       "                   ...         ...             ...              ...             ...               ...              ...             ...\n",
       "                   ...         ...             ...              ...             ...               ...              ...             ...\n",
       "Dask Name: dropna, 180 tasks"
      ]
     },
     "execution_count": 16,
     "metadata": {},
     "output_type": "execute_result"
    }
   ],
   "source": [
    "dd\n"
   ]
  },
  {
   "cell_type": "code",
   "execution_count": 17,
   "id": "70df6b94",
   "metadata": {},
   "outputs": [
    {
     "data": {
      "text/plain": [
       "55423480"
      ]
     },
     "execution_count": 17,
     "metadata": {},
     "output_type": "execute_result"
    }
   ],
   "source": [
    "len(dd)"
   ]
  },
  {
   "cell_type": "code",
   "execution_count": 18,
   "id": "8dc565c3",
   "metadata": {},
   "outputs": [
    {
     "name": "stdout",
     "output_type": "stream",
     "text": [
      "<class 'dask.dataframe.core.DataFrame'>\n",
      "Columns: 8 entries, key to passenger_count\n",
      "dtypes: object(2), float64(5), int64(1)"
     ]
    }
   ],
   "source": [
    "dd.info()"
   ]
  },
  {
   "cell_type": "code",
   "execution_count": null,
   "id": "f519d01c",
   "metadata": {},
   "outputs": [],
   "source": []
  }
 ],
 "metadata": {
  "kernelspec": {
   "display_name": "Python 3",
   "language": "python",
   "name": "python3"
  }
 },
 "nbformat": 4,
 "nbformat_minor": 5
}
