{
 "cells": [
  {
   "cell_type": "code",
   "execution_count": null,
   "metadata": {},
   "outputs": [],
   "source": [
    "# medir tiempos\n",
    "%load_ext autotime"
   ]
  },
  {
   "cell_type": "markdown",
   "metadata": {},
   "source": [
    "![output](tiempo_secuencial.png)"
   ]
  },
  {
   "cell_type": "markdown",
   "metadata": {},
   "source": [
    "## Paralelo pyspark "
   ]
  },
  {
   "cell_type": "code",
   "execution_count": 1,
   "metadata": {},
   "outputs": [],
   "source": [
    "# Modulo para encontrar pyspark\n",
    "import findspark\n",
    "findspark.init(\"/usr/local/spark/spark-3.1.1-bin-hadoop2.7\")"
   ]
  },
  {
   "cell_type": "code",
   "execution_count": 2,
   "metadata": {},
   "outputs": [],
   "source": [
    "# importamos pyspark\n",
    "import pyspark \n",
    "# iniciamos una sesión spark\n",
    "sc = pyspark.SparkContext(appName = \"ModeloML\")"
   ]
  },
  {
   "cell_type": "code",
   "execution_count": 3,
   "metadata": {},
   "outputs": [],
   "source": [
    "# Para trabajar con DataFrames\n",
    "from pyspark.sql import SQLContext \n",
    "sqlContext = SQLContext(sc)"
   ]
  },
  {
   "cell_type": "code",
   "execution_count": 4,
   "metadata": {},
   "outputs": [],
   "source": [
    "df = sqlContext.read.options(header='True', inferSchema='True').csv('train.csv')"
   ]
  },
  {
   "cell_type": "code",
   "execution_count": 5,
   "metadata": {},
   "outputs": [
    {
     "data": {
      "text/plain": [
       "[Row(key='2009-06-15 17:26:21.0000001', fare_amount=4.5, pickup_datetime='2009-06-15 17:26:21 UTC', pickup_longitude=-73.844311, pickup_latitude=40.721319, dropoff_longitude=-73.84161, dropoff_latitude=40.712278, passenger_count=1),\n",
       " Row(key='2010-01-05 16:52:16.0000002', fare_amount=16.9, pickup_datetime='2010-01-05 16:52:16 UTC', pickup_longitude=-74.016048, pickup_latitude=40.711303, dropoff_longitude=-73.979268, dropoff_latitude=40.782004, passenger_count=1),\n",
       " Row(key='2011-08-18 00:35:00.00000049', fare_amount=5.7, pickup_datetime='2011-08-18 00:35:00 UTC', pickup_longitude=-73.982738, pickup_latitude=40.76127, dropoff_longitude=-73.991242, dropoff_latitude=40.750562, passenger_count=2),\n",
       " Row(key='2012-04-21 04:30:42.0000001', fare_amount=7.7, pickup_datetime='2012-04-21 04:30:42 UTC', pickup_longitude=-73.98713, pickup_latitude=40.733143, dropoff_longitude=-73.991567, dropoff_latitude=40.758092, passenger_count=1)]"
      ]
     },
     "execution_count": 5,
     "metadata": {},
     "output_type": "execute_result"
    }
   ],
   "source": [
    "df.head(4)"
   ]
  },
  {
   "cell_type": "code",
   "execution_count": 6,
   "metadata": {},
   "outputs": [
    {
     "data": {
      "text/plain": [
       "55423856"
      ]
     },
     "execution_count": 6,
     "metadata": {},
     "output_type": "execute_result"
    }
   ],
   "source": [
    "#cantidad de datos\n",
    "cantidad_total=df.count()\n",
    "cantidad_total"
   ]
  },
  {
   "cell_type": "code",
   "execution_count": 7,
   "metadata": {},
   "outputs": [
    {
     "name": "stdout",
     "output_type": "stream",
     "text": [
      "root\n",
      " |-- key: string (nullable = true)\n",
      " |-- fare_amount: double (nullable = true)\n",
      " |-- pickup_datetime: string (nullable = true)\n",
      " |-- pickup_longitude: double (nullable = true)\n",
      " |-- pickup_latitude: double (nullable = true)\n",
      " |-- dropoff_longitude: double (nullable = true)\n",
      " |-- dropoff_latitude: double (nullable = true)\n",
      " |-- passenger_count: integer (nullable = true)\n",
      "\n"
     ]
    }
   ],
   "source": [
    "# Esquema de los datos\n",
    "df.printSchema()"
   ]
  },
  {
   "cell_type": "markdown",
   "metadata": {},
   "source": [
    "# Eliminando Valores Nulos de la tabla"
   ]
  },
  {
   "cell_type": "code",
   "execution_count": 9,
   "metadata": {},
   "outputs": [
    {
     "name": "stdout",
     "output_type": "stream",
     "text": [
      "cantidad de valores nulos:  376\n"
     ]
    }
   ],
   "source": [
    "# tabla sin valores nulos, sin duplicados\n",
    "df=df.na.drop().dropDuplicates()\n",
    "# cantidad de  no valores nulos\n",
    "cantidad_valores_no_nulos=df.count()\n",
    "print(\"cantidad de valores nulos: \",cantidad_total-cantidad_valores_no_nulos)"
   ]
  },
  {
   "cell_type": "markdown",
   "metadata": {},
   "source": [
    "# Estadisticas"
   ]
  },
  {
   "cell_type": "code",
   "execution_count": 10,
   "metadata": {},
   "outputs": [],
   "source": [
    "summary=df.describe()"
   ]
  },
  {
   "cell_type": "code",
   "execution_count": 11,
   "metadata": {},
   "outputs": [
    {
     "data": {
      "text/plain": [
       "[('summary', 'string'),\n",
       " ('key', 'string'),\n",
       " ('fare_amount', 'string'),\n",
       " ('pickup_datetime', 'string'),\n",
       " ('pickup_longitude', 'string'),\n",
       " ('pickup_latitude', 'string'),\n",
       " ('dropoff_longitude', 'string'),\n",
       " ('dropoff_latitude', 'string'),\n",
       " ('passenger_count', 'string')]"
      ]
     },
     "execution_count": 11,
     "metadata": {},
     "output_type": "execute_result"
    }
   ],
   "source": [
    "# Tipos de datos del summary\n",
    "summary.dtypes"
   ]
  },
  {
   "cell_type": "code",
   "execution_count": 12,
   "metadata": {},
   "outputs": [
    {
     "name": "stdout",
     "output_type": "stream",
     "text": [
      "+-------+------------------+-----------------+------------------+-----------------+\n",
      "|summary|  pickup_longitude|  pickup_latitude| dropoff_longitude| dropoff_latitude|\n",
      "+-------+------------------+-----------------+------------------+-----------------+\n",
      "|  count|          55423480|         55423480|          55423480|         55423480|\n",
      "|   mean|-72.50972923276653|39.91981628104406| -72.5112097297193|39.92068144482925|\n",
      "| stddev|12.848775109035225|9.642324401644247|12.782196517830826|9.633345796415135|\n",
      "|    min|      -3442.059565|     -3492.263768|      -3442.024565|     -3547.886698|\n",
      "|    max|       3457.625683|      3408.789565|        3457.62235|      3537.132528|\n",
      "+-------+------------------+-----------------+------------------+-----------------+\n",
      "\n"
     ]
    }
   ],
   "source": [
    "summary[\"summary\",\"pickup_longitude\",\"pickup_latitude\",\"dropoff_longitude\",\"dropoff_latitude\"].show()"
   ]
  },
  {
   "cell_type": "code",
   "execution_count": 13,
   "metadata": {},
   "outputs": [
    {
     "name": "stdout",
     "output_type": "stream",
     "text": [
      "+-------+------------------+------------------+\n",
      "|summary|   passenger_count|       fare_amount|\n",
      "+-------+------------------+------------------+\n",
      "|  count|          55423480|          55423480|\n",
      "|   mean|  1.68539135398932|11.345004930221487|\n",
      "| stddev|1.3276616033280673|20.710866987985728|\n",
      "|    min|                 0|            -300.0|\n",
      "|    max|               208|          93963.36|\n",
      "+-------+------------------+------------------+\n",
      "\n"
     ]
    }
   ],
   "source": [
    "summary[\"summary\",\"passenger_count\",\"fare_amount\"].show()"
   ]
  },
  {
   "cell_type": "code",
   "execution_count": 14,
   "metadata": {},
   "outputs": [
    {
     "name": "stdout",
     "output_type": "stream",
     "text": [
      "+---------------+--------+\n",
      "|passenger_count|   count|\n",
      "+---------------+--------+\n",
      "|             34|       1|\n",
      "|              1|38337524|\n",
      "|              6| 1174647|\n",
      "|              3| 2432712|\n",
      "|              5| 3929346|\n",
      "|              9|      23|\n",
      "|              4| 1178852|\n",
      "|              8|       9|\n",
      "|             49|       1|\n",
      "|              7|      15|\n",
      "|             51|       1|\n",
      "|            129|       2|\n",
      "|              2| 8175243|\n",
      "|              0|  195040|\n",
      "|            208|      64|\n",
      "+---------------+--------+\n",
      "\n"
     ]
    }
   ],
   "source": [
    "# Agrupación por cantidad de pasajeros.\n",
    "df.groupBy(\"passenger_count\").count().show()"
   ]
  },
  {
   "cell_type": "markdown",
   "metadata": {},
   "source": [
    "observaciones :\n",
    "1. Valores de passenger_count imposibles , como 34,49,51,129,208.\n",
    "2. Precios demasiados elevados debido a la cantidad de pasajeros y negativo(imposible)."
   ]
  },
  {
   "cell_type": "code",
   "execution_count": null,
   "metadata": {},
   "outputs": [],
   "source": []
  },
  {
   "cell_type": "code",
   "execution_count": null,
   "metadata": {},
   "outputs": [],
   "source": []
  },
  {
   "cell_type": "code",
   "execution_count": 15,
   "metadata": {},
   "outputs": [],
   "source": [
    "# cerramos la sesión spark\n",
    "sc.stop()"
   ]
  },
  {
   "cell_type": "code",
   "execution_count": null,
   "metadata": {},
   "outputs": [],
   "source": []
  }
 ],
 "metadata": {
  "kernelspec": {
   "display_name": "Python 3",
   "language": "python",
   "name": "python3"
  },
  "language_info": {
   "codemirror_mode": {
    "name": "ipython",
    "version": 3
   },
   "file_extension": ".py",
   "mimetype": "text/x-python",
   "name": "python",
   "nbconvert_exporter": "python",
   "pygments_lexer": "ipython3",
   "version": "3.8.5"
  }
 },
 "nbformat": 4,
 "nbformat_minor": 4
}
