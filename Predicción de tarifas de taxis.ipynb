{
 "cells": [
  {
   "cell_type": "markdown",
   "metadata": {},
   "source": [
    "## Predicción de tarifas de taxis"
   ]
  },
  {
   "cell_type": "markdown",
   "metadata": {},
   "source": [
    "El objetivo es construir un modelo de aprendizaje que sea capaz de predecir la tarifa que cobra un taxi de acuerdo a un conjunto de datos de entrada, el cual está compuesto por un archivo CSV que contiene alrededor de 55 millones de registros de viajes en taxi.\n"
   ]
  },
  {
   "cell_type": "markdown",
   "metadata": {},
   "source": [
    "Cada registro contiene la siguiente información:"
   ]
  },
  {
   "cell_type": "markdown",
   "metadata": {},
   "source": [
    "1. ID: cadena que identifica de manera única a cada registro\n",
    "2. pickup_datetime: timestamp indicando cuando el viaje a empezado\n",
    "3. pickup_longitude: número real indicando la ubicación en longitud en donde el viaje empezó\n",
    "4. pickup_latitude: número real indicando la ubicación en latitud en donde el viaje empezó\n",
    "5. dropoff_longitude: número real indicando la ubicación en longitud en donde el viaje terminó\n",
    "6. dropoff_latitude: número real indicando la ubicación en latitud en donde el viaje terminó\n",
    "7. passenger_count: número entero indicando el número de pasajeros en el servicio de taxi\n",
    "8. fare_amount: número real indicando el costo del taxi. Esta es la variable a predecir."
   ]
  },
  {
   "cell_type": "markdown",
   "metadata": {},
   "source": [
    "### Importando la función para medir el tiempo"
   ]
  },
  {
   "cell_type": "code",
   "execution_count": 1,
   "metadata": {},
   "outputs": [
    {
     "name": "stdout",
     "output_type": "stream",
     "text": [
     "time: 0 ns (started: 2021-06-12 20:58:17 -05:00)\n"
     ]
    }
   ],
   "source": [
    "# medir tiempos\n",
    "%load_ext autotime"
   ]
  },
  {
   "cell_type": "markdown",
   "metadata": {},
   "source": [
    "En la siguiente imagen se puede visualizar que para cargar el archivo CSV que contiene toda la data, tarda aproximadamente 37 min, lo que implica una desventaja a la hora de entrenar un modelo. Por eso se opta por trabajar en paralelo, usando PySpark, que acelerará el proceso de la carga de todo el conjunto de datos."
   ]
  },
  {
   "cell_type": "markdown",
   "metadata": {},
   "source": [
    "![output](tiempo_secuencial.png)"
   ]
  },
  {
   "cell_type": "markdown",
   "metadata": {},
   "source": [
    "### Importando el conjunto de datos usando Pyspark "
   ]
  },
  {
   "cell_type": "code",
   "execution_count": 2,
   "metadata": {},
   "outputs": [
    {
     "name": "stdout",
     "output_type": "stream",
     "text": [
      "time: 16 ms (started: 2021-06-12 20:58:21 -05:00)\n"
     ]
    }
   ],
   "source": [
    "# Modulo para encontrar pyspark\n",
    "import findspark\n",

    "# findspark.init(\"/usr/local/spark/spark-3.1.1-bin-hadoop2.7\")    #para linux\n",
    "findspark.init()                                                 #para windows"

   ]
  },
  {
   "cell_type": "code",
   "execution_count": 3,
   "metadata": {},
   "outputs": [
    {
     "data": {
      "text/html": [
       "\n",
       "        <div>\n",
       "            <p><b>SparkContext</b></p>\n",
       "\n",
       "            <p><a href=\"http://192.168.1.5:4040\">Spark UI</a></p>\n",
       "\n",
       "            <dl>\n",
       "              <dt>Version</dt>\n",
       "                <dd><code>v3.1.1</code></dd>\n",
       "              <dt>Master</dt>\n",
       "                <dd><code>local[*]</code></dd>\n",
       "              <dt>AppName</dt>\n",
       "                <dd><code>ModeloML</code></dd>\n",
       "            </dl>\n",
       "        </div>\n",
       "        "
      ],
      "text/plain": [
       "<SparkContext master=local[*] appName=ModeloML>"
      ]
     },
     "execution_count": 3,
     "metadata": {},
     "output_type": "execute_result"
    },
    {
     "name": "stdout",
     "output_type": "stream",
     "text": [

      "time: 7.16 s (started: 2021-06-12 20:58:22 -05:00)\n"

     ]
    }
   ],
   "source": [
    "# Importamos pyspark\n",
    "from pyspark import SparkConf, SparkContext\n",
    "# Variable de configuración\n",

    "conf = SparkConf().setMaster(\"local[*]\").setAppName(\"ModeloML\")\n",
    "# Iniciamos un contexto spark (solo se ejecuta uno. Para ejecutar otra vez , reiniciar el kernel)\n",

    "sc = SparkContext(conf = conf)\n",
    "sc"
   ]
  },
  {
   "cell_type": "code",
   "execution_count": 4,
   "metadata": {},
   "outputs": [
    {
     "name": "stdout",
     "output_type": "stream",
     "text": [

      "time: 40.4 s (started: 2021-06-12 20:58:29 -05:00)\n"

     ]
    }
   ],
   "source": [
    "from pyspark.sql.types import StringType\n",
    "from pyspark import SQLContext\n",
    "# le pasamos el contexto anterior\n",
    "sqlContext = SQLContext(sc)\n",
    "dfspark = sqlContext.read.format('csv').option(\"header\",\"true\").option(\"inferSchema\",\"true\").load('train.csv')"
   ]
  },
  {
   "cell_type": "code",
   "execution_count": 5,
   "metadata": {},
   "outputs": [
    {
     "name": "stdout",
     "output_type": "stream",
     "text": [
      "root\n",
      " |-- key: string (nullable = true)\n",
      " |-- fare_amount: double (nullable = true)\n",
      " |-- pickup_datetime: string (nullable = true)\n",
      " |-- pickup_longitude: double (nullable = true)\n",
      " |-- pickup_latitude: double (nullable = true)\n",
      " |-- dropoff_longitude: double (nullable = true)\n",
      " |-- dropoff_latitude: double (nullable = true)\n",
      " |-- passenger_count: integer (nullable = true)\n",
      "\n",
      "time: 31 ms (started: 2021-06-12 20:59:09 -05:00)\n"

     ]
    }
   ],
   "source": [
    "# Esquema de los datos\n",
    "dfspark.printSchema()"
   ]
  },
  {
   "cell_type": "code",
   "execution_count": 6,
   "metadata": {},
   "outputs": [
    {
     "data": {
      "text/plain": [
       "55423856"
      ]
     },
     "execution_count": 6,
     "metadata": {},
     "output_type": "execute_result"
    },
    {
     "name": "stdout",
     "output_type": "stream",
     "text": [

      "time: 7.78 s (started: 2021-06-12 20:59:09 -05:00)\n"

     ]
    }
   ],
   "source": [
    "# Total de cantidad de datos\n",
    "cant_total=dfspark.count()\n",
    "cant_total"
   ]
  },
  {
   "cell_type": "code",
   "execution_count": 7,
   "metadata": {},
   "outputs": [
    {
     "name": "stdout",
     "output_type": "stream",
     "text": [

      "time: 15 ms (started: 2021-06-12 20:59:17 -05:00)\n"

     ]
    }
   ],
   "source": [
    "# Tomando una muestra del 4% del total\n",
    "dfspark_sample = dfspark.sample(fraction = 0.04, withReplacement = False, seed=0)"
   ]
  },
  {
   "cell_type": "markdown",
   "metadata": {},
   "source": [
    "##### Apartir de aqui trabajamos con una muestra."
   ]
  },
  {
   "cell_type": "code",
   "execution_count": 8,
   "metadata": {},
   "outputs": [
    {
     "data": {
      "text/plain": [
       "2219408"
      ]
     },
     "execution_count": 8,
     "metadata": {},
     "output_type": "execute_result"
    },
    {
     "name": "stdout",
     "output_type": "stream",
     "text": [

      "time: 7.83 s (started: 2021-06-12 20:59:54 -05:00)\n"

     ]
    }
   ],
   "source": [
    "# Cantidad de datos para la muestra\n",
    "cant_muestra=dfspark_sample.count()\n",
    "cant_muestra"
   ]
  },
  {
   "cell_type": "markdown",
   "metadata": {},
   "source": [
    "### Limpieza de la data"
   ]
  },
  {
   "cell_type": "markdown",
   "metadata": {},
   "source": [
    "Se procederá a eliminar la columna con la característica \"key\", debido a que contiene datos innecesarios para lograr el objetivo."
   ]
  },
  {
   "cell_type": "code",
   "execution_count": 9,
   "metadata": {},
   "outputs": [
    {
     "name": "stdout",
     "output_type": "stream",
     "text": [

      "time: 16 ms (started: 2021-06-12 21:00:27 -05:00)\n"

     ]
    }
   ],
   "source": [
    "dfspark_sample = dfspark_sample.drop('key')"
   ]
  },
  {
   "cell_type": "markdown",
   "metadata": {},
   "source": [
    "Eliminando Valores Nulos de la tabla"
   ]
  },
  {
   "cell_type": "code",
   "execution_count": 10,
   "metadata": {},
   "outputs": [
    {
     "name": "stdout",
     "output_type": "stream",
     "text": [

      "time: 360 ms (started: 2021-06-12 21:00:29 -05:00)\n"

     ]
    }
   ],
   "source": [
    "# fare_amount (costo de viaje) no nulos\n",
    "dfspark_sample = dfspark_sample.filter(\"fare_amount is not NULL\")\n",
    "# passenger (número de pasajeros) no nulos\n",
    "dfspark_sample = dfspark_sample.filter(\"passenger_count is not NULL\")\n",
    "# pickup_datetime (fecha y hora de incio de viaje) no nulos\n",
    "dfspark_sample = dfspark_sample.filter(\"pickup_datetime is not NULL\")\n",
    "# pickup (longitud y latitud de inicio de viaje) no nulos\n",
    "dfspark_sample = dfspark_sample.filter(\"pickup_longitude is not NULL\")\n",
    "dfspark_sample = dfspark_sample.filter(\"pickup_latitude is not NULL\")\n",
    "# dropoff (longitud y laitud de fin de viaje) no nulos\n",
    "dfspark_sample = dfspark_sample.filter(\"dropoff_longitude is not NULL\")\n",
    "dfspark_sample = dfspark_sample.filter(\"dropoff_latitude is not NULL\")"
   ]
  },
  {
   "cell_type": "markdown",
   "metadata": {},
   "source": [
    "Eliminado valores nan y duplicados"
   ]
  },
  {
   "cell_type": "code",
   "execution_count": 11,
   "metadata": {},
   "outputs": [
    {
     "name": "stdout",
     "output_type": "stream",
     "text": [

      "time: 63 ms (started: 2021-06-12 21:32:53 -05:00)\n"

     ]
    }
   ],
   "source": [
    "# Tabla sin valores nan, sin duplicados\n",
    "dfspark_sample=dfspark_sample.na.drop().dropDuplicates()"
   ]
  },
  {
   "cell_type": "code",
   "execution_count": 12,
   "metadata": {},
   "outputs": [
    {
     "data": {
      "text/plain": [
       "DataFrame[fare_amount: double, pickup_datetime: string, pickup_longitude: double, pickup_latitude: double, dropoff_longitude: double, dropoff_latitude: double, passenger_count: int]"
      ]
     },
     "execution_count": 12,
     "metadata": {},
     "output_type": "execute_result"
    },
    {
     "name": "stdout",
     "output_type": "stream",
     "text": [

      "time: 94 ms (started: 2021-06-12 21:32:53 -05:00)\n"

     ]
    }
   ],
   "source": [
    "# Que el comjunto de datos persista en memoria, acelera algunos procesos.\n",
    "dfspark_sample.persist()"
   ]
  },
  {
   "cell_type": "code",
   "execution_count": 13,
   "metadata": {},
   "outputs": [
    {
     "name": "stdout",
     "output_type": "stream",
     "text": [

      "Cantidad de filas eliminadas de la muestra:  18\n",
      "Nueva cantidad de datos:  2219390\n",
      "time: 27.9 s (started: 2021-06-12 21:32:55 -05:00)\n"

     ]
    }
   ],
   "source": [
    "# Cantidad de datos sin nulos, ni nan, ni duplicados\n",
    "nueva_cant_muestra=dfspark_sample.count()\n",
    "print(\"Cantidad de filas eliminadas de la muestra: \",cant_muestra-nueva_cant_muestra)\n",
    "print(\"Nueva cantidad de datos: \",nueva_cant_muestra)"
   ]
  },
  {
   "cell_type": "markdown",
   "metadata": {},
   "source": [
    "### Estadísticas"
   ]
  },
  {
   "cell_type": "code",
   "execution_count": 14,
   "metadata": {},
   "outputs": [
    {
     "name": "stdout",
     "output_type": "stream",
     "text": [

      "time: 375 ms (started: 2021-06-12 21:33:22 -05:00)\n"

     ]
    }
   ],
   "source": [
    "import numpy as np\n",
    "import pandas as pd"
   ]
  },
  {
   "cell_type": "code",
   "execution_count": 15,
   "metadata": {},
   "outputs": [
    {
     "name": "stdout",
     "output_type": "stream",
     "text": [

      "time: 953 ms (started: 2021-06-12 21:33:23 -05:00)\n"

     ]
    }
   ],
   "source": [

    "# Casteamos a pandas\n",
    "summary=dfspark_sample.describe([\"pickup_longitude\",\n",

    "                                 \"pickup_latitude\",\n",
    "                                 \"dropoff_longitude\",\n",
    "                                 \"dropoff_latitude\",\n",
    "                                 \"passenger_count\",\n",
    "                                 \"fare_amount\"]).toPandas()"
   ]
  },
  {
   "cell_type": "code",
   "execution_count": 16,
   "metadata": {},
   "outputs": [
    {
     "data": {
      "text/html": [
       "<div>\n",
       "<style scoped>\n",
       "    .dataframe tbody tr th:only-of-type {\n",
       "        vertical-align: middle;\n",
       "    }\n",
       "\n",
       "    .dataframe tbody tr th {\n",
       "        vertical-align: top;\n",
       "    }\n",
       "\n",
       "    .dataframe thead th {\n",
       "        text-align: right;\n",
       "    }\n",
       "</style>\n",
       "<table border=\"1\" class=\"dataframe\">\n",
       "  <thead>\n",
       "    <tr style=\"text-align: right;\">\n",
       "      <th></th>\n",
       "      <th>summary</th>\n",
       "      <th>pickup_longitude</th>\n",
       "      <th>pickup_latitude</th>\n",
       "      <th>dropoff_longitude</th>\n",
       "      <th>dropoff_latitude</th>\n",
       "      <th>passenger_count</th>\n",
       "      <th>fare_amount</th>\n",
       "    </tr>\n",
       "  </thead>\n",
       "  <tbody>\n",
       "    <tr>\n",
       "      <th>0</th>\n",
       "      <td>count</td>\n",
       "      <td>2219390</td>\n",
       "      <td>2219390</td>\n",
       "      <td>2219390</td>\n",
       "      <td>2219390</td>\n",
       "      <td>2219390</td>\n",
       "      <td>2219390</td>\n",
       "    </tr>\n",
       "    <tr>\n",
       "      <th>1</th>\n",
       "      <td>mean</td>\n",
       "      <td>-72.50355231460159</td>\n",
       "      <td>39.91779369363991</td>\n",
       "      <td>-72.50697030839864</td>\n",
       "      <td>39.91850726486102</td>\n",
       "      <td>1.6851959322156087</td>\n",
       "      <td>11.352503967306385</td>\n",
       "    </tr>\n",
       "    <tr>\n",
       "      <th>2</th>\n",
       "      <td>stddev</td>\n",
       "      <td>13.098889190132796</td>\n",
       "      <td>9.821243657749829</td>\n",
       "      <td>13.244549098861283</td>\n",
       "      <td>10.317917931047642</td>\n",
       "      <td>1.3377753769552685</td>\n",
       "      <td>42.449025079080954</td>\n",
       "    </tr>\n",
       "    <tr>\n",
       "      <th>3</th>\n",
       "      <td>min</td>\n",
       "      <td>-3366.527908</td>\n",
       "      <td>-3488.079513</td>\n",
       "      <td>-3366.527908</td>\n",
       "      <td>-3488.079513</td>\n",
       "      <td>0</td>\n",
       "      <td>-52.0</td>\n",
       "    </tr>\n",
       "    <tr>\n",
       "      <th>4</th>\n",
       "      <td>max</td>\n",
       "      <td>2497.117435</td>\n",
       "      <td>2964.163855</td>\n",
       "      <td>3211.57975</td>\n",
       "      <td>3333.304575</td>\n",
       "      <td>208</td>\n",
       "      <td>61550.86</td>\n",
       "    </tr>\n",
       "  </tbody>\n",
       "</table>\n",
       "</div>"
      ],
      "text/plain": [
       "  summary    pickup_longitude    pickup_latitude   dropoff_longitude  \\\n",
       "0   count             2219390            2219390             2219390   \n",
       "1    mean  -72.50355231460159  39.91779369363991  -72.50697030839864   \n",
       "2  stddev  13.098889190132796  9.821243657749829  13.244549098861283   \n",
       "3     min        -3366.527908       -3488.079513        -3366.527908   \n",
       "4     max         2497.117435        2964.163855          3211.57975   \n",
       "\n",
       "     dropoff_latitude     passenger_count         fare_amount  \n",
       "0             2219390             2219390             2219390  \n",
       "1   39.91850726486102  1.6851959322156087  11.352503967306385  \n",
       "2  10.317917931047642  1.3377753769552685  42.449025079080954  \n",
       "3        -3488.079513                   0               -52.0  \n",
       "4         3333.304575                 208            61550.86  "
      ]
     },
     "execution_count": 16,
     "metadata": {},
     "output_type": "execute_result"
    },
    {
     "name": "stdout",
     "output_type": "stream",
     "text": [

      "time: 47 ms (started: 2021-06-12 21:33:24 -05:00)\n"

     ]
    }
   ],
   "source": [
    "estadisticas"
   ]
  },
  {
   "cell_type": "code",
   "execution_count": 17,
   "metadata": {},
   "outputs": [
    {
     "name": "stdout",
     "output_type": "stream",
     "text": [
      "+---------------+-------+\n",
      "|passenger_count|  count|\n",
      "+---------------+-------+\n",
      "|              1|1535882|\n",
      "|              6|  47132|\n",
      "|              3|  97242|\n",
      "|              5| 157254|\n",
      "|              4|  47158|\n",
      "|              7|      1|\n",
      "|              2| 326983|\n",
      "|              0|   7734|\n",
      "|            208|      4|\n",
      "+---------------+-------+\n",
      "\n",

      "time: 2.02 s (started: 2021-06-12 21:33:24 -05:00)\n"

     ]
    }
   ],
   "source": [
    "# Agrupación por cantidad de pasajeros.\n",
    "dfspark_sample.groupBy(\"passenger_count\").count().show()"
   ]
  },
  {
   "cell_type": "markdown",
   "metadata": {},
   "source": [
    "### Observaciones :\n",
    "1. Valores de passenger_count imposibles , como 34,49,51,129,208.\n",
    "2. Precios demasiados elevados debido a la cantidad de pasajeros y negativo(imposible).\n",
    "3. Cantidad de datos en la que el precio es menor a o igual a 0"
   ]
  },
  {
   "cell_type": "code",
   "execution_count": 18,
   "metadata": {},
   "outputs": [
    {
     "name": "stdout",
     "output_type": "stream",
     "text": [
      "+---------------------+\n",
      "|min(pickup_longitude)|\n",
      "+---------------------+\n",
      "|         -3366.527908|\n",
      "+---------------------+\n",
      "\n",
      "+---------------------+\n",
      "|max(pickup_longitude)|\n",
      "+---------------------+\n",
      "|          2497.117435|\n",
      "+---------------------+\n",
      "\n",
      "+----------------------+\n",
      "|min(dropoff_longitude)|\n",
      "+----------------------+\n",
      "|          -3366.527908|\n",
      "+----------------------+\n",
      "\n",
      "+----------------------+\n",
      "|max(dropoff_longitude)|\n",
      "+----------------------+\n",
      "|            3211.57975|\n",
      "+----------------------+\n",
      "\n",
      "+--------------------+\n",
      "|min(pickup_latitude)|\n",
      "+--------------------+\n",
      "|        -3488.079513|\n",
      "+--------------------+\n",
      "\n",
      "+--------------------+\n",
      "|max(pickup_latitude)|\n",
      "+--------------------+\n",
      "|         2964.163855|\n",
      "+--------------------+\n",
      "\n",
      "+---------------------+\n",
      "|min(dropoff_latitude)|\n",
      "+---------------------+\n",
      "|         -3488.079513|\n",
      "+---------------------+\n",
      "\n",
      "+---------------------+\n",
      "|max(dropoff_latitude)|\n",
      "+---------------------+\n",
      "|          3333.304575|\n",
      "+---------------------+\n",
      "\n",

      "time: 3.36 s (started: 2021-06-12 21:33:26 -05:00)\n"

     ]
    }
   ],
   "source": [
    "# Mínimo y máximo para longitud del subconjunto de datos\n",
    "long_min_i=dfspark_sample.agg({'pickup_longitude': 'min'}).show()\n",
    "long_max_i=dfspark_sample.agg({'pickup_longitude': 'max'}).show()\n",
    "long_min_f=dfspark_sample.agg({'dropoff_longitude': 'min'}).show()\n",
    "long_max_f=dfspark_sample.agg({'dropoff_longitude': 'max'}).show()\n",
    "\n",
    "# Mínimo y máximo para para latitud del subconjuntos de datos\n",
    "lat_min_i=dfspark_sample.agg({'pickup_latitude': 'min'}).show()\n",
    "lat_max_i=dfspark_sample.agg({'pickup_latitude': 'max'}).show()\n",
    "lat_min_f=dfspark_sample.agg({'dropoff_latitude': 'min'}).show()\n",
    "lat_max_f=dfspark_sample.agg({'dropoff_latitude': 'max'}).show()"
   ]
  },
  {
   "cell_type": "markdown",
   "metadata": {},
   "source": [
    "### Observaciones:\n",
    "1. Valores para longitud imposibles, ya que longitud varía entre -90 y 90\n",
    "2. Valores para latitud imposibles, ya que latitud varía entre -180 y 180"
   ]
  },
  {
   "cell_type": "markdown",
   "metadata": {},
   "source": [
    "# Transformación de la data"
   ]
  },
  {
   "cell_type": "code",
   "execution_count": 19,
   "metadata": {},
   "outputs": [
    {
     "name": "stdout",
     "output_type": "stream",
     "text": [

      "time: 31 ms (started: 2021-06-12 21:33:29 -05:00)\n"

     ]
    }
   ],
   "source": [
    "# Seleccionar passenger_count de 0-9\n",
    "dfspark_sample = dfspark_sample.filter(\"passenger_count < 10\")\n",
    "# Selecionar fare_amount mayor a 0\n",
    "dfspark_sample = dfspark_sample.filter(\"fare_amount >= 0 and fare_amount <= 100\")"
   ]
  },
  {
   "cell_type": "code",
   "execution_count": 20,
   "metadata": {},
   "outputs": [
    {
     "name": "stdout",
     "output_type": "stream",
     "text": [
      "+---------------+-------+\n",
      "|passenger_count|  count|\n",
      "+---------------+-------+\n",
      "|              1|1535151|\n",
      "|              6|  47119|\n",
      "|              3|  97212|\n",
      "|              5| 157231|\n",
      "|              4|  47132|\n",
      "|              7|      1|\n",
      "|              2| 326869|\n",
      "|              0|   7734|\n",
      "+---------------+-------+\n",
      "\n",

      "time: 2.02 s (started: 2021-06-12 21:33:29 -05:00)\n"

     ]
    }
   ],
   "source": [
    "dfspark_sample.groupBy(\"passenger_count\").count().show()"
   ]
  },
  {
   "cell_type": "code",
   "execution_count": 21,
   "metadata": {},
   "outputs": [
    {
     "name": "stdout",
     "output_type": "stream",
     "text": [

      "time: 16 ms (started: 2021-06-12 21:33:31 -05:00)\n"

     ]
    }
   ],
   "source": [
    "# Filtrando valores grandes para longitud, de tal manera que solo se considerará valores correctos.\n",
    "dfspark_sample = dfspark_sample.filter(\"pickup_longitude < 180 and pickup_longitude > -180\" )\n",
    "dfspark_sample = dfspark_sample.filter(\"dropoff_longitude < 180 and dropoff_longitude > -180\")\n",
    "dfspark_sample = dfspark_sample.filter(\"pickup_latitude < 90 and pickup_latitude > -90\" )\n",
    "dfspark_sample = dfspark_sample.filter(\"dropoff_latitude < 90 and dropoff_latitude > -90\")"
   ]
  },
  {
   "cell_type": "code",
   "execution_count": 22,
   "metadata": {},
   "outputs": [
    {
     "name": "stdout",
     "output_type": "stream",
     "text": [

      "time: 1.12 s (started: 2021-06-12 21:33:31 -05:00)\n"

     ]
    }
   ],
   "source": [
    "estadisticas=dfspark_sample.describe([\"pickup_longitude\",\n",
    "                                 \"pickup_latitude\",\n",
    "                                 \"dropoff_longitude\",\n",
    "                                 \"dropoff_latitude\",\n",
    "                                  \"fare_amount\"]).toPandas()"
   ]
  },
  {
   "cell_type": "code",
   "execution_count": 23,
   "metadata": {},
   "outputs": [
    {
     "data": {
      "text/html": [
       "<div>\n",
       "<style scoped>\n",
       "    .dataframe tbody tr th:only-of-type {\n",
       "        vertical-align: middle;\n",
       "    }\n",
       "\n",
       "    .dataframe tbody tr th {\n",
       "        vertical-align: top;\n",
       "    }\n",
       "\n",
       "    .dataframe thead th {\n",
       "        text-align: right;\n",
       "    }\n",
       "</style>\n",
       "<table border=\"1\" class=\"dataframe\">\n",
       "  <thead>\n",
       "    <tr style=\"text-align: right;\">\n",
       "      <th></th>\n",
       "      <th>summary</th>\n",
       "      <th>pickup_longitude</th>\n",
       "      <th>pickup_latitude</th>\n",
       "      <th>dropoff_longitude</th>\n",
       "      <th>dropoff_latitude</th>\n",
       "      <th>fare_amount</th>\n",
       "    </tr>\n",
       "  </thead>\n",
       "  <tbody>\n",
       "    <tr>\n",
       "      <th>0</th>\n",
       "      <td>count</td>\n",
       "      <td>2218324</td>\n",
       "      <td>2218324</td>\n",
       "      <td>2218324</td>\n",
       "      <td>2218324</td>\n",
       "      <td>2218324</td>\n",
       "    </tr>\n",
       "    <tr>\n",
       "      <th>1</th>\n",
       "      <td>mean</td>\n",
       "      <td>-72.49792642807238</td>\n",
       "      <td>39.9178324326265</td>\n",
       "      <td>-72.50456776388887</td>\n",
       "      <td>39.92090591335847</td>\n",
       "      <td>11.277273396492163</td>\n",
       "    </tr>\n",
       "    <tr>\n",
       "      <th>2</th>\n",
       "      <td>stddev</td>\n",
       "      <td>10.456633559991248</td>\n",
       "      <td>6.108952929695163</td>\n",
       "      <td>10.431325659855101</td>\n",
       "      <td>6.10028741263642</td>\n",
       "      <td>9.39446820001931</td>\n",
       "    </tr>\n",
       "    <tr>\n",
       "      <th>3</th>\n",
       "      <td>min</td>\n",
       "      <td>-121.91499328613281</td>\n",
       "      <td>-74.017222</td>\n",
       "      <td>-121.9151840209961</td>\n",
       "      <td>-74.177303</td>\n",
       "      <td>0.0</td>\n",
       "    </tr>\n",
       "    <tr>\n",
       "      <th>4</th>\n",
       "      <td>max</td>\n",
       "      <td>40.840962</td>\n",
       "      <td>74.007413</td>\n",
       "      <td>73.93996</td>\n",
       "      <td>74.95</td>\n",
       "      <td>100.0</td>\n",
       "    </tr>\n",
       "  </tbody>\n",
       "</table>\n",
       "</div>"
      ],
      "text/plain": [
       "  summary     pickup_longitude    pickup_latitude   dropoff_longitude  \\\n",
       "0   count              2218324            2218324             2218324   \n",
       "1    mean   -72.49792642807238   39.9178324326265  -72.50456776388887   \n",
       "2  stddev   10.456633559991248  6.108952929695163  10.431325659855101   \n",
       "3     min  -121.91499328613281         -74.017222  -121.9151840209961   \n",
       "4     max            40.840962          74.007413            73.93996   \n",
       "\n",
       "    dropoff_latitude         fare_amount  \n",
       "0            2218324             2218324  \n",
       "1  39.92090591335847  11.277273396492163  \n",
       "2   6.10028741263642    9.39446820001931  \n",
       "3         -74.177303                 0.0  \n",
       "4              74.95               100.0  "
      ]
     },
     "execution_count": 23,
     "metadata": {},
     "output_type": "execute_result"
    },
    {
     "name": "stdout",
     "output_type": "stream",
     "text": [

      "time: 0 ns (started: 2021-06-12 21:33:33 -05:00)\n"

     ]
    }
   ],
   "source": [
    "estadisticas"
   ]
  },
  {
   "cell_type": "code",
   "execution_count": 24,
   "metadata": {},
   "outputs": [
    {
     "name": "stdout",
     "output_type": "stream",
     "text": [

      "time: 16 ms (started: 2021-06-12 21:33:33 -05:00)\n"

     ]
    }
   ],
   "source": [
    "# Agregamos columnas de diferencias.\n",
    "from pyspark.sql.functions import abs\n",
    "dfspark_sample = dfspark_sample.withColumn(\"dif_latitude\",\n",
    "                                           abs(dfspark_sample['dropoff_latitude']-dfspark_sample['pickup_latitude']))\n",
    "dfspark_sample = dfspark_sample.withColumn(\"dif_longitude\",\n",
    "                                           abs(dfspark_sample['dropoff_longitude']-dfspark_sample['pickup_longitude']))"
   ]
  },
  {
   "cell_type": "code",
   "execution_count": 25,
   "metadata": {},
   "outputs": [
    {
     "name": "stdout",
     "output_type": "stream",
     "text": [

      "time: 32 ms (started: 2021-06-12 21:33:33 -05:00)\n"

     ]
    }
   ],
   "source": [
    "# Creamos la función para hallar la distancia entre dos puntos geográficos\n",
    "import math\n",
    "from pyspark.sql.functions import udf, array, col\n",
    "from pyspark.sql.types import FloatType\n",
    "\n",
    "def haversine(x):\n",
    "    lat1=x[0]\n",
    "    lon1=x[1]\n",
    "    lat2=x[2]\n",
    "    lon2=x[3]\n",
    "    \n",
    "    rad=math.pi/180\n",
    "    dlat=lat2-lat1\n",
    "    dlon=lon2-lon1\n",
    "    R=6372.795477598\n",
    "    a=(math.sin(rad*dlat/2))**2 + math.cos(rad*lat1)*math.cos(rad*lat2)*(math.sin(rad*dlon/2))**2\n",
    "    distancia=2*R*math.asin(math.sqrt(a))\n",
    "    return distancia\n",
    "\n",
    "distancia_udf = udf(lambda z: haversine(z), FloatType())\n",
    "#spark.udf.register('distancia_udf', distancia_udf)\n",
    "dfspark_sample = dfspark_sample.withColumn('distancia', distancia_udf(array('pickup_latitude','pickup_longitude','dropoff_latitude','dropoff_longitude')))                             "
   ]
  },
  {
   "cell_type": "code",
   "execution_count": 26,
   "metadata": {},
   "outputs": [
    {
     "name": "stdout",
     "output_type": "stream",
     "text": [
      "+----------+\n",
      "| distancia|\n",
      "+----------+\n",
      "| 1.8683056|\n",
      "| 1.8191968|\n",
      "|  1.145462|\n",
      "| 1.0793539|\n",
      "| 1.1367035|\n",
      "|  2.424119|\n",
      "|  3.829884|\n",
      "| 1.0900514|\n",
      "| 5.5276585|\n",
      "|  3.122764|\n",
      "| 2.3627946|\n",
      "| 5.3667502|\n",
      "| 1.3431213|\n",
      "|  9.317738|\n",
      "|  5.013023|\n",
      "| 4.6022677|\n",
      "| 1.1546545|\n",
      "| 20.964258|\n",
      "| 0.8852747|\n",
      "|0.17227533|\n",
      "+----------+\n",
      "only showing top 20 rows\n",
      "\n",

      "time: 797 ms (started: 2021-06-12 21:33:33 -05:00)\n"

     ]
    }
   ],
   "source": [
    "dfspark_sample.select(col('distancia')).show()"
   ]
  },
  {
   "cell_type": "code",
   "execution_count": 27,
   "metadata": {},
   "outputs": [
    {
     "name": "stdout",
     "output_type": "stream",
     "text": [

      "time: 0 ns (started: 2021-06-12 21:33:33 -05:00)\n"

     ]
    }
   ],
   "source": [
    "# Creamos dos columnas día de la semana y hora del viaje.\n",
    "# funciones que me ayudarán en la transformación.\n",
    "from datetime import datetime, date, time, timedelta\n",
    "import calendar\n",
    "def dia(dia):\n",
    "    if dia == 1:\n",
    "        return 'lunes'\n",
    "    if dia == 2:\n",
    "        return 'martes'\n",
    "    if dia == 3:\n",
    "        return 'miércoles'\n",
    "    if dia == 4:\n",
    "        return 'jueves'\n",
    "    if dia == 5:\n",
    "        return 'viernes'\n",
    "    if dia == 6:\n",
    "        return 'sábado'\n",
    "    if dia == 7:\n",
    "        return 'domingo'\n",
    "    if dia < 1 or dia > 7:\n",
    "        return \n",
    "\n",
    "from pyspark.sql import Row\n",
    "\n",
    "def dia_semana(row):\n",
    "    fecha , hora , utc = row.split(\" \")\n",
    "    formato_fecha = \"%Y-%m-%d\"\n",
    "    dia_semana = datetime.isoweekday(datetime.strptime(fecha,formato_fecha))\n",
    "    return dia_semana\n",
    "\n",
    "def mes(row):\n",
    "    fecha , hora , utc = row.split(\" \")\n",
    "    formato_fecha = \"%Y-%m-%d\"\n",
    "    mes = datetime.strptime(fecha,formato_fecha).month\n",
    "    return mes\n",
    "\n",
    "def anio(row):\n",
    "    fecha , hora , utc = row.split(\" \")\n",
    "    formato_fecha = \"%Y-%m-%d\"\n",
    "    anio = datetime.strptime(fecha,formato_fecha).year\n",
    "    return anio\n",
    "\n",
    "def hora(row):\n",
    "    fecha , hora , utc = row.split(\" \")\n",
    "    formato_hora = \"%H:%M:%S\"\n",
    "    hora = datetime.strptime(hora,formato_hora).hour\n",
    "    return hora\n",
    "    \n",
    "from pyspark.sql.functions import udf\n",
    "from pyspark.sql.types import IntegerType\n",
    "# Convirtiendo las funciones en funciones UDF\n",
    "udf_dia_semana= udf( lambda z : dia_semana(z), IntegerType())\n",
    "udf_mes= udf( lambda z : mes(z), IntegerType())\n",
    "udf_anio= udf( lambda z : anio(z), IntegerType())\n",
    "udf_hora= udf( lambda z : hora(z), IntegerType())"
   ]
  },
  {
   "cell_type": "code",
   "execution_count": 28,
   "metadata": {},
   "outputs": [
    {
     "name": "stdout",
     "output_type": "stream",
     "text": [

      "time: 63 ms (started: 2021-06-12 21:33:33 -05:00)\n"

     ]
    }
   ],
   "source": [
    "from pyspark.sql.functions import col\n",
    "dfspark_sample = dfspark_sample.withColumn('dia_semana', \n",
    "                                           udf_dia_semana(dfspark_sample['pickup_datetime'] )  )\n",
    "dfspark_sample = dfspark_sample.withColumn('hora', \n",
    "                                           udf_hora(dfspark_sample['pickup_datetime'] )  )\n",
    "dfspark_sample = dfspark_sample.withColumn('mes', \n",
    "                                           udf_mes(dfspark_sample['pickup_datetime'] )  )\n",
    "dfspark_sample = dfspark_sample.withColumn('anio', \n",
    "                                           udf_anio(dfspark_sample['pickup_datetime'] )  )"
   ]
  },
  {
   "cell_type": "code",
   "execution_count": 29,
   "metadata": {},
   "outputs": [
    {
     "name": "stdout",
     "output_type": "stream",
     "text": [


      "time: 94.4 ms (started: 2021-06-11 16:31:47 -05:00)\n"
     ]
    }
   ],
   "source": [
    "# Castear dia de la semana y hora\n",
    "dfspark_sample = dfspark_sample.withColumn(\"dia_semana\",\n",
    "                                           dfspark_sample[\"dia_semana\"].cast(\"Integer\"))\n",
    "dfspark_sample = dfspark_sample.withColumn(\"hora\",\n",
    "                                           dfspark_sample[\"hora\"].cast(\"Integer\"))"
   ]
  },
  {
   "cell_type": "code",
   "execution_count": 30,
   "metadata": {},
   "outputs": [
    {
     "name": "stdout",
     "output_type": "stream",
     "text": [

      "root\n",
      " |-- fare_amount: double (nullable = true)\n",
      " |-- pickup_datetime: string (nullable = true)\n",
      " |-- pickup_longitude: double (nullable = true)\n",
      " |-- pickup_latitude: double (nullable = true)\n",
      " |-- dropoff_longitude: double (nullable = true)\n",
      " |-- dropoff_latitude: double (nullable = true)\n",
      " |-- passenger_count: integer (nullable = true)\n",
      " |-- dif_latitude: double (nullable = true)\n",
      " |-- dif_longitude: double (nullable = true)\n",
      " |-- distancia: float (nullable = true)\n",
      " |-- dia_semana: integer (nullable = true)\n",
      " |-- hora: integer (nullable = true)\n",
      " |-- mes: integer (nullable = true)\n",
      " |-- anio: integer (nullable = true)\n",
      "\n",

      "time: 0 ns (started: 2021-06-12 21:33:34 -05:00)\n"

     ]
    }
   ],
   "source": [
    "dfspark_sample.printSchema()"
   ]
  },
  {
   "cell_type": "markdown",
   "metadata": {},
   "source": [


    "##### Guardando el conjunto de datos  en un carpeta output "
   ]
  },
  {
   "cell_type": "code",
   "execution_count": 54,
   "metadata": {},
   "outputs": [
    {
     "name": "stdout",
     "output_type": "stream",
     "text": [
      "time: 36.5 s (started: 2021-06-11 19:45:59 -05:00)\n"
     ]
    }
   ],
   "source": [
    "import os\n",
    "path=\"file:\"+os.getcwd()+\"/Output\"\n",
    "dfspark_sample.write.format(\"csv\").option(\"header\", \"true\").save(path)"
   ]
  },
  {
   "cell_type": "markdown",
   "metadata": {},
   "source": [

    "### Estadística de las nuevas variables"
   ]
  },
  {
   "cell_type": "code",

   "execution_count": 30,

   "metadata": {},
   "outputs": [
    {
     "name": "stdout",
     "output_type": "stream",
     "text": [

      "time: 1min 38s (started: 2021-06-12 21:33:34 -05:00)\n"

     ]
    }
   ],
   "source": [
    "clean_summary=dfspark_sample.describe().toPandas()"
   ]
  },
  {
   "cell_type": "code",

   "execution_count": 31,

   "metadata": {},
   "outputs": [
    {
     "data": {
      "text/html": [
       "<div>\n",
       "<style scoped>\n",
       "    .dataframe tbody tr th:only-of-type {\n",
       "        vertical-align: middle;\n",
       "    }\n",
       "\n",
       "    .dataframe tbody tr th {\n",
       "        vertical-align: top;\n",
       "    }\n",
       "\n",
       "    .dataframe thead th {\n",
       "        text-align: right;\n",
       "    }\n",
       "</style>\n",
       "<table border=\"1\" class=\"dataframe\">\n",
       "  <thead>\n",
       "    <tr style=\"text-align: right;\">\n",
       "      <th></th>\n",
       "      <th>summary</th>\n",
       "      <th>pickup_longitude</th>\n",
       "      <th>pickup_latitude</th>\n",
       "      <th>dropoff_longitude</th>\n",
       "      <th>dropoff_latitude</th>\n",
       "      <th>passenger_count</th>\n",
       "      <th>fare_amount</th>\n",
       "      <th>dif_latitude</th>\n",
       "      <th>dif_longitude</th>\n",
       "      <th>dia_semana</th>\n",
       "      <th>mes</th>\n",
       "      <th>anio</th>\n",
       "      <th>hora</th>\n",
       "      <th>distancia</th>\n",
       "    </tr>\n",
       "  </thead>\n",
       "  <tbody>\n",
       "    <tr>\n",
       "      <th>0</th>\n",
       "      <td>count</td>\n",
       "      <td>2218324</td>\n",
       "      <td>2218324</td>\n",
       "      <td>2218324</td>\n",
       "      <td>2218324</td>\n",
       "      <td>2218324</td>\n",
       "      <td>2218324</td>\n",
       "      <td>2218324</td>\n",
       "      <td>2218324</td>\n",
       "      <td>2218324</td>\n",
       "      <td>2218324</td>\n",
       "      <td>2218324</td>\n",
       "      <td>2218324</td>\n",
       "      <td>2218324</td>\n",
       "    </tr>\n",
       "    <tr>\n",
       "      <th>1</th>\n",
       "      <td>mean</td>\n",
       "      <td>-72.49792642807238</td>\n",
       "      <td>39.9178324326265</td>\n",
       "      <td>-72.50456776388887</td>\n",
       "      <td>39.92090591335847</td>\n",
       "      <td>1.6849292528954292</td>\n",
       "      <td>11.277273396492163</td>\n",
       "      <td>0.09176222668703253</td>\n",
       "      <td>0.16077182305195567</td>\n",
       "      <td>4.042986957721235</td>\n",
       "      <td>6.269624725693812</td>\n",
       "      <td>2011.7396935704612</td>\n",
       "      <td>13.512985028336708</td>\n",
       "      <td>19.27087632112479</td>\n",
       "    </tr>\n",
       "    <tr>\n",
       "      <th>2</th>\n",
       "      <td>stddev</td>\n",
       "      <td>10.456633559991248</td>\n",
       "      <td>6.108952929695163</td>\n",
       "      <td>10.431325659855101</td>\n",
       "      <td>6.10028741263642</td>\n",
       "      <td>1.3088809439997708</td>\n",
       "      <td>9.39446820001931</td>\n",
       "      <td>1.6932595458984998</td>\n",
       "      <td>3.1881265967253563</td>\n",
       "      <td>1.9490554912068403</td>\n",
       "      <td>3.434570455790501</td>\n",
       "      <td>1.8603202961678926</td>\n",
       "      <td>6.517796106831022</td>\n",
       "      <td>364.591103794953</td>\n",
       "    </tr>\n",
       "    <tr>\n",
       "      <th>3</th>\n",
       "      <td>min</td>\n",
       "      <td>-121.91499328613281</td>\n",
       "      <td>-74.017222</td>\n",
       "      <td>-121.9151840209961</td>\n",
       "      <td>-74.177303</td>\n",
       "      <td>0</td>\n",
       "      <td>0.0</td>\n",
       "      <td>0.0</td>\n",
       "      <td>0.0</td>\n",
       "      <td>1</td>\n",
       "      <td>1</td>\n",
       "      <td>2009</td>\n",
       "      <td>0</td>\n",
       "      <td>0.0</td>\n",
       "    </tr>\n",
       "    <tr>\n",
       "      <th>4</th>\n",
       "      <td>max</td>\n",
       "      <td>40.840962</td>\n",
       "      <td>74.007413</td>\n",
       "      <td>73.93996</td>\n",
       "      <td>74.95</td>\n",
       "      <td>7</td>\n",
       "      <td>100.0</td>\n",
       "      <td>73.961092</td>\n",
       "      <td>89.483332</td>\n",
       "      <td>7</td>\n",
       "      <td>12</td>\n",
       "      <td>2015</td>\n",
       "      <td>23</td>\n",
       "      <td>9952.922</td>\n",
       "    </tr>\n",
       "  </tbody>\n",
       "</table>\n",
       "</div>"
      ],
      "text/plain": [
       "  summary     pickup_longitude    pickup_latitude   dropoff_longitude  \\\n",
       "0   count              2218324            2218324             2218324   \n",
       "1    mean   -72.49792642807238   39.9178324326265  -72.50456776388887   \n",
       "2  stddev   10.456633559991248  6.108952929695163  10.431325659855101   \n",
       "3     min  -121.91499328613281         -74.017222  -121.9151840209961   \n",
       "4     max            40.840962          74.007413            73.93996   \n",
       "\n",
       "    dropoff_latitude     passenger_count         fare_amount  \\\n",
       "0            2218324             2218324             2218324   \n",
       "1  39.92090591335847  1.6849292528954292  11.277273396492163   \n",
       "2   6.10028741263642  1.3088809439997708    9.39446820001931   \n",
       "3         -74.177303                   0                 0.0   \n",
       "4              74.95                   7               100.0   \n",
       "\n",
       "          dif_latitude        dif_longitude          dia_semana  \\\n",
       "0              2218324              2218324             2218324   \n",
       "1  0.09176222668703253  0.16077182305195567   4.042986957721235   \n",
       "2   1.6932595458984998   3.1881265967253563  1.9490554912068403   \n",
       "3                  0.0                  0.0                   1   \n",
       "4            73.961092            89.483332                   7   \n",
       "\n",
       "                 mes                anio                hora  \\\n",
       "0            2218324             2218324             2218324   \n",
       "1  6.269624725693812  2011.7396935704612  13.512985028336708   \n",
       "2  3.434570455790501  1.8603202961678926   6.517796106831022   \n",
       "3                  1                2009                   0   \n",
       "4                 12                2015                  23   \n",
       "\n",
       "           distancia  \n",
       "0            2218324  \n",
       "1  19.27087632112479  \n",
       "2   364.591103794953  \n",
       "3                0.0  \n",
       "4           9952.922  "
      ]
     },

     "execution_count": 31,

     "metadata": {},
     "output_type": "execute_result"
    },
    {
     "name": "stdout",
     "output_type": "stream",
     "text": [

      "time: 16 ms (started: 2021-06-12 21:35:12 -05:00)\n"

     ]
    }
   ],
   "source": [
    "columnas = [\"summary\",\n",
    "            \"pickup_longitude\",\n",
    "            \"pickup_latitude\",\n",
    "            \"dropoff_longitude\",\n",
    "            \"dropoff_latitude\",\n",
    "            \"passenger_count\",\n",
    "            \"fare_amount\",\n",
    "            \"dif_latitude\",\n",
    "            \"dif_longitude\",\n",
    "            \"dia_semana\",\n",
    "            \"mes\",\n",
    "            \"anio\",\n",
    "            \"hora\",\n",
    "            \"distancia\"]\n",
    "clean_summary[columnas]"
   ]
  },
  {
   "cell_type": "markdown",
   "metadata": {},
   "source": [
    "### Correlación de los atributos"
   ]
  },
  {
   "cell_type": "code",
   "execution_count": 58,
   "metadata": {},
   "outputs": [
    {
     "name": "stdout",
     "output_type": "stream",
     "text": [
      "time: 703 µs (started: 2021-06-11 19:48:45 -05:00)\n"
     ]
    }
   ],
   "source": [
    "col_old=[\"pickup_longitude\",\n",
    "         \"pickup_latitude\",\n",
    "         \"dropoff_longitude\",\n",
    "         \"dropoff_latitude\",\n",
    "         \"passenger_count\"]\n",
    "col_new=[\"dif_latitude\",\n",
    "         \"dif_longitude\",\n",
    "         \"dia_semana\",\n",

    "         \"mes\",\n",
    "         \"anio\"\n",

    "         \"hora\",\n",
    "         \"distancia\"]\n",
    "col_pred = [\"fare_amount\"]"
   ]
  },
  {
   "cell_type": "code",
   "execution_count": 59,
   "metadata": {},
   "outputs": [
    {
     "name": "stdout",
     "output_type": "stream",
     "text": [
      "time: 1.29 s (started: 2021-06-11 19:48:49 -05:00)\n"
     ]
    }
   ],
   "source": [
    "# Transformación en un vector\n",
    "from pyspark.mllib.linalg import Vectors\n",
    "from pyspark.ml.feature import VectorAssembler\n",
    "inputCols = col_old+col_new+col_pred\n",
    "assembler = VectorAssembler( inputCols=inputCols, outputCol=\"col_corr\")\n",
    "dfspark_corr = assembler.transform(dfspark_sample)"
   ]
  },
  {
   "cell_type": "code",
   "execution_count": 60,
   "metadata": {},
   "outputs": [
    {
     "name": "stdout",
     "output_type": "stream",
     "text": [
      "time: 46.1 ms (started: 2021-06-11 19:48:51 -05:00)\n"
     ]
    }
   ],
   "source": [
    "dfspark_corr=dfspark_corr.select('col_corr')"
   ]
  },
  {
   "cell_type": "code",
   "execution_count": 61,
   "metadata": {},
   "outputs": [
    {
     "name": "stdout",
     "output_type": "stream",
     "text": [
      "time: 1min 12s (started: 2021-06-11 19:48:53 -05:00)\n"
     ]
    }
   ],
   "source": [
    "# estudiar la correlación\n",
    "from pyspark.ml.stat import Correlation\n",
    "\n",
    "dfspark_corr= Correlation.corr(dfspark_corr, 'col_corr','pearson')"
   ]
  },
  {
   "cell_type": "code",
   "execution_count": 62,
   "metadata": {},
   "outputs": [
    {
     "name": "stdout",
     "output_type": "stream",
     "text": [
      "time: 75.2 ms (started: 2021-06-11 19:57:30 -05:00)\n"
     ]
    }
   ],
   "source": [
    "from pyspark.ml.linalg import DenseMatrix, Vectors\n",
    "#type(dfspark_cor.collect()[0][0]) # denseMatrix\n",
    "# Pasamos la matrix como un array.\n",
    "array_corr=dfspark_corr.collect()[0][0].toArray()"
   ]
  },
  {
   "cell_type": "code",
   "execution_count": 63,
   "metadata": {},
   "outputs": [
    {
     "data": {
      "text/html": [
       "<style  type=\"text/css\" >\n",
       "#T_59df0_row0_col0,#T_59df0_row1_col1,#T_59df0_row2_col2,#T_59df0_row3_col3,#T_59df0_row4_col4,#T_59df0_row5_col5,#T_59df0_row6_col6,#T_59df0_row7_col7,#T_59df0_row8_col8,#T_59df0_row9_col9,#T_59df0_row10_col10{\n",
       "            background-color:  #023858;\n",
       "            color:  #f1f1f1;\n",
       "        }#T_59df0_row0_col1,#T_59df0_row0_col4,#T_59df0_row1_col0,#T_59df0_row1_col4,#T_59df0_row1_col5,#T_59df0_row1_col6,#T_59df0_row1_col9,#T_59df0_row1_col10,#T_59df0_row2_col3,#T_59df0_row2_col4,#T_59df0_row3_col2,#T_59df0_row3_col4,#T_59df0_row3_col10,#T_59df0_row5_col4,#T_59df0_row6_col4,#T_59df0_row7_col8,#T_59df0_row8_col7,#T_59df0_row8_col10,#T_59df0_row9_col4{\n",
       "            background-color:  #fff7fb;\n",
       "            color:  #000000;\n",
       "        }#T_59df0_row0_col2,#T_59df0_row2_col0{\n",
       "            background-color:  #023e62;\n",
       "            color:  #f1f1f1;\n",
       "        }#T_59df0_row0_col3,#T_59df0_row1_col2,#T_59df0_row3_col0,#T_59df0_row8_col4{\n",
       "            background-color:  #fcf4fa;\n",
       "            color:  #000000;\n",
       "        }#T_59df0_row0_col5,#T_59df0_row0_col6{\n",
       "            background-color:  #d1d2e6;\n",
       "            color:  #000000;\n",
       "        }#T_59df0_row0_col7,#T_59df0_row1_col8,#T_59df0_row2_col7,#T_59df0_row3_col8{\n",
       "            background-color:  #f2ecf5;\n",
       "            color:  #000000;\n",
       "        }#T_59df0_row0_col8,#T_59df0_row5_col7,#T_59df0_row5_col8,#T_59df0_row6_col8,#T_59df0_row9_col7,#T_59df0_row9_col8,#T_59df0_row10_col7{\n",
       "            background-color:  #f3edf5;\n",
       "            color:  #000000;\n",
       "        }#T_59df0_row0_col9{\n",
       "            background-color:  #d0d1e6;\n",
       "            color:  #000000;\n",
       "        }#T_59df0_row0_col10,#T_59df0_row2_col10,#T_59df0_row4_col10,#T_59df0_row7_col10,#T_59df0_row10_col4{\n",
       "            background-color:  #fef6fb;\n",
       "            color:  #000000;\n",
       "        }#T_59df0_row1_col3,#T_59df0_row3_col1{\n",
       "            background-color:  #023d60;\n",
       "            color:  #f1f1f1;\n",
       "        }#T_59df0_row1_col7,#T_59df0_row2_col8,#T_59df0_row3_col7,#T_59df0_row6_col7,#T_59df0_row10_col8{\n",
       "            background-color:  #f4edf6;\n",
       "            color:  #000000;\n",
       "        }#T_59df0_row2_col1{\n",
       "            background-color:  #fdf5fa;\n",
       "            color:  #000000;\n",
       "        }#T_59df0_row2_col5,#T_59df0_row2_col6{\n",
       "            background-color:  #d3d4e7;\n",
       "            color:  #000000;\n",
       "        }#T_59df0_row2_col9{\n",
       "            background-color:  #d2d3e7;\n",
       "            color:  #000000;\n",
       "        }#T_59df0_row3_col5,#T_59df0_row3_col6,#T_59df0_row3_col9,#T_59df0_row5_col10,#T_59df0_row6_col10,#T_59df0_row9_col10{\n",
       "            background-color:  #fef6fa;\n",
       "            color:  #000000;\n",
       "        }#T_59df0_row4_col0,#T_59df0_row4_col1,#T_59df0_row4_col2,#T_59df0_row4_col3,#T_59df0_row7_col0,#T_59df0_row7_col1,#T_59df0_row7_col3,#T_59df0_row8_col0,#T_59df0_row8_col1,#T_59df0_row8_col2,#T_59df0_row10_col0,#T_59df0_row10_col1,#T_59df0_row10_col3{\n",
       "            background-color:  #76aad0;\n",
       "            color:  #000000;\n",
       "        }#T_59df0_row4_col5,#T_59df0_row7_col5,#T_59df0_row8_col5,#T_59df0_row10_col6{\n",
       "            background-color:  #ede8f3;\n",
       "            color:  #000000;\n",
       "        }#T_59df0_row4_col6,#T_59df0_row4_col7,#T_59df0_row7_col6,#T_59df0_row8_col6{\n",
       "            background-color:  #eee9f3;\n",
       "            color:  #000000;\n",
       "        }#T_59df0_row4_col8{\n",
       "            background-color:  #f1ebf4;\n",
       "            color:  #000000;\n",
       "        }#T_59df0_row4_col9,#T_59df0_row7_col9,#T_59df0_row8_col9{\n",
       "            background-color:  #eee8f3;\n",
       "            color:  #000000;\n",
       "        }#T_59df0_row5_col0{\n",
       "            background-color:  #529bc7;\n",
       "            color:  #000000;\n",
       "        }#T_59df0_row5_col1,#T_59df0_row9_col1{\n",
       "            background-color:  #91b5d6;\n",
       "            color:  #000000;\n",
       "        }#T_59df0_row5_col2{\n",
       "            background-color:  #569dc8;\n",
       "            color:  #000000;\n",
       "        }#T_59df0_row5_col3,#T_59df0_row6_col1,#T_59df0_row9_col3{\n",
       "            background-color:  #8fb4d6;\n",
       "            color:  #000000;\n",
       "        }#T_59df0_row5_col6,#T_59df0_row6_col5{\n",
       "            background-color:  #034a74;\n",
       "            color:  #f1f1f1;\n",
       "        }#T_59df0_row5_col9,#T_59df0_row9_col5{\n",
       "            background-color:  #023f64;\n",
       "            color:  #f1f1f1;\n",
       "        }#T_59df0_row6_col0,#T_59df0_row9_col0{\n",
       "            background-color:  #509ac6;\n",
       "            color:  #000000;\n",
       "        }#T_59df0_row6_col2,#T_59df0_row9_col2{\n",
       "            background-color:  #549cc7;\n",
       "            color:  #000000;\n",
       "        }#T_59df0_row6_col3{\n",
       "            background-color:  #8eb3d5;\n",
       "            color:  #000000;\n",
       "        }#T_59df0_row6_col9,#T_59df0_row9_col6{\n",
       "            background-color:  #023a5b;\n",
       "            color:  #f1f1f1;\n",
       "        }#T_59df0_row7_col2,#T_59df0_row8_col3,#T_59df0_row10_col2{\n",
       "            background-color:  #75a9cf;\n",
       "            color:  #000000;\n",
       "        }#T_59df0_row7_col4{\n",
       "            background-color:  #faf2f8;\n",
       "            color:  #000000;\n",
       "        }#T_59df0_row10_col5{\n",
       "            background-color:  #ece7f2;\n",
       "            color:  #000000;\n",
       "        }#T_59df0_row10_col9{\n",
       "            background-color:  #ede7f2;\n",
       "            color:  #000000;\n",
       "        }</style><table id=\"T_59df0_\" ><thead>    <tr>        <th class=\"blank level0\" ></th>        <th class=\"col_heading level0 col0\" >pickup_longitude</th>        <th class=\"col_heading level0 col1\" >pickup_latitude</th>        <th class=\"col_heading level0 col2\" >dropoff_longitude</th>        <th class=\"col_heading level0 col3\" >dropoff_latitude</th>        <th class=\"col_heading level0 col4\" >passenger_count</th>        <th class=\"col_heading level0 col5\" >dif_latitude</th>        <th class=\"col_heading level0 col6\" >dif_longitude</th>        <th class=\"col_heading level0 col7\" >dia_semana</th>        <th class=\"col_heading level0 col8\" >hora</th>        <th class=\"col_heading level0 col9\" >distancia</th>        <th class=\"col_heading level0 col10\" >fare_amount</th>    </tr></thead><tbody>\n",
       "                <tr>\n",
       "                        <th id=\"T_59df0_level0_row0\" class=\"row_heading level0 row0\" >pickup_longitude</th>\n",
       "                        <td id=\"T_59df0_row0_col0\" class=\"data row0 col0\" >1.000000</td>\n",
       "                        <td id=\"T_59df0_row0_col1\" class=\"data row0 col1\" >-0.979316</td>\n",
       "                        <td id=\"T_59df0_row0_col2\" class=\"data row0 col2\" >0.953046</td>\n",
       "                        <td id=\"T_59df0_row0_col3\" class=\"data row0 col3\" >-0.940270</td>\n",
       "                        <td id=\"T_59df0_row0_col4\" class=\"data row0 col4\" >0.000166</td>\n",
       "                        <td id=\"T_59df0_row0_col5\" class=\"data row0 col5\" >0.144987</td>\n",
       "                        <td id=\"T_59df0_row0_col6\" class=\"data row0 col6\" >0.154172</td>\n",
       "                        <td id=\"T_59df0_row0_col7\" class=\"data row0 col7\" >0.002333</td>\n",
       "                        <td id=\"T_59df0_row0_col8\" class=\"data row0 col8\" >-0.002262</td>\n",
       "                        <td id=\"T_59df0_row0_col9\" class=\"data row0 col9\" >0.154228</td>\n",
       "                        <td id=\"T_59df0_row0_col10\" class=\"data row0 col10\" >0.002182</td>\n",
       "            </tr>\n",
       "            <tr>\n",
       "                        <th id=\"T_59df0_level0_row1\" class=\"row_heading level0 row1\" >pickup_latitude</th>\n",
       "                        <td id=\"T_59df0_row1_col0\" class=\"data row1 col0\" >-0.979316</td>\n",
       "                        <td id=\"T_59df0_row1_col1\" class=\"data row1 col1\" >1.000000</td>\n",
       "                        <td id=\"T_59df0_row1_col2\" class=\"data row1 col2\" >-0.940902</td>\n",
       "                        <td id=\"T_59df0_row1_col3\" class=\"data row1 col3\" >0.961188</td>\n",
       "                        <td id=\"T_59df0_row1_col4\" class=\"data row1 col4\" >-0.001066</td>\n",
       "                        <td id=\"T_59df0_row1_col5\" class=\"data row1 col5\" >-0.136213</td>\n",
       "                        <td id=\"T_59df0_row1_col6\" class=\"data row1 col6\" >-0.126502</td>\n",
       "                        <td id=\"T_59df0_row1_col7\" class=\"data row1 col7\" >-0.003780</td>\n",
       "                        <td id=\"T_59df0_row1_col8\" class=\"data row1 col8\" >0.002227</td>\n",
       "                        <td id=\"T_59df0_row1_col9\" class=\"data row1 col9\" >-0.132385</td>\n",
       "                        <td id=\"T_59df0_row1_col10\" class=\"data row1 col10\" >-0.002081</td>\n",
       "            </tr>\n",
       "            <tr>\n",
       "                        <th id=\"T_59df0_level0_row2\" class=\"row_heading level0 row2\" >dropoff_longitude</th>\n",
       "                        <td id=\"T_59df0_row2_col0\" class=\"data row2 col0\" >0.953046</td>\n",
       "                        <td id=\"T_59df0_row2_col1\" class=\"data row2 col1\" >-0.940902</td>\n",
       "                        <td id=\"T_59df0_row2_col2\" class=\"data row2 col2\" >1.000000</td>\n",
       "                        <td id=\"T_59df0_row2_col3\" class=\"data row2 col3\" >-0.980122</td>\n",
       "                        <td id=\"T_59df0_row2_col4\" class=\"data row2 col4\" >0.000169</td>\n",
       "                        <td id=\"T_59df0_row2_col5\" class=\"data row2 col5\" >0.133518</td>\n",
       "                        <td id=\"T_59df0_row2_col6\" class=\"data row2 col6\" >0.138657</td>\n",
       "                        <td id=\"T_59df0_row2_col7\" class=\"data row2 col7\" >0.002700</td>\n",
       "                        <td id=\"T_59df0_row2_col8\" class=\"data row2 col8\" >-0.002691</td>\n",
       "                        <td id=\"T_59df0_row2_col9\" class=\"data row2 col9\" >0.139813</td>\n",
       "                        <td id=\"T_59df0_row2_col10\" class=\"data row2 col10\" >0.002457</td>\n",
       "            </tr>\n",
       "            <tr>\n",
       "                        <th id=\"T_59df0_level0_row3\" class=\"row_heading level0 row3\" >dropoff_latitude</th>\n",
       "                        <td id=\"T_59df0_row3_col0\" class=\"data row3 col0\" >-0.940270</td>\n",
       "                        <td id=\"T_59df0_row3_col1\" class=\"data row3 col1\" >0.961188</td>\n",
       "                        <td id=\"T_59df0_row3_col2\" class=\"data row3 col2\" >-0.980122</td>\n",
       "                        <td id=\"T_59df0_row3_col3\" class=\"data row3 col3\" >1.000000</td>\n",
       "                        <td id=\"T_59df0_row3_col4\" class=\"data row3 col4\" >-0.001481</td>\n",
       "                        <td id=\"T_59df0_row3_col5\" class=\"data row3 col5\" >-0.126487</td>\n",
       "                        <td id=\"T_59df0_row3_col6\" class=\"data row3 col6\" >-0.116139</td>\n",
       "                        <td id=\"T_59df0_row3_col7\" class=\"data row3 col7\" >-0.004007</td>\n",
       "                        <td id=\"T_59df0_row3_col8\" class=\"data row3 col8\" >0.002376</td>\n",
       "                        <td id=\"T_59df0_row3_col9\" class=\"data row3 col9\" >-0.122205</td>\n",
       "                        <td id=\"T_59df0_row3_col10\" class=\"data row3 col10\" >-0.002410</td>\n",
       "            </tr>\n",
       "            <tr>\n",
       "                        <th id=\"T_59df0_level0_row4\" class=\"row_heading level0 row4\" >passenger_count</th>\n",
       "                        <td id=\"T_59df0_row4_col0\" class=\"data row4 col0\" >0.000166</td>\n",
       "                        <td id=\"T_59df0_row4_col1\" class=\"data row4 col1\" >-0.001066</td>\n",
       "                        <td id=\"T_59df0_row4_col2\" class=\"data row4 col2\" >0.000169</td>\n",
       "                        <td id=\"T_59df0_row4_col3\" class=\"data row4 col3\" >-0.001481</td>\n",
       "                        <td id=\"T_59df0_row4_col4\" class=\"data row4 col4\" >1.000000</td>\n",
       "                        <td id=\"T_59df0_row4_col5\" class=\"data row4 col5\" >-0.002589</td>\n",
       "                        <td id=\"T_59df0_row4_col6\" class=\"data row4 col6\" >-0.001395</td>\n",
       "                        <td id=\"T_59df0_row4_col7\" class=\"data row4 col7\" >0.035591</td>\n",
       "                        <td id=\"T_59df0_row4_col8\" class=\"data row4 col8\" >0.017146</td>\n",
       "                        <td id=\"T_59df0_row4_col9\" class=\"data row4 col9\" >-0.001727</td>\n",
       "                        <td id=\"T_59df0_row4_col10\" class=\"data row4 col10\" >0.002861</td>\n",
       "            </tr>\n",
       "            <tr>\n",
       "                        <th id=\"T_59df0_level0_row5\" class=\"row_heading level0 row5\" >dif_latitude</th>\n",
       "                        <td id=\"T_59df0_row5_col0\" class=\"data row5 col0\" >0.144987</td>\n",
       "                        <td id=\"T_59df0_row5_col1\" class=\"data row5 col1\" >-0.136213</td>\n",
       "                        <td id=\"T_59df0_row5_col2\" class=\"data row5 col2\" >0.133518</td>\n",
       "                        <td id=\"T_59df0_row5_col3\" class=\"data row5 col3\" >-0.126487</td>\n",
       "                        <td id=\"T_59df0_row5_col4\" class=\"data row5 col4\" >-0.002589</td>\n",
       "                        <td id=\"T_59df0_row5_col5\" class=\"data row5 col5\" >1.000000</td>\n",
       "                        <td id=\"T_59df0_row5_col6\" class=\"data row5 col6\" >0.923415</td>\n",
       "                        <td id=\"T_59df0_row5_col7\" class=\"data row5 col7\" >-0.001876</td>\n",
       "                        <td id=\"T_59df0_row5_col8\" class=\"data row5 col8\" >-0.000871</td>\n",
       "                        <td id=\"T_59df0_row5_col9\" class=\"data row5 col9\" >0.966881</td>\n",
       "                        <td id=\"T_59df0_row5_col10\" class=\"data row5 col10\" >0.007177</td>\n",
       "            </tr>\n",
       "            <tr>\n",
       "                        <th id=\"T_59df0_level0_row6\" class=\"row_heading level0 row6\" >dif_longitude</th>\n",
       "                        <td id=\"T_59df0_row6_col0\" class=\"data row6 col0\" >0.154172</td>\n",
       "                        <td id=\"T_59df0_row6_col1\" class=\"data row6 col1\" >-0.126502</td>\n",
       "                        <td id=\"T_59df0_row6_col2\" class=\"data row6 col2\" >0.138657</td>\n",
       "                        <td id=\"T_59df0_row6_col3\" class=\"data row6 col3\" >-0.116139</td>\n",
       "                        <td id=\"T_59df0_row6_col4\" class=\"data row6 col4\" >-0.001395</td>\n",
       "                        <td id=\"T_59df0_row6_col5\" class=\"data row6 col5\" >0.923415</td>\n",
       "                        <td id=\"T_59df0_row6_col6\" class=\"data row6 col6\" >1.000000</td>\n",
       "                        <td id=\"T_59df0_row6_col7\" class=\"data row6 col7\" >-0.002651</td>\n",
       "                        <td id=\"T_59df0_row6_col8\" class=\"data row6 col8\" >-0.000960</td>\n",
       "                        <td id=\"T_59df0_row6_col9\" class=\"data row6 col9\" >0.989352</td>\n",
       "                        <td id=\"T_59df0_row6_col10\" class=\"data row6 col10\" >0.006947</td>\n",
       "            </tr>\n",
       "            <tr>\n",
       "                        <th id=\"T_59df0_level0_row7\" class=\"row_heading level0 row7\" >dia_semana</th>\n",
       "                        <td id=\"T_59df0_row7_col0\" class=\"data row7 col0\" >0.002333</td>\n",
       "                        <td id=\"T_59df0_row7_col1\" class=\"data row7 col1\" >-0.003780</td>\n",
       "                        <td id=\"T_59df0_row7_col2\" class=\"data row7 col2\" >0.002700</td>\n",
       "                        <td id=\"T_59df0_row7_col3\" class=\"data row7 col3\" >-0.004007</td>\n",
       "                        <td id=\"T_59df0_row7_col4\" class=\"data row7 col4\" >0.035591</td>\n",
       "                        <td id=\"T_59df0_row7_col5\" class=\"data row7 col5\" >-0.001876</td>\n",
       "                        <td id=\"T_59df0_row7_col6\" class=\"data row7 col6\" >-0.002651</td>\n",
       "                        <td id=\"T_59df0_row7_col7\" class=\"data row7 col7\" >1.000000</td>\n",
       "                        <td id=\"T_59df0_row7_col8\" class=\"data row7 col8\" >-0.087571</td>\n",
       "                        <td id=\"T_59df0_row7_col9\" class=\"data row7 col9\" >-0.002450</td>\n",
       "                        <td id=\"T_59df0_row7_col10\" class=\"data row7 col10\" >-0.000010</td>\n",
       "            </tr>\n",
       "            <tr>\n",
       "                        <th id=\"T_59df0_level0_row8\" class=\"row_heading level0 row8\" >hora</th>\n",
       "                        <td id=\"T_59df0_row8_col0\" class=\"data row8 col0\" >-0.002262</td>\n",
       "                        <td id=\"T_59df0_row8_col1\" class=\"data row8 col1\" >0.002227</td>\n",
       "                        <td id=\"T_59df0_row8_col2\" class=\"data row8 col2\" >-0.002691</td>\n",
       "                        <td id=\"T_59df0_row8_col3\" class=\"data row8 col3\" >0.002376</td>\n",
       "                        <td id=\"T_59df0_row8_col4\" class=\"data row8 col4\" >0.017146</td>\n",
       "                        <td id=\"T_59df0_row8_col5\" class=\"data row8 col5\" >-0.000871</td>\n",
       "                        <td id=\"T_59df0_row8_col6\" class=\"data row8 col6\" >-0.000960</td>\n",
       "                        <td id=\"T_59df0_row8_col7\" class=\"data row8 col7\" >-0.087571</td>\n",
       "                        <td id=\"T_59df0_row8_col8\" class=\"data row8 col8\" >1.000000</td>\n",
       "                        <td id=\"T_59df0_row8_col9\" class=\"data row8 col9\" >-0.000870</td>\n",
       "                        <td id=\"T_59df0_row8_col10\" class=\"data row8 col10\" >-0.004456</td>\n",
       "            </tr>\n",
       "            <tr>\n",
       "                        <th id=\"T_59df0_level0_row9\" class=\"row_heading level0 row9\" >distancia</th>\n",
       "                        <td id=\"T_59df0_row9_col0\" class=\"data row9 col0\" >0.154228</td>\n",
       "                        <td id=\"T_59df0_row9_col1\" class=\"data row9 col1\" >-0.132385</td>\n",
       "                        <td id=\"T_59df0_row9_col2\" class=\"data row9 col2\" >0.139813</td>\n",
       "                        <td id=\"T_59df0_row9_col3\" class=\"data row9 col3\" >-0.122205</td>\n",
       "                        <td id=\"T_59df0_row9_col4\" class=\"data row9 col4\" >-0.001727</td>\n",
       "                        <td id=\"T_59df0_row9_col5\" class=\"data row9 col5\" >0.966881</td>\n",
       "                        <td id=\"T_59df0_row9_col6\" class=\"data row9 col6\" >0.989352</td>\n",
       "                        <td id=\"T_59df0_row9_col7\" class=\"data row9 col7\" >-0.002450</td>\n",
       "                        <td id=\"T_59df0_row9_col8\" class=\"data row9 col8\" >-0.000870</td>\n",
       "                        <td id=\"T_59df0_row9_col9\" class=\"data row9 col9\" >1.000000</td>\n",
       "                        <td id=\"T_59df0_row9_col10\" class=\"data row9 col10\" >0.007023</td>\n",
       "            </tr>\n",
       "            <tr>\n",
       "                        <th id=\"T_59df0_level0_row10\" class=\"row_heading level0 row10\" >fare_amount</th>\n",
       "                        <td id=\"T_59df0_row10_col0\" class=\"data row10 col0\" >0.002182</td>\n",
       "                        <td id=\"T_59df0_row10_col1\" class=\"data row10 col1\" >-0.002081</td>\n",
       "                        <td id=\"T_59df0_row10_col2\" class=\"data row10 col2\" >0.002457</td>\n",
       "                        <td id=\"T_59df0_row10_col3\" class=\"data row10 col3\" >-0.002410</td>\n",
       "                        <td id=\"T_59df0_row10_col4\" class=\"data row10 col4\" >0.002861</td>\n",
       "                        <td id=\"T_59df0_row10_col5\" class=\"data row10 col5\" >0.007177</td>\n",
       "                        <td id=\"T_59df0_row10_col6\" class=\"data row10 col6\" >0.006947</td>\n",
       "                        <td id=\"T_59df0_row10_col7\" class=\"data row10 col7\" >-0.000010</td>\n",
       "                        <td id=\"T_59df0_row10_col8\" class=\"data row10 col8\" >-0.004456</td>\n",
       "                        <td id=\"T_59df0_row10_col9\" class=\"data row10 col9\" >0.007023</td>\n",
       "                        <td id=\"T_59df0_row10_col10\" class=\"data row10 col10\" >1.000000</td>\n",
       "            </tr>\n",
       "    </tbody></table>"
      ],
      "text/plain": [
       "<pandas.io.formats.style.Styler at 0x7fe83f6ab310>"
      ]
     },
     "execution_count": 63,
     "metadata": {},
     "output_type": "execute_result"
    },
    {
     "name": "stdout",
     "output_type": "stream",
     "text": [
      "time: 2.56 s (started: 2021-06-11 19:57:31 -05:00)\n"
     ]
    }
   ],
   "source": [
    "pdf_corr= pd.DataFrame(array_corr, columns=inputCols, index=inputCols)\n",
    "mask = ~(pdf_corr>-0.3) | ~(pdf_corr<0.3)\n",
    "round(pdf_corr,10).style.background_gradient()"
   ]
  },
  {
   "cell_type": "code",
   "execution_count": null,
   "metadata": {},
   "outputs": [],
   "source": []
  },
  {
   "cell_type": "markdown",
   "metadata": {},
   "source": [
    "### Observación:\n",
    "###### La variable a predecir fare_amount tiene muy baja correlación con las demás variables. "
   ]
  },
  {
   "cell_type": "markdown",
   "metadata": {},
   "source": [
    "### Visualización de la data."
   ]
  },
  {
   "cell_type": "code",
   "execution_count": 64,
   "metadata": {},
   "outputs": [
    {
     "name": "stdout",
     "output_type": "stream",
     "text": [
      "time: 56.6 s (started: 2021-06-11 20:18:29 -05:00)\n"
     ]
    }
   ],
   "source": [
    "# Pasamos toda la data a Pandas\n",
    "pandasData = dfspark_sample.toPandas()"
   ]
  },
  {
   "cell_type": "code",
   "execution_count": 65,
   "metadata": {},
   "outputs": [
    {
     "name": "stdout",
     "output_type": "stream",
     "text": [
      "time: 268 µs (started: 2021-06-11 20:19:26 -05:00)\n"
     ]
    }
   ],
   "source": [
    "#Manera alternativa de pasar la data a Pandas\n",
    "# import pandas as pd\n",
    "# from pyspark.sql import DataFrame\n",
    "\n",
    "# # Wrapper for seamless Spark's serialisation\n",
    "# def spark_to_pandas(spark_df: DataFrame) -> pd.DataFrame:\n",
    "#     \"\"\"\n",
    "#     PySpark toPandas realisation using mapPartitions\n",
    "#     much faster than vanilla version\n",
    "#     fork: https://gist.github.com/lucidyan/1e5d9e490a101cdc1c2ed901568e082b\n",
    "#     origin: https://gist.github.com/joshlk/871d58e01417478176e7\n",
    "#     :param spark_df:\n",
    "#     :return:\n",
    "#     \"\"\"\n",
    "    \n",
    "#     def _map_to_pandas(rdds) -> list:\n",
    "#         \"\"\" Needs to be here due to pickling issues \"\"\"\n",
    "#         return [pd.DataFrame(list(rdds))]\n",
    "\n",
    "#     def _to_pandas(df: DataFrame, n_partitions: int = None) -> pd.DataFrame:\n",
    "#         \"\"\"\n",
    "#         Returns the contents of `df` as a local `pandas.DataFrame` in a speedy fashion. The DataFrame is\n",
    "#         repartitioned if `n_partitions` is passed.\n",
    "#         :param df:\n",
    "#         :param n_partitions:\n",
    "#         :return:\n",
    "#         \"\"\"\n",
    "#         if n_partitions is not None:\n",
    "#             df = df.repartition(n_partitions)\n",
    "#         df_pand = df.rdd.mapPartitions(_map_to_pandas).collect()  # type: pd.DataFrame\n",
    "#         df_pand = pd.concat(df_pand)\n",
    "#         df_pand.columns = df.columns\n",
    "#         return df_pand\n",
    "\n",
    "#     return _to_pandas(spark_df)\n",
    "\n",
    "# pandasData = spark_to_pandas(dfspark_sample)"
   ]
  },
  {
   "cell_type": "code",
   "execution_count": 66,
   "metadata": {},
   "outputs": [
    {
     "data": {
      "text/html": [
       "<div>\n",
       "<style scoped>\n",
       "    .dataframe tbody tr th:only-of-type {\n",
       "        vertical-align: middle;\n",
       "    }\n",
       "\n",
       "    .dataframe tbody tr th {\n",
       "        vertical-align: top;\n",
       "    }\n",
       "\n",
       "    .dataframe thead th {\n",
       "        text-align: right;\n",
       "    }\n",
       "</style>\n",
       "<table border=\"1\" class=\"dataframe\">\n",
       "  <thead>\n",
       "    <tr style=\"text-align: right;\">\n",
       "      <th></th>\n",
       "      <th>fare_amount</th>\n",
       "      <th>pickup_datetime</th>\n",
       "      <th>pickup_longitude</th>\n",
       "      <th>pickup_latitude</th>\n",
       "      <th>dropoff_longitude</th>\n",
       "      <th>dropoff_latitude</th>\n",
       "      <th>passenger_count</th>\n",
       "      <th>dif_latitude</th>\n",
       "      <th>dif_longitude</th>\n",
       "      <th>distancia</th>\n",
       "      <th>dia_semana</th>\n",
       "      <th>hora</th>\n",
       "    </tr>\n",
       "  </thead>\n",
       "  <tbody>\n",
       "    <tr>\n",
       "      <th>0</th>\n",
       "      <td>8.00</td>\n",
       "      <td>2015-03-12 23:14:59 UTC</td>\n",
       "      <td>-73.993141</td>\n",
       "      <td>40.727940</td>\n",
       "      <td>-73.996613</td>\n",
       "      <td>40.744530</td>\n",
       "      <td>2</td>\n",
       "      <td>0.016590</td>\n",
       "      <td>0.003471</td>\n",
       "      <td>1.868306</td>\n",
       "      <td>4</td>\n",
       "      <td>23</td>\n",
       "    </tr>\n",
       "    <tr>\n",
       "      <th>1</th>\n",
       "      <td>10.00</td>\n",
       "      <td>2013-08-21 08:38:06 UTC</td>\n",
       "      <td>-73.964837</td>\n",
       "      <td>40.769933</td>\n",
       "      <td>-73.983462</td>\n",
       "      <td>40.761655</td>\n",
       "      <td>1</td>\n",
       "      <td>0.008278</td>\n",
       "      <td>0.018625</td>\n",
       "      <td>1.819197</td>\n",
       "      <td>3</td>\n",
       "      <td>8</td>\n",
       "    </tr>\n",
       "    <tr>\n",
       "      <th>2</th>\n",
       "      <td>5.50</td>\n",
       "      <td>2014-01-23 18:40:00 UTC</td>\n",
       "      <td>-74.001017</td>\n",
       "      <td>40.746352</td>\n",
       "      <td>-73.990873</td>\n",
       "      <td>40.739497</td>\n",
       "      <td>1</td>\n",
       "      <td>0.006855</td>\n",
       "      <td>0.010144</td>\n",
       "      <td>1.145462</td>\n",
       "      <td>4</td>\n",
       "      <td>18</td>\n",
       "    </tr>\n",
       "    <tr>\n",
       "      <th>3</th>\n",
       "      <td>6.10</td>\n",
       "      <td>2011-12-24 14:03:24 UTC</td>\n",
       "      <td>-73.982433</td>\n",
       "      <td>40.768137</td>\n",
       "      <td>-73.989684</td>\n",
       "      <td>40.776138</td>\n",
       "      <td>1</td>\n",
       "      <td>0.008001</td>\n",
       "      <td>0.007251</td>\n",
       "      <td>1.079354</td>\n",
       "      <td>6</td>\n",
       "      <td>14</td>\n",
       "    </tr>\n",
       "    <tr>\n",
       "      <th>4</th>\n",
       "      <td>5.00</td>\n",
       "      <td>2012-10-14 23:24:00 UTC</td>\n",
       "      <td>-73.990358</td>\n",
       "      <td>40.740377</td>\n",
       "      <td>-74.000850</td>\n",
       "      <td>40.733955</td>\n",
       "      <td>1</td>\n",
       "      <td>0.006422</td>\n",
       "      <td>0.010492</td>\n",
       "      <td>1.136703</td>\n",
       "      <td>7</td>\n",
       "      <td>23</td>\n",
       "    </tr>\n",
       "    <tr>\n",
       "      <th>...</th>\n",
       "      <td>...</td>\n",
       "      <td>...</td>\n",
       "      <td>...</td>\n",
       "      <td>...</td>\n",
       "      <td>...</td>\n",
       "      <td>...</td>\n",
       "      <td>...</td>\n",
       "      <td>...</td>\n",
       "      <td>...</td>\n",
       "      <td>...</td>\n",
       "      <td>...</td>\n",
       "      <td>...</td>\n",
       "    </tr>\n",
       "    <tr>\n",
       "      <th>2219168</th>\n",
       "      <td>5.70</td>\n",
       "      <td>2009-11-16 10:36:05 UTC</td>\n",
       "      <td>-73.991241</td>\n",
       "      <td>40.744892</td>\n",
       "      <td>-73.977219</td>\n",
       "      <td>40.755458</td>\n",
       "      <td>1</td>\n",
       "      <td>0.010566</td>\n",
       "      <td>0.014022</td>\n",
       "      <td>1.666461</td>\n",
       "      <td>1</td>\n",
       "      <td>10</td>\n",
       "    </tr>\n",
       "    <tr>\n",
       "      <th>2219169</th>\n",
       "      <td>2.50</td>\n",
       "      <td>2014-02-26 19:44:39 UTC</td>\n",
       "      <td>-73.944647</td>\n",
       "      <td>40.751585</td>\n",
       "      <td>-73.944613</td>\n",
       "      <td>40.751624</td>\n",
       "      <td>1</td>\n",
       "      <td>0.000039</td>\n",
       "      <td>0.000034</td>\n",
       "      <td>0.005198</td>\n",
       "      <td>3</td>\n",
       "      <td>19</td>\n",
       "    </tr>\n",
       "    <tr>\n",
       "      <th>2219170</th>\n",
       "      <td>3.30</td>\n",
       "      <td>2012-01-06 19:33:00 UTC</td>\n",
       "      <td>-74.005272</td>\n",
       "      <td>40.727898</td>\n",
       "      <td>-74.000565</td>\n",
       "      <td>40.728908</td>\n",
       "      <td>1</td>\n",
       "      <td>0.001010</td>\n",
       "      <td>0.004707</td>\n",
       "      <td>0.412344</td>\n",
       "      <td>5</td>\n",
       "      <td>19</td>\n",
       "    </tr>\n",
       "    <tr>\n",
       "      <th>2219171</th>\n",
       "      <td>49.57</td>\n",
       "      <td>2010-12-13 19:11:00 UTC</td>\n",
       "      <td>-73.785532</td>\n",
       "      <td>40.648295</td>\n",
       "      <td>-73.980030</td>\n",
       "      <td>40.760702</td>\n",
       "      <td>5</td>\n",
       "      <td>0.112407</td>\n",
       "      <td>0.194498</td>\n",
       "      <td>20.622059</td>\n",
       "      <td>1</td>\n",
       "      <td>19</td>\n",
       "    </tr>\n",
       "    <tr>\n",
       "      <th>2219172</th>\n",
       "      <td>8.50</td>\n",
       "      <td>2014-07-25 00:39:00 UTC</td>\n",
       "      <td>-73.976618</td>\n",
       "      <td>40.764692</td>\n",
       "      <td>-73.995085</td>\n",
       "      <td>40.755213</td>\n",
       "      <td>3</td>\n",
       "      <td>0.009479</td>\n",
       "      <td>0.018467</td>\n",
       "      <td>1.879400</td>\n",
       "      <td>5</td>\n",
       "      <td>0</td>\n",
       "    </tr>\n",
       "  </tbody>\n",
       "</table>\n",
       "<p>2219173 rows × 12 columns</p>\n",
       "</div>"
      ],
      "text/plain": [
       "         fare_amount          pickup_datetime  pickup_longitude  \\\n",
       "0               8.00  2015-03-12 23:14:59 UTC        -73.993141   \n",
       "1              10.00  2013-08-21 08:38:06 UTC        -73.964837   \n",
       "2               5.50  2014-01-23 18:40:00 UTC        -74.001017   \n",
       "3               6.10  2011-12-24 14:03:24 UTC        -73.982433   \n",
       "4               5.00  2012-10-14 23:24:00 UTC        -73.990358   \n",
       "...              ...                      ...               ...   \n",
       "2219168         5.70  2009-11-16 10:36:05 UTC        -73.991241   \n",
       "2219169         2.50  2014-02-26 19:44:39 UTC        -73.944647   \n",
       "2219170         3.30  2012-01-06 19:33:00 UTC        -74.005272   \n",
       "2219171        49.57  2010-12-13 19:11:00 UTC        -73.785532   \n",
       "2219172         8.50  2014-07-25 00:39:00 UTC        -73.976618   \n",
       "\n",
       "         pickup_latitude  dropoff_longitude  dropoff_latitude  \\\n",
       "0              40.727940         -73.996613         40.744530   \n",
       "1              40.769933         -73.983462         40.761655   \n",
       "2              40.746352         -73.990873         40.739497   \n",
       "3              40.768137         -73.989684         40.776138   \n",
       "4              40.740377         -74.000850         40.733955   \n",
       "...                  ...                ...               ...   \n",
       "2219168        40.744892         -73.977219         40.755458   \n",
       "2219169        40.751585         -73.944613         40.751624   \n",
       "2219170        40.727898         -74.000565         40.728908   \n",
       "2219171        40.648295         -73.980030         40.760702   \n",
       "2219172        40.764692         -73.995085         40.755213   \n",
       "\n",
       "         passenger_count  dif_latitude  dif_longitude  distancia  dia_semana  \\\n",
       "0                      2      0.016590       0.003471   1.868306           4   \n",
       "1                      1      0.008278       0.018625   1.819197           3   \n",
       "2                      1      0.006855       0.010144   1.145462           4   \n",
       "3                      1      0.008001       0.007251   1.079354           6   \n",
       "4                      1      0.006422       0.010492   1.136703           7   \n",
       "...                  ...           ...            ...        ...         ...   \n",
       "2219168                1      0.010566       0.014022   1.666461           1   \n",
       "2219169                1      0.000039       0.000034   0.005198           3   \n",
       "2219170                1      0.001010       0.004707   0.412344           5   \n",
       "2219171                5      0.112407       0.194498  20.622059           1   \n",
       "2219172                3      0.009479       0.018467   1.879400           5   \n",
       "\n",
       "         hora  \n",
       "0          23  \n",
       "1           8  \n",
       "2          18  \n",
       "3          14  \n",
       "4          23  \n",
       "...       ...  \n",
       "2219168    10  \n",
       "2219169    19  \n",
       "2219170    19  \n",
       "2219171    19  \n",
       "2219172     0  \n",
       "\n",
       "[2219173 rows x 12 columns]"
      ]
     },
     "metadata": {},
     "output_type": "display_data"
    },
    {
     "name": "stdout",
     "output_type": "stream",
     "text": [
      "time: 234 ms (started: 2021-06-11 20:19:26 -05:00)\n"
     ]
    }
   ],
   "source": [
    "#Mostrando la data\n",
    "display(pandasData)"
   ]
  },
  {
   "cell_type": "code",
   "execution_count": 67,
   "metadata": {},
   "outputs": [
    {
     "data": {
      "image/png": "[encoded data removed]",
      "text/plain": [
       "<Figure size 1233.42x288 with 2 Axes>"
      ]
     },
     "metadata": {},
     "output_type": "display_data"
    },
    {
     "name": "stdout",
     "output_type": "stream",
     "text": [
      "time: 3.77 s (started: 2021-06-11 20:19:36 -05:00)\n"
     ]
    }
   ],
   "source": [
    "import seaborn as sns\n",
    "import warnings\n",
    "warnings.filterwarnings(\"ignore\")\n",
    "sns.set(style=\"ticks\" , color_codes = True)\n",
    "var = [\"dia_semana\"]\n",
    "# 1 inches = 96px\n",
    "g = sns.pairplot(pandasData[:10], vars=var, diag_kind=\"hist\", hue='dia_semana', height=4, aspect=4)"
   ]
  },
  {
   "cell_type": "code",
   "execution_count": 70,
   "metadata": {},
   "outputs": [
    {
     "data": {
      "text/plain": [
       "Text(0, 0.5, 'Objetivo')"
      ]
     },
     "execution_count": 70,
     "metadata": {},
     "output_type": "execute_result"
    },
    {
     "data": {
      "image/png": "[encoded data removed]",
      "text/plain": [
       "<Figure size 432x288 with 1 Axes>"
      ]
     },
     "metadata": {},
     "output_type": "display_data"
    },
    {
     "name": "stdout",
     "output_type": "stream",
     "text": [
      "time: 3.76 s (started: 2021-06-11 20:20:33 -05:00)\n"
     ]
    }
   ],
   "source": [
    "#Cuanto de la variable objetivo va variando segun los dias de la semana\n",
    "import matplotlib.pyplot as plt\n",
    "\n",
    "carac1=pandasData['dia_semana']\n",
    "objet=pandasData['fare_amount']\n",
    "plt.plot(carac1, objet, 'o')\n",
    "plt.xlabel(\"Característica dia de la semana\")\n",
    "plt.ylabel(\"Objetivo\")"
   ]
  },
  {
   "cell_type": "code",
   "execution_count": 71,
   "metadata": {},
   "outputs": [
    {
     "data": {
      "text/plain": [
       "Text(0.5, 0, '')"
      ]
     },
     "execution_count": 71,
     "metadata": {},
     "output_type": "execute_result"
    },
    {
     "data": {
      "image/png": "[encoded data removed]",
      "text/plain": [
       "<Figure size 720x720 with 1 Axes>"
      ]
     },
     "metadata": {},
     "output_type": "display_data"
    },
    {
     "name": "stdout",
     "output_type": "stream",
     "text": [
      "time: 507 ms (started: 2021-06-11 20:21:53 -05:00)\n"
     ]
    }
   ],
   "source": [
    "#como los pasajeros se distribuyen a traves de las horas\n",
    "pandasData.groupby('hora')['passenger_count'].sum().plot(kind='barh',legend='Reverse',figsize=(10,10))\n",
    "plt.xlabel('')"
   ]
  },
  {
   "cell_type": "code",
   "execution_count": 72,
   "metadata": {},
   "outputs": [
    {
     "data": {
      "text/plain": [
       "(-1.1014386975707833,\n",
       " 1.1000685110732618,\n",
       " -1.1023227663202417,\n",
       " 1.1005706124356427)"
      ]
     },
     "execution_count": 72,
     "metadata": {},
     "output_type": "execute_result"
    },
    {
     "data": {
      "image/png": "[encoded data removed]",
      "text/plain": [
       "<Figure size 864x576 with 1 Axes>"
      ]
     },
     "metadata": {},
     "output_type": "display_data"
    },
    {
     "name": "stdout",
     "output_type": "stream",
     "text": [
      "time: 640 ms (started: 2021-06-11 20:22:01 -05:00)\n"
     ]
    }
   ],
   "source": [
    "#como se reparten los pasajeros en funcion de la hora\n",
    "pandasData.passenger_count.groupby(pandasData.hora).sum().plot(kind='pie',cmap='Paired',figsize=(12,8))\n",
    "plt.axis('equal')"
   ]
  },
  {
   "cell_type": "code",
   "execution_count": 74,
   "metadata": {
    "collapsed": true
   },
   "outputs": [
    {
     "data": {
      "image/png": "[encoded data removed]",
      "text/plain": [
       "<Figure size 625.175x540 with 12 Axes>"
      ]
     },
     "metadata": {},
     "output_type": "display_data"
    },
    {
     "name": "stdout",
     "output_type": "stream",
     "text": [
      "time: 51min 17s (started: 2021-06-11 20:22:29 -05:00)\n"
     ]
    }
   ],
   "source": [
    "#Dispersion de las características\n",
    "caracteristicas=pandasData[['fare_amount','pickup_longitude','pickup_latitude','dropoff_longitude']]\n",
    "sns.set(style=\"ticks\", color_codes=True)\n",
    "g= sns.pairplot(caracteristicas,hue='fare_amount',palette='Spectral')"
   ]
  },
  {
   "cell_type": "code",
   "execution_count": 75,
   "metadata": {
    "collapsed": true
   },
   "outputs": [
    {
     "ename": "KeyError",
     "evalue": "\"None of [Index(['hora', 'passenger_count'], dtype='object')] are in the [columns]\"",
     "output_type": "error",
     "traceback": [
      "\u001b[0;31m---------------------------------------------------------------------------\u001b[0m",
      "\u001b[0;31mKeyError\u001b[0m                                  Traceback (most recent call last)",
      "\u001b[0;32m<ipython-input-75-6962d33d35df>\u001b[0m in \u001b[0;36m<module>\u001b[0;34m\u001b[0m\n\u001b[0;32m----> 1\u001b[0;31m \u001b[0mg\u001b[0m\u001b[0;34m=\u001b[0m\u001b[0msns\u001b[0m\u001b[0;34m.\u001b[0m\u001b[0mlmplot\u001b[0m\u001b[0;34m(\u001b[0m\u001b[0mx\u001b[0m\u001b[0;34m=\u001b[0m\u001b[0;34m'passenger_count'\u001b[0m\u001b[0;34m,\u001b[0m\u001b[0my\u001b[0m\u001b[0;34m=\u001b[0m\u001b[0;34m'hora'\u001b[0m\u001b[0;34m,\u001b[0m\u001b[0mdata\u001b[0m\u001b[0;34m=\u001b[0m\u001b[0mcaracteristicas\u001b[0m\u001b[0;34m,\u001b[0m\u001b[0mpalette\u001b[0m\u001b[0;34m=\u001b[0m\u001b[0;34m'Set1'\u001b[0m\u001b[0;34m)\u001b[0m\u001b[0;34m\u001b[0m\u001b[0;34m\u001b[0m\u001b[0m\n\u001b[0m",
      "\u001b[0;32m~/my_project_dir/my_project_env/lib/python3.8/site-packages/seaborn/_decorators.py\u001b[0m in \u001b[0;36minner_f\u001b[0;34m(*args, **kwargs)\u001b[0m\n\u001b[1;32m     44\u001b[0m             )\n\u001b[1;32m     45\u001b[0m         \u001b[0mkwargs\u001b[0m\u001b[0;34m.\u001b[0m\u001b[0mupdate\u001b[0m\u001b[0;34m(\u001b[0m\u001b[0;34m{\u001b[0m\u001b[0mk\u001b[0m\u001b[0;34m:\u001b[0m \u001b[0marg\u001b[0m \u001b[0;32mfor\u001b[0m \u001b[0mk\u001b[0m\u001b[0;34m,\u001b[0m \u001b[0marg\u001b[0m \u001b[0;32min\u001b[0m \u001b[0mzip\u001b[0m\u001b[0;34m(\u001b[0m\u001b[0msig\u001b[0m\u001b[0;34m.\u001b[0m\u001b[0mparameters\u001b[0m\u001b[0;34m,\u001b[0m \u001b[0margs\u001b[0m\u001b[0;34m)\u001b[0m\u001b[0;34m}\u001b[0m\u001b[0;34m)\u001b[0m\u001b[0;34m\u001b[0m\u001b[0;34m\u001b[0m\u001b[0m\n\u001b[0;32m---> 46\u001b[0;31m         \u001b[0;32mreturn\u001b[0m \u001b[0mf\u001b[0m\u001b[0;34m(\u001b[0m\u001b[0;34m**\u001b[0m\u001b[0mkwargs\u001b[0m\u001b[0;34m)\u001b[0m\u001b[0;34m\u001b[0m\u001b[0;34m\u001b[0m\u001b[0m\n\u001b[0m\u001b[1;32m     47\u001b[0m     \u001b[0;32mreturn\u001b[0m \u001b[0minner_f\u001b[0m\u001b[0;34m\u001b[0m\u001b[0;34m\u001b[0m\u001b[0m\n\u001b[1;32m     48\u001b[0m \u001b[0;34m\u001b[0m\u001b[0m\n",
      "\u001b[0;32m~/my_project_dir/my_project_env/lib/python3.8/site-packages/seaborn/regression.py\u001b[0m in \u001b[0;36mlmplot\u001b[0;34m(x, y, data, hue, col, row, palette, col_wrap, height, aspect, markers, sharex, sharey, hue_order, col_order, row_order, legend, legend_out, x_estimator, x_bins, x_ci, scatter, fit_reg, ci, n_boot, units, seed, order, logistic, lowess, robust, logx, x_partial, y_partial, truncate, x_jitter, y_jitter, scatter_kws, line_kws, size)\u001b[0m\n\u001b[1;32m    586\u001b[0m     \u001b[0mneed_cols\u001b[0m \u001b[0;34m=\u001b[0m \u001b[0;34m[\u001b[0m\u001b[0mx\u001b[0m\u001b[0;34m,\u001b[0m \u001b[0my\u001b[0m\u001b[0;34m,\u001b[0m \u001b[0mhue\u001b[0m\u001b[0;34m,\u001b[0m \u001b[0mcol\u001b[0m\u001b[0;34m,\u001b[0m \u001b[0mrow\u001b[0m\u001b[0;34m,\u001b[0m \u001b[0munits\u001b[0m\u001b[0;34m,\u001b[0m \u001b[0mx_partial\u001b[0m\u001b[0;34m,\u001b[0m \u001b[0my_partial\u001b[0m\u001b[0;34m]\u001b[0m\u001b[0;34m\u001b[0m\u001b[0;34m\u001b[0m\u001b[0m\n\u001b[1;32m    587\u001b[0m     \u001b[0mcols\u001b[0m \u001b[0;34m=\u001b[0m \u001b[0mnp\u001b[0m\u001b[0;34m.\u001b[0m\u001b[0munique\u001b[0m\u001b[0;34m(\u001b[0m\u001b[0;34m[\u001b[0m\u001b[0ma\u001b[0m \u001b[0;32mfor\u001b[0m \u001b[0ma\u001b[0m \u001b[0;32min\u001b[0m \u001b[0mneed_cols\u001b[0m \u001b[0;32mif\u001b[0m \u001b[0ma\u001b[0m \u001b[0;32mis\u001b[0m \u001b[0;32mnot\u001b[0m \u001b[0;32mNone\u001b[0m\u001b[0;34m]\u001b[0m\u001b[0;34m)\u001b[0m\u001b[0;34m.\u001b[0m\u001b[0mtolist\u001b[0m\u001b[0;34m(\u001b[0m\u001b[0;34m)\u001b[0m\u001b[0;34m\u001b[0m\u001b[0;34m\u001b[0m\u001b[0m\n\u001b[0;32m--> 588\u001b[0;31m     \u001b[0mdata\u001b[0m \u001b[0;34m=\u001b[0m \u001b[0mdata\u001b[0m\u001b[0;34m[\u001b[0m\u001b[0mcols\u001b[0m\u001b[0;34m]\u001b[0m\u001b[0;34m\u001b[0m\u001b[0;34m\u001b[0m\u001b[0m\n\u001b[0m\u001b[1;32m    589\u001b[0m \u001b[0;34m\u001b[0m\u001b[0m\n\u001b[1;32m    590\u001b[0m     \u001b[0;31m# Initialize the grid\u001b[0m\u001b[0;34m\u001b[0m\u001b[0;34m\u001b[0m\u001b[0;34m\u001b[0m\u001b[0m\n",
      "\u001b[0;32m~/my_project_dir/my_project_env/lib/python3.8/site-packages/pandas/core/frame.py\u001b[0m in \u001b[0;36m__getitem__\u001b[0;34m(self, key)\u001b[0m\n\u001b[1;32m   3028\u001b[0m             \u001b[0;32mif\u001b[0m \u001b[0mis_iterator\u001b[0m\u001b[0;34m(\u001b[0m\u001b[0mkey\u001b[0m\u001b[0;34m)\u001b[0m\u001b[0;34m:\u001b[0m\u001b[0;34m\u001b[0m\u001b[0;34m\u001b[0m\u001b[0m\n\u001b[1;32m   3029\u001b[0m                 \u001b[0mkey\u001b[0m \u001b[0;34m=\u001b[0m \u001b[0mlist\u001b[0m\u001b[0;34m(\u001b[0m\u001b[0mkey\u001b[0m\u001b[0;34m)\u001b[0m\u001b[0;34m\u001b[0m\u001b[0;34m\u001b[0m\u001b[0m\n\u001b[0;32m-> 3030\u001b[0;31m             \u001b[0mindexer\u001b[0m \u001b[0;34m=\u001b[0m \u001b[0mself\u001b[0m\u001b[0;34m.\u001b[0m\u001b[0mloc\u001b[0m\u001b[0;34m.\u001b[0m\u001b[0m_get_listlike_indexer\u001b[0m\u001b[0;34m(\u001b[0m\u001b[0mkey\u001b[0m\u001b[0;34m,\u001b[0m \u001b[0maxis\u001b[0m\u001b[0;34m=\u001b[0m\u001b[0;36m1\u001b[0m\u001b[0;34m,\u001b[0m \u001b[0mraise_missing\u001b[0m\u001b[0;34m=\u001b[0m\u001b[0;32mTrue\u001b[0m\u001b[0;34m)\u001b[0m\u001b[0;34m[\u001b[0m\u001b[0;36m1\u001b[0m\u001b[0;34m]\u001b[0m\u001b[0;34m\u001b[0m\u001b[0;34m\u001b[0m\u001b[0m\n\u001b[0m\u001b[1;32m   3031\u001b[0m \u001b[0;34m\u001b[0m\u001b[0m\n\u001b[1;32m   3032\u001b[0m         \u001b[0;31m# take() does not accept boolean indexers\u001b[0m\u001b[0;34m\u001b[0m\u001b[0;34m\u001b[0m\u001b[0;34m\u001b[0m\u001b[0m\n",
      "\u001b[0;32m~/my_project_dir/my_project_env/lib/python3.8/site-packages/pandas/core/indexing.py\u001b[0m in \u001b[0;36m_get_listlike_indexer\u001b[0;34m(self, key, axis, raise_missing)\u001b[0m\n\u001b[1;32m   1264\u001b[0m             \u001b[0mkeyarr\u001b[0m\u001b[0;34m,\u001b[0m \u001b[0mindexer\u001b[0m\u001b[0;34m,\u001b[0m \u001b[0mnew_indexer\u001b[0m \u001b[0;34m=\u001b[0m \u001b[0max\u001b[0m\u001b[0;34m.\u001b[0m\u001b[0m_reindex_non_unique\u001b[0m\u001b[0;34m(\u001b[0m\u001b[0mkeyarr\u001b[0m\u001b[0;34m)\u001b[0m\u001b[0;34m\u001b[0m\u001b[0;34m\u001b[0m\u001b[0m\n\u001b[1;32m   1265\u001b[0m \u001b[0;34m\u001b[0m\u001b[0m\n\u001b[0;32m-> 1266\u001b[0;31m         \u001b[0mself\u001b[0m\u001b[0;34m.\u001b[0m\u001b[0m_validate_read_indexer\u001b[0m\u001b[0;34m(\u001b[0m\u001b[0mkeyarr\u001b[0m\u001b[0;34m,\u001b[0m \u001b[0mindexer\u001b[0m\u001b[0;34m,\u001b[0m \u001b[0maxis\u001b[0m\u001b[0;34m,\u001b[0m \u001b[0mraise_missing\u001b[0m\u001b[0;34m=\u001b[0m\u001b[0mraise_missing\u001b[0m\u001b[0;34m)\u001b[0m\u001b[0;34m\u001b[0m\u001b[0;34m\u001b[0m\u001b[0m\n\u001b[0m\u001b[1;32m   1267\u001b[0m         \u001b[0;32mreturn\u001b[0m \u001b[0mkeyarr\u001b[0m\u001b[0;34m,\u001b[0m \u001b[0mindexer\u001b[0m\u001b[0;34m\u001b[0m\u001b[0;34m\u001b[0m\u001b[0m\n\u001b[1;32m   1268\u001b[0m \u001b[0;34m\u001b[0m\u001b[0m\n",
      "\u001b[0;32m~/my_project_dir/my_project_env/lib/python3.8/site-packages/pandas/core/indexing.py\u001b[0m in \u001b[0;36m_validate_read_indexer\u001b[0;34m(self, key, indexer, axis, raise_missing)\u001b[0m\n\u001b[1;32m   1306\u001b[0m             \u001b[0;32mif\u001b[0m \u001b[0mmissing\u001b[0m \u001b[0;34m==\u001b[0m \u001b[0mlen\u001b[0m\u001b[0;34m(\u001b[0m\u001b[0mindexer\u001b[0m\u001b[0;34m)\u001b[0m\u001b[0;34m:\u001b[0m\u001b[0;34m\u001b[0m\u001b[0;34m\u001b[0m\u001b[0m\n\u001b[1;32m   1307\u001b[0m                 \u001b[0maxis_name\u001b[0m \u001b[0;34m=\u001b[0m \u001b[0mself\u001b[0m\u001b[0;34m.\u001b[0m\u001b[0mobj\u001b[0m\u001b[0;34m.\u001b[0m\u001b[0m_get_axis_name\u001b[0m\u001b[0;34m(\u001b[0m\u001b[0maxis\u001b[0m\u001b[0;34m)\u001b[0m\u001b[0;34m\u001b[0m\u001b[0;34m\u001b[0m\u001b[0m\n\u001b[0;32m-> 1308\u001b[0;31m                 \u001b[0;32mraise\u001b[0m \u001b[0mKeyError\u001b[0m\u001b[0;34m(\u001b[0m\u001b[0;34mf\"None of [{key}] are in the [{axis_name}]\"\u001b[0m\u001b[0;34m)\u001b[0m\u001b[0;34m\u001b[0m\u001b[0;34m\u001b[0m\u001b[0m\n\u001b[0m\u001b[1;32m   1309\u001b[0m \u001b[0;34m\u001b[0m\u001b[0m\n\u001b[1;32m   1310\u001b[0m             \u001b[0max\u001b[0m \u001b[0;34m=\u001b[0m \u001b[0mself\u001b[0m\u001b[0;34m.\u001b[0m\u001b[0mobj\u001b[0m\u001b[0;34m.\u001b[0m\u001b[0m_get_axis\u001b[0m\u001b[0;34m(\u001b[0m\u001b[0maxis\u001b[0m\u001b[0;34m)\u001b[0m\u001b[0;34m\u001b[0m\u001b[0;34m\u001b[0m\u001b[0m\n",
      "\u001b[0;31mKeyError\u001b[0m: \"None of [Index(['hora', 'passenger_count'], dtype='object')] are in the [columns]\""
     ]
    },
    {
     "name": "stdout",
     "output_type": "stream",
     "text": [
      "time: 210 ms (started: 2021-06-11 21:13:47 -05:00)\n"
     ]
    }
   ],
   "source": [
    "g=sns.lmplot(x='passenger_count',y='hora',data=caracteristicas,palette='Set1')"
   ]
  },
  {
   "cell_type": "code",
   "execution_count": 76,
   "metadata": {
    "collapsed": true
   },
   "outputs": [
    {
     "ename": "KeyError",
     "evalue": "\"None of [Index(['dia_semana', 'hora', 'passenger_count'], dtype='object')] are in the [columns]\"",
     "output_type": "error",
     "traceback": [
      "\u001b[0;31m---------------------------------------------------------------------------\u001b[0m",
      "\u001b[0;31mKeyError\u001b[0m                                  Traceback (most recent call last)",
      "\u001b[0;32m<ipython-input-76-b3870cf20453>\u001b[0m in \u001b[0;36m<module>\u001b[0;34m\u001b[0m\n\u001b[1;32m      1\u001b[0m \u001b[0;31m# Relación entre dos caracteristicas vista como tendencia lineal\u001b[0m\u001b[0;34m\u001b[0m\u001b[0;34m\u001b[0m\u001b[0;34m\u001b[0m\u001b[0m\n\u001b[0;32m----> 2\u001b[0;31m \u001b[0mg\u001b[0m\u001b[0;34m=\u001b[0m\u001b[0msns\u001b[0m\u001b[0;34m.\u001b[0m\u001b[0mlmplot\u001b[0m\u001b[0;34m(\u001b[0m\u001b[0mx\u001b[0m\u001b[0;34m=\u001b[0m\u001b[0;34m'passenger_count'\u001b[0m\u001b[0;34m,\u001b[0m\u001b[0my\u001b[0m\u001b[0;34m=\u001b[0m\u001b[0;34m'hora'\u001b[0m\u001b[0;34m,\u001b[0m\u001b[0mhue\u001b[0m\u001b[0;34m=\u001b[0m\u001b[0;34m'dia_semana'\u001b[0m\u001b[0;34m,\u001b[0m\u001b[0mdata\u001b[0m\u001b[0;34m=\u001b[0m\u001b[0mcaracteristicas\u001b[0m\u001b[0;34m,\u001b[0m\u001b[0mpalette\u001b[0m\u001b[0;34m=\u001b[0m\u001b[0;34m'Set1'\u001b[0m\u001b[0;34m)\u001b[0m\u001b[0;34m\u001b[0m\u001b[0;34m\u001b[0m\u001b[0m\n\u001b[0m",
      "\u001b[0;32m~/my_project_dir/my_project_env/lib/python3.8/site-packages/seaborn/_decorators.py\u001b[0m in \u001b[0;36minner_f\u001b[0;34m(*args, **kwargs)\u001b[0m\n\u001b[1;32m     44\u001b[0m             )\n\u001b[1;32m     45\u001b[0m         \u001b[0mkwargs\u001b[0m\u001b[0;34m.\u001b[0m\u001b[0mupdate\u001b[0m\u001b[0;34m(\u001b[0m\u001b[0;34m{\u001b[0m\u001b[0mk\u001b[0m\u001b[0;34m:\u001b[0m \u001b[0marg\u001b[0m \u001b[0;32mfor\u001b[0m \u001b[0mk\u001b[0m\u001b[0;34m,\u001b[0m \u001b[0marg\u001b[0m \u001b[0;32min\u001b[0m \u001b[0mzip\u001b[0m\u001b[0;34m(\u001b[0m\u001b[0msig\u001b[0m\u001b[0;34m.\u001b[0m\u001b[0mparameters\u001b[0m\u001b[0;34m,\u001b[0m \u001b[0margs\u001b[0m\u001b[0;34m)\u001b[0m\u001b[0;34m}\u001b[0m\u001b[0;34m)\u001b[0m\u001b[0;34m\u001b[0m\u001b[0;34m\u001b[0m\u001b[0m\n\u001b[0;32m---> 46\u001b[0;31m         \u001b[0;32mreturn\u001b[0m \u001b[0mf\u001b[0m\u001b[0;34m(\u001b[0m\u001b[0;34m**\u001b[0m\u001b[0mkwargs\u001b[0m\u001b[0;34m)\u001b[0m\u001b[0;34m\u001b[0m\u001b[0;34m\u001b[0m\u001b[0m\n\u001b[0m\u001b[1;32m     47\u001b[0m     \u001b[0;32mreturn\u001b[0m \u001b[0minner_f\u001b[0m\u001b[0;34m\u001b[0m\u001b[0;34m\u001b[0m\u001b[0m\n\u001b[1;32m     48\u001b[0m \u001b[0;34m\u001b[0m\u001b[0m\n",
      "\u001b[0;32m~/my_project_dir/my_project_env/lib/python3.8/site-packages/seaborn/regression.py\u001b[0m in \u001b[0;36mlmplot\u001b[0;34m(x, y, data, hue, col, row, palette, col_wrap, height, aspect, markers, sharex, sharey, hue_order, col_order, row_order, legend, legend_out, x_estimator, x_bins, x_ci, scatter, fit_reg, ci, n_boot, units, seed, order, logistic, lowess, robust, logx, x_partial, y_partial, truncate, x_jitter, y_jitter, scatter_kws, line_kws, size)\u001b[0m\n\u001b[1;32m    586\u001b[0m     \u001b[0mneed_cols\u001b[0m \u001b[0;34m=\u001b[0m \u001b[0;34m[\u001b[0m\u001b[0mx\u001b[0m\u001b[0;34m,\u001b[0m \u001b[0my\u001b[0m\u001b[0;34m,\u001b[0m \u001b[0mhue\u001b[0m\u001b[0;34m,\u001b[0m \u001b[0mcol\u001b[0m\u001b[0;34m,\u001b[0m \u001b[0mrow\u001b[0m\u001b[0;34m,\u001b[0m \u001b[0munits\u001b[0m\u001b[0;34m,\u001b[0m \u001b[0mx_partial\u001b[0m\u001b[0;34m,\u001b[0m \u001b[0my_partial\u001b[0m\u001b[0;34m]\u001b[0m\u001b[0;34m\u001b[0m\u001b[0;34m\u001b[0m\u001b[0m\n\u001b[1;32m    587\u001b[0m     \u001b[0mcols\u001b[0m \u001b[0;34m=\u001b[0m \u001b[0mnp\u001b[0m\u001b[0;34m.\u001b[0m\u001b[0munique\u001b[0m\u001b[0;34m(\u001b[0m\u001b[0;34m[\u001b[0m\u001b[0ma\u001b[0m \u001b[0;32mfor\u001b[0m \u001b[0ma\u001b[0m \u001b[0;32min\u001b[0m \u001b[0mneed_cols\u001b[0m \u001b[0;32mif\u001b[0m \u001b[0ma\u001b[0m \u001b[0;32mis\u001b[0m \u001b[0;32mnot\u001b[0m \u001b[0;32mNone\u001b[0m\u001b[0;34m]\u001b[0m\u001b[0;34m)\u001b[0m\u001b[0;34m.\u001b[0m\u001b[0mtolist\u001b[0m\u001b[0;34m(\u001b[0m\u001b[0;34m)\u001b[0m\u001b[0;34m\u001b[0m\u001b[0;34m\u001b[0m\u001b[0m\n\u001b[0;32m--> 588\u001b[0;31m     \u001b[0mdata\u001b[0m \u001b[0;34m=\u001b[0m \u001b[0mdata\u001b[0m\u001b[0;34m[\u001b[0m\u001b[0mcols\u001b[0m\u001b[0;34m]\u001b[0m\u001b[0;34m\u001b[0m\u001b[0;34m\u001b[0m\u001b[0m\n\u001b[0m\u001b[1;32m    589\u001b[0m \u001b[0;34m\u001b[0m\u001b[0m\n\u001b[1;32m    590\u001b[0m     \u001b[0;31m# Initialize the grid\u001b[0m\u001b[0;34m\u001b[0m\u001b[0;34m\u001b[0m\u001b[0;34m\u001b[0m\u001b[0m\n",
      "\u001b[0;32m~/my_project_dir/my_project_env/lib/python3.8/site-packages/pandas/core/frame.py\u001b[0m in \u001b[0;36m__getitem__\u001b[0;34m(self, key)\u001b[0m\n\u001b[1;32m   3028\u001b[0m             \u001b[0;32mif\u001b[0m \u001b[0mis_iterator\u001b[0m\u001b[0;34m(\u001b[0m\u001b[0mkey\u001b[0m\u001b[0;34m)\u001b[0m\u001b[0;34m:\u001b[0m\u001b[0;34m\u001b[0m\u001b[0;34m\u001b[0m\u001b[0m\n\u001b[1;32m   3029\u001b[0m                 \u001b[0mkey\u001b[0m \u001b[0;34m=\u001b[0m \u001b[0mlist\u001b[0m\u001b[0;34m(\u001b[0m\u001b[0mkey\u001b[0m\u001b[0;34m)\u001b[0m\u001b[0;34m\u001b[0m\u001b[0;34m\u001b[0m\u001b[0m\n\u001b[0;32m-> 3030\u001b[0;31m             \u001b[0mindexer\u001b[0m \u001b[0;34m=\u001b[0m \u001b[0mself\u001b[0m\u001b[0;34m.\u001b[0m\u001b[0mloc\u001b[0m\u001b[0;34m.\u001b[0m\u001b[0m_get_listlike_indexer\u001b[0m\u001b[0;34m(\u001b[0m\u001b[0mkey\u001b[0m\u001b[0;34m,\u001b[0m \u001b[0maxis\u001b[0m\u001b[0;34m=\u001b[0m\u001b[0;36m1\u001b[0m\u001b[0;34m,\u001b[0m \u001b[0mraise_missing\u001b[0m\u001b[0;34m=\u001b[0m\u001b[0;32mTrue\u001b[0m\u001b[0;34m)\u001b[0m\u001b[0;34m[\u001b[0m\u001b[0;36m1\u001b[0m\u001b[0;34m]\u001b[0m\u001b[0;34m\u001b[0m\u001b[0;34m\u001b[0m\u001b[0m\n\u001b[0m\u001b[1;32m   3031\u001b[0m \u001b[0;34m\u001b[0m\u001b[0m\n\u001b[1;32m   3032\u001b[0m         \u001b[0;31m# take() does not accept boolean indexers\u001b[0m\u001b[0;34m\u001b[0m\u001b[0;34m\u001b[0m\u001b[0;34m\u001b[0m\u001b[0m\n",
      "\u001b[0;32m~/my_project_dir/my_project_env/lib/python3.8/site-packages/pandas/core/indexing.py\u001b[0m in \u001b[0;36m_get_listlike_indexer\u001b[0;34m(self, key, axis, raise_missing)\u001b[0m\n\u001b[1;32m   1264\u001b[0m             \u001b[0mkeyarr\u001b[0m\u001b[0;34m,\u001b[0m \u001b[0mindexer\u001b[0m\u001b[0;34m,\u001b[0m \u001b[0mnew_indexer\u001b[0m \u001b[0;34m=\u001b[0m \u001b[0max\u001b[0m\u001b[0;34m.\u001b[0m\u001b[0m_reindex_non_unique\u001b[0m\u001b[0;34m(\u001b[0m\u001b[0mkeyarr\u001b[0m\u001b[0;34m)\u001b[0m\u001b[0;34m\u001b[0m\u001b[0;34m\u001b[0m\u001b[0m\n\u001b[1;32m   1265\u001b[0m \u001b[0;34m\u001b[0m\u001b[0m\n\u001b[0;32m-> 1266\u001b[0;31m         \u001b[0mself\u001b[0m\u001b[0;34m.\u001b[0m\u001b[0m_validate_read_indexer\u001b[0m\u001b[0;34m(\u001b[0m\u001b[0mkeyarr\u001b[0m\u001b[0;34m,\u001b[0m \u001b[0mindexer\u001b[0m\u001b[0;34m,\u001b[0m \u001b[0maxis\u001b[0m\u001b[0;34m,\u001b[0m \u001b[0mraise_missing\u001b[0m\u001b[0;34m=\u001b[0m\u001b[0mraise_missing\u001b[0m\u001b[0;34m)\u001b[0m\u001b[0;34m\u001b[0m\u001b[0;34m\u001b[0m\u001b[0m\n\u001b[0m\u001b[1;32m   1267\u001b[0m         \u001b[0;32mreturn\u001b[0m \u001b[0mkeyarr\u001b[0m\u001b[0;34m,\u001b[0m \u001b[0mindexer\u001b[0m\u001b[0;34m\u001b[0m\u001b[0;34m\u001b[0m\u001b[0m\n\u001b[1;32m   1268\u001b[0m \u001b[0;34m\u001b[0m\u001b[0m\n",
      "\u001b[0;32m~/my_project_dir/my_project_env/lib/python3.8/site-packages/pandas/core/indexing.py\u001b[0m in \u001b[0;36m_validate_read_indexer\u001b[0;34m(self, key, indexer, axis, raise_missing)\u001b[0m\n\u001b[1;32m   1306\u001b[0m             \u001b[0;32mif\u001b[0m \u001b[0mmissing\u001b[0m \u001b[0;34m==\u001b[0m \u001b[0mlen\u001b[0m\u001b[0;34m(\u001b[0m\u001b[0mindexer\u001b[0m\u001b[0;34m)\u001b[0m\u001b[0;34m:\u001b[0m\u001b[0;34m\u001b[0m\u001b[0;34m\u001b[0m\u001b[0m\n\u001b[1;32m   1307\u001b[0m                 \u001b[0maxis_name\u001b[0m \u001b[0;34m=\u001b[0m \u001b[0mself\u001b[0m\u001b[0;34m.\u001b[0m\u001b[0mobj\u001b[0m\u001b[0;34m.\u001b[0m\u001b[0m_get_axis_name\u001b[0m\u001b[0;34m(\u001b[0m\u001b[0maxis\u001b[0m\u001b[0;34m)\u001b[0m\u001b[0;34m\u001b[0m\u001b[0;34m\u001b[0m\u001b[0m\n\u001b[0;32m-> 1308\u001b[0;31m                 \u001b[0;32mraise\u001b[0m \u001b[0mKeyError\u001b[0m\u001b[0;34m(\u001b[0m\u001b[0;34mf\"None of [{key}] are in the [{axis_name}]\"\u001b[0m\u001b[0;34m)\u001b[0m\u001b[0;34m\u001b[0m\u001b[0;34m\u001b[0m\u001b[0m\n\u001b[0m\u001b[1;32m   1309\u001b[0m \u001b[0;34m\u001b[0m\u001b[0m\n\u001b[1;32m   1310\u001b[0m             \u001b[0max\u001b[0m \u001b[0;34m=\u001b[0m \u001b[0mself\u001b[0m\u001b[0;34m.\u001b[0m\u001b[0mobj\u001b[0m\u001b[0;34m.\u001b[0m\u001b[0m_get_axis\u001b[0m\u001b[0;34m(\u001b[0m\u001b[0maxis\u001b[0m\u001b[0;34m)\u001b[0m\u001b[0;34m\u001b[0m\u001b[0;34m\u001b[0m\u001b[0m\n",
      "\u001b[0;31mKeyError\u001b[0m: \"None of [Index(['dia_semana', 'hora', 'passenger_count'], dtype='object')] are in the [columns]\""
     ]
    },
    {
     "name": "stdout",
     "output_type": "stream",
     "text": [
      "time: 24.7 ms (started: 2021-06-11 21:18:31 -05:00)\n"
     ]
    }
   ],
   "source": [
    "# Relación entre dos caracteristicas vista como tendencia lineal\n",
    "g=sns.lmplot(x='passenger_count',y='hora',hue='dia_semana',data=caracteristicas,palette='Set1')"
   ]
  },
  {
   "cell_type": "markdown",
   "metadata": {},
   "source": [
    "### Entrenamiento de la data"
   ]
  },
  {
   "cell_type": "markdown",
   "metadata": {},
   "source": [
    "Uso del VectorAsembler para poder trabajar con una sola columna que incluya las caracteristicas fundamentales."
   ]
  },
  {
   "cell_type": "code",
   "execution_count": null,
   "metadata": {},
   "outputs": [],
   "source": [
    "from pyspark.ml.feature import VectorAssembler\n",
    "feature_list = []\n",
    "for col in df.columns:\n",
    "    if col == 'fare_amount':\n",
    "        continue\n",
    "    else:\n",
    "        feature_list.append(col)\n",
    "assembler = VectorAssembler(inputCols=feature_list, outputCol=\"features\")"
   ]
  },
  {
   "cell_type": "code",
   "execution_count": null,
   "metadata": {},
   "outputs": [],
   "source": [
    "from pyspark.ml.regression import RandomForestRegressor\n",
    "rf = RandomForestRegressor(labelCol=\"fare_amount\", featuresCol=\"features\")"
   ]
  },
  {
   "cell_type": "code",
   "execution_count": null,
   "metadata": {},
   "outputs": [],
   "source": [
    "from pyspark.ml import Pipeline\n",
    "pipeline = Pipeline(stages=[assembler, rf])"
   ]
  },
  {
   "cell_type": "code",
   "execution_count": null,
   "metadata": {},
   "outputs": [],
   "source": [
    "from pyspark.ml.tuning import ParamGridBuilder\n",
    "import numpy as np\n",
    "paramGrid = ParamGridBuilder() \\\n",
    "    .addGrid(rf.numTrees, [int(x) for x in np.linspace(start = 10, stop = 50, num = 3)]) \\\n",
    "    .addGrid(rf.maxDepth, [int(x) for x in np.linspace(start = 5, stop = 25, num = 3)]) \\\n",
    "    .build()"
   ]
  },
  {
   "cell_type": "code",
   "execution_count": null,
   "metadata": {},
   "outputs": [],
   "source": [
    "from pyspark.ml.tuning import CrossValidator\n",
    "from pyspark.ml.evaluation import RegressionEvaluator\n",
    "crossval = CrossValidator(estimator=pipeline,\n",
    "                          estimatorParamMaps=paramGrid,\n",
    "                          evaluator=RegressionEvaluator(),\n",
    "                          numFolds=3)"
   ]
  },
  {
   "cell_type": "code",
   "execution_count": null,
   "metadata": {},
   "outputs": [],
   "source": [
    "(trainingData, testData) = df.randomSplit([0.8, 0.2])"
   ]
  },
  {
   "cell_type": "code",
   "execution_count": null,
   "metadata": {},
   "outputs": [],
   "source": [
    "cvModel = crossval.fit(trainingData)"
   ]
  },
  {
   "cell_type": "code",
   "execution_count": null,
   "metadata": {},
   "outputs": [],
   "source": [
    "predictions = cvModel.transform(testData)"
   ]
  },
  {
   "cell_type": "code",
   "execution_count": null,
   "metadata": {},
   "outputs": [],
   "source": [
    "import matplotlib.pyplot as plt\n",
    "evaluator = RegressionEvaluator(labelCol=\"label\", predictionCol=\"prediction\", metricName=\"rmse\")\n",
    "rmse = evaluator.evaluate(predictions)\n",
    "rfPred = cvModel.transform(df)\n",
    "rfResult = rfPred.toPandas()\n",
    "plt.plot(rfResult.label, rfResult.prediction, 'bo')\n",
    "plt.xlabel('Price')\n",
    "plt.ylabel('Prediction')\n",
    "plt.suptitle(\"Model Performance RMSE: %f\" % rmse)\n",
    "plt.show()"
   ]
  },
  {
   "cell_type": "code",
   "execution_count": null,
   "metadata": {},
   "outputs": [],
   "source": [
    "bestPipeline = cvModel.bestModel\n",
    "bestModel = bestPipeline.stages[1]\n",
    "importances = bestModel.featureImportances\n",
    "x_values = list(range(len(importances)))\n",
    "plt.bar(x_values, importances, orientation = 'vertical')\n",
    "plt.xticks(x_values, feature_list, rotation=40)\n",
    "plt.ylabel('Importance')\n",
    "plt.xlabel('Feature')\n",
    "plt.title('Feature Importances')"
   ]
  },
  {
   "cell_type": "code",
   "execution_count": null,
   "metadata": {},
   "outputs": [],
   "source": [
    "print('numTrees - ', bestModel.getNumTrees)\n",
    "print('maxDepth - ', bestModel.getOrDefault('maxDepth'))"
   ]
  },
  {
   "cell_type": "code",
   "execution_count": 77,
   "metadata": {},
   "outputs": [
    {
     "name": "stdout",
     "output_type": "stream",
     "text": [
      "time: 538 ms (started: 2021-06-11 21:44:27 -05:00)\n"
     ]
    }
   ],
   "source": [
    "# cerramos la sesión spark\n",
    "sc.stop()"
   ]
  },
  {
   "cell_type": "code",
   "execution_count": null,
   "metadata": {},
   "outputs": [],
   "source": []
  }
 ],
 "metadata": {
  "kernelspec": {
   "display_name": "Python 3",
   "language": "python",
   "name": "python3"
  },
  "language_info": {
   "codemirror_mode": {
    "name": "ipython",
    "version": 3
   },
   "file_extension": ".py",
   "mimetype": "text/x-python",
   "name": "python",
   "nbconvert_exporter": "python",
   "pygments_lexer": "ipython3",
   "version": "3.8.5"
  }
 },
 "nbformat": 4,
 "nbformat_minor": 4
}
