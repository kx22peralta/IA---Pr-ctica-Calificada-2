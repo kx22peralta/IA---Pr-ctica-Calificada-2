{
 "cells": [
  {
   "cell_type": "code",
   "execution_count": 1,
   "metadata": {},
   "outputs": [
    {
     "name": "stdout",
     "output_type": "stream",
     "text": [
      "time: 1.26 ms (started: 2021-06-13 20:23:03 -05:00)\n"
     ]
    }
   ],
   "source": [
    "# medir tiempos\n",
    "%load_ext autotime"
   ]
  },
  {
   "cell_type": "code",
   "execution_count": 2,
   "metadata": {},
   "outputs": [
    {
     "name": "stdout",
     "output_type": "stream",
     "text": [
      "time: 25.8 ms (started: 2021-06-13 20:23:03 -05:00)\n"
     ]
    }
   ],
   "source": [
    "import findspark\n",
    "findspark.init(\"/usr/local/spark/spark-3.1.1-bin-hadoop2.7\")    #para linux\n",
    "#findspark.init()                                                 #para windows"
   ]
  },
  {
   "cell_type": "code",
   "execution_count": 3,
   "metadata": {},
   "outputs": [
    {
     "data": {
      "text/html": [
       "\n",
       "        <div>\n",
       "            <p><b>SparkContext</b></p>\n",
       "\n",
       "            <p><a href=\"http://192.168.1.5:4040\">Spark UI</a></p>\n",
       "\n",
       "            <dl>\n",
       "              <dt>Version</dt>\n",
       "                <dd><code>v3.1.1</code></dd>\n",
       "              <dt>Master</dt>\n",
       "                <dd><code>local[*]</code></dd>\n",
       "              <dt>AppName</dt>\n",
       "                <dd><code>GBTRegressor</code></dd>\n",
       "            </dl>\n",
       "        </div>\n",
       "        "
      ],
      "text/plain": [
       "<SparkContext master=local[*] appName=GBTRegressor>"
      ]
     },
     "execution_count": 3,
     "metadata": {},
     "output_type": "execute_result"
    },
    {
     "name": "stdout",
     "output_type": "stream",
     "text": [
      "time: 4.27 s (started: 2021-06-13 20:23:06 -05:00)\n"
     ]
    }
   ],
   "source": [
    "from pyspark import SparkConf, SparkContext\n",
    "# Variable de configuración\n",
    "conf = SparkConf().setMaster(\"local[*]\").setAppName(\"GBTRegressor\")  \\\n",
    "    .set(\"spark.driver.maxResultSize\",\"0\") \\\n",
    "    .set(\"spark.executor.memory\", \"4g\") \\\n",
    "    .set(\"spark.driver.memory\", \"16g\") \\\n",
    "    .set(\"spark.cores.max\", \"4\")\n",
    "\n",
    "# iniciamos un contexto spark (solo se ejecuta uno. Para ejecutar otra vez , reiniciar el kernel)\n",
    "sc = SparkContext(conf = conf)\n",
    "sc"
   ]
  },
  {
   "cell_type": "code",
   "execution_count": 4,
   "metadata": {},
   "outputs": [
    {
     "name": "stdout",
     "output_type": "stream",
     "text": [
      "time: 17.9 s (started: 2021-06-13 20:23:22 -05:00)\n"
     ]
    }
   ],
   "source": [
    "from pyspark.sql.types import StringType\n",
    "from pyspark import SQLContext\n",
    "# le pasamos el contexto anterior\n",
    "sqlContext = SQLContext(sc)\n",
    "import os\n",
    "path=\"file:\"+os.getcwd()+\"/Output\"\n",
    "dfspark = sqlContext.read.format('csv').option(\"header\",\"true\").option(\"inferSchema\",\"true\").load(path+'/*.csv')"
   ]
  },
  {
   "cell_type": "code",
   "execution_count": 5,
   "metadata": {},
   "outputs": [
    {
     "data": {
      "text/plain": [
       "[('spark.executor.memory', '4g'),\n",
       " ('spark.app.id', 'local-1623633789764'),\n",
       " ('spark.executor.id', 'driver'),\n",
       " ('spark.driver.memory', '16g'),\n",
       " ('spark.cores.max', '4'),\n",
       " ('spark.app.startTime', '1623633788537'),\n",
       " ('spark.driver.port', '40249'),\n",
       " ('spark.rdd.compress', 'True'),\n",
       " ('spark.serializer.objectStreamReset', '100'),\n",
       " ('spark.driver.maxResultSize', '0'),\n",
       " ('spark.master', 'local[*]'),\n",
       " ('spark.submit.pyFiles', ''),\n",
       " ('spark.app.name', 'GBTRegressor'),\n",
       " ('spark.submit.deployMode', 'client'),\n",
       " ('spark.sql.warehouse.dir',\n",
       "  'file:/home/renzoqamao/my_project_dir/my_project_env/2021-I/InteligenciaArtificial/PracticasCalificadas/PracticaCalificada2-CC421/IA-PracticaCalificada2/spark-warehouse'),\n",
       " ('spark.ui.showConsoleProgress', 'true'),\n",
       " ('spark.driver.host', '192.168.1.5')]"
      ]
     },
     "execution_count": 5,
     "metadata": {},
     "output_type": "execute_result"
    },
    {
     "name": "stdout",
     "output_type": "stream",
     "text": [
      "time: 57.9 ms (started: 2021-06-13 20:31:04 -05:00)\n"
     ]
    }
   ],
   "source": [
    "sc.getConf().getAll()"
   ]
  },
  {
   "cell_type": "code",
   "execution_count": 6,
   "metadata": {},
   "outputs": [
    {
     "name": "stdout",
     "output_type": "stream",
     "text": [
      "root\n",
      " |-- fare_amount: double (nullable = true)\n",
      " |-- pickup_datetime: string (nullable = true)\n",
      " |-- pickup_longitude: double (nullable = true)\n",
      " |-- pickup_latitude: double (nullable = true)\n",
      " |-- dropoff_longitude: double (nullable = true)\n",
      " |-- dropoff_latitude: double (nullable = true)\n",
      " |-- passenger_count: integer (nullable = true)\n",
      " |-- dif_latitude: double (nullable = true)\n",
      " |-- dif_longitude: double (nullable = true)\n",
      " |-- distancia: double (nullable = true)\n",
      " |-- dia_semana: integer (nullable = true)\n",
      " |-- hora: integer (nullable = true)\n",
      " |-- mes: integer (nullable = true)\n",
      " |-- anio: integer (nullable = true)\n",
      "\n",
      "time: 59 ms (started: 2021-06-13 20:31:05 -05:00)\n"
     ]
    }
   ],
   "source": [
    "dfspark.printSchema()"
   ]
  },
  {
   "cell_type": "markdown",
   "metadata": {},
   "source": [
    "##### creando un vector de caracteristicas"
   ]
  },
  {
   "cell_type": "code",
   "execution_count": 7,
   "metadata": {},
   "outputs": [
    {
     "name": "stdout",
     "output_type": "stream",
     "text": [
      "time: 327 ms (started: 2021-06-13 20:31:08 -05:00)\n"
     ]
    }
   ],
   "source": [
    "from pyspark.ml.feature import VectorAssembler\n",
    "ignore=['fare_amount',\n",
    "        'pickup_datetime',\n",
    "        'pickup_longitude',\n",
    "       'pickup_latitude',\n",
    "       'dropoff_longitude',\n",
    "       'dropoff_latitude',\n",
    "       'dif_latitude',\n",
    "       'dif_longitude']\n",
    "vectorAssembler = VectorAssembler(inputCols=[x for x in dfspark.columns  \n",
    "                  if x not in ignore], outputCol = 'features')\n",
    "df = vectorAssembler.transform(dfspark)\n",
    "dfmodel = df.select(['features', 'fare_amount'])"
   ]
  },
  {
   "cell_type": "code",
   "execution_count": 9,
   "metadata": {},
   "outputs": [
    {
     "name": "stdout",
     "output_type": "stream",
     "text": [
      "tenemos 1774098 datos de entrenamiento y 444226 datos de prueba.\n",
      "time: 15.1 s (started: 2021-06-13 20:31:34 -05:00)\n"
     ]
    }
   ],
   "source": [
    "# Separar la data en 80% entrenamiento y 20% test\n",
    "dftrain, dftest = dfmodel.randomSplit([0.8, 0.2], seed=0)\n",
    "print(\"tenemos %d datos de entrenamiento y %d datos de prueba.\" % (dftrain.count(), dftest.count()))"
   ]
  },
  {
   "cell_type": "markdown",
   "metadata": {},
   "source": [
    "### GBTRegressor"
   ]
  },
  {
   "cell_type": "code",
   "execution_count": 39,
   "metadata": {},
   "outputs": [
    {
     "name": "stdout",
     "output_type": "stream",
     "text": [
      "time: 31.2 ms (started: 2021-06-13 23:51:14 -05:00)\n"
     ]
    }
   ],
   "source": [
    "from pyspark.ml.regression import GBTRegressor\n",
    "from pyspark.ml.tuning import ParamGridBuilder, CrossValidator\n",
    "from pyspark.ml.evaluation import RegressionEvaluator\n",
    "\n",
    "gbt = GBTRegressor(labelCol=\"fare_amount\", featuresCol=\"features\", seed=0, lossType=\"squared\")"
   ]
  },
  {
   "cell_type": "code",
   "execution_count": 40,
   "metadata": {},
   "outputs": [
    {
     "name": "stdout",
     "output_type": "stream",
     "text": [
      "time: 5.95 ms (started: 2021-06-13 23:51:14 -05:00)\n"
     ]
    }
   ],
   "source": [
    "gbtrparamGrid = (ParamGridBuilder()\n",
    "             .addGrid(gbt.maxDepth, [8])\n",
    "             .addGrid(gbt.maxBins, [20])\n",
    "             .addGrid(gbt.maxIter, [10])\n",
    "             .build())"
   ]
  },
  {
   "cell_type": "code",
   "execution_count": 41,
   "metadata": {},
   "outputs": [
    {
     "name": "stdout",
     "output_type": "stream",
     "text": [
      "time: 12.7 ms (started: 2021-06-13 23:51:16 -05:00)\n"
     ]
    }
   ],
   "source": [
    "gbevaluator = RegressionEvaluator(predictionCol=\"prediction\", labelCol=\"fare_amount\", metricName=\"rmse\")"
   ]
  },
  {
   "cell_type": "code",
   "execution_count": 42,
   "metadata": {},
   "outputs": [
    {
     "name": "stdout",
     "output_type": "stream",
     "text": [
      "time: 9.95 ms (started: 2021-06-13 23:51:16 -05:00)\n"
     ]
    }
   ],
   "source": [
    "# Create 3-fold CrossValidator\n",
    "gbcv = CrossValidator(estimator = gbt,\n",
    "                      estimatorParamMaps = gbtrparamGrid,\n",
    "                      evaluator = gbevaluator,\n",
    "                      numFolds = 3)"
   ]
  },
  {
   "cell_type": "code",
   "execution_count": 43,
   "metadata": {},
   "outputs": [
    {
     "name": "stdout",
     "output_type": "stream",
     "text": [
      "time: 3min 59s (started: 2021-06-13 23:51:17 -05:00)\n"
     ]
    }
   ],
   "source": [
    "gbcvModel = gbcv.fit(dftrain)"
   ]
  },
  {
   "cell_type": "code",
   "execution_count": 44,
   "metadata": {},
   "outputs": [
    {
     "name": "stdout",
     "output_type": "stream",
     "text": [
      "CrossValidatorModel_ed43a5db428a\n",
      "time: 22.9 ms (started: 2021-06-13 23:55:17 -05:00)\n"
     ]
    }
   ],
   "source": [
    "print(gbcvModel)"
   ]
  },
  {
   "cell_type": "code",
   "execution_count": 45,
   "metadata": {},
   "outputs": [
    {
     "name": "stdout",
     "output_type": "stream",
     "text": [
      "time: 543 ms (started: 2021-06-13 23:55:17 -05:00)\n"
     ]
    }
   ],
   "source": [
    "gbpredictions = gbcvModel.transform(dftest)"
   ]
  },
  {
   "cell_type": "code",
   "execution_count": 46,
   "metadata": {},
   "outputs": [
    {
     "name": "stdout",
     "output_type": "stream",
     "text": [
      "RMSE: 5.012730518860586\n",
      "time: 9.21 s (started: 2021-06-13 23:55:17 -05:00)\n"
     ]
    }
   ],
   "source": [
    "print('RMSE:', gbevaluator.evaluate(gbpredictions))"
   ]
  },
  {
   "cell_type": "code",
   "execution_count": 38,
   "metadata": {},
   "outputs": [
    {
     "name": "stdout",
     "output_type": "stream",
     "text": [
      "time: 3.26 s (started: 2021-06-13 23:38:40 -05:00)\n"
     ]
    }
   ],
   "source": [
    "path=\"file:\"+os.getcwd()+\"/models-rmse-4.8/\"\n",
    "gbt.save(path+\"gbtregressor\")\n",
    "gbcv.save(path+\"gbcrosvalidator\")\n",
    "gbcvModel.save(path+\"Model\")\n",
    "gbevaluator.save(path+\"evaluator\")"
   ]
  },
  {
   "cell_type": "code",
   "execution_count": 47,
   "metadata": {},
   "outputs": [
    {
     "name": "stdout",
     "output_type": "stream",
     "text": [
      "time: 1.43 s (started: 2021-06-13 23:56:28 -05:00)\n"
     ]
    }
   ],
   "source": [
    "sc.stop()"
   ]
  },
  {
   "cell_type": "code",
   "execution_count": null,
   "metadata": {},
   "outputs": [],
   "source": []
  }
 ],
 "metadata": {
  "kernelspec": {
   "display_name": "Python 3",
   "language": "python",
   "name": "python3"
  },
  "language_info": {
   "codemirror_mode": {
    "name": "ipython",
    "version": 3
   },
   "file_extension": ".py",
   "mimetype": "text/x-python",
   "name": "python",
   "nbconvert_exporter": "python",
   "pygments_lexer": "ipython3",
   "version": "3.9.1"
  }
 },
 "nbformat": 4,
 "nbformat_minor": 4
}
