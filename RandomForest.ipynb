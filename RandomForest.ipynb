{
 "cells": [
  {
   "cell_type": "markdown",
   "id": "5699e86d",
   "metadata": {},
   "source": [
    "### Modelo de Bosque Aleatorio con SparkML y Python"
   ]
  },
  {
   "cell_type": "markdown",
   "id": "6dd1ba55",
   "metadata": {},
   "source": [
    "Los bosques aleatorios combinan muchos árboles de decisión para reducir el riesgo de sobreajuste. SparkML admite bosques aleatorios para la clasificación binaria, multiclase y para la regresión.\n",
    "Para predecir el costo de viaje en taxi, se construirá un modelo de regresión."
   ]
  },
  {
   "cell_type": "code",
   "execution_count": 1,
   "id": "1268821e",
   "metadata": {},
   "outputs": [
    {
     "name": "stdout",
     "output_type": "stream",
     "text": [
      "time: 0 ns (started: 2021-06-14 01:06:44 -05:00)\n"
     ]
    }
   ],
   "source": [
    "# medir tiempos\n",
    "%load_ext autotime"
   ]
  },
  {
   "cell_type": "code",
   "execution_count": 2,
   "id": "bbec066b",
   "metadata": {},
   "outputs": [
    {
     "name": "stdout",
     "output_type": "stream",
     "text": [
      "time: 15 ms (started: 2021-06-14 01:06:44 -05:00)\n"
     ]
    }
   ],
   "source": [
    "import findspark\n",
    "#findspark.init(\"/usr/local/spark/spark-3.1.1-bin-hadoop2.7\")  #para linux\n",
    "findspark.init()                                               #para windows"
   ]
  },
  {
   "cell_type": "code",
   "execution_count": 3,
   "id": "a8a04562",
   "metadata": {
    "scrolled": true
   },
   "outputs": [
    {
     "data": {
      "text/html": [
       "\n",
       "        <div>\n",
       "            <p><b>SparkContext</b></p>\n",
       "\n",
       "            <p><a href=\"http://192.168.1.19:4040\">Spark UI</a></p>\n",
       "\n",
       "            <dl>\n",
       "              <dt>Version</dt>\n",
       "                <dd><code>v3.1.1</code></dd>\n",
       "              <dt>Master</dt>\n",
       "                <dd><code>local[*]</code></dd>\n",
       "              <dt>AppName</dt>\n",
       "                <dd><code>RandomForestRegressor</code></dd>\n",
       "            </dl>\n",
       "        </div>\n",
       "        "
      ],
      "text/plain": [
       "<SparkContext master=local[*] appName=RandomForestRegressor>"
      ]
     },
     "execution_count": 3,
     "metadata": {},
     "output_type": "execute_result"
    },
    {
     "name": "stdout",
     "output_type": "stream",
     "text": [
      "time: 5.5 s (started: 2021-06-14 01:06:44 -05:00)\n"
     ]
    }
   ],
   "source": [
    "from pyspark import SparkConf, SparkContext\n",
    "# Variable de configuración\n",
    "conf = SparkConf().setMaster(\"local[*]\").setAppName(\"RandomForestRegressor\")  \\\n",
    "    .set(\"spark.driver.maxResultSize\",\"0\") \\\n",
    "    .set(\"spark.driver.memory\", \"8g\") \\\n",
    "    .set(\"spark.cores.max\", \"8\")\n",
    "    #.set(\"spark.executor.memory\", \"1g\") \\\n",
    "    \n",
    "# iniciamos un contexto spark (solo se ejecuta uno. Para ejecutar otra vez , reiniciar el kernel)\n",
    "sc = SparkContext(conf = conf)\n",
    "sc"
   ]
  },
  {
   "cell_type": "markdown",
   "id": "61f946b1",
   "metadata": {},
   "source": [
    "### Cargando el conjunto de datos"
   ]
  },
  {
   "cell_type": "code",
   "execution_count": 4,
   "id": "48687f86",
   "metadata": {},
   "outputs": [
    {
     "name": "stdout",
     "output_type": "stream",
     "text": [
      "time: 11.4 s (started: 2021-06-14 01:06:50 -05:00)\n"
     ]
    }
   ],
   "source": [
    "from pyspark.sql.types import StringType\n",
    "from pyspark import SQLContext\n",
    "# le pasamos el contexto anterior\n",
    "sqlContext = SQLContext(sc)\n",
    "import os\n",
    "# path=\"file:\"+os.getcwd()+\"/Output\"           # para linux\n",
    "path=os.getcwd()+\"/Output\"                     # para windows\n",
    "dfspark = sqlContext.read.format('csv').option(\"header\",\"true\").option(\"inferSchema\",\"true\").load(path+'/*.csv')"
   ]
  },
  {
   "cell_type": "code",
   "execution_count": 5,
   "id": "00336b33",
   "metadata": {},
   "outputs": [
    {
     "name": "stdout",
     "output_type": "stream",
     "text": [
      "root\n",
      " |-- fare_amount: double (nullable = true)\n",
      " |-- pickup_datetime: string (nullable = true)\n",
      " |-- pickup_longitude: double (nullable = true)\n",
      " |-- pickup_latitude: double (nullable = true)\n",
      " |-- dropoff_longitude: double (nullable = true)\n",
      " |-- dropoff_latitude: double (nullable = true)\n",
      " |-- passenger_count: integer (nullable = true)\n",
      " |-- dif_latitude: double (nullable = true)\n",
      " |-- dif_longitude: double (nullable = true)\n",
      " |-- distancia: double (nullable = true)\n",
      " |-- dia_semana: integer (nullable = true)\n",
      " |-- hora: integer (nullable = true)\n",
      " |-- mes: integer (nullable = true)\n",
      " |-- anio: integer (nullable = true)\n",
      "\n",
      "time: 15 ms (started: 2021-06-14 01:07:01 -05:00)\n"
     ]
    }
   ],
   "source": [
    "dfspark.printSchema()"
   ]
  },
  {
   "cell_type": "markdown",
   "id": "1a981d2f",
   "metadata": {},
   "source": [
    "La característica pickup_datetime ya se usó para crear nuevos datos, por lo que procederemos a eliminarla antes de construir el modelo de regresión."
   ]
  },
  {
   "cell_type": "code",
   "execution_count": 6,
   "id": "fd75a69e",
   "metadata": {},
   "outputs": [
    {
     "name": "stdout",
     "output_type": "stream",
     "text": [
      "time: 0 ns (started: 2021-06-14 01:07:01 -05:00)\n"
     ]
    }
   ],
   "source": [
    "dfspark = dfspark.drop('pickup_datetime')"
   ]
  },
  {
   "cell_type": "code",
   "execution_count": 7,
   "id": "8cd80f56",
   "metadata": {},
   "outputs": [
    {
     "name": "stdout",
     "output_type": "stream",
     "text": [
      "time: 0 ns (started: 2021-06-14 01:07:01 -05:00)\n"
     ]
    }
   ],
   "source": [
    "# Tomando una muestra del 5% del total\n",
    "# dfspark = dfspark.sample(fraction = 0.05, withReplacement = False, seed=0)"
   ]
  },
  {
   "cell_type": "markdown",
   "id": "bebf85ba",
   "metadata": {},
   "source": [
    "La clase Random Forest de Spark ML requiere que las características estén formateadas como un solo vector.\n",
    "Usaremos VectorAsembler para poder trabajar con una sola columna que incluya las caracteristicas fundamentales."
   ]
  },
  {
   "cell_type": "code",
   "execution_count": 8,
   "id": "4004a425",
   "metadata": {},
   "outputs": [
    {
     "name": "stdout",
     "output_type": "stream",
     "text": [
      "time: 203 ms (started: 2021-06-14 01:07:01 -05:00)\n"
     ]
    }
   ],
   "source": [
    "from pyspark.ml.feature import VectorAssembler\n",
    "feature_list = []\n",
    "ignore=['fare_amount',\n",
    "        'pickup_longitude',\n",
    "       'pickup_latitude',\n",
    "       'dropoff_longitude',\n",
    "       'dropoff_latitude',\n",
    "       'dif_latitude',\n",
    "       'dif_longitude']\n",
    "for col in dfspark.columns:\n",
    "    if col in ignore:\n",
    "        continue\n",
    "    else:\n",
    "        feature_list.append(col)\n",
    "assembler = VectorAssembler(inputCols=feature_list, outputCol=\"features\")"
   ]
  },
  {
   "cell_type": "markdown",
   "id": "1b1195fb",
   "metadata": {},
   "source": [
    "Las únicas entradas para el modelo de bosque aleatorio son la etiqueta (costo del viaje) y el vector características."
   ]
  },
  {
   "cell_type": "code",
   "execution_count": 9,
   "id": "0b4719fd",
   "metadata": {},
   "outputs": [
    {
     "name": "stdout",
     "output_type": "stream",
     "text": [
      "time: 47 ms (started: 2021-06-14 01:07:01 -05:00)\n"
     ]
    }
   ],
   "source": [
    "from pyspark.ml.regression import RandomForestRegressor\n",
    "rf = RandomForestRegressor(labelCol=\"fare_amount\", featuresCol=\"features\",seed=0)"
   ]
  },
  {
   "cell_type": "markdown",
   "id": "e2a252cf",
   "metadata": {},
   "source": [
    "División del trabajo en 2 etapas"
   ]
  },
  {
   "cell_type": "code",
   "execution_count": 10,
   "id": "d1f215bc",
   "metadata": {},
   "outputs": [
    {
     "name": "stdout",
     "output_type": "stream",
     "text": [
      "time: 0 ns (started: 2021-06-14 01:07:01 -05:00)\n"
     ]
    }
   ],
   "source": [
    "from pyspark.ml import Pipeline\n",
    "pipeline = Pipeline(stages=[assembler, rf])"
   ]
  },
  {
   "cell_type": "markdown",
   "id": "add48c06",
   "metadata": {},
   "source": [
    "Predefiniendo valores para los parámetros a probar cuando ejecutamos el modelo.\n",
    "El modelo se reevalúa iterativamente mediante validación cruzada para cada combinación (9) de valores de parámetros.\n",
    "Los parámetros no especificados usarán la configuración predeterminada de Spark ."
   ]
  },
  {
   "cell_type": "code",
   "execution_count": 11,
   "id": "83624b1a",
   "metadata": {},
   "outputs": [
    {
     "name": "stdout",
     "output_type": "stream",
     "text": [
      "time: 0 ns (started: 2021-06-14 01:07:01 -05:00)\n"
     ]
    }
   ],
   "source": [
    "from pyspark.ml.tuning import ParamGridBuilder\n",
    "import numpy as np\n",
    "paramGrid = ParamGridBuilder() \\\n",
    "    .addGrid(rf.numTrees, [int(x) for x in np.linspace(start = 10, stop = 25, num = 3)]) \\\n",
    "    .addGrid(rf.maxDepth, [int(x) for x in np.linspace(start = 5, stop = 10, num = 3)]) \\\n",
    "    .build()"
   ]
  },
  {
   "cell_type": "markdown",
   "id": "71070898",
   "metadata": {},
   "source": [
    "Usaremos validación cruzada para dividor aleatoriamente la muestra original en tres submuestras, entrenamiento y validación, de esta manera probaremos los parámetros que acabamos de definir."
   ]
  },
  {
   "cell_type": "code",
   "execution_count": 12,
   "id": "084607fc",
   "metadata": {},
   "outputs": [
    {
     "name": "stdout",
     "output_type": "stream",
     "text": [
      "time: 0 ns (started: 2021-06-14 01:07:01 -05:00)\n"
     ]
    }
   ],
   "source": [
    "from pyspark.ml.tuning import CrossValidator\n",
    "from pyspark.ml.evaluation import RegressionEvaluator\n",
    "crossval = CrossValidator(estimator=pipeline,\n",
    "                          estimatorParamMaps=paramGrid,\n",
    "                          evaluator=RegressionEvaluator(labelCol=\"fare_amount\"),\n",
    "                          numFolds=3)"
   ]
  },
  {
   "cell_type": "markdown",
   "id": "84215e96",
   "metadata": {},
   "source": [
    "División de los datos usando randomSplit. El 20% del conjunto de datos para pruebas y el 80% restante para entrenamiento."
   ]
  },
  {
   "cell_type": "code",
   "execution_count": 13,
   "id": "5e90c26a",
   "metadata": {},
   "outputs": [
    {
     "name": "stdout",
     "output_type": "stream",
     "text": [
      "time: 31 ms (started: 2021-06-14 01:07:02 -05:00)\n"
     ]
    }
   ],
   "source": [
    "(trainingData, testData) = dfspark.randomSplit([0.8, 0.2],seed=0)"
   ]
  },
  {
   "cell_type": "markdown",
   "id": "70fb52d7",
   "metadata": {},
   "source": [
    "El modelo se ajusta utilizando el CrossValidator que creamos. Esto hace que Spark evalúe las características y \"haga crecer\" numerosos árboles de decisión utilizando muestras aleatorias de los datos de entrenamiento."
   ]
  },
  {
   "cell_type": "code",
   "execution_count": 14,
   "id": "0901105d",
   "metadata": {},
   "outputs": [
    {
     "name": "stdout",
     "output_type": "stream",
     "text": [
      "time: 6min 34s (started: 2021-06-14 01:07:02 -05:00)\n"
     ]
    }
   ],
   "source": [
    "cvModel = crossval.fit(trainingData)"
   ]
  },
  {
   "cell_type": "code",
   "execution_count": 15,
   "id": "f049fd69",
   "metadata": {},
   "outputs": [
    {
     "name": "stdout",
     "output_type": "stream",
     "text": [
      "time: 62 ms (started: 2021-06-14 01:13:36 -05:00)\n"
     ]
    }
   ],
   "source": [
    "predictions = cvModel.transform(testData)"
   ]
  },
  {
   "cell_type": "code",
   "execution_count": 16,
   "id": "ca41b883",
   "metadata": {},
   "outputs": [
    {
     "data": {
      "image/png": "[encoded data removed]",
      "text/plain": [
       "<Figure size 432x288 with 1 Axes>"
      ]
     },
     "metadata": {
      "needs_background": "light"
     },
     "output_type": "display_data"
    },
    {
     "name": "stdout",
     "output_type": "stream",
     "text": [
      "time: 1min 7s (started: 2021-06-14 01:13:36 -05:00)\n"
     ]
    }
   ],
   "source": [
    "import matplotlib.pyplot as plt\n",
    "evaluator = RegressionEvaluator(labelCol=\"fare_amount\", predictionCol=\"prediction\", metricName=\"rmse\")\n",
    "rmse = evaluator.evaluate(predictions)\n",
    "rfPred = cvModel.transform(dfspark)\n",
    "rfResult = rfPred.toPandas()\n",
    "plt.plot(rfResult.fare_amount, rfResult.prediction, 'bo')\n",
    "plt.xlabel('Price')\n",
    "plt.ylabel('Prediction')\n",
    "plt.suptitle(\"Model Performance RMSE: %f\" % rmse)\n",
    "plt.show()"
   ]
  },
  {
   "cell_type": "markdown",
   "id": "0511c014",
   "metadata": {},
   "source": [
    "Importancia de las características a la hora de evaluar el modelo."
   ]
  },
  {
   "cell_type": "code",
   "execution_count": 17,
   "id": "b93f5ef6",
   "metadata": {},
   "outputs": [
    {
     "data": {
      "text/plain": [
       "Text(0.5, 1.0, 'Feature Importances')"
      ]
     },
     "execution_count": 17,
     "metadata": {},
     "output_type": "execute_result"
    },
    {
     "data": {
      "image/png": "[encoded data removed]",
      "text/plain": [
       "<Figure size 432x288 with 1 Axes>"
      ]
     },
     "metadata": {
      "needs_background": "light"
     },
     "output_type": "display_data"
    },
    {
     "name": "stdout",
     "output_type": "stream",
     "text": [
      "time: 359 ms (started: 2021-06-14 01:14:59 -05:00)\n"
     ]
    }
   ],
   "source": [
    "bestPipeline = cvModel.bestModel\n",
    "bestModel = bestPipeline.stages[1]\n",
    "importances = bestModel.featureImportances\n",
    "x_values = list(range(len(importances)))\n",
    "plt.bar(x_values, importances, orientation = 'vertical')\n",
    "plt.xticks(x_values, feature_list, rotation=40)\n",
    "plt.ylabel('Importance')\n",
    "plt.xlabel('Feature')\n",
    "plt.title('Feature Importances')"
   ]
  },
  {
   "cell_type": "code",
   "execution_count": 18,
   "id": "440515a1",
   "metadata": {},
   "outputs": [
    {
     "name": "stdout",
     "output_type": "stream",
     "text": [
      "numTrees -  10\n",
      "maxDepth -  10\n",
      "time: 0 ns (started: 2021-06-14 01:15:02 -05:00)\n"
     ]
    }
   ],
   "source": [
    "print('numTrees - ', bestModel.getNumTrees)\n",
    "print('maxDepth - ', bestModel.getOrDefault('maxDepth'))"
   ]
  },
  {
   "cell_type": "code",
   "execution_count": 19,
   "id": "cc6df25c",
   "metadata": {},
   "outputs": [
    {
     "name": "stdout",
     "output_type": "stream",
     "text": [
      "time: 4.92 s (started: 2021-06-14 01:15:10 -05:00)\n"
     ]
    }
   ],
   "source": [
    "path=os.getcwd()+\"/RFR-rmse-4.85/\"\n",
    "rf.save(path+\"RandomForestRegressor\")\n",
    "crossval.save(path+\"CrossValidator\")\n",
    "cvModel.save(path+\"Model\")\n",
    "evaluator.save(path+\"Evaluator\")"
   ]
  },
  {
   "cell_type": "code",
   "execution_count": null,
   "id": "c635d5b5",
   "metadata": {},
   "outputs": [],
   "source": []
  }
 ],
 "metadata": {
  "kernelspec": {
   "display_name": "Python 3",
   "language": "python",
   "name": "python3"
  },
  "language_info": {
   "codemirror_mode": {
    "name": "ipython",
    "version": 3
   },
   "file_extension": ".py",
   "mimetype": "text/x-python",
   "name": "python",
   "nbconvert_exporter": "python",
   "pygments_lexer": "ipython3",
   "version": "3.9.1"
  }
 },
 "nbformat": 4,
 "nbformat_minor": 5
}
