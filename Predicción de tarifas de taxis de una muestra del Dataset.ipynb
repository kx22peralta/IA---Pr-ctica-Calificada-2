{
 "cells": [
  {
   "cell_type": "code",
<<<<<<< HEAD:Predicción de tarifas de taxis.ipynb
   "execution_count": null,
   "metadata": {
    "scrolled": true
   },
   "outputs": [],
=======
   "execution_count": 1,
   "metadata": {},
   "outputs": [
    {
     "name": "stdout",
     "output_type": "stream",
     "text": [
      "time: 931 µs (started: 2021-06-12 14:26:23 -05:00)\n"
     ]
    }
   ],
>>>>>>> renzo:Predicción de tarifas de taxis de una muestra del Dataset.ipynb
   "source": [
    "# medir tiempos\n",
    "%load_ext autotime"
   ]
  },
  {
   "cell_type": "markdown",
   "metadata": {},
   "source": [
    "# Apache Spark [Apache spark](https://spark.apache.org/)\n",
    "Apache Spark™ es un motor de análisis unificado para el procesamiento de datos a gran escala.\n",
    "### pyspark\n",
    "PySpark es una interfaz para Apache Spark en Python. No solo le permite escribir aplicaciones Spark utilizando las API de Python, sino que también proporciona el shell de PySpark para analizar interactivamente sus datos en un entorno distribuido. PySpark es compatible con la mayoría de las funciones de Spark, como Spark SQL, DataFrame, Streaming, MLlib (Machine Learning) y Spark Core."
   ]
  },
  {
   "cell_type": "markdown",
   "metadata": {},
   "source": [
    "##### Modulo para encontrar pyspark en el sistema"
   ]
  },
  {
   "cell_type": "code",
   "execution_count": 1,
   "metadata": {},
<<<<<<< HEAD:Predicción de tarifas de taxis.ipynb
   "outputs": [],
=======
   "outputs": [
    {
     "name": "stdout",
     "output_type": "stream",
     "text": [
      "time: 8.95 ms (started: 2021-06-12 14:26:24 -05:00)\n"
     ]
    }
   ],
>>>>>>> renzo:Predicción de tarifas de taxis de una muestra del Dataset.ipynb
   "source": [
    "import findspark\n",
    "#findspark.init(\"/usr/local/spark/spark-3.1.1-bin-hadoop2.7\")    #para linux\n",
    "findspark.init()                                                 #para windows"
   ]
  },
  {
   "cell_type": "markdown",
   "metadata": {},
   "source": [
    "##### Importando pyspark "
   ]
  },
  {
   "cell_type": "code",
   "execution_count": 2,
   "metadata": {},
   "outputs": [
    {
     "data": {
      "text/html": [
       "\n",
       "        <div>\n",
       "            <p><b>SparkContext</b></p>\n",
       "\n",
       "            <p><a href=\"http://192.168.1.4:4040\">Spark UI</a></p>\n",
       "\n",
       "            <dl>\n",
       "              <dt>Version</dt>\n",
       "                <dd><code>v3.1.2</code></dd>\n",
       "              <dt>Master</dt>\n",
       "                <dd><code>local[*]</code></dd>\n",
       "              <dt>AppName</dt>\n",
       "                <dd><code>ModeloML</code></dd>\n",
       "            </dl>\n",
       "        </div>\n",
       "        "
      ],
      "text/plain": [
       "<SparkContext master=local[*] appName=ModeloML>"
      ]
     },
     "execution_count": 2,
     "metadata": {},
     "output_type": "execute_result"
<<<<<<< HEAD:Predicción de tarifas de taxis.ipynb
=======
    },
    {
     "name": "stdout",
     "output_type": "stream",
     "text": [
      "time: 4.31 s (started: 2021-06-12 14:26:24 -05:00)\n"
     ]
>>>>>>> renzo:Predicción de tarifas de taxis de una muestra del Dataset.ipynb
    }
   ],
   "source": [
    "from pyspark import SparkConf, SparkContext\n",
    "# Variable de configuración\n",
<<<<<<< HEAD:Predicción de tarifas de taxis.ipynb
    "conf = SparkConf().setMaster(\"local[*]\").setAppName(\"ModeloML\")\n",
=======
    "conf = SparkConf().setMaster(\"local[*]\").setAppName(\"ModeloML\").set(\"spark.driver.maxResultSize\",\"0\")\n",
>>>>>>> renzo:Predicción de tarifas de taxis de una muestra del Dataset.ipynb
    "# iniciamos un contexto spark (solo se ejecuta uno. Para ejecutar otra vez , reiniciar el kernel)\n",
    "sc = SparkContext(conf = conf)\n",
    "sc"
   ]
  },
  {
   "cell_type": "markdown",
   "metadata": {},
   "source": [
    "##### Importando el conjunto de datos"
   ]
  },
  {
   "cell_type": "code",
   "execution_count": 4,
   "metadata": {},
<<<<<<< HEAD:Predicción de tarifas de taxis.ipynb
   "outputs": [],
=======
   "outputs": [
    {
     "name": "stdout",
     "output_type": "stream",
     "text": [
      "time: 1min 7s (started: 2021-06-12 14:26:29 -05:00)\n"
     ]
    }
   ],
>>>>>>> renzo:Predicción de tarifas de taxis de una muestra del Dataset.ipynb
   "source": [
    "from pyspark.sql.types import StringType\n",
    "from pyspark import SQLContext\n",
    "# le pasamos el contexto anterior\n",
    "sqlContext = SQLContext(sc)\n",
    "dfspark = sqlContext.read.format('csv').option(\"header\",\"true\").option(\"inferSchema\",\"true\").load('train.csv')"
   ]
  },
  {
   "cell_type": "markdown",
   "metadata": {},
   "source": [
    "##### Columnas y tipo de datos"
   ]
  },
  {
   "cell_type": "code",
   "execution_count": 5,
   "metadata": {},
   "outputs": [
    {
     "name": "stdout",
     "output_type": "stream",
     "text": [
      "root\n",
      " |-- key: string (nullable = true)\n",
      " |-- fare_amount: double (nullable = true)\n",
      " |-- pickup_datetime: string (nullable = true)\n",
      " |-- pickup_longitude: double (nullable = true)\n",
      " |-- pickup_latitude: double (nullable = true)\n",
      " |-- dropoff_longitude: double (nullable = true)\n",
      " |-- dropoff_latitude: double (nullable = true)\n",
      " |-- passenger_count: integer (nullable = true)\n",
<<<<<<< HEAD:Predicción de tarifas de taxis.ipynb
      "\n"
=======
      "\n",
      "time: 22.5 ms (started: 2021-06-12 14:27:36 -05:00)\n"
>>>>>>> renzo:Predicción de tarifas de taxis de una muestra del Dataset.ipynb
     ]
    }
   ],
   "source": [
    " dfspark.printSchema()"
   ]
  },
  {
   "cell_type": "markdown",
   "metadata": {},
   "source": [
    "##### Total de filas"
   ]
  },
  {
   "cell_type": "code",
   "execution_count": 5,
   "metadata": {},
   "outputs": [
    {
<<<<<<< HEAD:Predicción de tarifas de taxis.ipynb
     "data": {
      "text/plain": [
       "55423856"
      ]
     },
     "execution_count": 5,
     "metadata": {},
     "output_type": "execute_result"
=======
     "name": "stdout",
     "output_type": "stream",
     "text": [
      "total de filas del conjunto de datos 55423856\n",
      "time: 13.4 s (started: 2021-06-12 14:27:36 -05:00)\n"
     ]
>>>>>>> renzo:Predicción de tarifas de taxis de una muestra del Dataset.ipynb
    }
   ],
   "source": [
    "cant_total=dfspark.count()\n",
    "print(\"total de filas del conjunto de datos\",cant_total)"
   ]
  },
  {
   "cell_type": "markdown",
   "metadata": {},
   "source": [
    "##### Tomando una muestra del 4% del conjunto de datos"
   ]
  },
  {
   "cell_type": "code",
   "execution_count": 6,
   "metadata": {},
<<<<<<< HEAD:Predicción de tarifas de taxis.ipynb
   "outputs": [],
=======
   "outputs": [
    {
     "name": "stdout",
     "output_type": "stream",
     "text": [
      "time: 7.28 ms (started: 2021-06-12 14:27:49 -05:00)\n"
     ]
    }
   ],
>>>>>>> renzo:Predicción de tarifas de taxis de una muestra del Dataset.ipynb
   "source": [
    "dfspark_sample = dfspark.sample(fraction = 0.04, withReplacement = False, seed=0)"
   ]
  },
  {
   "cell_type": "markdown",
   "metadata": {},
   "source": [
    "##### Total de filas de la muestra"
   ]
  },
  {
   "cell_type": "code",
   "execution_count": 7,
   "metadata": {},
   "outputs": [
    {
<<<<<<< HEAD:Predicción de tarifas de taxis.ipynb
     "data": {
      "text/plain": [
       "2219408"
      ]
     },
     "execution_count": 7,
     "metadata": {},
     "output_type": "execute_result"
=======
     "name": "stdout",
     "output_type": "stream",
     "text": [
      "total de filas de la muestra del conjunto de datos 2219408\n",
      "time: 14.3 s (started: 2021-06-12 14:27:49 -05:00)\n"
     ]
>>>>>>> renzo:Predicción de tarifas de taxis de una muestra del Dataset.ipynb
    }
   ],
   "source": [
    "cant_muestra=dfspark_sample.count()\n",
    "print(\"total de filas de la muestra del conjunto de datos\",cant_muestra)"
   ]
  },
  {
   "cell_type": "markdown",
   "metadata": {},
   "source": [
    "### Limpieza de la muestra"
   ]
  },
  {
   "cell_type": "markdown",
   "metadata": {},
   "source": [
    "Se procederá a eliminar la columna con la característica \"key\", debido a que contiene datos innecesarios para lograr el objetivo."
   ]
  },
  {
   "cell_type": "code",
   "execution_count": 8,
   "metadata": {},
<<<<<<< HEAD:Predicción de tarifas de taxis.ipynb
   "outputs": [],
=======
   "outputs": [
    {
     "name": "stdout",
     "output_type": "stream",
     "text": [
      "time: 11.2 ms (started: 2021-06-12 14:28:03 -05:00)\n"
     ]
    }
   ],
>>>>>>> renzo:Predicción de tarifas de taxis de una muestra del Dataset.ipynb
   "source": [
    "dfspark_sample = dfspark_sample.drop('key')"
   ]
  },
  {
   "cell_type": "markdown",
   "metadata": {},
   "source": [
    "###### Eliminando Valores Nulos de la tabla"
   ]
  },
  {
   "cell_type": "code",
   "execution_count": 9,
   "metadata": {},
<<<<<<< HEAD:Predicción de tarifas de taxis.ipynb
   "outputs": [],
=======
   "outputs": [
    {
     "name": "stdout",
     "output_type": "stream",
     "text": [
      "time: 438 ms (started: 2021-06-12 14:28:03 -05:00)\n"
     ]
    }
   ],
>>>>>>> renzo:Predicción de tarifas de taxis de una muestra del Dataset.ipynb
   "source": [
    "# fare_amount (costo de viaje) no nulos\n",
    "dfspark_sample = dfspark_sample.filter(\"fare_amount is not NULL\")\n",
    "# passenger (número de pasajeros) no nulos\n",
    "dfspark_sample = dfspark_sample.filter(\"passenger_count is not NULL\")\n",
    "# pickup_datetime (fecha y hora de incio de viaje) no nulos\n",
    "dfspark_sample = dfspark_sample.filter(\"pickup_datetime is not NULL\")\n",
    "# pickup (longitud y latitud de inicio de viaje) no nulos\n",
    "dfspark_sample = dfspark_sample.filter(\"pickup_longitude is not NULL\")\n",
    "dfspark_sample = dfspark_sample.filter(\"pickup_latitude is not NULL\")\n",
    "# dropoff (longitud y laitud de fin de viaje) no nulos\n",
    "dfspark_sample = dfspark_sample.filter(\"dropoff_longitude is not NULL\")\n",
    "dfspark_sample = dfspark_sample.filter(\"dropoff_latitude is not NULL\")"
   ]
  },
  {
<<<<<<< HEAD:Predicción de tarifas de taxis.ipynb
   "cell_type": "code",
   "execution_count": 10,
   "metadata": {},
   "outputs": [
    {
     "data": {
      "text/plain": [
       "2219390"
      ]
     },
     "execution_count": 10,
     "metadata": {},
     "output_type": "execute_result"
    }
   ],
   "source": [
    "ncant_muestra=dfspark_sample.count()\n",
    "ncant_muestra"
   ]
  },
  {
=======
>>>>>>> renzo:Predicción de tarifas de taxis de una muestra del Dataset.ipynb
   "cell_type": "markdown",
   "metadata": {},
   "source": [
    "###### Eliminado valores nan y duplicados"
   ]
  },
  {
   "cell_type": "code",
   "execution_count": 11,
   "metadata": {},
   "outputs": [
    {
     "name": "stdout",
     "output_type": "stream",
     "text": [
<<<<<<< HEAD:Predicción de tarifas de taxis.ipynb
      "Cantidad de filas eliminadas de la muestra:  18\n"
=======
      "Cantidad de filas eliminadas de la muestra:  18\n",
      "time: 1min 6s (started: 2021-06-12 14:28:04 -05:00)\n"
>>>>>>> renzo:Predicción de tarifas de taxis de una muestra del Dataset.ipynb
     ]
    }
   ],
   "source": [
    "# tabla sin valores nan, sin duplicados\n",
    "dfspark_sample=dfspark_sample.na.drop().dropDuplicates()\n",
    "# cantidad de  data sin nulos ni nan\n",
    "cantnn_muestra=dfspark_sample.count()\n",
    "print(\"Cantidad de filas eliminadas de la muestra: \",cant_muestra-cantnn_muestra)"
   ]
  },
  {
   "cell_type": "markdown",
   "metadata": {},
   "source": [
    "##### La muestra se guarda en el HDFS \n",
    "Este metodo acelera algunos procesos."
   ]
  },
  {
   "cell_type": "code",
   "execution_count": 12,
   "metadata": {},
   "outputs": [
    {
     "data": {
      "text/plain": [
       "DataFrame[fare_amount: double, pickup_datetime: string, pickup_longitude: double, pickup_latitude: double, dropoff_longitude: double, dropoff_latitude: double, passenger_count: int]"
      ]
     },
     "execution_count": 12,
     "metadata": {},
     "output_type": "execute_result"
<<<<<<< HEAD:Predicción de tarifas de taxis.ipynb
=======
    },
    {
     "name": "stdout",
     "output_type": "stream",
     "text": [
      "time: 122 ms (started: 2021-06-12 14:29:10 -05:00)\n"
     ]
>>>>>>> renzo:Predicción de tarifas de taxis de una muestra del Dataset.ipynb
    }
   ],
   "source": [
    "dfspark_sample.persist()"
   ]
  },
  {
   "cell_type": "markdown",
   "metadata": {},
   "source": [
    "### Estadisticas de la muestra"
   ]
  },
  {
   "cell_type": "code",
   "execution_count": 13,
   "metadata": {},
<<<<<<< HEAD:Predicción de tarifas de taxis.ipynb
   "outputs": [],
=======
   "outputs": [
    {
     "name": "stdout",
     "output_type": "stream",
     "text": [
      "time: 268 ms (started: 2021-06-12 14:29:10 -05:00)\n"
     ]
    }
   ],
>>>>>>> renzo:Predicción de tarifas de taxis de una muestra del Dataset.ipynb
   "source": [
    "import numpy as np\n",
    "import pandas as pd"
   ]
  },
  {
   "cell_type": "code",
   "execution_count": 14,
   "metadata": {},
<<<<<<< HEAD:Predicción de tarifas de taxis.ipynb
   "outputs": [],
=======
   "outputs": [
    {
     "name": "stdout",
     "output_type": "stream",
     "text": [
      "time: 1min 12s (started: 2021-06-12 14:29:11 -05:00)\n"
     ]
    }
   ],
>>>>>>> renzo:Predicción de tarifas de taxis de una muestra del Dataset.ipynb
   "source": [
    "# casteamos a pandas\n",
    "summary=dfspark_sample.describe([\"pickup_longitude\",\n",
    "                                 \"pickup_latitude\",\n",
    "                                 \"dropoff_longitude\",\n",
    "                                 \"dropoff_latitude\",\n",
    "                                 \"passenger_count\",\n",
    "                                 \"fare_amount\"]).toPandas()"
   ]
  },
  {
   "cell_type": "code",
   "execution_count": 15,
   "metadata": {},
   "outputs": [
    {
     "data": {
      "text/html": [
       "<div>\n",
       "<style scoped>\n",
       "    .dataframe tbody tr th:only-of-type {\n",
       "        vertical-align: middle;\n",
       "    }\n",
       "\n",
       "    .dataframe tbody tr th {\n",
       "        vertical-align: top;\n",
       "    }\n",
       "\n",
       "    .dataframe thead th {\n",
       "        text-align: right;\n",
       "    }\n",
       "</style>\n",
       "<table border=\"1\" class=\"dataframe\">\n",
       "  <thead>\n",
       "    <tr style=\"text-align: right;\">\n",
       "      <th></th>\n",
       "      <th>summary</th>\n",
       "      <th>pickup_longitude</th>\n",
       "      <th>pickup_latitude</th>\n",
       "      <th>dropoff_longitude</th>\n",
       "      <th>dropoff_latitude</th>\n",
       "      <th>passenger_count</th>\n",
       "      <th>fare_amount</th>\n",
       "    </tr>\n",
       "  </thead>\n",
       "  <tbody>\n",
       "    <tr>\n",
       "      <th>0</th>\n",
       "      <td>count</td>\n",
       "      <td>2219390</td>\n",
       "      <td>2219390</td>\n",
       "      <td>2219390</td>\n",
       "      <td>2219390</td>\n",
       "      <td>2219390</td>\n",
       "      <td>2219390</td>\n",
       "    </tr>\n",
       "    <tr>\n",
       "      <th>1</th>\n",
       "      <td>mean</td>\n",
       "      <td>-72.50355231460159</td>\n",
       "      <td>39.91779369363991</td>\n",
       "      <td>-72.50697030839864</td>\n",
       "      <td>39.91850726486102</td>\n",
       "      <td>1.6851959322156087</td>\n",
       "      <td>11.352503967306385</td>\n",
       "    </tr>\n",
       "    <tr>\n",
       "      <th>2</th>\n",
       "      <td>stddev</td>\n",
       "      <td>13.098889190132796</td>\n",
       "      <td>9.821243657749829</td>\n",
       "      <td>13.244549098861283</td>\n",
       "      <td>10.317917931047642</td>\n",
       "      <td>1.3377753769552685</td>\n",
       "      <td>42.449025079080954</td>\n",
       "    </tr>\n",
       "    <tr>\n",
       "      <th>3</th>\n",
       "      <td>min</td>\n",
       "      <td>-3366.527908</td>\n",
       "      <td>-3488.079513</td>\n",
       "      <td>-3366.527908</td>\n",
       "      <td>-3488.079513</td>\n",
       "      <td>0</td>\n",
       "      <td>-52.0</td>\n",
       "    </tr>\n",
       "    <tr>\n",
       "      <th>4</th>\n",
       "      <td>max</td>\n",
       "      <td>2497.117435</td>\n",
       "      <td>2964.163855</td>\n",
       "      <td>3211.57975</td>\n",
       "      <td>3333.304575</td>\n",
       "      <td>208</td>\n",
       "      <td>61550.86</td>\n",
       "    </tr>\n",
       "  </tbody>\n",
       "</table>\n",
       "</div>"
      ],
      "text/plain": [
       "  summary    pickup_longitude    pickup_latitude   dropoff_longitude  \\\n",
       "0   count             2219390            2219390             2219390   \n",
       "1    mean  -72.50355231460159  39.91779369363991  -72.50697030839864   \n",
       "2  stddev  13.098889190132796  9.821243657749829  13.244549098861283   \n",
       "3     min        -3366.527908       -3488.079513        -3366.527908   \n",
       "4     max         2497.117435        2964.163855          3211.57975   \n",
       "\n",
       "     dropoff_latitude     passenger_count         fare_amount  \n",
       "0             2219390             2219390             2219390  \n",
       "1   39.91850726486102  1.6851959322156087  11.352503967306385  \n",
       "2  10.317917931047642  1.3377753769552685  42.449025079080954  \n",
       "3        -3488.079513                   0               -52.0  \n",
       "4         3333.304575                 208            61550.86  "
      ]
     },
     "execution_count": 15,
     "metadata": {},
     "output_type": "execute_result"
<<<<<<< HEAD:Predicción de tarifas de taxis.ipynb
=======
    },
    {
     "name": "stdout",
     "output_type": "stream",
     "text": [
      "time: 50.8 ms (started: 2021-06-12 14:30:23 -05:00)\n"
     ]
>>>>>>> renzo:Predicción de tarifas de taxis de una muestra del Dataset.ipynb
    }
   ],
   "source": [
    "summary"
   ]
  },
  {
   "cell_type": "markdown",
   "metadata": {},
   "source": [
    "##### cantidad viajes por número de pasajeros."
   ]
  },
  {
   "cell_type": "code",
   "execution_count": 16,
   "metadata": {},
   "outputs": [
    {
     "name": "stdout",
     "output_type": "stream",
     "text": [
      "+---------------+-------+\n",
      "|passenger_count|  count|\n",
      "+---------------+-------+\n",
      "|              1|1535882|\n",
      "|              6|  47132|\n",
      "|              3|  97242|\n",
      "|              5| 157254|\n",
      "|              4|  47158|\n",
      "|              7|      1|\n",
      "|              2| 326983|\n",
      "|              0|   7734|\n",
      "|            208|      4|\n",
      "+---------------+-------+\n",
<<<<<<< HEAD:Predicción de tarifas de taxis.ipynb
      "\n"
=======
      "\n",
      "time: 2.99 s (started: 2021-06-12 14:30:23 -05:00)\n"
>>>>>>> renzo:Predicción de tarifas de taxis de una muestra del Dataset.ipynb
     ]
    }
   ],
   "source": [
    "dfspark_sample.groupBy(\"passenger_count\").count().show()"
   ]
  },
  {
   "cell_type": "markdown",
   "metadata": {},
   "source": [
    "##### Observaciones :\n",
    "1. Valores de passenger_count imposibles , como 34,49,51,129,208.\n",
    "2. Precios demasiados elevados debido a la cantidad de pasajeros y negativo(imposible).\n",
    "3. Cantidad de datos en la que el precio es menor a o igual a 0"
   ]
  },
  {
   "cell_type": "markdown",
   "metadata": {},
   "source": [
    "##### minimos y máximos de latitude y longitude"
   ]
  },
  {
   "cell_type": "code",
   "execution_count": 17,
   "metadata": {},
   "outputs": [
    {
     "name": "stdout",
     "output_type": "stream",
     "text": [
      "+---------------------+\n",
      "|min(pickup_longitude)|\n",
      "+---------------------+\n",
      "|         -3366.527908|\n",
      "+---------------------+\n",
      "\n",
      "+---------------------+\n",
      "|max(pickup_longitude)|\n",
      "+---------------------+\n",
      "|          2497.117435|\n",
      "+---------------------+\n",
      "\n",
      "+----------------------+\n",
      "|min(dropoff_longitude)|\n",
      "+----------------------+\n",
      "|          -3366.527908|\n",
      "+----------------------+\n",
      "\n",
      "+----------------------+\n",
      "|max(dropoff_longitude)|\n",
      "+----------------------+\n",
      "|            3211.57975|\n",
      "+----------------------+\n",
      "\n",
      "+--------------------+\n",
      "|min(pickup_latitude)|\n",
      "+--------------------+\n",
      "|        -3488.079513|\n",
      "+--------------------+\n",
      "\n",
      "+--------------------+\n",
      "|max(pickup_latitude)|\n",
      "+--------------------+\n",
      "|         2964.163855|\n",
      "+--------------------+\n",
      "\n",
      "+---------------------+\n",
      "|min(dropoff_latitude)|\n",
      "+---------------------+\n",
      "|         -3488.079513|\n",
      "+---------------------+\n",
      "\n",
      "+---------------------+\n",
      "|max(dropoff_latitude)|\n",
      "+---------------------+\n",
      "|          3333.304575|\n",
      "+---------------------+\n",
<<<<<<< HEAD:Predicción de tarifas de taxis.ipynb
      "\n"
=======
      "\n",
      "time: 5.37 s (started: 2021-06-12 14:30:26 -05:00)\n"
>>>>>>> renzo:Predicción de tarifas de taxis de una muestra del Dataset.ipynb
     ]
    }
   ],
   "source": [
    "# mínimo y máximo para longitud del subconjunto de datos\n",
    "long_min_i=dfspark_sample.agg({'pickup_longitude': 'min'}).show()\n",
    "long_max_i=dfspark_sample.agg({'pickup_longitude': 'max'}).show()\n",
    "long_min_f=dfspark_sample.agg({'dropoff_longitude': 'min'}).show()\n",
    "long_max_f=dfspark_sample.agg({'dropoff_longitude': 'max'}).show()\n",
    "\n",
    "# mínimo y máximo para para latitud del subconjuntos de datos\n",
    "lat_min_i=dfspark_sample.agg({'pickup_latitude': 'min'}).show()\n",
    "lat_max_i=dfspark_sample.agg({'pickup_latitude': 'max'}).show()\n",
    "lat_min_f=dfspark_sample.agg({'dropoff_latitude': 'min'}).show()\n",
    "lat_max_f=dfspark_sample.agg({'dropoff_latitude': 'max'}).show()"
   ]
  },
  {
   "cell_type": "markdown",
   "metadata": {},
   "source": [
    "##### Observaciones:\n",
    "1. Valores para longitud imposibles, ya que longitud varía entre -90 y 90\n",
    "2. Valores para latitud imposibles, ya que latitud varía entre -180 y 180"
   ]
  },
  {
   "cell_type": "markdown",
   "metadata": {},
   "source": [
    "### Transformación de la data"
   ]
  },
  {
   "cell_type": "markdown",
   "metadata": {},
   "source": [
    "##### Seleccionar passenger_count de 0-9\n",
    "El número de pasajeros de cada viaje puede ser entre 0 a 9."
   ]
  },
  {
   "cell_type": "code",
   "execution_count": 18,
   "metadata": {},
<<<<<<< HEAD:Predicción de tarifas de taxis.ipynb
   "outputs": [],
=======
   "outputs": [
    {
     "name": "stdout",
     "output_type": "stream",
     "text": [
      "time: 41.2 ms (started: 2021-06-12 14:30:32 -05:00)\n"
     ]
    }
   ],
>>>>>>> renzo:Predicción de tarifas de taxis de una muestra del Dataset.ipynb
   "source": [
    "dfspark_sample = dfspark_sample.filter(\"passenger_count < 10\")"
   ]
  },
  {
   "cell_type": "code",
   "execution_count": 19,
   "metadata": {},
   "outputs": [
    {
     "name": "stdout",
     "output_type": "stream",
     "text": [
      "+---------------+-------+\n",
      "|passenger_count|  count|\n",
      "+---------------+-------+\n",
      "|              1|1535882|\n",
      "|              6|  47132|\n",
      "|              3|  97242|\n",
      "|              5| 157254|\n",
      "|              4|  47158|\n",
      "|              7|      1|\n",
      "|              2| 326983|\n",
      "|              0|   7734|\n",
      "+---------------+-------+\n",
<<<<<<< HEAD:Predicción de tarifas de taxis.ipynb
      "\n"
=======
      "\n",
      "time: 2.69 s (started: 2021-06-12 14:30:32 -05:00)\n"
>>>>>>> renzo:Predicción de tarifas de taxis de una muestra del Dataset.ipynb
     ]
    }
   ],
   "source": [
    "dfspark_sample.groupBy(\"passenger_count\").count().show()"
   ]
  },
  {
   "cell_type": "markdown",
   "metadata": {},
   "source": [
    "##### Seleccionar fare_amount mayores o iguales a cero\n",
    "El precio del viaje puede no puede ser menor que cero."
   ]
  },
  {
   "cell_type": "code",
   "execution_count": 20,
   "metadata": {},
   "outputs": [
    {
     "name": "stdout",
     "output_type": "stream",
     "text": [
      "time: 14.5 ms (started: 2021-06-12 14:30:34 -05:00)\n"
     ]
    }
   ],
   "source": [
    "# Selecionar fare_amount mayor a 0\n",
    "dfspark_sample = dfspark_sample.filter(\"fare_amount >= 0\")"
   ]
  },
  {
   "cell_type": "code",
   "execution_count": 20,
   "metadata": {},
<<<<<<< HEAD:Predicción de tarifas de taxis.ipynb
   "outputs": [],
=======
   "outputs": [
    {
     "name": "stdout",
     "output_type": "stream",
     "text": [
      "+-------+------------------+\n",
      "|summary|       fare_amount|\n",
      "+-------+------------------+\n",
      "|  count|           2219298|\n",
      "|   mean|11.353255646605419|\n",
      "| stddev| 42.44968689216035|\n",
      "|    min|               0.0|\n",
      "|    max|          61550.86|\n",
      "+-------+------------------+\n",
      "\n",
      "time: 1.36 s (started: 2021-06-12 14:30:34 -05:00)\n"
     ]
    }
   ],
   "source": [
    "dfspark_sample.describe([\"fare_amount\"]).show()"
   ]
  },
  {
   "cell_type": "markdown",
   "metadata": {},
   "source": [
    "##### Latitud y Longitud validas.\n",
    "La latitud válida varía entre -90 a 90.\n",
    "La longitud válida varía entre -180 a 180."
   ]
  },
  {
   "cell_type": "code",
   "execution_count": 22,
   "metadata": {},
   "outputs": [
    {
     "name": "stdout",
     "output_type": "stream",
     "text": [
      "time: 79.7 ms (started: 2021-06-12 14:30:36 -05:00)\n"
     ]
    }
   ],
>>>>>>> renzo:Predicción de tarifas de taxis de una muestra del Dataset.ipynb
   "source": [
    "# Filtrando valores grandes para longitud, de tal manera que solo se considerará valores correctos.\n",
    "dfspark_sample = dfspark_sample.filter(\"pickup_longitude < 180 and pickup_longitude > -180\" )\n",
    "dfspark_sample = dfspark_sample.filter(\"dropoff_longitude < 180 and dropoff_longitude > -180\")\n",
    "dfspark_sample = dfspark_sample.filter(\"pickup_latitude < 90 and pickup_latitude > -90\" )\n",
    "dfspark_sample = dfspark_sample.filter(\"dropoff_latitude < 90 and dropoff_latitude > -90\")"
   ]
  },
  {
   "cell_type": "code",
<<<<<<< HEAD:Predicción de tarifas de taxis.ipynb
   "execution_count": 21,
   "metadata": {},
   "outputs": [],
=======
   "execution_count": 23,
   "metadata": {},
   "outputs": [
    {
     "name": "stdout",
     "output_type": "stream",
     "text": [
      "time: 2.53 s (started: 2021-06-12 14:30:36 -05:00)\n"
     ]
    }
   ],
>>>>>>> renzo:Predicción de tarifas de taxis de una muestra del Dataset.ipynb
   "source": [
    "summary_new=dfspark_sample.describe([\"pickup_longitude\",\n",
    "                                 \"pickup_latitude\",\n",
    "                                 \"dropoff_longitude\",\n",
    "                                 \"dropoff_latitude\"]).toPandas()"
   ]
  },
  {
   "cell_type": "code",
<<<<<<< HEAD:Predicción de tarifas de taxis.ipynb
   "execution_count": 22,
=======
   "execution_count": 24,
>>>>>>> renzo:Predicción de tarifas de taxis de una muestra del Dataset.ipynb
   "metadata": {},
   "outputs": [
    {
     "data": {
      "text/html": [
       "<div>\n",
       "<style scoped>\n",
       "    .dataframe tbody tr th:only-of-type {\n",
       "        vertical-align: middle;\n",
       "    }\n",
       "\n",
       "    .dataframe tbody tr th {\n",
       "        vertical-align: top;\n",
       "    }\n",
       "\n",
       "    .dataframe thead th {\n",
       "        text-align: right;\n",
       "    }\n",
       "</style>\n",
       "<table border=\"1\" class=\"dataframe\">\n",
       "  <thead>\n",
       "    <tr style=\"text-align: right;\">\n",
       "      <th></th>\n",
       "      <th>summary</th>\n",
       "      <th>pickup_longitude</th>\n",
       "      <th>pickup_latitude</th>\n",
       "      <th>dropoff_longitude</th>\n",
       "      <th>dropoff_latitude</th>\n",
       "    </tr>\n",
       "  </thead>\n",
       "  <tbody>\n",
       "    <tr>\n",
       "      <th>0</th>\n",
       "      <td>count</td>\n",
       "      <td>2219173</td>\n",
       "      <td>2219173</td>\n",
       "      <td>2219173</td>\n",
       "      <td>2219173</td>\n",
       "    </tr>\n",
       "    <tr>\n",
       "      <th>1</th>\n",
       "      <td>mean</td>\n",
       "      <td>-72.49600158477304</td>\n",
       "      <td>39.91679455251933</td>\n",
       "      <td>-72.50229931133802</td>\n",
       "      <td>39.91968272022599</td>\n",
       "    </tr>\n",
       "    <tr>\n",
       "      <th>2</th>\n",
       "      <td>stddev</td>\n",
       "      <td>10.463045755203852</td>\n",
       "      <td>6.112153680008393</td>\n",
       "      <td>10.439016533276373</td>\n",
       "      <td>6.104146217099324</td>\n",
       "    </tr>\n",
       "    <tr>\n",
       "      <th>3</th>\n",
       "      <td>min</td>\n",
       "      <td>-121.91499328613281</td>\n",
       "      <td>-74.017222</td>\n",
       "      <td>-121.9151840209961</td>\n",
       "      <td>-74.177303</td>\n",
       "    </tr>\n",
       "    <tr>\n",
       "      <th>4</th>\n",
       "      <td>max</td>\n",
       "      <td>40.840962</td>\n",
       "      <td>74.007413</td>\n",
       "      <td>73.93996</td>\n",
       "      <td>74.95</td>\n",
       "    </tr>\n",
       "  </tbody>\n",
       "</table>\n",
       "</div>"
      ],
      "text/plain": [
       "  summary     pickup_longitude    pickup_latitude   dropoff_longitude  \\\n",
       "0   count              2219173            2219173             2219173   \n",
       "1    mean   -72.49600158477304  39.91679455251933  -72.50229931133802   \n",
       "2  stddev   10.463045755203852  6.112153680008393  10.439016533276373   \n",
       "3     min  -121.91499328613281         -74.017222  -121.9151840209961   \n",
       "4     max            40.840962          74.007413            73.93996   \n",
       "\n",
       "    dropoff_latitude  \n",
       "0            2219173  \n",
       "1  39.91968272022599  \n",
       "2  6.104146217099324  \n",
       "3         -74.177303  \n",
       "4              74.95  "
      ]
     },
<<<<<<< HEAD:Predicción de tarifas de taxis.ipynb
     "execution_count": 22,
     "metadata": {},
     "output_type": "execute_result"
=======
     "execution_count": 24,
     "metadata": {},
     "output_type": "execute_result"
    },
    {
     "name": "stdout",
     "output_type": "stream",
     "text": [
      "time: 14.6 ms (started: 2021-06-12 14:30:38 -05:00)\n"
     ]
>>>>>>> renzo:Predicción de tarifas de taxis de una muestra del Dataset.ipynb
    }
   ],
   "source": [
    "summary_new"
   ]
  },
  {
   "cell_type": "markdown",
   "metadata": {},
   "source": [
    "##### Diferencias de latitud y longitud"
   ]
  },
  {
   "cell_type": "code",
<<<<<<< HEAD:Predicción de tarifas de taxis.ipynb
   "execution_count": 23,
   "metadata": {},
   "outputs": [],
=======
   "execution_count": 25,
   "metadata": {},
   "outputs": [
    {
     "name": "stdout",
     "output_type": "stream",
     "text": [
      "time: 532 ms (started: 2021-06-12 14:30:39 -05:00)\n"
     ]
    }
   ],
>>>>>>> renzo:Predicción de tarifas de taxis de una muestra del Dataset.ipynb
   "source": [
    "# Agregamos columnas de diferencias.\n",
    "from pyspark.sql.functions import abs\n",
    "dfspark_sample = dfspark_sample.withColumn(\"dif_latitude\",\n",
    "                                           abs(dfspark_sample['dropoff_latitude']-dfspark_sample['pickup_latitude']))\n",
    "dfspark_sample = dfspark_sample.withColumn(\"dif_longitude\",\n",
    "                                           abs(dfspark_sample['dropoff_longitude']-dfspark_sample['pickup_longitude']))"
   ]
  },
  {
   "cell_type": "markdown",
   "metadata": {},
   "source": [
    "##### Distancia Haversine\n",
    "Es la distancia entre dos puntos geográficos"
   ]
  },
  {
   "cell_type": "code",
<<<<<<< HEAD:Predicción de tarifas de taxis.ipynb
   "execution_count": 24,
   "metadata": {},
   "outputs": [],
=======
   "execution_count": 26,
   "metadata": {},
   "outputs": [
    {
     "name": "stdout",
     "output_type": "stream",
     "text": [
      "time: 414 ms (started: 2021-06-12 14:30:39 -05:00)\n"
     ]
    }
   ],
>>>>>>> renzo:Predicción de tarifas de taxis de una muestra del Dataset.ipynb
   "source": [
    "# Creamos la función para hallar la distancia entre dos puntos geográficos\n",
    "import math\n",
    "from pyspark.sql.functions import udf, array, col\n",
    "from pyspark.sql.types import FloatType\n",
    "\n",
    "def haversine(x):\n",
    "    lat1=x[0]\n",
    "    lon1=x[1]\n",
    "    lat2=x[2]\n",
    "    lon2=x[3]\n",
    "    \n",
    "    rad=math.pi/180\n",
    "    dlat=lat2-lat1\n",
    "    dlon=lon2-lon1\n",
    "    R=6372.795477598\n",
    "    a=(math.sin(rad*dlat/2))**2 + math.cos(rad*lat1)*math.cos(rad*lat2)*(math.sin(rad*dlon/2))**2\n",
    "    distancia=2*R*math.asin(math.sqrt(a))\n",
    "    return distancia\n",
    "\n",
    "distancia_udf = udf(lambda z: haversine(z), FloatType())\n",
    "#spark.udf.register('distancia_udf', distancia_udf)\n",
    "dfspark_sample = dfspark_sample.withColumn('distancia', distancia_udf(array('pickup_latitude','pickup_longitude','dropoff_latitude','dropoff_longitude')))                             "
   ]
  },
  {
   "cell_type": "code",
<<<<<<< HEAD:Predicción de tarifas de taxis.ipynb
   "execution_count": 25,
=======
   "execution_count": 27,
>>>>>>> renzo:Predicción de tarifas de taxis de una muestra del Dataset.ipynb
   "metadata": {},
   "outputs": [
    {
     "name": "stdout",
     "output_type": "stream",
     "text": [
      "+----------+\n",
      "| distancia|\n",
      "+----------+\n",
      "| 1.8683056|\n",
      "| 1.8191968|\n",
      "|  1.145462|\n",
      "| 1.0793539|\n",
      "| 1.1367035|\n",
      "|  2.424119|\n",
      "|  3.829884|\n",
      "| 1.0900514|\n",
      "| 5.5276585|\n",
      "|  3.122764|\n",
      "| 2.3627946|\n",
      "| 5.3667502|\n",
      "| 1.3431213|\n",
      "|  9.317738|\n",
      "|  5.013023|\n",
      "| 4.6022677|\n",
      "| 1.1546545|\n",
      "| 20.964258|\n",
      "| 0.8852747|\n",
      "|0.17227533|\n",
      "+----------+\n",
      "only showing top 20 rows\n",
<<<<<<< HEAD:Predicción de tarifas de taxis.ipynb
      "\n"
=======
      "\n",
      "time: 1.24 s (started: 2021-06-12 14:30:39 -05:00)\n"
>>>>>>> renzo:Predicción de tarifas de taxis de una muestra del Dataset.ipynb
     ]
    }
   ],
   "source": [
    "dfspark_sample.select(col('distancia')).show()"
   ]
  },
  {
   "cell_type": "markdown",
   "metadata": {},
   "source": [
    "#### Creando columnas día de la semana, mes, año y hora del viaje."
   ]
  },
  {
   "cell_type": "markdown",
   "metadata": {},
   "source": [
    "###### funciones para aplicar a la columna pickupdatetime y obtener las columnas deseadas"
   ]
  },
  {
   "cell_type": "code",
<<<<<<< HEAD:Predicción de tarifas de taxis.ipynb
   "execution_count": 26,
   "metadata": {},
   "outputs": [],
=======
   "execution_count": 28,
   "metadata": {},
   "outputs": [
    {
     "name": "stdout",
     "output_type": "stream",
     "text": [
      "time: 13.8 ms (started: 2021-06-12 14:30:41 -05:00)\n"
     ]
    }
   ],
>>>>>>> renzo:Predicción de tarifas de taxis de una muestra del Dataset.ipynb
   "source": [
    "# funciones que me ayudarán en la transformación.\n",
    "from datetime import datetime, date, time, timedelta\n",
    "import calendar\n",
    "def dia(dia):\n",
    "    if dia == 1:\n",
    "        return 'lunes'\n",
    "    if dia == 2:\n",
    "        return 'martes'\n",
    "    if dia == 3:\n",
    "        return 'miércoles'\n",
    "    if dia == 4:\n",
    "        return 'jueves'\n",
    "    if dia == 5:\n",
    "        return 'viernes'\n",
    "    if dia == 6:\n",
    "        return 'sábado'\n",
    "    if dia == 7:\n",
    "        return 'domingo'\n",
    "    if dia < 1 or dia > 7:\n",
    "        return \n",
    "\n",
    "from pyspark.sql import Row\n",
    "\n",
    "def dia_semana(row):\n",
    "    fecha , hora , utc = row.split(\" \")\n",
    "    formato_fecha = \"%Y-%m-%d\"\n",
    "    dia_semana = datetime.isoweekday(datetime.strptime(fecha,formato_fecha))\n",
    "    return dia_semana\n",
    "\n",
    "def mes(row):\n",
    "    fecha , hora , utc = row.split(\" \")\n",
    "    formato_fecha = \"%Y-%m-%d\"\n",
    "    mes = datetime.strptime(fecha,formato_fecha).month\n",
    "    return mes\n",
    "\n",
    "def anio(row):\n",
    "    fecha , hora , utc = row.split(\" \")\n",
    "    formato_fecha = \"%Y-%m-%d\"\n",
    "    anio = datetime.strptime(fecha,formato_fecha).year\n",
    "    return anio\n",
    "\n",
    "def hora(row):\n",
    "    fecha , hora , utc = row.split(\" \")\n",
    "    formato_hora = \"%H:%M:%S\"\n",
    "    hora = datetime.strptime(hora,formato_hora).hour\n",
    "    return hora\n",
    "\n",
    "\n",
    "\n",
    "from pyspark.sql.functions import udf\n",
    "from pyspark.sql.types import IntegerType\n",
    "\n",
    "# convirtiendo las funciones en funciones UDF\n",
    "udf_dia_semana= udf( lambda z : dia_semana(z), IntegerType())\n",
    "udf_mes= udf( lambda z : mes(z), IntegerType())\n",
    "udf_anio= udf( lambda z : anio(z), IntegerType())\n",
    "udf_hora= udf( lambda z : hora(z), IntegerType())"
   ]
  },
  {
<<<<<<< HEAD:Predicción de tarifas de taxis.ipynb
   "cell_type": "code",
   "execution_count": 27,
   "metadata": {},
   "outputs": [],
=======
   "cell_type": "markdown",
   "metadata": {},
>>>>>>> renzo:Predicción de tarifas de taxis de una muestra del Dataset.ipynb
   "source": [
    "##### Creando colunma dia de la semana , hora , mes y año"
   ]
  },
  {
   "cell_type": "code",
   "execution_count": 28,
   "metadata": {},
<<<<<<< HEAD:Predicción de tarifas de taxis.ipynb
   "outputs": [],
=======
   "outputs": [
    {
     "name": "stdout",
     "output_type": "stream",
     "text": [
      "time: 347 ms (started: 2021-06-12 14:30:41 -05:00)\n"
     ]
    }
   ],
>>>>>>> renzo:Predicción de tarifas de taxis de una muestra del Dataset.ipynb
   "source": [
    "from pyspark.sql.functions import col\n",
    "dfspark_sample = dfspark_sample.withColumn('dia_semana', \n",
    "                                           udf_dia_semana(dfspark_sample['pickup_datetime'] )  )\n",
    "dfspark_sample = dfspark_sample.withColumn('hora', \n",
    "                                           udf_hora(dfspark_sample['pickup_datetime'] )  )\n",
    "\n",
    "dfspark_sample = dfspark_sample.withColumn('mes', \n",
    "                                           udf_mes(dfspark_sample['pickup_datetime'] )  )\n",
    "\n",
    "dfspark_sample = dfspark_sample.withColumn('anio', \n",
    "                                           udf_anio(dfspark_sample['pickup_datetime'] )  )\n"
   ]
  },
  {
   "cell_type": "code",
<<<<<<< HEAD:Predicción de tarifas de taxis.ipynb
   "execution_count": 29,
   "metadata": {},
=======
   "execution_count": 30,
   "metadata": {
    "collapsed": true
   },
>>>>>>> renzo:Predicción de tarifas de taxis de una muestra del Dataset.ipynb
   "outputs": [
    {
     "name": "stdout",
     "output_type": "stream",
     "text": [
<<<<<<< HEAD:Predicción de tarifas de taxis.ipynb
      "root\n",
      " |-- fare_amount: double (nullable = true)\n",
      " |-- pickup_datetime: string (nullable = true)\n",
      " |-- pickup_longitude: double (nullable = true)\n",
      " |-- pickup_latitude: double (nullable = true)\n",
      " |-- dropoff_longitude: double (nullable = true)\n",
      " |-- dropoff_latitude: double (nullable = true)\n",
      " |-- passenger_count: integer (nullable = true)\n",
      " |-- dif_latitude: double (nullable = true)\n",
      " |-- dif_longitude: double (nullable = true)\n",
      " |-- distancia: float (nullable = true)\n",
      " |-- dia_semana: integer (nullable = true)\n",
      " |-- hora: integer (nullable = true)\n",
      "\n"
=======
      "+-----------+--------------------+-----------------+-----------------+------------------+------------------+---------------+--------------------+--------------------+----------+----------+----+---+----+\n",
      "|fare_amount|     pickup_datetime| pickup_longitude|  pickup_latitude| dropoff_longitude|  dropoff_latitude|passenger_count|        dif_latitude|       dif_longitude| distancia|dia_semana|hora|mes|anio|\n",
      "+-----------+--------------------+-----------------+-----------------+------------------+------------------+---------------+--------------------+--------------------+----------+----------+----+---+----+\n",
      "|        8.0|2015-03-12 23:14:...|-73.9931411743164|40.72793960571289|-73.99661254882812|40.744529724121094|              2|0.016590118408203125| 0.00347137451171875| 1.8683056|         4|  23|  3|2015|\n",
      "|       10.0|2013-08-21 08:38:...|       -73.964837|        40.769933|        -73.983462|         40.761655|              1|0.008278000000004226|0.018625000000000114| 1.8191968|         3|   8|  8|2013|\n",
      "|        5.5|2014-01-23 18:40:...|       -74.001017|        40.746352|        -73.990873|         40.739497|              1| 0.00685500000000161|0.010144000000011033|  1.145462|         4|  18|  1|2014|\n",
      "|        6.1|2011-12-24 14:03:...|       -73.982433|        40.768137|        -73.989684|         40.776138|              1|0.008001000000000147|0.007250999999996566| 1.0793539|         6|  14| 12|2011|\n",
      "|        5.0|2012-10-14 23:24:...|       -73.990358|        40.740377|         -74.00085|         40.733955|              1|0.006422000000000594| 0.01049199999999928| 1.1367035|         7|  23| 10|2012|\n",
      "|        5.7|2010-09-27 16:52:...|       -73.990648|        40.763472|        -73.976782|          40.78257|              5|0.019097999999999615| 0.01386599999999305|  2.424119|         1|  16|  9|2010|\n",
      "|       10.2|2009-01-15 22:58:...|       -73.981319|        40.753531|        -73.996766|         40.721148|              2| 0.03238300000000294| 0.01544699999999466|  3.829884|         4|  22|  1|2009|\n",
      "|        4.9|2010-07-11 02:28:...|       -73.991235|        40.727735|        -73.992067|         40.717955|              2|0.009779999999999234|8.320000000026084E-4| 1.0900514|         7|   2|  7|2010|\n",
      "|       22.1|2011-07-24 15:13:...|       -73.948315|        40.724691|        -73.966977|         40.772335|              1| 0.04764399999999824|0.018662000000006174| 5.5276585|         7|  15|  7|2011|\n",
      "|        9.3|2010-11-29 22:04:...|       -73.989308|        40.719017|        -74.006488|         40.743892|              1|0.024875000000001535| 0.01718000000001041|  3.122764|         1|  22| 11|2010|\n",
      "|        6.5|2010-05-23 02:50:...|       -73.978623|         40.78303|        -73.960038|         40.798945|              1|0.015915000000006785|0.018585000000001628| 2.3627946|         7|   2|  5|2010|\n",
      "|       13.0|2012-10-28 01:52:...|       -73.955297|        40.779647|         -73.98095|         40.735482|              3|0.044164999999999566|0.025653000000005477| 5.3667502|         7|   1| 10|2012|\n",
      "|        5.7|2012-02-12 22:13:...|       -73.977564|        40.752028|        -73.980131|         40.763946|              1|0.011917999999994322|0.002566999999999...| 1.3431213|         7|  22|  2|2012|\n",
      "|       16.1|2009-09-10 02:45:...|       -73.985666|        40.767549|        -73.939055|          40.84353|              1| 0.07598099999999874|0.046610999999998626|  9.317738|         4|   2|  9|2009|\n",
      "|       11.7|2012-07-22 02:22:...|       -73.976467|        40.751037|        -73.917138|         40.754415|              1|0.003378000000004988|0.059329000000005294|  5.013023|         7|   2|  7|2012|\n",
      "|       17.3|2011-08-24 19:17:...|           -74.01|         40.72042|        -73.974872|           40.7521|              5|0.031680000000001485| 0.03512800000000027| 4.6022677|         3|  19|  8|2011|\n",
      "|       11.3|2010-01-10 14:36:...|       -73.783215|         40.71171|        -73.789757|          40.70259|              2|0.009119999999995798|0.006541999999996051| 1.1546545|         7|  14|  1|2010|\n",
      "|      57.33|2013-12-05 19:56:...|       -73.788503|        40.647132|        -73.988924|         40.758668|              3| 0.11153600000000097| 0.20042099999999152| 20.964258|         4|  19| 12|2013|\n",
      "|        4.5|2009-06-30 09:59:...|       -73.987928|        40.750743|        -73.988983|         40.758662|              1| 0.00791900000000112|0.001055000000008...| 0.8852747|         2|   9|  6|2009|\n",
      "|        6.5|2015-02-19 11:45:...|-73.9583511352539|40.77812957763672|-73.95774841308594| 40.77960968017578|              5|  0.0014801025390625|  6.0272216796875E-4|0.17227533|         4|  11|  2|2015|\n",
      "+-----------+--------------------+-----------------+-----------------+------------------+------------------+---------------+--------------------+--------------------+----------+----------+----+---+----+\n",
      "only showing top 20 rows\n",
      "\n",
      "time: 635 ms (started: 2021-06-12 14:33:18 -05:00)\n"
>>>>>>> renzo:Predicción de tarifas de taxis de una muestra del Dataset.ipynb
     ]
    }
   ],
   "source": [
    "dfspark_sample.show()"
   ]
  },
  {
   "cell_type": "markdown",
   "metadata": {},
   "source": [
<<<<<<< HEAD:Predicción de tarifas de taxis.ipynb
    "##### Observación: En este punto la data estaria totalmente ok."
   ]
  },
  {
=======
    "##### Guardando el conjunto de datos  de muestra en un carpeta output "
   ]
  },
  {
   "cell_type": "code",
   "execution_count": 31,
   "metadata": {},
   "outputs": [
    {
     "name": "stdout",
     "output_type": "stream",
     "text": [
      "time: 59.1 s (started: 2021-06-12 14:33:41 -05:00)\n"
     ]
    }
   ],
   "source": [
    "import os\n",
    "path=\"file:\"+os.getcwd()+\"/Output\"\n",
    "dfspark_sample.write.format(\"csv\").option(\"header\", \"true\").save(path)"
   ]
  },
  {
>>>>>>> renzo:Predicción de tarifas de taxis de una muestra del Dataset.ipynb
   "cell_type": "markdown",
   "metadata": {},
   "source": [
    "### Estadística de las nuevas variables"
   ]
  },
  {
   "cell_type": "code",
   "execution_count": 30,
   "metadata": {},
   "outputs": [],
   "source": [
    "clean_summary=dfspark_sample.describe().toPandas()"
   ]
  },
  {
   "cell_type": "code",
   "execution_count": 31,
   "metadata": {},
   "outputs": [
    {
     "data": {
      "text/html": [
       "<div>\n",
       "<style scoped>\n",
       "    .dataframe tbody tr th:only-of-type {\n",
       "        vertical-align: middle;\n",
       "    }\n",
       "\n",
       "    .dataframe tbody tr th {\n",
       "        vertical-align: top;\n",
       "    }\n",
       "\n",
       "    .dataframe thead th {\n",
       "        text-align: right;\n",
       "    }\n",
       "</style>\n",
       "<table border=\"1\" class=\"dataframe\">\n",
       "  <thead>\n",
       "    <tr style=\"text-align: right;\">\n",
       "      <th></th>\n",
       "      <th>summary</th>\n",
       "      <th>pickup_longitude</th>\n",
       "      <th>pickup_latitude</th>\n",
       "      <th>dropoff_longitude</th>\n",
       "      <th>dropoff_latitude</th>\n",
       "      <th>passenger_count</th>\n",
       "      <th>fare_amount</th>\n",
       "      <th>dif_latitude</th>\n",
       "      <th>dif_longitude</th>\n",
       "      <th>dia_semana</th>\n",
       "      <th>hora</th>\n",
       "      <th>distancia</th>\n",
       "    </tr>\n",
       "  </thead>\n",
       "  <tbody>\n",
       "    <tr>\n",
       "      <th>0</th>\n",
       "      <td>count</td>\n",
       "      <td>2219173</td>\n",
       "      <td>2219173</td>\n",
       "      <td>2219173</td>\n",
       "      <td>2219173</td>\n",
       "      <td>2219173</td>\n",
       "      <td>2219173</td>\n",
       "      <td>2219173</td>\n",
       "      <td>2219173</td>\n",
       "      <td>2219173</td>\n",
       "      <td>2219173</td>\n",
       "      <td>2219173</td>\n",
       "    </tr>\n",
       "    <tr>\n",
       "      <th>1</th>\n",
       "      <td>mean</td>\n",
       "      <td>-72.49600158477304</td>\n",
       "      <td>39.91679455251933</td>\n",
       "      <td>-72.50229931133802</td>\n",
       "      <td>39.91968272022599</td>\n",
       "      <td>1.6848177226381178</td>\n",
       "      <td>11.353258637339264</td>\n",
       "      <td>0.09229194952135444</td>\n",
       "      <td>0.16173652033227268</td>\n",
       "      <td>4.042932660049487</td>\n",
       "      <td>13.512919452426647</td>\n",
       "      <td>19.38368660013694</td>\n",
       "    </tr>\n",
       "    <tr>\n",
       "      <th>2</th>\n",
       "      <td>stddev</td>\n",
       "      <td>10.463045755203852</td>\n",
       "      <td>6.112153680008393</td>\n",
       "      <td>10.439016533276373</td>\n",
       "      <td>6.104146217099324</td>\n",
       "      <td>1.3087759778931933</td>\n",
       "      <td>42.45082368146176</td>\n",
       "      <td>1.699312422647234</td>\n",
       "      <td>3.1986543317178917</td>\n",
       "      <td>1.9490730146054265</td>\n",
       "      <td>6.517990756130113</td>\n",
       "      <td>365.85874227507634</td>\n",
       "    </tr>\n",
       "    <tr>\n",
       "      <th>3</th>\n",
       "      <td>min</td>\n",
       "      <td>-121.91499328613281</td>\n",
       "      <td>-74.017222</td>\n",
       "      <td>-121.9151840209961</td>\n",
       "      <td>-74.177303</td>\n",
       "      <td>0</td>\n",
       "      <td>0.0</td>\n",
       "      <td>0.0</td>\n",
       "      <td>0.0</td>\n",
       "      <td>1</td>\n",
       "      <td>0</td>\n",
       "      <td>0.0</td>\n",
       "    </tr>\n",
       "    <tr>\n",
       "      <th>4</th>\n",
       "      <td>max</td>\n",
       "      <td>40.840962</td>\n",
       "      <td>74.007413</td>\n",
       "      <td>73.93996</td>\n",
       "      <td>74.95</td>\n",
       "      <td>7</td>\n",
       "      <td>61550.86</td>\n",
       "      <td>73.961092</td>\n",
       "      <td>89.483332</td>\n",
       "      <td>7</td>\n",
       "      <td>23</td>\n",
       "      <td>9952.922</td>\n",
       "    </tr>\n",
       "  </tbody>\n",
       "</table>\n",
       "</div>"
      ],
      "text/plain": [
       "  summary     pickup_longitude    pickup_latitude   dropoff_longitude  \\\n",
       "0   count              2219173            2219173             2219173   \n",
       "1    mean   -72.49600158477304  39.91679455251933  -72.50229931133802   \n",
       "2  stddev   10.463045755203852  6.112153680008393  10.439016533276373   \n",
       "3     min  -121.91499328613281         -74.017222  -121.9151840209961   \n",
       "4     max            40.840962          74.007413            73.93996   \n",
       "\n",
       "    dropoff_latitude     passenger_count         fare_amount  \\\n",
       "0            2219173             2219173             2219173   \n",
       "1  39.91968272022599  1.6848177226381178  11.353258637339264   \n",
       "2  6.104146217099324  1.3087759778931933   42.45082368146176   \n",
       "3         -74.177303                   0                 0.0   \n",
       "4              74.95                   7            61550.86   \n",
       "\n",
       "          dif_latitude        dif_longitude          dia_semana  \\\n",
       "0              2219173              2219173             2219173   \n",
       "1  0.09229194952135444  0.16173652033227268   4.042932660049487   \n",
       "2    1.699312422647234   3.1986543317178917  1.9490730146054265   \n",
       "3                  0.0                  0.0                   1   \n",
       "4            73.961092            89.483332                   7   \n",
       "\n",
       "                 hora           distancia  \n",
       "0             2219173             2219173  \n",
       "1  13.512919452426647   19.38368660013694  \n",
       "2   6.517990756130113  365.85874227507634  \n",
       "3                   0                 0.0  \n",
       "4                  23            9952.922  "
      ]
     },
     "execution_count": 31,
     "metadata": {},
     "output_type": "execute_result"
    }
   ],
   "source": [
    "columnas = [\"summary\",\n",
    "            \"pickup_longitude\",\n",
    "            \"pickup_latitude\",\n",
    "            \"dropoff_longitude\",\n",
    "            \"dropoff_latitude\",\n",
    "            \"passenger_count\",\n",
    "            \"fare_amount\",\n",
    "            \"dif_latitude\",\n",
    "            \"dif_longitude\",\n",
    "            \"dia_semana\",\n",
    "            \"hora\",\n",
    "            \"distancia\"]\n",
    "clean_summary[columnas]"
   ]
  },
  {
   "cell_type": "markdown",
   "metadata": {},
   "source": [
    "### Correlación de los atributos"
   ]
  },
  {
   "cell_type": "code",
   "execution_count": 32,
   "metadata": {},
   "outputs": [],
   "source": [
    "col_old=[\"pickup_longitude\",\n",
    "         \"pickup_latitude\",\n",
    "         \"dropoff_longitude\",\n",
    "         \"dropoff_latitude\",\n",
    "         \"passenger_count\"]\n",
    "col_new=[\"dif_latitude\",\n",
    "         \"dif_longitude\",\n",
    "         \"dia_semana\",\n",
    "         \"hora\"]\n",
    "col_pred = [\"fare_amount\"]"
   ]
  },
  {
   "cell_type": "code",
   "execution_count": 33,
   "metadata": {},
   "outputs": [],
   "source": [
    "# Transformación en un vector\n",
    "from pyspark.mllib.linalg import Vectors\n",
    "from pyspark.ml.feature import VectorAssembler\n",
    "inputCols = col_old+col_new+col_pred\n",
    "assembler = VectorAssembler( inputCols=inputCols, outputCol=\"col_corr\")\n",
    "dfspark_corr = assembler.transform(dfspark_sample)"
   ]
  },
  {
   "cell_type": "code",
   "execution_count": 34,
   "metadata": {},
   "outputs": [],
   "source": [
    "dfspark_corr=dfspark_corr.select('col_corr')"
   ]
  },
  {
   "cell_type": "code",
   "execution_count": 35,
   "metadata": {},
   "outputs": [],
   "source": [
    "# estudiar la correlación\n",
    "from pyspark.ml.stat import Correlation\n",
    "\n",
    "dfspark_corr= Correlation.corr(dfspark_corr, 'col_corr','pearson')"
   ]
  },
  {
   "cell_type": "code",
   "execution_count": 36,
   "metadata": {},
   "outputs": [],
   "source": [
    "from pyspark.ml.linalg import DenseMatrix, Vectors\n",
    "#type(dfspark_cor.collect()[0][0]) # denseMatrix\n",
    "# Pasamos la matrix como un array.\n",
    "array_corr=dfspark_corr.collect()[0][0].toArray()"
   ]
  },
  {
   "cell_type": "code",
   "execution_count": 37,
   "metadata": {},
   "outputs": [
    {
     "data": {
      "text/html": [
       "<style  type=\"text/css\" >\n",
       "#T_0a31f_row0_col0,#T_0a31f_row1_col1,#T_0a31f_row2_col2,#T_0a31f_row3_col3,#T_0a31f_row4_col4,#T_0a31f_row5_col5,#T_0a31f_row6_col6,#T_0a31f_row7_col7,#T_0a31f_row8_col8,#T_0a31f_row9_col9{\n",
       "            background-color:  #023858;\n",
       "            color:  #f1f1f1;\n",
       "        }#T_0a31f_row0_col1,#T_0a31f_row0_col4,#T_0a31f_row1_col0,#T_0a31f_row1_col4,#T_0a31f_row1_col5,#T_0a31f_row1_col6,#T_0a31f_row1_col9,#T_0a31f_row2_col3,#T_0a31f_row2_col4,#T_0a31f_row3_col2,#T_0a31f_row3_col4,#T_0a31f_row3_col9,#T_0a31f_row5_col4,#T_0a31f_row6_col4,#T_0a31f_row7_col8,#T_0a31f_row8_col7,#T_0a31f_row8_col9{\n",
       "            background-color:  #fff7fb;\n",
       "            color:  #000000;\n",
       "        }#T_0a31f_row0_col2,#T_0a31f_row2_col0{\n",
       "            background-color:  #023e62;\n",
       "            color:  #f1f1f1;\n",
       "        }#T_0a31f_row0_col3,#T_0a31f_row1_col2,#T_0a31f_row3_col0,#T_0a31f_row8_col4{\n",
       "            background-color:  #fcf4fa;\n",
       "            color:  #000000;\n",
       "        }#T_0a31f_row0_col5,#T_0a31f_row0_col6{\n",
       "            background-color:  #d1d2e6;\n",
       "            color:  #000000;\n",
       "        }#T_0a31f_row0_col7,#T_0a31f_row1_col8,#T_0a31f_row2_col7,#T_0a31f_row3_col8{\n",
       "            background-color:  #f2ecf5;\n",
       "            color:  #000000;\n",
       "        }#T_0a31f_row0_col8,#T_0a31f_row5_col7,#T_0a31f_row5_col8,#T_0a31f_row6_col8,#T_0a31f_row9_col7{\n",
       "            background-color:  #f3edf5;\n",
       "            color:  #000000;\n",
       "        }#T_0a31f_row0_col9,#T_0a31f_row2_col9,#T_0a31f_row4_col9,#T_0a31f_row7_col9,#T_0a31f_row9_col4{\n",
       "            background-color:  #fef6fb;\n",
       "            color:  #000000;\n",
       "        }#T_0a31f_row1_col3,#T_0a31f_row3_col1{\n",
       "            background-color:  #023d60;\n",
       "            color:  #f1f1f1;\n",
       "        }#T_0a31f_row1_col7,#T_0a31f_row2_col8,#T_0a31f_row3_col7,#T_0a31f_row6_col7,#T_0a31f_row9_col8{\n",
       "            background-color:  #f4edf6;\n",
       "            color:  #000000;\n",
       "        }#T_0a31f_row2_col1{\n",
       "            background-color:  #fdf5fa;\n",
       "            color:  #000000;\n",
       "        }#T_0a31f_row2_col5,#T_0a31f_row2_col6{\n",
       "            background-color:  #d3d4e7;\n",
       "            color:  #000000;\n",
       "        }#T_0a31f_row3_col5,#T_0a31f_row3_col6,#T_0a31f_row5_col9,#T_0a31f_row6_col9{\n",
       "            background-color:  #fef6fa;\n",
       "            color:  #000000;\n",
       "        }#T_0a31f_row4_col0,#T_0a31f_row4_col1,#T_0a31f_row4_col2,#T_0a31f_row4_col3,#T_0a31f_row7_col0,#T_0a31f_row7_col1,#T_0a31f_row7_col3,#T_0a31f_row8_col0,#T_0a31f_row8_col1,#T_0a31f_row8_col2,#T_0a31f_row9_col0,#T_0a31f_row9_col1,#T_0a31f_row9_col3{\n",
       "            background-color:  #76aad0;\n",
       "            color:  #000000;\n",
       "        }#T_0a31f_row4_col5,#T_0a31f_row7_col5,#T_0a31f_row8_col5,#T_0a31f_row9_col6{\n",
       "            background-color:  #ede8f3;\n",
       "            color:  #000000;\n",
       "        }#T_0a31f_row4_col6,#T_0a31f_row4_col7,#T_0a31f_row7_col6,#T_0a31f_row8_col6{\n",
       "            background-color:  #eee9f3;\n",
       "            color:  #000000;\n",
       "        }#T_0a31f_row4_col8{\n",
       "            background-color:  #f1ebf4;\n",
       "            color:  #000000;\n",
       "        }#T_0a31f_row5_col0{\n",
       "            background-color:  #529bc7;\n",
       "            color:  #000000;\n",
       "        }#T_0a31f_row5_col1{\n",
       "            background-color:  #91b5d6;\n",
       "            color:  #000000;\n",
       "        }#T_0a31f_row5_col2{\n",
       "            background-color:  #569dc8;\n",
       "            color:  #000000;\n",
       "        }#T_0a31f_row5_col3,#T_0a31f_row6_col1{\n",
       "            background-color:  #8fb4d6;\n",
       "            color:  #000000;\n",
       "        }#T_0a31f_row5_col6,#T_0a31f_row6_col5{\n",
       "            background-color:  #034a74;\n",
       "            color:  #f1f1f1;\n",
       "        }#T_0a31f_row6_col0{\n",
       "            background-color:  #509ac6;\n",
       "            color:  #000000;\n",
       "        }#T_0a31f_row6_col2{\n",
       "            background-color:  #549cc7;\n",
       "            color:  #000000;\n",
       "        }#T_0a31f_row6_col3{\n",
       "            background-color:  #8eb3d5;\n",
       "            color:  #000000;\n",
       "        }#T_0a31f_row7_col2,#T_0a31f_row8_col3,#T_0a31f_row9_col2{\n",
       "            background-color:  #75a9cf;\n",
       "            color:  #000000;\n",
       "        }#T_0a31f_row7_col4{\n",
       "            background-color:  #faf2f8;\n",
       "            color:  #000000;\n",
       "        }#T_0a31f_row9_col5{\n",
       "            background-color:  #ece7f2;\n",
       "            color:  #000000;\n",
       "        }</style><table id=\"T_0a31f_\" ><thead>    <tr>        <th class=\"blank level0\" ></th>        <th class=\"col_heading level0 col0\" >pickup_longitude</th>        <th class=\"col_heading level0 col1\" >pickup_latitude</th>        <th class=\"col_heading level0 col2\" >dropoff_longitude</th>        <th class=\"col_heading level0 col3\" >dropoff_latitude</th>        <th class=\"col_heading level0 col4\" >passenger_count</th>        <th class=\"col_heading level0 col5\" >dif_latitude</th>        <th class=\"col_heading level0 col6\" >dif_longitude</th>        <th class=\"col_heading level0 col7\" >dia_semana</th>        <th class=\"col_heading level0 col8\" >hora</th>        <th class=\"col_heading level0 col9\" >fare_amount</th>    </tr></thead><tbody>\n",
       "                <tr>\n",
       "                        <th id=\"T_0a31f_level0_row0\" class=\"row_heading level0 row0\" >pickup_longitude</th>\n",
       "                        <td id=\"T_0a31f_row0_col0\" class=\"data row0 col0\" >1.000000</td>\n",
       "                        <td id=\"T_0a31f_row0_col1\" class=\"data row0 col1\" >-0.979316</td>\n",
       "                        <td id=\"T_0a31f_row0_col2\" class=\"data row0 col2\" >0.953046</td>\n",
       "                        <td id=\"T_0a31f_row0_col3\" class=\"data row0 col3\" >-0.940270</td>\n",
       "                        <td id=\"T_0a31f_row0_col4\" class=\"data row0 col4\" >0.000166</td>\n",
       "                        <td id=\"T_0a31f_row0_col5\" class=\"data row0 col5\" >0.144987</td>\n",
       "                        <td id=\"T_0a31f_row0_col6\" class=\"data row0 col6\" >0.154172</td>\n",
       "                        <td id=\"T_0a31f_row0_col7\" class=\"data row0 col7\" >0.002333</td>\n",
       "                        <td id=\"T_0a31f_row0_col8\" class=\"data row0 col8\" >-0.002262</td>\n",
       "                        <td id=\"T_0a31f_row0_col9\" class=\"data row0 col9\" >0.002182</td>\n",
       "            </tr>\n",
       "            <tr>\n",
       "                        <th id=\"T_0a31f_level0_row1\" class=\"row_heading level0 row1\" >pickup_latitude</th>\n",
       "                        <td id=\"T_0a31f_row1_col0\" class=\"data row1 col0\" >-0.979316</td>\n",
       "                        <td id=\"T_0a31f_row1_col1\" class=\"data row1 col1\" >1.000000</td>\n",
       "                        <td id=\"T_0a31f_row1_col2\" class=\"data row1 col2\" >-0.940902</td>\n",
       "                        <td id=\"T_0a31f_row1_col3\" class=\"data row1 col3\" >0.961188</td>\n",
       "                        <td id=\"T_0a31f_row1_col4\" class=\"data row1 col4\" >-0.001066</td>\n",
       "                        <td id=\"T_0a31f_row1_col5\" class=\"data row1 col5\" >-0.136213</td>\n",
       "                        <td id=\"T_0a31f_row1_col6\" class=\"data row1 col6\" >-0.126502</td>\n",
       "                        <td id=\"T_0a31f_row1_col7\" class=\"data row1 col7\" >-0.003780</td>\n",
       "                        <td id=\"T_0a31f_row1_col8\" class=\"data row1 col8\" >0.002227</td>\n",
       "                        <td id=\"T_0a31f_row1_col9\" class=\"data row1 col9\" >-0.002081</td>\n",
       "            </tr>\n",
       "            <tr>\n",
       "                        <th id=\"T_0a31f_level0_row2\" class=\"row_heading level0 row2\" >dropoff_longitude</th>\n",
       "                        <td id=\"T_0a31f_row2_col0\" class=\"data row2 col0\" >0.953046</td>\n",
       "                        <td id=\"T_0a31f_row2_col1\" class=\"data row2 col1\" >-0.940902</td>\n",
       "                        <td id=\"T_0a31f_row2_col2\" class=\"data row2 col2\" >1.000000</td>\n",
       "                        <td id=\"T_0a31f_row2_col3\" class=\"data row2 col3\" >-0.980122</td>\n",
       "                        <td id=\"T_0a31f_row2_col4\" class=\"data row2 col4\" >0.000169</td>\n",
       "                        <td id=\"T_0a31f_row2_col5\" class=\"data row2 col5\" >0.133518</td>\n",
       "                        <td id=\"T_0a31f_row2_col6\" class=\"data row2 col6\" >0.138657</td>\n",
       "                        <td id=\"T_0a31f_row2_col7\" class=\"data row2 col7\" >0.002700</td>\n",
       "                        <td id=\"T_0a31f_row2_col8\" class=\"data row2 col8\" >-0.002691</td>\n",
       "                        <td id=\"T_0a31f_row2_col9\" class=\"data row2 col9\" >0.002457</td>\n",
       "            </tr>\n",
       "            <tr>\n",
       "                        <th id=\"T_0a31f_level0_row3\" class=\"row_heading level0 row3\" >dropoff_latitude</th>\n",
       "                        <td id=\"T_0a31f_row3_col0\" class=\"data row3 col0\" >-0.940270</td>\n",
       "                        <td id=\"T_0a31f_row3_col1\" class=\"data row3 col1\" >0.961188</td>\n",
       "                        <td id=\"T_0a31f_row3_col2\" class=\"data row3 col2\" >-0.980122</td>\n",
       "                        <td id=\"T_0a31f_row3_col3\" class=\"data row3 col3\" >1.000000</td>\n",
       "                        <td id=\"T_0a31f_row3_col4\" class=\"data row3 col4\" >-0.001481</td>\n",
       "                        <td id=\"T_0a31f_row3_col5\" class=\"data row3 col5\" >-0.126487</td>\n",
       "                        <td id=\"T_0a31f_row3_col6\" class=\"data row3 col6\" >-0.116139</td>\n",
       "                        <td id=\"T_0a31f_row3_col7\" class=\"data row3 col7\" >-0.004007</td>\n",
       "                        <td id=\"T_0a31f_row3_col8\" class=\"data row3 col8\" >0.002376</td>\n",
       "                        <td id=\"T_0a31f_row3_col9\" class=\"data row3 col9\" >-0.002410</td>\n",
       "            </tr>\n",
       "            <tr>\n",
       "                        <th id=\"T_0a31f_level0_row4\" class=\"row_heading level0 row4\" >passenger_count</th>\n",
       "                        <td id=\"T_0a31f_row4_col0\" class=\"data row4 col0\" >0.000166</td>\n",
       "                        <td id=\"T_0a31f_row4_col1\" class=\"data row4 col1\" >-0.001066</td>\n",
       "                        <td id=\"T_0a31f_row4_col2\" class=\"data row4 col2\" >0.000169</td>\n",
       "                        <td id=\"T_0a31f_row4_col3\" class=\"data row4 col3\" >-0.001481</td>\n",
       "                        <td id=\"T_0a31f_row4_col4\" class=\"data row4 col4\" >1.000000</td>\n",
       "                        <td id=\"T_0a31f_row4_col5\" class=\"data row4 col5\" >-0.002589</td>\n",
       "                        <td id=\"T_0a31f_row4_col6\" class=\"data row4 col6\" >-0.001395</td>\n",
       "                        <td id=\"T_0a31f_row4_col7\" class=\"data row4 col7\" >0.035591</td>\n",
       "                        <td id=\"T_0a31f_row4_col8\" class=\"data row4 col8\" >0.017146</td>\n",
       "                        <td id=\"T_0a31f_row4_col9\" class=\"data row4 col9\" >0.002861</td>\n",
       "            </tr>\n",
       "            <tr>\n",
       "                        <th id=\"T_0a31f_level0_row5\" class=\"row_heading level0 row5\" >dif_latitude</th>\n",
       "                        <td id=\"T_0a31f_row5_col0\" class=\"data row5 col0\" >0.144987</td>\n",
       "                        <td id=\"T_0a31f_row5_col1\" class=\"data row5 col1\" >-0.136213</td>\n",
       "                        <td id=\"T_0a31f_row5_col2\" class=\"data row5 col2\" >0.133518</td>\n",
       "                        <td id=\"T_0a31f_row5_col3\" class=\"data row5 col3\" >-0.126487</td>\n",
       "                        <td id=\"T_0a31f_row5_col4\" class=\"data row5 col4\" >-0.002589</td>\n",
       "                        <td id=\"T_0a31f_row5_col5\" class=\"data row5 col5\" >1.000000</td>\n",
       "                        <td id=\"T_0a31f_row5_col6\" class=\"data row5 col6\" >0.923415</td>\n",
       "                        <td id=\"T_0a31f_row5_col7\" class=\"data row5 col7\" >-0.001876</td>\n",
       "                        <td id=\"T_0a31f_row5_col8\" class=\"data row5 col8\" >-0.000871</td>\n",
       "                        <td id=\"T_0a31f_row5_col9\" class=\"data row5 col9\" >0.007177</td>\n",
       "            </tr>\n",
       "            <tr>\n",
       "                        <th id=\"T_0a31f_level0_row6\" class=\"row_heading level0 row6\" >dif_longitude</th>\n",
       "                        <td id=\"T_0a31f_row6_col0\" class=\"data row6 col0\" >0.154172</td>\n",
       "                        <td id=\"T_0a31f_row6_col1\" class=\"data row6 col1\" >-0.126502</td>\n",
       "                        <td id=\"T_0a31f_row6_col2\" class=\"data row6 col2\" >0.138657</td>\n",
       "                        <td id=\"T_0a31f_row6_col3\" class=\"data row6 col3\" >-0.116139</td>\n",
       "                        <td id=\"T_0a31f_row6_col4\" class=\"data row6 col4\" >-0.001395</td>\n",
       "                        <td id=\"T_0a31f_row6_col5\" class=\"data row6 col5\" >0.923415</td>\n",
       "                        <td id=\"T_0a31f_row6_col6\" class=\"data row6 col6\" >1.000000</td>\n",
       "                        <td id=\"T_0a31f_row6_col7\" class=\"data row6 col7\" >-0.002651</td>\n",
       "                        <td id=\"T_0a31f_row6_col8\" class=\"data row6 col8\" >-0.000960</td>\n",
       "                        <td id=\"T_0a31f_row6_col9\" class=\"data row6 col9\" >0.006947</td>\n",
       "            </tr>\n",
       "            <tr>\n",
       "                        <th id=\"T_0a31f_level0_row7\" class=\"row_heading level0 row7\" >dia_semana</th>\n",
       "                        <td id=\"T_0a31f_row7_col0\" class=\"data row7 col0\" >0.002333</td>\n",
       "                        <td id=\"T_0a31f_row7_col1\" class=\"data row7 col1\" >-0.003780</td>\n",
       "                        <td id=\"T_0a31f_row7_col2\" class=\"data row7 col2\" >0.002700</td>\n",
       "                        <td id=\"T_0a31f_row7_col3\" class=\"data row7 col3\" >-0.004007</td>\n",
       "                        <td id=\"T_0a31f_row7_col4\" class=\"data row7 col4\" >0.035591</td>\n",
       "                        <td id=\"T_0a31f_row7_col5\" class=\"data row7 col5\" >-0.001876</td>\n",
       "                        <td id=\"T_0a31f_row7_col6\" class=\"data row7 col6\" >-0.002651</td>\n",
       "                        <td id=\"T_0a31f_row7_col7\" class=\"data row7 col7\" >1.000000</td>\n",
       "                        <td id=\"T_0a31f_row7_col8\" class=\"data row7 col8\" >-0.087571</td>\n",
       "                        <td id=\"T_0a31f_row7_col9\" class=\"data row7 col9\" >-0.000010</td>\n",
       "            </tr>\n",
       "            <tr>\n",
       "                        <th id=\"T_0a31f_level0_row8\" class=\"row_heading level0 row8\" >hora</th>\n",
       "                        <td id=\"T_0a31f_row8_col0\" class=\"data row8 col0\" >-0.002262</td>\n",
       "                        <td id=\"T_0a31f_row8_col1\" class=\"data row8 col1\" >0.002227</td>\n",
       "                        <td id=\"T_0a31f_row8_col2\" class=\"data row8 col2\" >-0.002691</td>\n",
       "                        <td id=\"T_0a31f_row8_col3\" class=\"data row8 col3\" >0.002376</td>\n",
       "                        <td id=\"T_0a31f_row8_col4\" class=\"data row8 col4\" >0.017146</td>\n",
       "                        <td id=\"T_0a31f_row8_col5\" class=\"data row8 col5\" >-0.000871</td>\n",
       "                        <td id=\"T_0a31f_row8_col6\" class=\"data row8 col6\" >-0.000960</td>\n",
       "                        <td id=\"T_0a31f_row8_col7\" class=\"data row8 col7\" >-0.087571</td>\n",
       "                        <td id=\"T_0a31f_row8_col8\" class=\"data row8 col8\" >1.000000</td>\n",
       "                        <td id=\"T_0a31f_row8_col9\" class=\"data row8 col9\" >-0.004456</td>\n",
       "            </tr>\n",
       "            <tr>\n",
       "                        <th id=\"T_0a31f_level0_row9\" class=\"row_heading level0 row9\" >fare_amount</th>\n",
       "                        <td id=\"T_0a31f_row9_col0\" class=\"data row9 col0\" >0.002182</td>\n",
       "                        <td id=\"T_0a31f_row9_col1\" class=\"data row9 col1\" >-0.002081</td>\n",
       "                        <td id=\"T_0a31f_row9_col2\" class=\"data row9 col2\" >0.002457</td>\n",
       "                        <td id=\"T_0a31f_row9_col3\" class=\"data row9 col3\" >-0.002410</td>\n",
       "                        <td id=\"T_0a31f_row9_col4\" class=\"data row9 col4\" >0.002861</td>\n",
       "                        <td id=\"T_0a31f_row9_col5\" class=\"data row9 col5\" >0.007177</td>\n",
       "                        <td id=\"T_0a31f_row9_col6\" class=\"data row9 col6\" >0.006947</td>\n",
       "                        <td id=\"T_0a31f_row9_col7\" class=\"data row9 col7\" >-0.000010</td>\n",
       "                        <td id=\"T_0a31f_row9_col8\" class=\"data row9 col8\" >-0.004456</td>\n",
       "                        <td id=\"T_0a31f_row9_col9\" class=\"data row9 col9\" >1.000000</td>\n",
       "            </tr>\n",
       "    </tbody></table>"
      ],
      "text/plain": [
       "<pandas.io.formats.style.Styler at 0x1ffef9aadf0>"
      ]
     },
     "execution_count": 37,
     "metadata": {},
     "output_type": "execute_result"
    }
   ],
   "source": [
    "pdf_corr= pd.DataFrame(array_corr, columns=inputCols, index=inputCols)\n",
    "mask = ~(pdf_corr>-0.3) | ~(pdf_corr<0.3)\n",
    "round(pdf_corr,10).style.background_gradient()"
   ]
  },
  {
   "cell_type": "markdown",
   "metadata": {},
   "source": [
    "### Observación:\n",
    "###### La variable a predecir fare_amount itnee muy baja correlación con las demás variables. Su mayor correlación es con passenger_count y hora. Pero si observamos correlación entre las demás variables. Definitivamente no podemos utilizar un modelo lineal."
   ]
  },
  {
   "cell_type": "markdown",
   "metadata": {},
   "source": [
    "### Visualización de la data."
   ]
  },
  {
   "cell_type": "code",
   "execution_count": 38,
   "metadata": {},
   "outputs": [],
   "source": [
    "# Pasamos toda la data a Pandas\n",
    "pandasData = dfspark_sample.toPandas()"
   ]
  },
  {
   "cell_type": "code",
   "execution_count": 39,
   "metadata": {},
   "outputs": [],
   "source": [
    "#Manera alternativa de pasar la data a Pandas\n",
    "# import pandas as pd\n",
    "# from pyspark.sql import DataFrame\n",
    "\n",
    "# # Wrapper for seamless Spark's serialisation\n",
    "# def spark_to_pandas(spark_df: DataFrame) -> pd.DataFrame:\n",
    "#     \"\"\"\n",
    "#     PySpark toPandas realisation using mapPartitions\n",
    "#     much faster than vanilla version\n",
    "#     fork: https://gist.github.com/lucidyan/1e5d9e490a101cdc1c2ed901568e082b\n",
    "#     origin: https://gist.github.com/joshlk/871d58e01417478176e7\n",
    "#     :param spark_df:\n",
    "#     :return:\n",
    "#     \"\"\"\n",
    "    \n",
    "#     def _map_to_pandas(rdds) -> list:\n",
    "#         \"\"\" Needs to be here due to pickling issues \"\"\"\n",
    "#         return [pd.DataFrame(list(rdds))]\n",
    "\n",
    "#     def _to_pandas(df: DataFrame, n_partitions: int = None) -> pd.DataFrame:\n",
    "#         \"\"\"\n",
    "#         Returns the contents of `df` as a local `pandas.DataFrame` in a speedy fashion. The DataFrame is\n",
    "#         repartitioned if `n_partitions` is passed.\n",
    "#         :param df:\n",
    "#         :param n_partitions:\n",
    "#         :return:\n",
    "#         \"\"\"\n",
    "#         if n_partitions is not None:\n",
    "#             df = df.repartition(n_partitions)\n",
    "#         df_pand = df.rdd.mapPartitions(_map_to_pandas).collect()  # type: pd.DataFrame\n",
    "#         df_pand = pd.concat(df_pand)\n",
    "#         df_pand.columns = df.columns\n",
    "#         return df_pand\n",
    "\n",
    "#     return _to_pandas(spark_df)\n",
    "\n",
    "# pandasData = spark_to_pandas(dfspark_sample)"
   ]
  },
  {
   "cell_type": "code",
   "execution_count": 40,
   "metadata": {},
   "outputs": [
    {
     "data": {
      "text/html": [
       "<div>\n",
       "<style scoped>\n",
       "    .dataframe tbody tr th:only-of-type {\n",
       "        vertical-align: middle;\n",
       "    }\n",
       "\n",
       "    .dataframe tbody tr th {\n",
       "        vertical-align: top;\n",
       "    }\n",
       "\n",
       "    .dataframe thead th {\n",
       "        text-align: right;\n",
       "    }\n",
       "</style>\n",
       "<table border=\"1\" class=\"dataframe\">\n",
       "  <thead>\n",
       "    <tr style=\"text-align: right;\">\n",
       "      <th></th>\n",
       "      <th>fare_amount</th>\n",
       "      <th>pickup_datetime</th>\n",
       "      <th>pickup_longitude</th>\n",
       "      <th>pickup_latitude</th>\n",
       "      <th>dropoff_longitude</th>\n",
       "      <th>dropoff_latitude</th>\n",
       "      <th>passenger_count</th>\n",
       "      <th>dif_latitude</th>\n",
       "      <th>dif_longitude</th>\n",
       "      <th>distancia</th>\n",
       "      <th>dia_semana</th>\n",
       "      <th>hora</th>\n",
       "    </tr>\n",
       "  </thead>\n",
       "  <tbody>\n",
       "    <tr>\n",
       "      <th>0</th>\n",
       "      <td>8.00</td>\n",
       "      <td>2015-03-12 23:14:59 UTC</td>\n",
       "      <td>-73.993141</td>\n",
       "      <td>40.727940</td>\n",
       "      <td>-73.996613</td>\n",
       "      <td>40.744530</td>\n",
       "      <td>2</td>\n",
       "      <td>0.016590</td>\n",
       "      <td>0.003471</td>\n",
       "      <td>1.868306</td>\n",
       "      <td>4</td>\n",
       "      <td>23</td>\n",
       "    </tr>\n",
       "    <tr>\n",
       "      <th>1</th>\n",
       "      <td>10.00</td>\n",
       "      <td>2013-08-21 08:38:06 UTC</td>\n",
       "      <td>-73.964837</td>\n",
       "      <td>40.769933</td>\n",
       "      <td>-73.983462</td>\n",
       "      <td>40.761655</td>\n",
       "      <td>1</td>\n",
       "      <td>0.008278</td>\n",
       "      <td>0.018625</td>\n",
       "      <td>1.819197</td>\n",
       "      <td>3</td>\n",
       "      <td>8</td>\n",
       "    </tr>\n",
       "    <tr>\n",
       "      <th>2</th>\n",
       "      <td>5.50</td>\n",
       "      <td>2014-01-23 18:40:00 UTC</td>\n",
       "      <td>-74.001017</td>\n",
       "      <td>40.746352</td>\n",
       "      <td>-73.990873</td>\n",
       "      <td>40.739497</td>\n",
       "      <td>1</td>\n",
       "      <td>0.006855</td>\n",
       "      <td>0.010144</td>\n",
       "      <td>1.145462</td>\n",
       "      <td>4</td>\n",
       "      <td>18</td>\n",
       "    </tr>\n",
       "    <tr>\n",
       "      <th>3</th>\n",
       "      <td>6.10</td>\n",
       "      <td>2011-12-24 14:03:24 UTC</td>\n",
       "      <td>-73.982433</td>\n",
       "      <td>40.768137</td>\n",
       "      <td>-73.989684</td>\n",
       "      <td>40.776138</td>\n",
       "      <td>1</td>\n",
       "      <td>0.008001</td>\n",
       "      <td>0.007251</td>\n",
       "      <td>1.079354</td>\n",
       "      <td>6</td>\n",
       "      <td>14</td>\n",
       "    </tr>\n",
       "    <tr>\n",
       "      <th>4</th>\n",
       "      <td>5.00</td>\n",
       "      <td>2012-10-14 23:24:00 UTC</td>\n",
       "      <td>-73.990358</td>\n",
       "      <td>40.740377</td>\n",
       "      <td>-74.000850</td>\n",
       "      <td>40.733955</td>\n",
       "      <td>1</td>\n",
       "      <td>0.006422</td>\n",
       "      <td>0.010492</td>\n",
       "      <td>1.136703</td>\n",
       "      <td>7</td>\n",
       "      <td>23</td>\n",
       "    </tr>\n",
       "    <tr>\n",
       "      <th>...</th>\n",
       "      <td>...</td>\n",
       "      <td>...</td>\n",
       "      <td>...</td>\n",
       "      <td>...</td>\n",
       "      <td>...</td>\n",
       "      <td>...</td>\n",
       "      <td>...</td>\n",
       "      <td>...</td>\n",
       "      <td>...</td>\n",
       "      <td>...</td>\n",
       "      <td>...</td>\n",
       "      <td>...</td>\n",
       "    </tr>\n",
       "    <tr>\n",
       "      <th>2219168</th>\n",
       "      <td>5.70</td>\n",
       "      <td>2009-11-16 10:36:05 UTC</td>\n",
       "      <td>-73.991241</td>\n",
       "      <td>40.744892</td>\n",
       "      <td>-73.977219</td>\n",
       "      <td>40.755458</td>\n",
       "      <td>1</td>\n",
       "      <td>0.010566</td>\n",
       "      <td>0.014022</td>\n",
       "      <td>1.666461</td>\n",
       "      <td>1</td>\n",
       "      <td>10</td>\n",
       "    </tr>\n",
       "    <tr>\n",
       "      <th>2219169</th>\n",
       "      <td>2.50</td>\n",
       "      <td>2014-02-26 19:44:39 UTC</td>\n",
       "      <td>-73.944647</td>\n",
       "      <td>40.751585</td>\n",
       "      <td>-73.944613</td>\n",
       "      <td>40.751624</td>\n",
       "      <td>1</td>\n",
       "      <td>0.000039</td>\n",
       "      <td>0.000034</td>\n",
       "      <td>0.005198</td>\n",
       "      <td>3</td>\n",
       "      <td>19</td>\n",
       "    </tr>\n",
       "    <tr>\n",
       "      <th>2219170</th>\n",
       "      <td>3.30</td>\n",
       "      <td>2012-01-06 19:33:00 UTC</td>\n",
       "      <td>-74.005272</td>\n",
       "      <td>40.727898</td>\n",
       "      <td>-74.000565</td>\n",
       "      <td>40.728908</td>\n",
       "      <td>1</td>\n",
       "      <td>0.001010</td>\n",
       "      <td>0.004707</td>\n",
       "      <td>0.412344</td>\n",
       "      <td>5</td>\n",
       "      <td>19</td>\n",
       "    </tr>\n",
       "    <tr>\n",
       "      <th>2219171</th>\n",
       "      <td>49.57</td>\n",
       "      <td>2010-12-13 19:11:00 UTC</td>\n",
       "      <td>-73.785532</td>\n",
       "      <td>40.648295</td>\n",
       "      <td>-73.980030</td>\n",
       "      <td>40.760702</td>\n",
       "      <td>5</td>\n",
       "      <td>0.112407</td>\n",
       "      <td>0.194498</td>\n",
       "      <td>20.622059</td>\n",
       "      <td>1</td>\n",
       "      <td>19</td>\n",
       "    </tr>\n",
       "    <tr>\n",
       "      <th>2219172</th>\n",
       "      <td>8.50</td>\n",
       "      <td>2014-07-25 00:39:00 UTC</td>\n",
       "      <td>-73.976618</td>\n",
       "      <td>40.764692</td>\n",
       "      <td>-73.995085</td>\n",
       "      <td>40.755213</td>\n",
       "      <td>3</td>\n",
       "      <td>0.009479</td>\n",
       "      <td>0.018467</td>\n",
       "      <td>1.879400</td>\n",
       "      <td>5</td>\n",
       "      <td>0</td>\n",
       "    </tr>\n",
       "  </tbody>\n",
       "</table>\n",
       "<p>2219173 rows × 12 columns</p>\n",
       "</div>"
      ],
      "text/plain": [
       "         fare_amount          pickup_datetime  pickup_longitude  \\\n",
       "0               8.00  2015-03-12 23:14:59 UTC        -73.993141   \n",
       "1              10.00  2013-08-21 08:38:06 UTC        -73.964837   \n",
       "2               5.50  2014-01-23 18:40:00 UTC        -74.001017   \n",
       "3               6.10  2011-12-24 14:03:24 UTC        -73.982433   \n",
       "4               5.00  2012-10-14 23:24:00 UTC        -73.990358   \n",
       "...              ...                      ...               ...   \n",
       "2219168         5.70  2009-11-16 10:36:05 UTC        -73.991241   \n",
       "2219169         2.50  2014-02-26 19:44:39 UTC        -73.944647   \n",
       "2219170         3.30  2012-01-06 19:33:00 UTC        -74.005272   \n",
       "2219171        49.57  2010-12-13 19:11:00 UTC        -73.785532   \n",
       "2219172         8.50  2014-07-25 00:39:00 UTC        -73.976618   \n",
       "\n",
       "         pickup_latitude  dropoff_longitude  dropoff_latitude  \\\n",
       "0              40.727940         -73.996613         40.744530   \n",
       "1              40.769933         -73.983462         40.761655   \n",
       "2              40.746352         -73.990873         40.739497   \n",
       "3              40.768137         -73.989684         40.776138   \n",
       "4              40.740377         -74.000850         40.733955   \n",
       "...                  ...                ...               ...   \n",
       "2219168        40.744892         -73.977219         40.755458   \n",
       "2219169        40.751585         -73.944613         40.751624   \n",
       "2219170        40.727898         -74.000565         40.728908   \n",
       "2219171        40.648295         -73.980030         40.760702   \n",
       "2219172        40.764692         -73.995085         40.755213   \n",
       "\n",
       "         passenger_count  dif_latitude  dif_longitude  distancia  dia_semana  \\\n",
       "0                      2      0.016590       0.003471   1.868306           4   \n",
       "1                      1      0.008278       0.018625   1.819197           3   \n",
       "2                      1      0.006855       0.010144   1.145462           4   \n",
       "3                      1      0.008001       0.007251   1.079354           6   \n",
       "4                      1      0.006422       0.010492   1.136703           7   \n",
       "...                  ...           ...            ...        ...         ...   \n",
       "2219168                1      0.010566       0.014022   1.666461           1   \n",
       "2219169                1      0.000039       0.000034   0.005198           3   \n",
       "2219170                1      0.001010       0.004707   0.412344           5   \n",
       "2219171                5      0.112407       0.194498  20.622059           1   \n",
       "2219172                3      0.009479       0.018467   1.879400           5   \n",
       "\n",
       "         hora  \n",
       "0          23  \n",
       "1           8  \n",
       "2          18  \n",
       "3          14  \n",
       "4          23  \n",
       "...       ...  \n",
       "2219168    10  \n",
       "2219169    19  \n",
       "2219170    19  \n",
       "2219171    19  \n",
       "2219172     0  \n",
       "\n",
       "[2219173 rows x 12 columns]"
      ]
     },
     "metadata": {},
     "output_type": "display_data"
    }
   ],
   "source": [
    "#Mostrando la data\n",
    "display(pandasData)"
   ]
  },
  {
   "cell_type": "code",
   "execution_count": 41,
   "metadata": {},
   "outputs": [
    {
     "data": {
      "image/png": "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\n",
      "text/plain": [
       "<Figure size 1225.92x288 with 2 Axes>"
      ]
     },
     "metadata": {},
     "output_type": "display_data"
    }
   ],
   "source": [
    "import seaborn as sns\n",
    "import warnings\n",
    "warnings.filterwarnings(\"ignore\")\n",
    "sns.set(style=\"ticks\" , color_codes = True)\n",
    "var = [\"dia_semana\"]\n",
    "# 1 inches = 96px\n",
    "g = sns.pairplot(pandasData[:10], vars=var, diag_kind=\"hist\", hue='dia_semana', height=4, aspect=4)"
   ]
  },
  {
   "cell_type": "code",
   "execution_count": 42,
   "metadata": {},
   "outputs": [
    {
     "data": {
      "text/plain": [
       "Text(0, 0.5, 'Objetivo')"
      ]
     },
     "execution_count": 42,
     "metadata": {},
     "output_type": "execute_result"
    },
    {
     "data": {
      "image/png": "iVBORw0KGgoAAAANSUhEUgAAAZMAAAEJCAYAAABR4cpEAAAAOXRFWHRTb2Z0d2FyZQBNYXRwbG90bGliIHZlcnNpb24zLjMuNCwgaHR0cHM6Ly9tYXRwbG90bGliLm9yZy8QVMy6AAAACXBIWXMAAAsTAAALEwEAmpwYAAAsBklEQVR4nO3de1xVdb7/8deWvb0F5lDgZtRxutcDS02qMR1QKS4CqailMGF1srKOmpWFlzAtyowRNQezqVNWdtEpsTyIeUlNMVOa0aEsGxMFFQRRt5DAZrN+f/hzH7caIsstke/n47EfuL6stdfnu3q03qzbd1kMwzAQERExoVljFyAiIk2fwkRERExTmIiIiGkKExERMU1hIiIiplkbu4ALrbKykry8PAICAvDx8WnsckREmgSXy0VJSQmdO3emZcuWp/3+oguTvLw8EhMTG7sMEZEmacGCBYSEhJzWftGFSUBAAHB8g9jt9kauRkSkaSgqKiIxMdG9Dz3VRRcmJ05t2e12OnTo0MjViIg0Lb90eUAX4EVExDSFiYiImKYwERER0xQmIiJi2kV3AV5gTW4B7yzbTumhY1z+u1YkRd9A7+4dG7ssEWnCFCYXmTW5BcxZtJUqpwuAkkPHmLNoK4ACRUQaTKe5LjLvLNvuDpITqpwu3lm2vZEqEpHfAoXJRab00LFzahcRqQ+vhsnq1auJj48nOjqaF154AYCcnBzi4uKIiIggPT3dPe/27duJj48nMjKSiRMnUlNTA8C+fftITEwkKiqKkSNHUlFRAYDD4eChhx4iOjqaxMRESkpKvNmV34zLf9fqnNpFROrDa2FSUFDA5MmTycjI4NNPP+W7775j7dq1TJgwgYyMDLKyssjLy2Pt2rUAjBs3jpSUFJYvX45hGCxcuBCAKVOmkJCQQHZ2Np07dyYjIwOAmTNnEhISwrJlyxgyZAipqane6spvSlL0DbSweT7B2sLmQ1L0DY1UkYj8FngtTFasWEG/fv2w2+3YbDbS09Np1aoVnTp1omPHjlitVuLi4sjOzmbv3r1UVlbStWtXAOLj48nOzsbpdLJ582YiIyM92gHWrFlDXFwcALGxsaxbtw6n0+mt7vxm9O7ekf8e0oWA37XCAgT8rhX/PaSLLr6LiCleu5tr9+7d2Gw2HnnkEfbv30/v3r255pprPAYJCwwMpLi4mAMHDni0BwQEUFxczKFDh/D19cVqtXq0Ax7LWK1WfH19KSsro127du7vcTgcOBwOj7qKioq81eUmo3f3jgoPETmvvBYmLpeLLVu28O6779K6dWtGjhxJy5YtsVgs7nkMw8BisVBbW3vG9hM/T3bq9MnLNGvmeaA1f/585syZcx57JSIiZ+K1MLn88svp0aMH/v7+ANxxxx1kZ2d7jDhZUlJCYGAgdrvd4wJ6aWkpgYGB+Pv7c/ToUVwuFz4+Pu754fhRTWlpKXa7nZqaGioqKmjbtq1HDcOHD2fgwIEebSeGURYRkfPHa9dM+vTpw/r163E4HLhcLr788kuioqLYtWsXu3fvxuVysXTpUkJDQ2nfvj0tWrQgNzcXgCVLlhAaGorNZiMkJISsrCwAMjMzCQ0NBSAsLIzMzEwAsrKyCAkJwWazedTQpk0bOnTo4PHRO0xERM4/rx2ZdOnShQcffJCEhAScTic9e/Zk2LBhXHnllYwaNYqqqirCwsKIiooCIC0tjUmTJlFeXk5wcDBJSUkATJ48meTkZObOnUtQUBAzZswAYMyYMSQnJxMTE4Ofnx9paWne6oqIiJyFxTAMo7GLuJAKCwsJDw9n1apVejmWiEg9nW3fqSfgRUTENIWJiIiYpjARERHTFCYiImKawkRERExTmIiIiGkKExERMU1hIiIipilMRETENIWJiIiYpjARERHTFCYiImKawkRERExTmIiIiGkKExERMU1hIiIipilMRETENIWJiIiYpjARERHTFCYiImKawkRERExTmIiIiGkKExERMc3qzS+/9957KSsrw2o9vpqpU6dSUVHBSy+9RFVVFdHR0YwdOxaA7du3M3HiRCoqKggJCWHKlClYrVb27dvHuHHjOHjwIFdccQVpaWlccsklOBwOnnrqKQoKCvD392fmzJkEBAR4szsiIvILvHZkYhgG+fn5LFmyxP257rrrmDBhAhkZGWRlZZGXl8fatWsBGDduHCkpKSxfvhzDMFi4cCEAU6ZMISEhgezsbDp37kxGRgYAM2fOJCQkhGXLljFkyBBSU1O91RURETkLr4XJTz/9BMADDzzAXXfdxXvvvce2bdvo1KkTHTt2xGq1EhcXR3Z2Nnv37qWyspKuXbsCEB8fT3Z2Nk6nk82bNxMZGenRDrBmzRri4uIAiI2NZd26dTidTm91R0RE6uC101wOh4MePXrw7LPP4nQ6SUpK4sEHH/Q4FRUYGEhxcTEHDhzwaA8ICKC4uJhDhw7h6+vrPk12oh3wWMZqteLr60tZWRnt2rXzqMHhcHjUVVRU5K0ui4hctLwWJt26daNbt27u6cGDBzN79my6d+/ubjMMA4vFQm1tLRaL5bT2Ez9Pdur0ycs0a+Z5oDV//nzmzJlzProjIiJ18FqYbNmyBafTSY8ePYDjO/v27dtTUlLinqekpITAwEDsdrtHe2lpKYGBgfj7+3P06FFcLhc+Pj7u+eH4UU1paSl2u52amhoqKipo27atRw3Dhw9n4MCBHm1FRUUkJiZ6qdciIhcnr10zOXr0KNOnT6eqqory8nIWL17ME088wa5du9i9ezcul4ulS5cSGhpK+/btadGiBbm5uQAsWbKE0NBQbDYbISEhZGVlAZCZmUloaCgAYWFhZGZmApCVlUVISAg2m82jhjZt2tChQwePj91u91aXRUQuWl47MunTpw9bt25lwIAB1NbWkpCQQLdu3Zg2bRqjRo2iqqqKsLAwoqKiAEhLS2PSpEmUl5cTHBxMUlISAJMnTyY5OZm5c+cSFBTEjBkzABgzZgzJycnExMTg5+dHWlqat7oiIiJnYTEMw2jsIi6kwsJCwsPDWbVqFR06dGjsckREmoSz7Tv1BLyIiJimMBEREdMUJiIiYprCRERETFOYiIiIaQoTERExTWEiIiKmKUxERMQ0hYmIiJimMBEREdMUJiIiYprCRERETFOYiIiIaQoTERExTWEiIiKmKUxERMQ0hYmIiJimMBEREdMUJiIiYprCRERETFOYiIiIaQoTERExTWEiIiKmeT1MXn75ZZKTkwHIyckhLi6OiIgI0tPT3fNs376d+Ph4IiMjmThxIjU1NQDs27ePxMREoqKiGDlyJBUVFQA4HA4eeughoqOjSUxMpKSkxNvdEBGROng1TDZu3MjixYsBqKysZMKECWRkZJCVlUVeXh5r164FYNy4caSkpLB8+XIMw2DhwoUATJkyhYSEBLKzs+ncuTMZGRkAzJw5k5CQEJYtW8aQIUNITU31ZjdEROQsvBYmhw8fJj09nUceeQSAbdu20alTJzp27IjVaiUuLo7s7Gz27t1LZWUlXbt2BSA+Pp7s7GycTiebN28mMjLSox1gzZo1xMXFARAbG8u6detwOp3e6oqIiJyF1VtfnJKSwtixY9m/fz8ABw4cICAgwP37wMBAiouLT2sPCAiguLiYQ4cO4evri9Vq9Wg/9busViu+vr6UlZXRrl07jxocDgcOh8Ojraio6Px3VkTkIueVMFm0aBFBQUH06NGDTz75BIDa2losFot7HsMwsFgsv9h+4ufJTp0+eZlmzU4/yJo/fz5z5sw5H10SEZE6eCVMsrKyKCkpoX///hw5coSff/6ZvXv34uPj456npKSEwMBA7Ha7xwX00tJSAgMD8ff35+jRo7hcLnx8fNzzw/GjmtLSUux2OzU1NVRUVNC2bdvT6hg+fDgDBw70aCsqKiIxMdEb3RYRuWh55ZrJW2+9xdKlS1myZAmjR4+mb9++vPHGG+zatYvdu3fjcrlYunQpoaGhtG/fnhYtWpCbmwvAkiVLCA0NxWazERISQlZWFgCZmZmEhoYCEBYWRmZmJnA8uEJCQrDZbKfV0aZNGzp06ODxsdvt3uiyiMhFzWvXTE7VokULpk2bxqhRo6iqqiIsLIyoqCgA0tLSmDRpEuXl5QQHB5OUlATA5MmTSU5OZu7cuQQFBTFjxgwAxowZQ3JyMjExMfj5+ZGWlnahuiEiImdgMQzDaOwiLqTCwkLCw8NZtWoVHTp0aOxyRESahLPtO/UEvIiImKYwERER0xQmIiJimsJERERMU5iIiIhp9b41eOvWrXz55Zc4nU569uzJrbfe6s26RESkCanXkUlmZiajR4/myJEjVFRU8OSTT7pH9hUREanXkcnbb7/NokWL3MOZjBgxgv/6r//i7rvv9mpxIiLSNNTryKS2ttYdJADt2rU748CKIiJycapXIrRt25aVK1e6p1euXMmll17qtaJERKRpqddprmeffZZHH32U559/HovFgtVq5W9/+5u3axMRkSaiXmFit9vJzs4mPz8fl8vFlVde6X5plYiISL1Oc4WHhzN+/HgOHTrEtddeqyAREREP9QqTVatW0a1bN15++WWioqJ48803KSsr83ZtIiLSRNQrTPz8/Bg2bBiLFi1i5syZLF++nLCwMG/XJiIiTUS9z1d9++23LF68mOzsbDp37sysWbO8WZeIiDQh9QqTuLg4jh07Rnx8PB9//DHt2rXzdl0iItKE1CtMkpOT6dmzp7drERGRJqrOMPn73//OiBEjWL16NV988cVpv580aZLXChMRkaajzjDx8/MD4He/+90FKUZERJqmOsNk6NChAPj7+5OQkODxu9dff917VYmISJNSZ5h88MEHVFZW8vbbb1NVVeVudzqdfPjhhzz00ENeL1BERH796gwTq9XKjh07qKysZMeOHe52Hx8fkpOTvV6ciIg0DXWGyZAhQxgyZAgrV67kjjvuOOcvnzVrFsuXL8disTB48GDuv/9+cnJyeOmll6iqqiI6OpqxY8cCsH37diZOnEhFRQUhISFMmTIFq9XKvn37GDduHAcPHuSKK64gLS2NSy65BIfDwVNPPUVBQQH+/v7MnDmTgICAhm0FERExpV5PwP/pT39iypQpDB8+nMOHD5OSkkJFRUWdy3z99dd89dVXfPrpp3z88ce8++67fP/990yYMIGMjAyysrLIy8tj7dq1AIwbN46UlBSWL1+OYRjuNzlOmTKFhIQE98OSGRkZAMycOZOQkBCWLVvGkCFDSE1NNbMdRETEhHqFSWpqKm3atOHgwYO0aNGC8vJyUlJS6lzm1ltv5Z133sFqtXLw4EFcLhcOh4NOnTrRsWNHrFYrcXFxZGdns3fvXiorK+natSsA8fHxZGdn43Q62bx5M5GRkR7tAGvWrCEuLg6A2NhY1q1bh9PpbOh2EBERE+oVJtu3b2fs2LFYrVZatWpFWloa27dvP+tyNpuN2bNnExMTQ48ePThw4IDHqajAwECKi4tPaw8ICKC4uJhDhw7h6+vrHqX4RDvgsYzVasXX1/e0wScdDgeFhYUen6Kiovp0WUREzkG9noA/9RW9Lper3q/tHT16NCNGjOCRRx4hPz8fi8Xi/p1hGFgsFmpra8/YfuLnyU6dPnmZU2uaP38+c+bMqVedIiLScPUKk1tuuYVXXnmFyspKvvzySxYsWMBtt91W5zI7d+6kurqaG264gVatWhEREUF2djY+Pj7ueUpKSggMDMRut1NSUuJuLy0tJTAwEH9/f44ePYrL5cLHx8c9Pxw/qiktLcVut1NTU0NFRQVt27b1qGH48OEMHDjQo62oqIjExMT6dFtEROqpXocXTz31FK1bt8bPz4/09HSuu+46nn766TqXKSwsZNKkSVRXV1NdXc2qVasYOnQou3btYvfu3bhcLpYuXUpoaCjt27enRYsW5ObmArBkyRJCQ0Ox2WyEhISQlZUFQGZmJqGhoQCEhYWRmZkJQFZWFiEhIdhsNo8a2rRpQ4cOHTw+drv9nDaQiIicncUwDMNbX/7qq6+ybNkyfHx8iIiIYNSoUWzcuNF9a3BYWBjjx4/HYrHw/fffM2nSJMrLywkODuall16iefPm7N27l+TkZA4ePEhQUBAzZszg0ksv5fDhwyQnJ1NQUICfnx9paWl06NDhrDUVFhYSHh7OqlWr6jW/iIicfd9ZZ5iMGTOGWbNmue+aOlXr1q0ZPHgwQ4YMOX8Ve5nCRETk3J1t31nnNZMRI0YA8Oyzz57x90ePHmXy5MlNKkxEROT8qzNMOnfuDBx/ZmTnzp1s3LgRq9VKjx496NSpE4ButRURkfpdgP/4449JSkpi27ZtbNmyhcTERJYvXw6gO6NERKR+twa//fbbLF682H1b7r59+3j44YfdT6aLiMjFrV5HJjabzR0kAL///e9Puw1XREQuXnUemXz77bcAXHfddUydOpV77rkHHx8fPvnkE26++eYLUqCIiPz61Rkmo0aNAv5vCJMTI/yeGOZE74AXERE4S5isXr2a4uJi5s2bR25uLhaLhZtvvpkRI0YQFBR0oWoUEZFfuTqvmezfv5+7774bq9XK448/zsiRI4HjL83at2/fBSlQRER+/eo8Mpk5cyZjx45lwIAB7rbIyEiCg4NJT0/nlVde8XZ9IiLSBNR5ZPLdd995BMkJgwYNYtu2bd6qSUREmpg6w6SuMSCbN29+3osREZGmqc4w8fHxcb/Z8GTFxcUKExERcaszTIYOHcqECRMoLy93tx08eJCnn36ahIQErxcnIiJNQ50X4IcNG8aePXv485//zNVXX01NTQ35+fkkJSUxaNCgC1WjiIj8yp11bK5nnnmG++67j61btwLQpUsX2rVr5/XCRESk6ajXQI/t2rUjIiLC27WIiEgTVa+BHkVEROqiMBEREdMUJiIiYprCRERETFOYiIiIaQoTERExTWEiIiKmeTVM5syZQ0xMDDExMUyfPh2AnJwc4uLiiIiIID093T3v9u3biY+PJzIykokTJ1JTUwPAvn37SExMJCoqipEjR1JRUQGAw+HgoYceIjo6msTEREpKSrzZFRERqYPXwiQnJ4f169ezePFiMjMz+fbbb1m6dCkTJkwgIyODrKws8vLy3K8CHjduHCkpKSxfvhzDMFi4cCEAU6ZMISEhgezsbDp37kxGRgZw/F0rISEhLFu2jCFDhpCamuqtroiIyFl4LUwCAgJITk6mefPm2Gw2rrrqKvLz8+nUqRMdO3bEarUSFxdHdnY2e/fupbKykq5duwIQHx9PdnY2TqeTzZs3ExkZ6dEOsGbNGuLi4gCIjY1l3bp1OJ1OjxocDgeFhYUen6KiIm91WUTkolWv4VQa4pprrnH/Oz8/n2XLlvGXv/yFgIAAd3tgYCDFxcUcOHDAoz0gIIDi4mIOHTqEr68vVqvVox3wWMZqteLr60tZWZnHuGHz589nzpw53uqiiIj8f14LkxN+/PFHHn74YZ5++ml8fHzIz893/84wDCwWC7W1tVgsltPaT/w82anTJy/TrJnngdbw4cMZOHCgR1tRURGJiYkmeyUiIifzapjk5uYyevRoJkyYQExMDF9//bXHhfKSkhICAwOx2+0e7aWlpQQGBuLv78/Ro0dxuVz4+Pi454fjRzWlpaXY7XZqamqoqKigbdu2Hutv06YNbdq08WYXRUQEL14z2b9/P4899hhpaWnExMQAx4ev37VrF7t378blcrF06VJCQ0Np3749LVq0IDc3F4AlS5YQGhqKzWYjJCSErKwsADIzMwkNDQUgLCyMzMxMALKysggJCcFms3mrOyIiUgevHZm8+eabVFVVMW3aNHfb0KFDmTZtGqNGjaKqqoqwsDCioqIASEtLY9KkSZSXlxMcHExSUhIAkydPJjk5mblz5xIUFMSMGTMAGDNmDMnJycTExODn50daWpq3uiIiImdhMQzDaOwiLqTCwkLCw8NZtWoVHTp0aOxyRESahLPtO/UEvIiImKYwERER0xQmIiJimsJERERMU5iIiIhpChMRETFNYSIiIqYpTERExDSFiYiImKYwERER0xQmIiJimsJERERMU5iIiIhpChMRETFNYSIiIqYpTERExDSFiYiImKYwERER0xQmIiJimsJERERMU5iIiIhpChMRETFNYSIiIqZ5NUzKy8uJjY2lsLAQgJycHOLi4oiIiCA9Pd093/bt24mPjycyMpKJEydSU1MDwL59+0hMTCQqKoqRI0dSUVEBgMPh4KGHHiI6OprExERKSkq82Q0RETkLr4XJ1q1bGTZsGPn5+QBUVlYyYcIEMjIyyMrKIi8vj7Vr1wIwbtw4UlJSWL58OYZhsHDhQgCmTJlCQkIC2dnZdO7cmYyMDABmzpxJSEgIy5YtY8iQIaSmpnqrGyIiUg9eC5OFCxcyefJkAgMDAdi2bRudOnWiY8eOWK1W4uLiyM7OZu/evVRWVtK1a1cA4uPjyc7Oxul0snnzZiIjIz3aAdasWUNcXBwAsbGxrFu3DqfTeVoNDoeDwsJCj09RUZG3uiwictGyeuuLTz1aOHDgAAEBAe7pwMBAiouLT2sPCAiguLiYQ4cO4evri9Vq9Wg/9busViu+vr6UlZXRrl07j3XOnz+fOXPmeKV/IiLyf7wWJqeqra3FYrG4pw3DwGKx/GL7iZ8nO3X65GWaNTv9IGv48OEMHDjQo62oqIjExEQzXRERkVNcsDCx2+0eF8pLSkoIDAw8rb20tJTAwED8/f05evQoLpcLHx8f9/xw/KimtLQUu91OTU0NFRUVtG3b9rR1tmnThjZt2ni9byIiF7sLdmtwly5d2LVrF7t378blcrF06VJCQ0Np3749LVq0IDc3F4AlS5YQGhqKzWYjJCSErKwsADIzMwkNDQUgLCyMzMxMALKysggJCcFms12oroiIyCku2JFJixYtmDZtGqNGjaKqqoqwsDCioqIASEtLY9KkSZSXlxMcHExSUhIAkydPJjk5mblz5xIUFMSMGTMAGDNmDMnJycTExODn50daWtqF6oaIiJyBxTAMo7GLuJAKCwsJDw9n1apVdOjQobHLERFpEs6279QT8CIiYprCRERETFOYiIiIaQoTERExTWEiIiKmKUxERMQ0hYmIiJimMBEREdMUJiIiYprCRERETFOYiIiIaQoTERExTWEiIiKmKUxERMQ0hYmIiJimMBEREdMUJiIiYprCRERETFOYiIiIaQoTERExzdrYBciFtya3gHeWbaf00DEu/10rkqJvoHf3jo1dlog0YQqTi8ya3ALmLNpKldMFQMmhY8xZtBVAgSLnhf5YuTgpTC4y7yzb7g6SE6qcLt5Ztr1J/g//6MsrKThQ4Z7uGHgJGc/c0YgVNdxvYSe8JreA9A//SW2tARz/YyX9w38CTfOPlUlz17P1Pwfd012uvowXRvZqxIoaztt9adLXTD777DP69etHREQECxYs8Pr64p5cctqnqSk9dOyc2n/NTg0SgIIDFTz68spGqqjh1uQW8Nf3v6Hk0DEMju+E//r+N6zJLWjs0s7J3/6x1R0kJ9TWGvztH1sbqaKGO3XnC7D1PweZNHd9I1XUcBeiL002TIqLi0lPT+f9998nMzOTjz76iP/85z9eW98vBUdTCxTjHNt/zU4NkrO1/5r99f1vzqn916qy2nVO7b9mp+58z9b+a3Yh+tJkwyQnJ4c//elPtG3bltatWxMZGUl2drbHPA6Hg8LCQo9PUVFRI1UsIvLb1WSvmRw4cICAgAD3dGBgINu2bfOYZ/78+cyZM+dClyYictFpsmFSW1uLxWJxTxuG4TENMHz4cAYOHOjRVlRURGJi4gWpUUTkYtFkw8Rut7Nlyxb3dElJCYGBgR7ztGnThjZt2lzo0kRELjpN9prJ7bffzsaNGykrK+PYsWN8/vnnhIaGem19n/21/zm1/1r9VvoB6suv0W+lH6C+nCuLYRhN8UYe4PitwfPmzcPpdDJ48GBGjBhx1mUKCwsJDw9n1apVdOjQ4QJUKSLS9J1t39lkT3MBxMXFERcX19hliIhc9JrsaS4REfn1UJiIiIhpChMRETGtSV8zaQiX6/iwDnoSXkSk/k7sM0/sQ0910YVJSUkJgB5cFBFpgJKSEjp16nRae5O+NbghKisrycvLIyAgAB8fn3Ne/sQT9AsWLMBut3uhwgvjt9IPUF9+jX4r/QD15QSXy0VJSQmdO3emZcuWp/3+ojsyadmyJSEhIaa/x263/yaeU/mt9APUl1+j30o/QH0BznhEcoIuwIuIiGkKExERMU1hIiIipilMzlGbNm347//+7yY/GvFvpR+gvvwa/Vb6AepLfV10d3OJiMj5pyMTERExTWEiIiKmXXTPmZhVXl7O0KFDee2115r0Pedz5sxh2bJlAISFhfH00083ckUNM2vWLJYvX47FYmHw4MHcf//9jV2SaS+//DKHDh1i2rRpjV1Kg917772UlZVhtR7fxUydOpUuXbo0clUNs3r1aubMmcOxY8fo2bMnkyZNauySztmiRYt477333NOFhYX079+flJSU87cSQ+rtX//6lxEbG2sEBwcbBQUFjV1Og23YsMG45557jKqqKqO6utpISkoyPv/888Yu65xt2rTJGDp0qOF0Oo1jx44Zffr0MXbu3NnYZZmSk5Nj3HbbbcYzzzzT2KU0WG1trdGrVy/D6XQ2dimm7dmzx+jVq5exf/9+o7q62hg2bJixZs2axi7LlB07dhh33nmncfDgwfP6vTrNdQ4WLlzI5MmTT3vXfFMTEBBAcnIyzZs3x2azcdVVV7Fv377GLuuc3XrrrbzzzjtYrVYOHjyIy+WidevWjV1Wgx0+fJj09HQeeeSRxi7FlJ9++gmABx54gLvuusvjL+KmZsWKFfTr1w+73Y7NZiM9Pb3JHmGd8NxzzzF27Fj8/f3P6/fqNNc5SE1NbewSzotrrrnG/e/8/HyWLVvGBx980IgVNZzNZmP27Nn8z//8D1FRUbRr166xS2qwlJQUxo4dy/79+xu7FFMcDgc9evTg2Wefxel0kpSUxBVXXEHPnj0bu7Rztnv3bmw2G4888gj79++nd+/ePP74441dVoPl5ORQWVlJdHT0ef9uHZlcxH788UceeOABnn76af74xz82djkNNnr0aDZu3Mj+/ftZuHBhY5fTIIsWLSIoKIgePXo0dimmdevWjenTp+Pn54e/vz+DBw9m7dq1jV1Wg7hcLjZu3MiLL77IRx99xLZt21i8eHFjl9VgH374odeuKypMLlK5ubncd999PPnkkwwcOLCxy2mQnTt3sn37dgBatWpFREQEP/zwQyNX1TBZWVls2LCB/v37M3v2bFavXs2LL77Y2GU1yJYtW9i4caN72jAM94X4pubyyy+nR48e+Pv707JlS+644w62bdvW2GU1SHV1NZs3b6Zv375e+X6FyUVo//79PPbYY6SlpRETE9PY5TRYYWEhkyZNorq6murqalatWkX37t0bu6wGeeutt1i6dClLlixh9OjR9O3blwkTJjR2WQ1y9OhRpk+fTlVVFeXl5SxevJg777yzsctqkD59+rB+/XocDgcul4svv/yS4ODgxi6rQX744Qf++Mc/eu26YtP8c0FMefPNN6mqqvK49XTo0KEMGzasEas6d2FhYWzbto0BAwbg4+NDREREkw7H34o+ffqwdetWBgwYQG1tLQkJCXTr1q2xy2qQLl268OCDD5KQkIDT6aRnz54MGjSosctqkIKCAq++j0XDqYiIiGk6zSUiIqYpTERExDSFiYiImKYwERER0xQmIiJimsJETHO5XLz11lvEx8fTv39/+vXrxyuvvEJ1dbXX13306FGSkpIatOz//u//cuedd1JRUfGL8yxatIgFCxYA8MEHH/D66683aF1n061bNwoLC/n3v//N6NGjTX3Xww8/zCeffHJOy/Tt25d///vfptYrFzc9ZyKmPffccxw5coT58+fj5+fHzz//zFNPPcXEiRN55ZVXvLruI0eONHgnuH79eqZPn84ll1zyi/Pk5ua6xzK7EM/h3HjjjcyePdvr6xE53xQmYkphYSGfffYZ69evx9fXF4DWrVszZcoUvvnmGwB27drF1KlTqaiooKSkhOuvv56ZM2fSokULOnfuTHh4ON9//z1paWn88MMPfPTRRzidTo4cOcKIESNISEgAYN68eSxevBir1UqnTp2YNm0a48ePp7Kykv79+/PJJ5+Qn59Pamoqhw8fxuVyce+99zJ48GA2bdpEamoqrVu3pqKigo8//phNmza5v/v999/nww8/xGaz0aJFC6ZOncquXbtYvXo1GzZsoGXLlpSVlXHo0CFSUlLYtWsXKSkplJWV0axZM0aOHEm/fv344osvmDdvHtXV1ZSVlTFgwIAzDgy4ZcsWnn/+eSwWCzfeeCO1tbUAbNq0ieeff56lS5fWud1OVlxcTHJyMgcOHOD3v/89Bw8edP9u586dZ9wev6S2tpYXX3yRrVu3UlFRgWEYvPDCC6eNLFBRUcH48ePZvXs3zZo1Izg4mKlTp9KsWTNWr17N3LlzcTqdtGzZkmeeeYZu3brx6quvsmfPHoqLiykpKSE4OJjbbruNzMxMCgsLGTduHLGxsZSWlpKSksLBgwcpKSmhffv2zJw5k8suu4y+ffsycOBA91hs/fv35/HHH6933eJF53VAe7noZGdnG4MGDapznmnTphmZmZmGYRhGdXW1ERsba2RnZxuGYRjXXnutsXjxYsMwDKO8vNy4++67jbKyMsMwDOOf//yn0bVrV8MwDGPlypVGRESEcfjwYcMwDOPFF180MjIyjIKCAvc8TqfT6Nevn5GXl2cYhmE4HA4jOjra+Oc//2l89dVXxvXXX28UFha66+rTp4+xbds2o6amxggODjaKi4sNwzCMxYsXGx9++KFhGIbxzDPPGG+88YZhGIYxe/ZsY8qUKYZhGMaAAQOM9957zzAMw9i3b58RHh5uOBwO4y9/+Yuxa9cuwzAMo6ioyLjhhhtOe29EVVWVcfvttxs5OTmGYRjGZ599Zlx77bVGQUGB8dVXXxkxMTFn3W4ne/TRR4309HTDMAwjPz/f6Nq1q/Hxxx/XuT1OdWJbfPPNN8aoUaMMl8tlGIZhzJs3z3j44YdPm3/x4sXGAw88YBiGYdTU1BgTJ0408vPzjV27dhmxsbHu/4Y7duwwevbsaVRUVBizZ882+vTpYzgcDuPYsWPGLbfcYrz00kuGYRjGihUrjIiICMMwDOPtt9825s2bZxjG8XejPPjgg8abb77prnPatGnu7XvjjTcae/bsqXfd4j06MhFTmjVr5v6r+peMGzeODRs28Pe//538/HwOHDjAzz//7P59SEgIAJdccgmvvfYaa9euJT8/n++//94938aNG4mKiuLSSy8FYPz48cDxI6MT8vPz2bNnj8eYVpWVlXz33XdcddVVBAUF0b59+9Pq8/HxISoqiqFDh9K7d2969epFWFjYL/bn8OHDfP/99wwZMgSAoKAgVq5cCcBrr73GmjVrWLp0KTt37sQwDI4dO+ax/I4dO7Bare4RgmNjY8/4xruzbbcTcnJyeOaZZwDo1KkTt91221m3R9euXc/Yt27dunHppZfy4YcfUlBQwKZNm854GrB79+6kp6dz7733cvvttzN8+HA6derEggULOHDgAPfdd597XovFwp49ewC4/fbb8fPzAyAwMJA///nPAPzhD3/g8OHDAAwfPpwtW7bw1ltvkZ+fz48//ujxDpHw8HAA2rVrx2WXXcaRI0fqXbd4j8JETLnpppv46aefKC8vd5/mguOnXp599llmz55NcnIyLpeL6Ohoevfuzf79+zFOGsXnxMBzRUVF3HPPPdx99910796dqKgovvjiC+D4Dt9isbiXcTgcOBwOj1pcLhd+fn4sWbLE3VZaWoqfnx//+te/6hzgLi0tjR07dpCTk8Prr7/OkiVLmDVr1hnnPTEC7sn1/PTTT9jtdgYOHMgdd9xBSEgIgwYNYuXKlR59PeHUtjONqvvEE0/Uud1OsFgsHu0nvquu7fFL1qxZQ2pqKvfffz/h4eFceeWVfPrpp6fN17FjR1asWMGmTZv46quvuP/++5k6dSq1tbX06NGDmTNnuufdv38/gYGBrFixgubNm5+136+88grbtm1j0KBB3HbbbdTU1Hj07+TTfCf6Xt+6xXt0N5eY0q5dO+Li4pgwYQLl5eUAlJeX89xzz9G2bVtatmzJ+vXreeyxx+jXrx8AW7duxeVynfZdeXl5+Pv78+ijj9KrVy93kLhcLm6//XZWrFjhXserr77K22+/jdVqxeVyYRgGV1xxBS1btnTvPPfv309sbCx5eXl19qGsrIywsDDatm3Lfffdx+OPP+6+qO/j40NNTY3H/L6+vgQHB5OZmelez7Bhw9ixYwfl5eU8/vjj9O3bl02bNlFdXX3akdt1112HYRjud3ysWrWKI0eOnFZXfbfbn//8Zz766CMA9u3bx6ZNmwAatD02bNhAnz59SEhIoHPnzqxcufKM63z//fcZP348vXr1Yty4cfTq1YvvvvuOHj16sGHDBnbu3AnA2rVrueuuu6isrPzFdZ6p38OHD2fAgAFcdtll5OTknLGGhtQt3qMjEzFt8uTJZGRkMHToUHx8fKiuruaOO+5g1KhRAIwdO5bHHnuM1q1b4+vryy233OI+7XGynj178o9//IOoqCgsFgu33nor/v7+7N69m7CwMP7zn/+476i6+uqref7552nVqhU33XQTMTExLFiwgIyMDFJTU3njjTeoqalhzJgxdO/e3b2DPRN/f39GjhzJfffdR8uWLfHx8eGFF14AIDQ01GN05RP++te/MmXKFN59910sFgupqancdNNN9O7dm+joaJo3b861117L1Vdfze7du/nDH/7gXtZms/G3v/2N5557jhkzZnDDDTdw2WWXnbaO+m63yZMnM378eKKjo7Hb7Vx//fUANG/e/Be3xy8ZOnQoTz75JHFxcdTU1NCzZ08+//xzamtradbs//72HDBgAF9//TX9+vWjVatWBAUFce+993LppZcydepUnnjiCfd7TObOnXtOp5wee+wxpk+fzqxZs7DZbNx8881n7HdD6hbv0ajBIiJimiJbRERMU5iIiIhpChMRETFNYSIiIqYpTERExDSFiYiImKYwERER0xQmIiJi2v8DXKV9VUWO6z0AAAAASUVORK5CYII=\n",
      "text/plain": [
       "<Figure size 432x288 with 1 Axes>"
      ]
     },
     "metadata": {},
     "output_type": "display_data"
    }
   ],
   "source": [
    "#Cuanto de la variable objetivo va variando segun los dias de la semana\n",
    "import matplotlib.pyplot as plt\n",
    "\n",
    "carac1=pandasData['dia_semana']\n",
    "objet=pandasData['fare_amount']\n",
    "plt.plot(carac1, objet, 'o')\n",
    "plt.xlabel(\"Característica dia de la semana\")\n",
    "plt.ylabel(\"Objetivo\")"
   ]
  },
  {
   "cell_type": "code",
   "execution_count": 43,
   "metadata": {},
   "outputs": [
    {
     "data": {
      "text/plain": [
       "Text(0.5, 0, '')"
      ]
     },
     "execution_count": 43,
     "metadata": {},
     "output_type": "execute_result"
    },
    {
     "data": {
      "image/png": "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\n",
      "text/plain": [
       "<Figure size 720x720 with 1 Axes>"
      ]
     },
     "metadata": {},
     "output_type": "display_data"
    }
   ],
   "source": [
    "#como los pasajeros se distribuyen a traves de las horas\n",
    "pandasData.groupby('hora')['passenger_count'].sum().plot(kind='barh',legend='Reverse',figsize=(10,10))\n",
    "plt.xlabel('')"
   ]
  },
  {
   "cell_type": "code",
   "execution_count": 44,
   "metadata": {},
   "outputs": [
    {
     "data": {
      "text/plain": [
       "(-1.1014386975707833,\n",
       " 1.1000685110732618,\n",
       " -1.1023227663202417,\n",
       " 1.1005706124356427)"
      ]
     },
     "execution_count": 44,
     "metadata": {},
     "output_type": "execute_result"
    },
    {
     "data": {
      "image/png": "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\n",
      "text/plain": [
       "<Figure size 864x576 with 1 Axes>"
      ]
     },
     "metadata": {},
     "output_type": "display_data"
    }
   ],
   "source": [
    "#como se reparten los pasajeros en funcion de la hora\n",
    "pandasData.passenger_count.groupby(pandasData.hora).sum().plot(kind='pie',cmap='Paired',figsize=(12,8))\n",
    "plt.axis('equal')"
   ]
  },
  {
   "cell_type": "code",
   "execution_count": 45,
   "metadata": {},
   "outputs": [
    {
     "data": {
      "image/png": "iVBORw0KGgoAAAANSUhEUgAAAmQAAAITCAYAAACpNgDFAAAAOXRFWHRTb2Z0d2FyZQBNYXRwbG90bGliIHZlcnNpb24zLjMuNCwgaHR0cHM6Ly9tYXRwbG90bGliLm9yZy8QVMy6AAAACXBIWXMAAAsTAAALEwEAmpwYAACspUlEQVR4nOzdd3iUxdrH8e+29Gx6IwkhofdiqCooiHQRBEUQsKDisYGiL4KIoIh6ULGjx4aICjYQBFRQioB0kB5KElJIL5uebe8fkdUYhA3J5tkk9+e6vGQnu5Pf4pjcO8/MPCqr1WpFCCGEEEIoRq10ACGEEEKIxk4KMiGEEEIIhUlBJoQQQgihMCnIhBBCCCEUJgWZEEIIIYTCGmxBZjKZSE5OxmQyKR1FNEIy/oSSZPwJUf802IIsLS2NAQMGkJaWpnQU0QjJ+BNKkvEnRP3TYAsyIYQQQoj6QgoyIYQQQgiFaZUOIIRwvNyT5yhJzkLj5oK+czPcvbyUjiREg2Y4m0pRYjoqrQbvVhF4hvgrHUk4OSnIhGjg0rcfYe/M98nYfhSthxsdn7qdyJt6E9CxudLRhGiQ0nce5ch/V3Bu1XZUWg1t7h9BzKQbCe7eWulowonJJUshGrDCcxkcXfw1GduPAmAqLuXAnI8piEtROJkQDVNZWRlJ3+/g3KrtAFhNZo6/vYrcQ6cVTiacnRRkQjRgJRm5pGzYU6XdcDpVgTRCNHwlyZkkr9tdpT1922EF0oj6RAqyRupj9QClI4g6oPN2x7ddsyrt7iG+dZ5FiMZA5+uBf6eYKu2+7ZvVfRhRr0hBJkQD5tu6KV2fnYTWy93WFnbDVfi0jVIwlRANl2eAPy3vHoJ7iJ+tzbdDNCFXd1AwlagPZFG/EA2cf98O3PDDCxScTkXn7Y538yYEdm2pdCwhGqyw67tw/XfzMZxMQq3T4tMqgsBYWdAvLk0KMiEaOA9PTzyu7UTYtZ2UjiJEoxHSqx0hvdopHUPUI3LJUgghhBBCYVKQCSGEEEIoTAoyIYQQQgiFSUEmhBBCCKEwKciEEEIIIRQmBZkQQgghhMKkIBNCCCGEUJgUZEIIIYQQCpOCTAghhBBCYVKQCSGEEEIoTAoyIYQQQgiFSUEmhBBCCKEwKciEEEIIIRQmBZkQQgghhMKkIBNCCCGEUJgUZEIIIYQQCpOCTAghhBBCYVKQCSGEEEIoTAoyIYQQQgiFSUEmhBBCCKEwKciEEEIIIRQmBZkQQgghhMKkIBNCCCGEUJjdBVlaWhpbtmzBbDaTmprqyExCCCGEEI2KXQXZ5s2bGTduHPPmzSM7O5thw4axceNGR2cTQgghhGgU7CrI3n77bVauXIleryc4OJjPP/+cN954w9HZhBBCCCEaBbsKMrPZTHBwsO1x27ZtUalUDgslhBBCCNGYaO15kru7O6mpqbYibO/evbi6ujo02N+tWbOGd999F5PJxOTJk5kwYUKdfW8hhOMVpGRSeCqF0sx8PCOD8egQSdEfifh1bo6Lp9sV9Vl8PptSlRlLah6F8Wm4+Hji1aIJ+mZhV9Rf7vFECs6kolKr8W7eBN/WkVfUj1CG0WjEcCSBgvg0dJ5ueDQLwa9102r1YTh7Hqsais6cpyyvEO+oELzbROLq5VHtPEUpWRTGn0en90TfOhKtq67afYiGxa6C7PHHH+fuu+8mMzOT2267jYSEBN58801HZwMgPT2d1157jW+//RYXFxfGjRtHz549adGiRZ18fyGEY+WcTiJ19e/sm/0hlnIjrv56rv5oBr79OnDyndW0uHMQ7kG+1eozddN+jq/bStth/Tjz2UY8IwIxl5Sj3eFO5MjeBHZuWa3+0nccYd/MD0j/7TAAYf270vW5uwjp3b5a/QhlGMvKyN51ku33voLhVDIALe4cRJsHbiKoexu7+jj/ywFcgvQkfPkrh19egdVswT0sgGuX/h/hN1xVrTzZ+0+x6eY5FCVnolKr6TR7Ah2mj8HF16va7000HHZdsuzWrRsrV67k1VdfZerUqaxfv54ePXo4OhsAO3bsoFevXvj6+uLh4cGgQYPYsGFDnXxvIYTjFZ9NY8+T72EpNwJQlmNg10NvUn4mnb0z/0fOwTPV6i//VDKbRj3DVVPHYDidQv6Jcxx6/jNOvr8Wq8lMcWoOxTkGu/uzWq2kbNhjK8ag4pdz2pZD1collFOansfR17+2FWMApz/5kfyTSWQejLvs64tSMtlyxwsUnjnPHwu/wGq2AFByPpu9T75H7rEEu7MYC4rZNf0dipIzAbBaLBx6bhnZB05X702JBueSM2R79uyp9NjDo2Ja9syZM5w5c4bu3bs7LtmfMjIyCAoKsj0ODg7mjz/+qPQcg8GAwVD5B2xaWprDswkBMv5qqigxA6zWym3JmZRl5IHVSuG59Gr1V5iYjqmwBHNxKee++43M348BFb8IDz3/Gf2+eJrSlCw8/PV29WcsLSdtc9XiK2PbYZhZrWgOIePv8sqy8sn47WiV9vyTyUSO6XvZ15ek5aDxcKMoKbPK13IOnqE8t9DuLKXZ+aRv+6NKe2Gi/Ddr7C5ZkM2fPx+AkpISUlNTadmyJRqNhri4OJo3b87q1asdHtBisVTaQGC1WqtsKFi6dClvvfWWw7M0NLlH4vHrEK10jHpPxl/NeEYEVWlzDwvANcin4uvhVb9+KW6BPqjUFZP/qRv3Vfl6aUYe7gO62N2f1lVH8LUdKs2QAQQ5yeVKGX+X5+LrRVCvtiSt2Vmp3adlOMU5Bbg2ufSaaLdgP5qN6YtHeGCVr/l1iEZXjUuNrv56gvu0J2NH5QLRMzL4X14hGotLFmRr1qwBYNq0abz88st069YNgKNHj7JkyRLHpwNCQ0PZu3ev7XFmZmalHZ8AkydPZtSoUZXa0tLSZPH/ZZz/5YAUZLVAxl/NeESH0u25uznw7CdYzRZ03h70evNhXFuG0XX+XQR0qd56UZ82Tblq4T2o1Gp820aReyS+0tfdQ/1xD/Szuz+1Wk3EkJ6k/rSP7H0Vl7eC+rQj9Pou1crlKDL+Ls9qsdJ++hhy/zhLYWLFjGv0uOvxbhWBX5OqRdY/eUUGEzXyatQeOtpPH8PRxd+A1YprgJ7Y/96Hyt3+Uwdc9J70XPwgPw+fTWlGLgAdnrgN/67VW9coGh67FvXHx8fbijGA9u3bk5iY6LBQf9enTx/efPNNcnJycHd356effuK5556r9By9Xo9eb9/lB/EXq8V6+SeJy5LxVzNeYf40m9CfwF5tKMvIxzMqGK/O0RTsP0O7R0bhovesVn9aNxfa/udm8hLT6Dr/TraMX4C5tByApiP74BlV/ZmI0Gs60ue96RTGp4FahVezUAKd5BeojL/Ls5jNWFy19PviaYrOZaD1ckft4QJms919BPduR+beE7S8fwThg7pTlmPAKzoU1zbh+Pj4VCtPYGxrRux+h4KzqbjoPfFp0xStR92dXCCck10FmZubG99++y0jR47EarXy1Vdf1dkPgJCQEKZPn86kSZMwGo2MGTOGTp061cn3bvCsUpAJ5bn4eGG1QqmbC+U6DSqNGheNltBrr/z/c62nGyqjGa8WTej3xdPkHz+Hi68Xvh2bYbFYrqjPwG6tCOzW6oozCeWoAHdfL4rOplGQkIbW0w3/TjGoqlEEpW8/QvK6XUQM7425zIi53IS5pBxzUg5UsyAD8GoajFdTuUwp/mJXQbZgwQKeeOIJnn76aVQqFe3bt+eVV15xdDabESNGMGLEiDr7fo2F9Qp/MQlR21x9vQi5umOt9ukeEciJxd9yaMFntjadtwc3rFlQq99HOD+NvxepX25h16N/rbVTu+gY+MMLdr0+91giux9/hyY3XMUvN8+hNDPP9rUOj9+K53OTcXW7svPyhLjArmMvWrRowXfffceOHTvYvn07K1euJDJSDkWs72SCTDRkxecyOPr6N5XajAXF5B2rm+UWwnkYswwc+8dYsJQbydpz0q7XG+KSydp9ErVOW6kYAzj+zmoMh+Iv/kIhqsGuGbLnn3/+ou1PP/10rYYRdUxmyERDZrGg1l3sR5x8EmlsVOZ/GQt2rsVXaS4zdyF3EhS1wK4ZMl9fX9s/np6e7N6929G5RB2QRf2iIXOPDKLdo6MrtbkF+6FvJbP7jY1L00DaPHRzpTadtwf+du7g1bcMJ2JYL8xlRtyCK+/QbffQzeg7yW51UXN2zZA99NBDlR7fe++9PPDAAw4JJOqQXLMUDZhnsD/hg7vj4utF+pZDeEQE0eTGq/CIkYXUjY2nXk9gjzb0fnca5zftxzVAT/iN3fGMCbXr9b5tmtJp1niydp8g9uX7yDl4mvyTSUQO7UVgzzayfkzUCrsKsn/y8vIiIyOjtrOIOiYzZKKhcw30IWJEL8Ku7wIaNe4RQbhX8xgN0TC4h/oTNrg7wX3ao1KrcGkaiLuH/TcFD+nd/q97l0668aKHlAtRE3YVZM8995xt4FmtVo4ePUp0tEzR1ndWmSETDZjVYuH0h+v4Y+EXtjaNuyvDf38L/44xCiYTSkhavZ1dj/y1y1Kl1TDstzcI6mHfzcX/SYoxUdvsKsj8/CpfM7/pppu46aabHBJI1CFZ1C8asKLkTI6+VnlnnbmkjNzD8VKQNTIlWfkcWbSyUpvVZCZz1/ErLsiEqG12FWT+/v6MHz++Utv777/Pfffd55BQom7IBJloyNRaLVpPN9sp/RdoXHUKJRJK0Wg1aL3cq7bL6fjCiVyyIPviiy8oLS3lk08+oayszNZuNBr58ssvpSCr72SGTDRgHk0CiH3xXrbf+9ch1l5RIQR0rd69MUX95+LrxVUL7uGXUc/Y2lz99YT0bqdgKiEqu2RBptVqiYuLo7S0lLi4OFu7RqNh5syZDg8nHEvWkImGrtnYfnhGBJGycT/ezUIIG9AN75gmSscSCmhy41UM/uUVUjbsxj3En7AbuuHbrpnSsYSwuWRBNnbsWMaOHcvGjRu54YYb6iqTqCOyKFU0dC56T8IHdSd8UHelowiF6dzdCLuuC2HXdVE6ihAXdcmC7H//+x/33nsvO3fu5Pfff6/ydTmpXwghhBCi5i5ZkHl7ewNVd1mKBkJmyIQQQgincMmCbNy4cUDVk/qFEEIIIUTtsevYi/bt22P5x448Nzc3WrVqxQsvvEDz5s0dEk4IIYQQojGwqyCbNGkSnp6eTJw4EbVazVdffcXZs2fp168fzz77LMuWLXN0TuEIcslSCCGEcApqe560a9cuHnroIXx8fPD29ubuu+/mxIkTDBw4EIPB4OiMwkGyD55WOoIQQgghsLMgKykpqXQz8YyMDNtBsWaz2THJhMOVZuQqHUEIIYQQ2HnJ8t5772XUqFFcc801WCwWdu7cyVNPPcVbb71Ft27dHJ1ROIicQyaEEEI4B7sKstGjR9O5c2e2bduGVqvlwQcfpFmzZiQnJxMaGurojMJBVGq7JkiFEEII4WB2FWQA2dnZhIeHY7VaiYuLIy4ujhtvvNGR2YSjqWWGTAghhHAGdhVkTz/9NFu3biUqKsrWplKppCCr52SGTAghhHAOdhVkO3fuZN26dXh5eTk6j6hDKpkhE0IIIZyCXVMkYWFhUow1RLKoXwghhHAKds2QdevWjenTp3P99dfj5uZma5dLlvWcFGRCCCGEU7CrIDtw4AAAX331la1N1pAJIYQQQtQOuwqyC7dGMplMWK1WdDqdQ0OJulGalad0BCGEEEJg5xqy7OxspkyZQpcuXejUqROTJk0iPT3d0dmEg5mLy5SOIIQQQgjsLMjmz59Ply5d2LFjBzt27CA2NpZnn33WwdGEw1mtSicQQgghBHYWZAkJCTz00EPo9Xr8/Px45JFHOHfunKOzCQeTekwIIYRwDnYVZCaTyXYzcai42bjcB7H+s1osSkcQQgghBHYu6h86dCh33nkno0ePRqVS8c033zBo0CBHZxOOJlNkQgghhFOwqyB78MEHCQ0NZdu2bVgsFkaPHs2YMWMcnU0IIYQQolG4ZEGWl5dn+/OAAQMYMGCA7XF+fj6+vr6OyiXqgkyQCSGEEE7hkgVZr169UKlUWK3WSmvGLjw+fvx4rQX57rvveOWVVwgICADguuuuY/r06RgMBmbMmEFSUhL+/v4sXryYoKCgWvu+QgghhBBKu2RBduLEict2sHbtWoYPH17jIEeOHGHmzJlV+lq8eDGxsbG8//77rFq1igULFrB48eIafz8hhBBCCGdh1xqyS/nwww9rpSA7fPgwCQkJvPfee7Ru3Zo5c+bg4+PD5s2bWb58OQDDhw9n/vz5GI3GSncLMBgMGAyGSv2lpaXVOFODJxtla4WMP6EkGX9CNAw1LsistbRTLygoiLvvvptu3brx6quvMn/+fF555RUyMjJslyi1Wi1eXl7k5OQQEhJie+3SpUt56623aiVHoyJryGqFjD+hJBl/QjQMNS7Iqnse2fr161m4cGGltpiYGD755BPb4ylTpjBw4MCLvt5qtaJWVz4+bfLkyYwaNapSW1paGhMmTKhWNiGuhIw/oSQZf0I0DDUuyKpryJAhDBkypFJbQUEBn3zyCXfeeSdQUXRpNBoAgoODycrKIjQ0FJPJRFFRUZXdnXq9Hr1eXxfxhahCxp9Qkow/IRoGu07qdzQPDw8++OADDh06BMBnn31mmyHr168fq1atAmDdunXExsZWWj8mqq+2LjMLIYQQonY4xRoyjUbD4sWLefbZZyktLaVZs2a8/PLLADz66KPMnDmTYcOG4e3tzaJFi2r8/Ro9KciEEEIIp1Ktgiw/Px+NRoOXl5etbcSIEbUSJDY2lu+++65Ku6+vL0uWLKmV7yEqyAyZEEII4VzsumR59uxZbrnlFnr37k3Pnj254447SE1NBeCee+5xaEDhAFKPCSGEEE7Frhmyp556irFjx3LLLbdgtVpZsWIFs2fP5uOPP3Z0PuEIMkMmGoHSrHzO/3KAs1/8gm/7ZkTfeh3+nWL+9fnl+UWUpOfg4ueNe5Bv3QUVdaLcUETa1j84/elPeDYNocUdA9F6uOLi44l7iJ/S8YSwb4aspKSEcePGodPpcHFxYeLEiWRlZTk6m3AQuWQpGoPTn/7E5nHPcW71dv54YTm/3fsKuccSMZcbqzw3++Bpfhr6FN+2uZMfrn6E878eUCCxcKRz3+9k001Pc27VdjybBPD7Q6/zbZvJrO3zMKk/75Ofi0JxdhVkMTEx7N+/3/Y4Li6OiIgIh4USDvbnDx5TabnCQYRwjMLkDA7OXwaAe4gfV3/wOGH9u7Bx+Cy2TX6J7AOnASjJzOP85oNsvv15MnceBaDgdAobRzxN/skkxfKL2lWaY+DgvKVoPdy46sV7yT54mowdFf+9C+PP8/OI2eQfT1Q4pWjs7LpkmZqaysSJE2ndujVarZZjx44RFBRkW9C/Zs0ah4YUtevCB8GyrHxlgwjhICorWC0W2j0yGrWrjhNvf0/QNe3p/t/7yT54huR1u3Dx8+Lk+2tRazUY/lF8mYpLMZxOwad1pELvQNQqK4T07YxXZCCJ3/1Gs5uvJuLGWIpSskjbfIiUH/eQfzIZ33bNlE4qGjG7CrIZM2Y4OoeoSzI1Lxo4j4gger31MIlfbyN53S68W4bjERrA1jtewFxmROOqw71JAGe//IWYcf3RerhhKi6t1IdrgBy22lC4Bejx6xDFnseXEPvSfZxYsoaCMxUb0yJH9Kb5xIFoPFwVTikaO7sKslatWl20/Z8n5ov6xWqxKB1BCIcoOpeBZ3gQXlHBdJk7Ce8W4Wy/57+YyyrWj5nLjPz+4Ou0f2wMZz//hXbTRvPHC5/bXt/2oZvxbRelVHxRy0qz80lau4urP5hB6s/7bMUYQNKanXR/9QE8wgMVTCiEnQVZr169UKlUWK1W270rg4KC2Lp1q0PDCcewFWIyUSYaGKvVSvL6XRx/ezWdnhpP01HXYi43YjQUY/7HmklzaTmufnoKE9JI2bCHbs/fjbnMSHDvdgT2bIuL3lOhdyFqm8VkJmb89XhFh5K58yh+nWIwFZXaCrOS1Gz82jdTNqRo9OwqyE6cOGH7c3l5OWvXriU+Pt5hoYRjycyYqM9MZeUUJ2WicXNB5+NJxm+HObNsI+5N/Gl6Ux/yTyajcXNhw3WP4RkVQtsHR6Lz9qhyWVLr4YZHeCAt7xpM2tY/yNpzknYPjyKsf1cF351wBIvRhD6mCYWJaXSafQfJ63ah83anzdQRHFm0Et92zWyTDUIopdq3TnJxcWH06NGMHj2axx9/3BGZhINZLRemxmSKTNQvhjOpHHj2E+K/+BWPiEC6zJnI9ntfsX395JK19Hj1Ac599xsApRm5ZO45QeupI+j11sP8/vCbmIpK0Xq60WXORPY8sQSNq47A7m0wnEpG5yOzYg2R1WrlzJe/EtK7HTvuf9XWnvD1Vnq/Ow1UKowFxei8PS7bl6mkjJyDpynLLUTfIhyfVnLigKgddhVkeXl5tj9brVaOHDmCwWBwVCbhaBYpxET9YzGZObb4G84u3wRAUM+2HH3t60rPMRWXYjiVjNbTjWZj++ERHkjBmVS8u8bg270VnVKzcfHxxLdDNKm/7qc4peI8xYKz5+n4f7fj26Zpnb8v4XjluYUEX9uR4298y60Z32A1mfiqyW2YS8spOJNKUO/2di3qL8nM5eS7azi0YDkWownPpsFcu3QmYf0618G7EA1dtdeQAQQEBDB79myHBhOOI2vIhDPKP5NCSVou7sG+FYe3qtV4hPmjVqtx0XtiOJ2Ci58XPm2akn/iHCq1Gqu56uV3Kyqajr6WwKtaEX5rXzSoKD6ZgsbTnRaP3kxZWg4FR84Rdn033IN80bi6oG8RQUCX5mg93RR456K2mY0mSrPyQa3CVFCCWqclqH9XIm/qTeHJZNRuLtxeuIayzEJSvt+Od8smqNR/HctZXlBEcUo2Lr5eeIT629qNhmKibr2OZuOux1RUintEAL+//wP6VhF4hgUo8VZFA1LtNWQXmEymWg8j6obFZFY6ghA2VouF5PW7+f3hNzGXltNl7iTOLt+E4UwqMeP702zsdWRuP8LB5z/DXFxKzIQbCO7TnoSvt9J++i0cnPeprS+Nq44m/buSuOo3Qm7oRsmp85z9YhOJ32zDIzyQTjNvJ6BvO0zlJRyZs5K2/xmJb+cY/Ns2U+4vQNSq3GOJHH75S4Kv6YBHqD+nP/mRkrQcui+ayulvf+Ps55twDdDT8clbCejehpxDpzGXlXM6t4DW9w2nKCmTo69+Rdaek4T060Sru4ei79iU7B0ncGsaTHlqNodeWE7h2fNEjb6WDhNuoCQtRwoyUWN2ndT/+eefV3p8+vRpxo4d65BAwvEuNqsghFIy98axZfwCChPSaPOfm9g97W3SfztMyflsjr7yFaf+9wOZe+Mozy3AXGbk1EfrcfH1Qu2ipSQj789T+LvSbExfer75MGdX/Erc/37ARe/B6U82cOLt1ZSk5ZC9L47Ntz9P/oEEQq7thsbDld/uepm8P+Jlo0sDUZptYOukhRScScU9yJddj75N4rfb6P/zS5z7fgdHFq2gODWL3MNn2TrpJQwnkmj/7ESSvt9J3pEEUn/ex9bxCzi3ajvFKVnEf/4Lux97B8ORc/w6dh7mvEJ+HTuPzJ3HKEnP5cS733P8nVW4yJl1ohbYVZB98cUX/PDDDwB8/PHHjB8/npEjRzo0mHAci1lmyITzKEpMw1hQDIDFaLadFXbBqaU/EnN7/0ptqT/tZcC38+nw2FgO/3cF5jIj+SeSKEpM58yyn7l66ZMUn8vkzJ/rzS6wmswYTiZhNZvpMG0MVpWK/BPnKE7NduybFHWi4GwqOftP0fyOGyhMSKMw/jwAxSdTOLPs58pPtlrJPngar5AA0n87jH+XFhQlZVKUnFnpabl/nK0YMyYz+SeTqhyfkrBiMyUpcm9nUXN2XbL86KOPuOuuu1i6dClqtZoVK1YQHR3t6GzCUeSSpXAiLn7eoFKB1YpKU/UzoouPJ+bikkptvu2iCOzZBo1OS/PxAzgwdykATW68Che9B5m7ThDQsTlugT4UJWVUeq3W0w2ri5oDcz+hy+wJoFGjcXNx3BsUdUbr7oZKo6Ys24BbkK+tXePhglugj20TxwWufl6UlZWhcdVhNZnRerlX6VOlVtt2X+rcqy78d/H1QuNS7QMLhKjikjNkeXl55OXlodPpWLRoEWlpaUydOhU/P79KOy9F/WI2y2p+4TzcmwTS8cnbgIr7q/q0rXxC/lUvTOHEkrW2x1pPN9o/NgaNruKXYItJg2h1z1BUGjXuYQF0njORuHe+x7NNBF2enVSpL33LCHzbRZG7K46sPSfxbd+MoO5tcAv0cfC7FHVB3yqcDk/cxrHXv8WzaTBRo68FQNfEn86zJ1QU/n/yaBKIf9eWrAq/ndb3jyDx2234tI4gckTvSn22vGsQPu2i8O/WEn3bpvh2aFbp653nTMSrvdzVQdScymr99xsbtmnTptLuykovVKk4fvy4Q8PVRHJyMgMGDGDTpk1ERMg5MX+Xd/Ic37W9C4C7LJsu82xxJWT8VU/2oTMUxqdRnJqJvmUkBfGpFKfmENitJWo3Ha6+3hQlZ2IpM+LXMRq/DhUz9MWpWaRtPYzaXUfuoTOotVpcfDwpNxTT9M9fxoaT58g5eAa3IB/8u7TAHKEnc9k2PCMC8evSHJ9WkWgb2AxZYx5/pdn5ZO46TkmWAa+IIEoyc3FvEoBnZAiGY4lk7z+Fi48n/l1b4NEpiqwN+yjPK8IrKoTgPu0pOZ9Nxo6j5J04h2/bKHzaRhF4VUuy98aRezIRn5aR5Bw8Q8n5bPw7NUffvqlsChG14pLzrH/fXXnhtklmsxmLxYJOp3N4OOEYVpMsYBbOJaBzcwI6N/9by1VVnhPUo02lx8bCEvbO+hBTYQlh13fh1Ec/EnZdZzzCAzmxZA0pP+7Bp1UEeWfTGLRhIeXl5azwvomrFtzD/qc/RKXVMOjHlxpcMdbYuQX4EDm0l+1x+m+H2fGf1wm7vgspm/Yz8uD7mM1mPncfyoDVzxFz6/WVXu/i7YFPq8gq/Qb1bEtQz7YYS8twifDHPciP0pRsfJuHO/w9icbBrkX9u3btsi3iP3v2LNdddx0HDhxwaDDhOLKoXzQEhrhkznz6E34do4n7YB2tpgxB3zqSU0t/5OoPHidm3PX4dYrBOyKAzzyGsrbtPcS+eC+n/1zcbTWZ2T/nY4yFxQq/E+FIiau2k3ckHiwWgmNb87n3cL6LvoPui6b+7a4l9tO5ueIXGYabm5sUY6JW2bUS8aWXXmLhwoUAtGzZkvfff5958+axcuVKh4YTDvLvV6mFqDfM5Uaa3nw1+pYRRN7UB3NJOQFXtaTNAyNRqVTsnfkBRkMRAVe1otNT4/GOacKuR9607egEKExMp+Dsefw7Nb/EdxL1ldVqxXAqGYDjb6/Gt30z2j16Cy7+Xmh9PCst/BdCaXbNkBmNRtq3b2973L59e8rLyy/xCuHMrLLLUjQAWi83SrPy2XrHC/zxwnKKz2eTfzIZnbcb5YZijIYiALL3xXHouWWUpGVXKsYAmo68mjNf/Cqzxg1U4bkMgnu3sz3OO5rA4Ze/ROfpjr5FEwoT0xVMJ0RldhVk7u7ubN261fZ4586deHhc/iaswjlZZA2ZqOesFgunP/mJjN+OVDw2Wzj9yY+odVqMBaV4hPlXeU3it9vovWQ6Xs1C0Xl70Oq+YYT270Lqj3swl8gHzIaoNDOPoqRMOs68HbdgP1wDfegw41ZcA/ScXbYRqxTiwonYdcly9uzZPPjgg2i1FU9Xq9W8+eabDg0mHMcit70S9VxZXiGJ3/1WtT3bQOzCKZTlFtBsbD8Svtpi+1rItZ2I//JXOj51O/nHEkn+YRfZe+Jo//hYdBc5f0rUf8aCYvStIjn83y+JGn0NKrWa9N8OExDbilMfrafJDd2UjiiEjV0FWefOndm8eTNxcXFoNBqio6NxcZGdSfWVxSifCkX9pvP2IOSaDraT2C/w61hxHIarnzddnp1MYPfWlOcVovVwI+WnvYT178r+2R9RlpX/12vkDKkGyzVAT2lmHm0fvBlzaTkqjZqo0deSvG4XgFyyFE7lkgXZ6tWrGTlyJB9//HGl9h07dgBw1113OS6ZcBhTaZnSEYSoIv9UMuc3HSD/5DmaDOhGUJ8OuPl7X/S5Gp2WDo+NJXXjfkrOV9z2qMnAWEKu6WB7jl/bKDQ6Lenbj1KUnEn76WM4/NKXlYox3w7N8IwMcewbE4rRtwxH3yaS8uwCStNzcfH1pDA+jTOfVuy09WnTtNp95sclkbppP4a4ZJrccBUhV3fAxdertqOLRuiSBVliYiIAcXFxQMXJ/RqNBm/vi/+QFPXDP+/FJoTSCs9lsHHk0xhOJAFw7PVviX35fjo8PhbV305X/zv/zs0ZvvNN8k8koXHT4duuWZUT9/UtwtG3qDiaoDyvkMzfj5H5+zGg4pY3fd6djpvcGLrB0rm7EX1LX/KOJ+LfpTnbJr9E0bmKWbHmd9xQ5Wy7yylISOPn4bMoOJ0KVIzTnm88RLuHRtV6dtH4XLIge+SRRwCYMmUKTz75pO1k/m7duvHyyy87Pp1wCFnALJxN7h9nbMXYBQfnLaXZLdfiHR32r6/zahqCV9NLz3AVJKRhOJ2Ci96T9o+PpdmYfpTlFqCPCcM7pkmt5BfOS+vuSmC3VgAMXPcC+cfPofV0w69zczzCAqrVV86hM7Zi7IL9T39M05v6XHYcCnE5dq0hmzVrFrfeeiujR4/GarWyYsUKZs+eXeVSpqgfTKWlSkcQohJzedWNJubS8hrvCM7cfYKfhz1FWbYBgNYP3ETXeZMJvKpVjfoV9U/OwTP8PHwWxakVNxiPvu06ur/yHzyb2F+UWS42TkvK5O4nolbYdexFSUkJt912GzqdDhcXFyZOnEhWVpajswkHMRcZlY4gRCV+7Zvh4uNZqa3VlKF4RQVfcZ/lhiJ2P/6OrRgDOPnu92TvO3XFfYr6yVRWzqEXPrMVYwDxKzaTtat692P2bd8MnXflI5/aPDgSz6ZXPk6FuMCugiwmJob9+/fbHsfFxTW6G9Y2JOVFJUpHEKISn9aRDNq4iJgJA/BtF0Xsi/fS6anxaFyu/J655bmFZO46UaW9MD6tJlFFPVSeV0j6n2fW/V3u4fhq9ePXLopBG/9L9G3X49u+Gd0XTaXD9LGotZraiioaMbsuWaampjJx4kRat26NVqvl2LFjBAUFMWLECADWrFnj0JCidlmKZJelcD6BV7Xi2o+fxFRShou35+VfcBkqtYqQqzuQtuVQpXZXWcTf6Ki0GkKu7VjpXDoAzyuYgQ3q3oZrP52JubR2xqkQF9hVkM2YMcPROUQdMhXLDJlwTmqtFhdvu34sXd6fZ04Vp2RhOJ2CSquhzf3D0XrIGYqNjQoVwX3ak38iidzDZ1Gp1TSfOPCKDwTW6LRodLU0ToX4k10jqkePHo7OIeqQnEMmGgPPJoGggpC+nYgedz2oVKRu3Eeb/4xUOpqoY24Belz8vPDrFEPTm69GpYLUXw7i3Vx22QrnYdcaMkdYvHhxpdsvGQwG7rvvPoYMGcKECRPIzMwEoLy8nCeeeIIhQ4YwatQozpw5o1TkBsNYKLssReMQM64/Yf27krn7BOV5BfR682F828rJ/I1R1E1XE3Xz1WTvO0lJei49Fk0loEsLpWMJYVPnBVlBQQGzZs2qcmTG4sWLiY2NZf369YwdO5YFCxYAsGzZMtzd3Vm/fj2zZs3iqaeequvIDY5RLlmKRqI0M49TH63DVFBM2uZDZO0+gVE2tTRKJZl5nPrkR8qyC8jYeYy0zQcpzytUOpYQNnV+EXzTpk00a9asym2XNm/ezPLlywEYPnw48+fPx2g0snnzZh599FEAunfvTk5ODqmpqTRp8tdUs8FgwGAwVOovLU12Uv0bk6FY6QgNiow/52QqLWP/Mx9z/peDtrad/3kd3/bRhF7bUblgtUzG3+VZTGaOvfEtyT/8bmvb+8dZ/Lu0IPzGWAWTCfGXOi/Ibr75ZoBKlysBMjIyCAoKqgil1eLl5UVOTk6ldoCgoCDS0tIqFWRLly7lrbfecnz4BsIsuyxrlYw/51SakUfS9zurtBtOJTeogkzG3+WVZueT+PXWKu05B09LQSachsMKsvXr17Nw4cJKbTExMXzyySd2vd5qtaJWq7FarZXuZXeh/e8mT57MqFGV7yWWlpbGhAkTrix8A1deJDNktUnGn3PS6T3w7RhNzv7KB8G6h/gplMgxZPxdnoveE/+uLUnZsLtSu9clbsslRF1zWEE2ZMgQhgwZYvfzg4ODycrKIjQ0FJPJRFFREb6+voSEhJCRkUHTpk0ByMrKIji48tkxer0evV7OFrKXpVhO6q9NMv6ck6uvN71ee5CfhszEVFyxkSXqlmsJaGC3TZLxd3lad1e6zptM5s6jlOcXARDWvytBvdoqnEyIvzjNQSr9+vVj1apVTJ06lXXr1hEbG4tOp6Nfv36sXr2a2NhY9u7di6ura6XLlaL6jHLshWgkQq7tyIi975J/MgkXXy/8OjTDLcBH6VhCAUHd2zB89zvkn0iquLl4x2jcg3yVjiWEjdMUZI8++igzZ85k2LBheHt7s2jRIgAmTpzIM888w7Bhw3BxceHll19WOGn9ZymTGTLRePi2aYpvm6ZKxxBOwKdlBD4t5bZ/wjkpVpA9/PDDlR77+vqyZMmSKs9zdXXlpZdeqqtYjYKlvFzpCEIIIYT4G8UOhhXKsZablY4ghBBCiL+RgqwRMhulIBNCCCGciRRkjZFFCjIhhBDCmUhB1hiZrUonEEIIIcTfOM0uS1GHpB4TDVzu4bMkr99NUVImkSN6E9ynHTovD6VjCQfJ2n+K5B9+pyy3gKYjryaoVzu0rjqlYwlRLVKQCSEalLzjiazv/zhl2RX3dzz+9ir6Lp9F89sHKJxMOEL2/lOs7zcNU1HF4b/HFn/DwHULiRjcQ+FkQlSPXLIUQjQoWXvjbMXYBfuf/pjSrHyFEglHSt2031aMXfDHC59jKpEDsEX9IgWZEKJBMZdVPWfPXFyK1SybWRqifxZjAOUFxVjNFgXSCHHlpCATQjQoAd1aofnH+qGO/3c77iH+CiUSjtTkxqtQqSv/Kuv4xG3ovNwVSiTElZE1ZEKIBiWgawsGb3qFjP1x+LdpSkFCGq7+egxnU9HHyH1wG5LyohLMpUZ6vzsN10AfTCVlqDVqwgfFKh1NiGqTgkwI0aCoVCrcmwbhmZLJxhGzMf9579amN/Wh+ytT0TcPVzihqC1J3/3Gtrtetl2ebDF5EJ3n3IGrr7fCyYSoPrlkKYRocIrPZbB/zse2Ygzg3Pc7yN5/SsFUojZl7Y9j94z3Kq0VO730R3L/OKtgKiGunBRkQogGpSQjD1NRKYZTKVW/lp5X94GEQ5TlFlKakVulveQibULUB1KQCSEaFI2bDnO5kbD+Xat8Td9C1pA1FK4Bevw6xVRqU6nVeEeHKZRIiJqRgkwI0aC46D1RazR0fPI2Anu0AUCn96Tnmw8TfHUHhdOJ2uIZGUSPVx7Ar0M0UFGg9XlvOj7tohROJsSVkUX9QogGJ/T6LmRsP0rsy/dhLi3HxceL4J5tlY4lapF7gA/lzUK4+oMZlGUb0Ok98AgPxCs8SOloQlwRKciEEA2O1tWFJhe5ZCkaFp/m4dBc6RRC1A65ZCmumMVkpjgtR+kYQgghRL0nBVkjl5uSfsWvXdPnIVY0GVuLaYQQQojGqcFesjT/ed+6tLQ0hZM4XmlaLjm/HcViNGE4eJaiM+cpOJ2KOafwsq9dFTm+xt//Y/WA6r1ABZ5tI/HpFI1rkA9Nxl6LR7OQGueoC6GhoWi1l//fpjGNP1F3ZPwJJdk7/sSVUVmtVqvSIRxh7969TJgw4V+/PvNURB2mEfXNiy2TL9q+adMmIiIuP3YuN/6EuBIy/oSS7B1/4so02IKstLSUI0eOEBQUhEajUTrOv0pLS2PChAksX76c0NBQpeNUS2PMbu8nREeNv/r8d3458t4uT+nxV5vq83/vxppdZsgcq8H+zbq5uREbW39uMBsaGlpvP3lI9qocPf7q89/55ch7q7n69POvPv/3luyiNsmifiGEEEIIhUlBJoQQQgihMCnIhBBCCCEUJgWZwvR6PQ899BB6vV7pKNUm2etefc1tD3lvjUt9/juR7MIRGuwuSyGEEEKI+kJmyIQQQgghFCYFmRBCCCGEwqQgE0IIIYRQWIMtyEwmE8nJyZhMJqWjiEZIxp9Qkow/IeqfBluQpaWlMWDAALm5rlCEjD+hJBl/QtQ/DbYgE0IIIYSoL6QgE0IIIYRQWIO9ubhwrJJ8A0Vn09F5e+DTIlzpOEIIcVkmo5H8o4mo3XT4tYlSOo4QlUhBJqotfccRTn/6M+e++w2vmDC6zJ5A6MBu6FxdlY4mhBAXlbHrOEnf7+DUJz/iFqCn01O3E3RNR7wjg5WOJgQglyxFNRUkZ3L8rVXEvb+W0sw8snYd59ex88jacUzpaEIIcVFWq5XktTv5Y+HnlJzPJvdIPFvuWEjuwTNKRxPCRgoyUS3F59JJ+GpLpTZzmZG8k0kKJRJCiEvLPXyW05/+XLnRaiV7f5wygYS4CCnIRLWodVpcfL2qtOs83BRII4R9Ujft59v2dykdQyhE7eaKW6BPlXYXn6o/y4RQihRkoloCurWkyzOTKrX5dYzBp01ThRIJcXmpG/eTf/yc0jGEQnxbRdDpqdtRqf/6lefRJJCAq1opmEqIymRRv6gWtUZD6ICuXP/VXHKPxOMe4o9fpxiCerRROpoQQvyrgD7tGbD6ObIPnUbn5UFA1xaEXttR6VhC2EhBJqrNv10z/Ns1o9ktfZWOIoQQdvFuEoh3k0Aih/VSOooQFyWXLIUQQgghFCYFmRBCCCGEwqQgE0IIIYRQmBRkQgghhBAKk4JMCCGEEEJhUpAJIRo8lUrpBEIIcWlSkAkhhBBCKEzOIWvE8o4lkLU3DqvZQkC3lvh3bq50JCGEcLjygmKy954k7/g5PCICCYptjUeTQKVjiUZOCrJGKufgadb3f5zyvEIAtB5uDP7lFTlxXwjRoFktFk59tIHd09+2tUUO7801H83ALdBXuWCi0ZNLlo1UwrfbbMUYgKm4lBNL1mC1WhVMJYQQjlVw9jz7Zn1QqS1p7U5yjyQoE0iIP0lB1kgVJKRVbTubitViUSCNEELUDVNJGeaSsirtRkOxAmmE+IsUZI1U0xG9q7S1vncYao1GgTRCCFE33EP8COlb+abiWi93fNpEKpRIiAqyhqwRKs02kLxhD12emcipj3/EYjTRYtKN+LSLUjqaEEI4VN6xRJrccBWu/nrObzqAb7so2vxnJJ5Ng5WOJho5mSFrhPJPnOP0xxs4/tZqmgy8iqY39eH00h8pPHte6WhCOIYcRCYAU2k52QdOc+CZTyhOyaLFnYNwDfRhx9TXKM3IUzqeaORkhqyRsVqtFJw9j3uIHyXpuZz6aL3ta+4h/gomE8KBZLOKAPKPJ2IuLgUga89JsvacBCAgthU6H08lownhXDNkEydOZNiwYYwcOZKRI0dy6NAhduzYwYgRI7jxxht57bXXlI5Y75lLy4n7aD3tHx+LSvvXerGWU4bi1zFawWRCCOFYxedzyDt+jiY3xtratJ5uXPXcPbj6eCmYTAgnmiGzWq0kJCTw66+/otVWxCotLWXw4MEsW7aMsLAw7r//frZs2UK/fv0UTlv/WC0WCuLPYy430uqeIRQlpNNv+WwMp5LBasWvUwwu8glRNFRyyVIAbkE+eDdvQnCf9jSfcAOGU8lo3F3w7dhM6WhCOE9BdvbsWQDuvvtu8vLyuPXWW2nVqhVRUVFERlbsfhkxYgQbNmyoUpAZDAYMBkOltrS0qsc6NFbl+UWc/uxnSjPz8WjiT2l6HhajiYL483g0CSB9x1Fa3DlY6Zj1low/oSQZf/bJ2HWc9N/+wKNJABajidKMPMoLionq3xVPOaVfOAGnKcgMBgO9e/dmzpw5GI1GJk2axJQpUwgKCrI9Jzg4mPT09CqvXbp0KW+99VZdxq1Xsg+exlRUikeYP8b8YlwDfcg/cY4/Fn5Bz9cfpPPsO/AMlx9IV0rGn1CSjL/Lyzl8hpwDp9HodICK3MMJ+HeKpumw3oRd10XpeEIATlSQde3ala5du9oejxkzhjfeeIOrrrrK1ma1WlFd5NLD5MmTGTVqVKW2tLQ0JkyY4LjA9YSxqIST760loGsLdv7nddviZr/Ozen3+SwMJ5MpjD+PZ2QQarVTLSmsN2T8CSXJ+Lu07AOn2DBghu3OJDpvD67+4HHyjibiGpBP/ukUfFqEK5xSCCcqyPbu3YvRaKR374oDS61WK+Hh4WRmZtqek5mZSXBw1bNi9Ho9er2+zrLWJ4ZTKWjcdJx49/tKO81yD50h/0QSB+Z+gtpFx/Vfz6Xp8KqHxYrLk/EnlCTj79LiV/xa6TZxxoJizn2/g+y9ceSfTCIgthXXfDAD/07NFUwphBPtsiwoKODll1+mrKyMwsJCvvvuOx577DHi4+NJTEzEbDazdu1a+vbtq3TUesctyJeS89lV2i1GU8W/y43seXwJBeeqXg4WQoj6LP9USpW2ktRsXAN9AMjeG0fGzmN1HUuIKpymILv++uvp168fN998M7fccgu33HILXbt25cUXX+Thhx9m6NChxMTEMHiwLD6vDu8W4VhNZqLGVt4IoVKr0bi72h4bTiVTcj6nruMJIYRDNZ9wQ5W2kH6dyd570vY4/2QSZqPR7j5NJWWUZuVjlfPtRC1ymkuWANOmTWPatGmV2nr37s3333+vTKAGwMXLnbaPjMJwKgUV0ObR0fh2jEatVpObmkbkfYNYHXQrYf27UpZTYHe/hrRs3P29KckxYM424Nc+xnFvQgghrlBAj7b0fP0hjv9vDf2/mot383CsVitRt/Rl28SF5B1LxKNJIEWJGegvsZbMYjZTlG/Azc0Diwa0vp5kxMXj5e+HZ5BfHb4j0VA5VUEmaoe53Ejm78cpOp+FChUpP+0lqFdbOr8+lZLD5zjy/HIKE9IIH9Qd3w7NuLXge3K2HsFSVv6vfeafTMICGE6cwzXIh8ztR8k5eJrgPu3x79qC7JNnCWgtRZkQQlnFqVmc/+UA5YZifFpFkn3gFIUpmVy/4hny/kjgyIsrcAv2JXxQd27Y9iqJn/yMi68XOYfO4BqopzApk7RfDpB94BSB3VsT0KUl/l2ak73/NHlxyfi0bELqj/swnEoifFB31F1b4Obr9ecOTiGunBRkDURxWg4Wsxmv8CAyth/l6OvfEDmsFzumvkZAlxbETLqR0mMpbL7tOUrScwE489lGYv97P63ajMQzMhid3uOifRckpJGZmIrGUIq5tJyD85aSc/AMAGe/+IUWk2+k7cOjLvpaIZyCHAzbYFlMZoqSMnD190at07H/mU84/+tBer/9CIcWfEbalkPcVvA9ySu2sn3KItvr4t5fS//v5mPRqDi/cT+5h89isZg58e4a0jcfAuDMpz8Tfdt1tH/sVjaPe47rv57L5lvnU5ySBUDC11vpPGci+vZRaC6aTgj7Oc0aMnFlSnMLiPt4PeuufZR1vR/m8CsrKUzKIHJEL+JXbgYgZnx/dO468o4m2IqxC468vIKCo+coOZ9NeZbhIt8Bcg6eJqRVU06+/wM6L3dbMXbBmc82UpxaddOAEE5D1vo0SFn74tgx9TXW9PgPP4+YTfpvhzm/6QBt/3MThYnppG2pKKzKk7I58t8VlV5bnl9E9r44Wt45iDOf/UzE0J4Y4lJsxdgF8Ss2k3cknpLz2eQfS7QVYxccfe1rDIfiHftGRaMgBVk9l/bLAbbfs4iCM6kUJWey94n3MBWVoHF3xVJmxLddFOUFJaCp+CT5T+bScjBbKM0ykHs0HqvFUuU5lnITFrMVc1HJRfuwmi1YTVVfJ4QQjlKSV8D+Zz7m1EfrKcs2kPHbEX65ZS693n4EjZsrljKT7bmWchPmsqqL9s1lRtRqNVazBVQqrMaqP9/gr5+dFnPVn3NWo+miPzeFqK4aF2R//PEHX375JeXl5Rw4cKA2MolqSFr7e5W205/8iIuPF1Gjr8FcUoZneCBpW47i06YpWk+3Ss9tff9wPFuH49UshIzfj110psuvYzRWNw0t7hyM2s0Fj3+c6h8+uAfuTQJq940JUZvkkmWDYziSQMr63ZXaTEWllKTlcOLd1Xg2C8G/W0sAPFo1ofX9Iyo9V+2iI6BbS34eOouIYb3I+O0wnk2D8P7Hwv6gXu3wbR+Fi48nPm2a4uJb+Sbkre4dhmeLUAe8Q9HY1GgN2bfffsuHH35IWVkZAwcO5D//+Q/Tp0/n1ltvra184hJMRiOugVUPhHQP9cczMghjfhEdnxyH1WJh34wl3Fa4huu/fpa4D9dRlJBO1C3XEnpdFywmE8bCEs7/+gfd5t1VpT/ftlFk7T1JQGxrcg+doe9nszi7fCNZe+NockM3Iof3xq11WF28ZSGEAMCqUqH1csdUWFKpXeOqo+moayhKOE+PVx4gfsWvnFqyhrABXen5+oOc/fwXXIN9aD1lOL6xzQm7piMqjRq1TkOTgbH4to/m1Ifrydh5lLDruxA1+lq8W4Vz/dfPYrRauP6ruZxe+hP5cUlEjbqG0Ou74Op58fW3QlRHjQqyZcuWsWLFCu644w4CAgL49ttvmTJlihRkdcRcUk7Y9V059eF620nUahcdLe8czI6pr9H306fwbhZC1v5ToFKx/6kPiblnAD3ffBhTQQmuYb4Yjpwj89fDuAbriV14D25/Hpb4T4GxrbGYTOiC9GisKrosug9LXjFaH0/WdLufnq/+B/3Iq+vy7QshGjGNq44Oj43l4PxPbW2BPdrgERlEzuF4Wtw1BNQqUn7cQ+qGvQT3bk/MvUOJGNYbtauWMjc15vxSQm+8Cq8mgXg3q5jl8ooMJqh7a0pzCtB5u6F1rTiv0WOAH8V5+ZgMJcS++R+sJUY0Ph5sve15+rzzKF4RbhfNKYS9alSQqdVqvLz+mr4NCwtDo5G9JnXFVe+JsbCEaz95kuwDp7EYTQR0aQFqFdm7T1KUmI5Pi3ACujTn6v89zp4ZS0j45Cdu+OEFdN4e5G87wt7H3yP0uk60vGswQYPbXfL7qbVaVKVGvulwD5byyusxLnaPUSGEcBSdlzv+nZvT573HMMQl4xbii1/nFqT+vI9z3/1G55m34+LtRcs7B5O15yTrej9My3uG0OaBkWg9Xdky8nna3jUUw6kUfNo1pc19f13SVKnVuF/kw2naj/vZcvvzqLQatB5uGA1F6PSeqJCff6LmalSQ+fr6cvz4cdsv4++//x4fn4vPsAjHCOjcnLNfbqIstwitlxt5J5NI33YYtasOz4ggADQuLuhbR9Ln/cfIPXSGk++tJWHlZixGEyqNmqYj+1CakY/W9fLn6Hg1C6X99DEcfukLW5tHeCB+neQMMiFE3fFt05SSjFwSVv+Gd9Ngis/noHFN5Njr39J66gjbMT5ezULoMucOwvp3xVhQzJbbn8dwKhmA/D5JlGUbKPopk+bjb0Dn5X7J7xnQpTmu/nrKcgwYDUUAdJlzh+1nrRA1UaOCbNasWTz66KOcO3eOa665BldXV955553ayibs4NM6ks5zJpHx22GS1u3ixNurMRWXcd0XT6NvFWF7Xu7BM2g8XDi0YHml14cP7kFRciYuPp52fT+1VkO7R0fj2y6K+BW/EhjbmmZj+9mm+4VwRjKD2zCF9e2MZ3gQGTuPkvjtNo6/8S1BvdvResowVOqKPWumkjKOvvEdHqH+nHhndaXXezQJwDXQB8OpFDRul/9A6tO6KYM3LeLsl7+QdzSBmAk30GRAN4e8N9H41Kgga968OatXryYhIQGz2Ux0dDQ6Oa24zqnVakL7dsazaQhRI6/BLcQPfUzlRfYeTQI49PxndFtwD0cWraQ8t4DQ67oQMbQnWg839C3//ZYh/+QR6k+LiQNpMXFgbb8VIRwi43e5eXRDpW/eBI8mAfh3iqHTrAnoW4Tj+redkK4+Xvh3jMZcUk7TUddwbtV2dF7utHlwJGqdlpzD8bSfdgtqrX2/Dv07N8e/c3NHvR3RiF1RQbZq1aqLth87VvFD7+abb77SPKIGvJuF/utMlc7Hg2Zj+3Lms020umcIgT3b4tEkkLLsfFz9vHEPlnuxiYYr/8Q5pSMIB9K6u+Lf6d+LpMDubTi99EfKcgx0X3Q/fh1jUOu0lGTk0WVoT3zbRtVhWiEu7ooKsg0bNgCQmZnJ2bNn6dWrF1qtll27dtG2bVspyJyM1WqlJC2XE0vW0PO1BylJzyHp+x2oNGqibrkW37ZNlY4ohEOptbLZqDEznErBu3kTom6+BsPZVI6/vYom/bsR1Ke9FGPCaVxRQbZkyRIA7rvvPl577TWaNq34hZ6amsqcOXNqL52oFSVpOWQfOE2re4ay/f5X0bq5ED3uejSuOnIOnCGsb2elIwrhUCopyBq1wNhWnPt+B1smLKDJwKsI6tWOkvRcyrLzlY4mhE2N1pCdP3/eVowBNGnShLS0tBqHErVL4+5K2uaDtJ56E57hgTS9+WqOvvo1xoJi/DrFENa/CyF9OigdUwiHkRmyxs01yIeEr7fS8clxZB84xaHnlqHWaTGXlRPYrdW/nr8oRF2q0a2TgoKCeOONN0hKSiIpKYlFixYRGRlZW9lELXH19aLbc3ehUqtoNrYfB+d9irGgGIDcP86yf/ZHtsdCNEQqnRRkjVVBQhq5RxPwaR9FabaB1J/3AWAxmjj6yldk7DyqcEIhKtSoIHvxxReJi4tj5MiR3HzzzaSkpPDCCy/UVjZRS85vPsgvo54hbfNBwFrl62lbDlGSllvnuYSoK/buoBMNS7mhiMMvfcG28QtoOXHgnz8DK0v/7UjdB2tE5s6dS//+/XnttdeUjlLn7r77bnJycux+fo1+SgUHB/PWW2/VpAvhYMaiEg7MW4q5zMiZZT/T5/3HqjzHK6YJOl/7ziEToj6SNWSNU96xRE6+txaAhG+24t+1BQVnUis9x7edLOp3pBUrVrB582ZCQxvfWZXbt2+v1vNrVJBNnTr1ou0XFv0L5RkLSzDEpdgeJ/+wi6hR15D43W9Axf3grl4yDfcgX4USCuF4soascSrLKbD9OWHlFrovmkra5kOUZVUs5g/q3Z7Qvp2UitfgjR8/HqvVyr333svgwYPZtm0b5eXl5OTkcPPNNzNt2jR27drFggUL8PDwoKioiG+++YbffvuNd999F6PRiJubG//3f/9H165dL/m9fv31V957772L9v/qq68SFhZGfHw87u7u3HfffSxbtoz4+HhuvPFGZs2aBVQUj8uWLUOtVhMYGMicOXOIjo5m5syZtGzZknvuuQeg0uP+/fszatQodu7cyfnz5xk5ciTTpk3jqaeeAmDy5Mm8//77hIWF/Wv2C2pUkA0aNMj2Z6PRyI8//kiHDrI43Jm4B/nSYtJADr/0JQDnVm8nYmhP+n8zD9Qq9C3DZdu3aPBMJWVKRxAK0LdogtbTDVNRKQAHnvmETrMnoG8ZjqufN74dmuER4q9wyobr888/p3Xr1ixdupRHH32UF198kWbNmpGens7111/PpEmTADh16hQbN24kPDychIQEXnvtNT799FP8/Pw4deoUd911Fz/99BMeHh4X/T5Wq5WPPvroX/s/fPgwc+fOpV27dkyZMoX333+fTz/9lMLCQvr27cs999zD2bNn+eCDD1ixYgX+/v58++23PPjgg/zwww+XfZ/FxcV8/vnnpKenM3DgQG655RYWLlzIt99+y9KlS/H3t2+M1aggGzVqVJXHEydOrEmXopap1Gpa3zec0qx8Tn/yIy6+XrS8awiezULAYsUjPFBuKyMavKLEdKUjCAX4tIrkhrUvsHPqa+SfTCKwZxsiBnfHUm5C5+spuyvr0JIlS9i8eTNr167lzJkzFedjlpQAEBYWRnh4xd1itm/fTkZGBnfeeafttSqVinPnztGmTZuL9q1SqS7Zf0REBO3atQOgadOmeHt74+Ligr+/P56enuTn57Nt2zaGDh1qK55Gjx7NggULSE5Ovux7GzBgAAAhISEEBASQn59/RRsca3Wlq9VqJSMjoza7FLXAOzqM3m8/SqeZ47GaTBx/azXHb10NVishfTtx9f8ex6dlxOU7EqK+UsuHjsYqrF9nhm57nfLcQspyDfwyZh6F8efRuOro/soDtLxzEFoPN6VjNmglJSWMGzeOG264gdjYWG655RY2btyI1VqxyezvM18Wi4XevXuzePFiW9v58+cJDg7+1/6Li4sZNWrUv/bv4uJS6fnai2zysVgsVdqsVismkwmVSmXrCyquCP6dq6ur7c//fG511GiX5dSpUyv9M3jwYLp3716TLoWDaFx06Js3IfdIAsffXgV/Dpj0rX9w6sN1WC8yGIUQoiFwC/TBNUjP7w+9SWH8eQDMZUZ+f+gNcv44q3C6hi8nJ4fCwkKmTZtG//792bVrF+Xl5Rctgnr37s327ds5c+YMAFu2bOGmm26itLT0X/tPTEy0u/9/c+2117Ju3TrbrshvvvkGX19foqKi8PPz48iRit246enp7N69264+NRoNJpPJ7gy1toZMpVJx++23c+2119akS+FgGTuqnrmTuGo7HWfejquvtwKJhHC8C5flrVarXKJvpEoz8sjae7JKe2F8GsG92imQqPFo0qQJ1113HUOGDMHFxYVWrVrRokULEhMTq8xetWjRgvnz5/PYY49htVrRarW8++67eHr++0kArVu3trv/f3P11Vdz5513MnnyZCwWC/7+/rz33nuo1WomTpzIjBkzGDRoEBEREfTq1cuuPgcPHszEiRN58803adWq1WWfr7Je6dwasHjxYqZNm1ap7fnnn+fpp5++0i5rTXJyMgMGDGDTpk1ERMjluAtOf/Yz2ya/hFqrwWKsqNxb3TuM3m8/KjvRapGMP+fyefBoyrLymWz8CbWm4Y9zGX9VlWTls+6aRyk4mwoWq+2qwJBfXyW0n9w+TijvimbI3njjDQwGA+vWraOwsNDWbjQa+e2335yiIBMX59+5ObEv30dZVj4uPp6kbT1M24dGSTEmGjTbrNgVf/wU9Z2bvze93nyItC1/oNKosZrNWC1W/Ds3VzqasMP333/Phx9+eNGvjRgxgilTptRxotp3RQVZ586dOXz4MGq1Gl9fX1u7RqNh0aJFtZVN1LLCpAx+u+tlsvefsrX1XfYU/h2jFUwlRB24UI9ZLIB8+GiM0rYd5udhs7CazAC4hwVw44YXcfH1UjiZsMdNN93ETTfdpHQMh7qigqxfv37069ePvn370qmTHKpXX+QcOF2pGAPY88R7hA3oikdogEKphKgDthkymSJrjEwlZRx67lNbMQZQcj6bjO1H8O8Yo2AyIf5yRQXZggULmD17Nu+8885Fvy4n9TsnY2FJlbbSzDzMJeUKpBGi7ly4ZGmxWGV+rBEyl5ZTlJRVpV3u4SucyRUVZL179wYq77IUzs+3bVPUOq1tMT9Ay7sG4xERpGAqIRzPNi9mNl/qaaKBcvXzps2DI9k97e1K7aHXyWJ+4TyuqCDr378/UHH2x8V2Wf7zBH/hHPw7N2fg+hfZ+3/vUXDmPC0m3UjbR0aj0dXq+cBCOJ0LVywtZjlvr7GKHtsPU1EpxxZ/g4uvF1e9cA9BPdsqHUsIG9ll2YiYSsownE5G3yqS4F7tKM3Ox1ImlytFw2dbOmaRNWSNlbGghLxjiUTdci3mknKKkjOxlJvA3fXyLxb13po1a3j33XcxmUxMnjyZCRMmKB2pCtll2Yhk7zvFzqmLK7VZykxc++n/oXWTH0qi4fprhkwuWTZGFpOZY69/w9nlG/9qXAq+baMIvzFWuWCikjOfb2TfrA8pSsrEMzKIq164h+bjb6hxv+np6bz22mt8++23uLi4MG7cOHr27EmLFi1qIXXtkV2WjYjhdAptHryZJv27YiopQ6VVs+fJ9ylNz8MrKkTpeEI40J8VmVyybJRKM/NI+WkP1376FGqNGrWLluz9p8j544wUZE7izOcb2X7fq5iLywAoOpfB9vteBahxUbZjxw569eplm0AaNGgQGzZs4KGHHqpRv7WtRouH9Ho9zz//PMXFxVitViwWC4mJiXz55Ze1lU/UIp82kWTuPsEvt8wFwDVAT78vZqPz8bjMKyuzmM3kHU2kMDENnY8Xvu2b4R6gd0RkIWrFhRuSWOSSZaPk4uNJn/ceY+vEFyk5nw1As7H9aPtw9dc7l2QbyDuagDG/EK+oUHzbRzWKuz842r5ZH9qKsQvMxWXsm/VhjQuyjIwMgoL+2rwWHBzMH3/8UaM+HaFGNxd//PHHMRqNHDhwgPDwcE6fPm3X/ZqEMkoz8oh7f63tcVm2gQNzl1JuKK5WP2lb/mDzuOfYNHIOG4c+Rdz7ayhKqbqlXAhnYbpw5IvMkDVK5cWlHH97la0YA0j4agtFSRnV6qcoJYu499ewcehTbBo5h83jniNti/P9Yq+PipIyq9VeHRaLpdI9bJ31nrY1KsiKioqYN28e11xzDX379uXjjz/m4MGDtRRN1Baz0URxajZFyVUHdtbuE5TnFdndV2FSJvtmfUD+iXMAmIpL2T/7I3IOnam1vELUNlNxKSBryBqr8iwDGduPVWk3nEyqVj85h06zf/ZHtvGUf+Ic+5/+kMJqFnaiKs/Iix+/9G/t1REaGkpm5l+//zIzMwkODq5xv7WtRgXZheuxUVFRnDp1Cr1e75RVZ2OWdzyRHfe9yqpOU3Dx867y9eCrO4DF/lmD0sxcsnafqNJemJhWo5xCOJT1H/8WjYrVZCbk2o5V2j0iqvdLufBc1cIr8/fjlGbmXWk08aerXrgHjUflzWUaD1eueuGeGvfdp08fdu7cSU5ODiUlJfz000/07du3xv3WthqtIYuKimLBggWMGjWK2bNnU1xcjMlkuvwLq6k+bFd1RmV5hfx2zyIyf6/4ZOgW5EOn2Xdw+KUvsJrM6FtG0PH/xqFxc7G7T/cQf24t+J7CA2cxnD2Pq583XtEhFJ6Vgkw4sz/XkDng55Nwflpvdzr99346PD4Ww+kUdJ7ueMWEUnI+p1r9eIT6M/KP/1EYn05ZbgHeMWF4d43BmmP/VYYLDKdTMJxKwcXXC992Ubj4eFa7j4bkwjoxR+yyDAkJYfr06UyaNAmj0ciYMWOcckNijQqyZ599lq1bt9KuXTvGjh3L9u3bmT9/fm1lA+rPdlVnVHj2vK0YA9C4u1GUlEGnmbcDUHw+m+LkbPRtm9rdp9VFRc6mQ2yZsABTUcW0fcu7BtPmwZG1G14IB7CaZYqsUXLRUn7sHFvGL7DNZoUP7kGXuROrtZ7IMyqYY699w6mPNwCg9XSj3/LZ+Paq3u+j9B1H+HnoLIyGikKu1b1D6bZgCu6BPtXqp6FpPv6GWinALmbEiBGMGDHCIX3XlisqyPLy8mx/7tmzJ3l5eQwdOpShQ4fWVi4be7arGgwGDAZDpdelpcmMjcbDtdKtkgrPpnLm058qPSdlwx4GXNUSmtnXZ/n5fPY88Z6tGAM49fEGwgf3ILBb49zQIeOvHvizDrMaG94MmYy/y7OUlnP45S8rXVpM2bCbZmP64hoegE+Efcf+FJw+byvGAExFpex54j2u+/oZsHNNUlleAbsefstWjAHE/W8dzW7pJ0dwNHJXVJD16tULlUpl+2Txz38fP3681gLas1116dKlvPXWW7X2PRsKffMmdH76Dg7M/QSgUhF1QXFqNlaT/QudjQXFGE4lV2kvSa/e1H9DIuOv/rA2wF2WMv4uz5hbSM6hs1XaC+LTiKrGrNTFfs4ZTiVjMpTY3Ud5XhHZB09XaS9OlZ3qjd0VFWQnTlRd1P1Pa9euZfjw4VfSfSX2bFedPHlylftnpqWlNfq1ZmqdlrYP3UxQz7bkHk1A3yIclVqN9W+L+COG9sQt1M/uPl0DvQns0abKwn6vqNBay13fyPirPxriGjIZf5fnGupL2ICuxH/xS6V233ZNKc8w4NrUza5+LnaAdmCPNrgG2n8Oo1uQD00GXkXqT3srtXvHhNndh2iYarTL8lI+/PDDWunHnu2qer2eiIiISv+EhjbeAuHvXP28Cb8xlg7Tx+DeNIhrP/0/PMIDQaUicngvOs8aj3dT+0/p94wOI3bhFPQtIwDQuLty1cJ78WrReP++ZfzVHw3x5uIy/i7PMzSQNg/cREBsxbIKlVZDu2m34NO6Kd5N7d9p6dkijKsW3mvbCKVvGUHswin4tIq0uw+dpzvd/3s/vh2aAaBx1dH91Qfw79rS/jckGqQaLeq/FKu1dhbP9unThzfffJOcnBzc3d356aefeO6552ql78bGv00UnpGBeLcIx1xSjnuoP76t7f9BAqBzccGjeQjXrXyGoqQMXPSeeHWIwMvf30Gphag91bk8LxoOtVqNb5tIrvn4SYrOZaB1d8WrZQTe4YHV6iegbTSuIT4E925HuaEIz6bBeEYEVvu4J/+OMQz55VUKE9LQerujbxEup/0LxxVktXUeWX3ZrlpfuHp6EtyjbY368GnaBJpCQOfmtZRKiLrREGfIhH3cAn1xC/TFv310jfrx8vfHq2/NP4C6Bfrg1sh3VYrKHFaQ1ab6sF1VCFEPyAyZEI1WYWEh48aNY8mSJURERPDUU0+xb98+3N3dAXjooYcYOHAgx48fZ/bs2RQVFREbG8u8efPQarWkpqbyxBNPkJ2dTXR0NIsWLcLT0xODwcCMGTNISkrC39+fxYsXV9qMaC+HrSETQghnIzNkQjROhw4d4vbbbychIcHWduTIET777DNWr17N6tWrGThwIABPPPEEzzzzDD/++CNWq5WVK1cCMG/ePMaPH8+GDRvo0KED77zzDgCLFy8mNjaW9evXM3bsWBYsWHBFGR1WkNXWGjIhhKgtci9LIZyX6dgWypbcR9nLoylbch+mY1tqre+VK1cyd+5c26bAkpISUlNTmTVrFiNGjOCNN97AYrGQkpJCaWkpXbp0AWD06NFs2LABo9HInj17GDRoUKV2gM2bN9uu4g0fPpytW7diNBqrnbFWLlnm5+ej0Wjw8vKytcklRiGEs5FF/UI4J9OxLZg3vAumsooGQ2bFY0Dbrl+N+//nrFVWVha9evVi7ty5eHt7c//99/P111/TsmXLSpcbg4KCSE9PJzc3Fy8vL7RabaV2qHxeqlarxcvLi5ycHEJC7D/BAGo4Q3b27FluueUWevfuTc+ePbnjjjtITU0F4J57an5DUCGEqE0N8WBYIRoC89blfxVjF5jKKtodIDIykrfffpvg4GDc3d2ZOHEiW7Zs+dezTy92Buq/bV60Wq2o1dUvr2pUkD311FOMHTuWQ4cOceDAAQYNGsTs2bNr0qUQQjiMFGRCOCnDv9yp4N/aa+jkyZP8+OOPtsdWqxWtVlvl7NOsrCyCg4Px9/enoKAA85/LHv5+JmpwcDBZWRU5TSYTRUVFtts9VkeNCrKSkhLGjRuHTqfDxcWFiRMn2kIJIYSzscglSyGck/5fzoT7t/YaslqtvPDCC+Tn52M0GlmxYgUDBw4kPDwcV1dX9u3bB8Dq1avp27cvOp2O2NhY1q1bB8CqVavo27cvAP369WPVqlUArFu3jtjYWHQ6XbUz1aggi4mJYf/+/bbHcXFxRERE1KRLIYRwHJkhE8IpafpOAK1r5Uata0W7A7Rp04b77ruP22+/nWHDhtG2bVvb7R4XLVrEwoULGTx4MMXFxUyaNAmAuXPnsnLlSoYOHcrevXuZNm0aAI8++igHDx5k2LBhfP755zzzzDNXlKlGi/pTU1OZOHEirVu3RqvVcuzYMYKCgmwL+tesWVOT7oUQolbJLkshnNOFhfvmrcsrLlPqA9H0nVArC/r/7pdf/rqf6YQJEy56z9c2bdrw9ddfV2kPDw9n2bJlVdp9fX1ZsmRJjbPVqCCbMWNGjQMIIURdMV/BVnQhRN3QtutX6wVYfVKjgqxVq1YXbb+SxWxCCOFollKT0hGEEOKialSQ9erVq8p20KCgILZu3Vor4YQQojaZy2WGTAjhnGpUkJ04ccL25/LyctauXUt8fHyNQwkhhCOYy6QgE0I4p1q7dZKLiwujR49m+/bttdWlEELUKovMkAkhnFSNZsjy8vJsf7ZarRw5cgSDwVDTTEII4RDmMllDJoRwTrW2hgwgICBATuoXQjgtmSETQjirWltDdoHJJJ9AhRDOSdaQCdE4vf766/z444+oVCrGjBnDXXfdxY4dO1i4cCFlZWUMGTKE6dOnA3D8+HFmz55NUVERsbGxzJs3D61WS2pqKk888QTZ2dlER0ezaNEiPD09MRgMzJgxg6SkJPz9/Vm8eHGlG5Tbq0ZryD7//PNKj0+fPs3YsWNr0qUQQjiMRQoyIZyXORVMW8D0Y8W/zam10u3u3bv5/fff+f777/nmm29YtmwZJ06cYNasWbzzzjusW7eOI0eOsGXLFgCeeOIJnnnmGX788UesVisrV64EYN68eYwfP54NGzbQoUMH3nnnHQAWL15MbGws69evZ+zYsSxYsOCKctaoIPviiy/44YcfAPj4448ZP348I0eOrEmXQgjhMOZyOalfCKdkTgXrUaD0z4bSise1UJT16NGDTz/9FK1WS3Z2NmazGYPBQFRUFJGRkWi1WkaMGMGGDRtISUmhtLSULl26ADB69Gg2bNiA0Whkz549DBo0qFI7wObNm213KBo+fDhbt27FeAWHUNfokuVHH33EXXfdxdKlS1Gr1axYsYLo6OiadCmEEI4jJ/UL4Zysp4B/3mvW8md7kxp3r9PpeOONN/joo48YPHgwGRkZlS4rBgcHk56eXqU9KCiI9PR0cnNz8fLyQqvVVmoHKr1Gq9Xi5eVFTk4OISEh1cp4RTNkeXl55OXlodPpWLRoEWlpaUydOhU/P79KOy+FEMKZyMGwQjir0mq2V98jjzzCzp07OX/+PAkJCbYD7QHbAfcWi+Wi7X8/AP+Cfz7++2vU6uqXV1c0Q/bP3ZUAU6dOtQU8fvz4lXQrhBAOZS4vVzqCEOKi3Lh48eVW457PnDlDeXk5bdu2xd3dnRtvvJENGzag0Whsz8nMzCQ4OJjQ0FAyMzNt7VlZWQQHB+Pv709BQQFmsxmNRmN7PlTMrmVlZREaGorJZKKoqOiKbiF5RTNkJ06c4Pjx45X+ffToUQ4fPizFmBDCaVlkDZkQzknVkqolifrP9ppJTk7m6aefpry8nPLycjZt2sS4ceOIj48nMTERs9nM2rVr6du3L+Hh4bi6urJv3z4AVq9eTd++fdHpdMTGxrJu3ToAVq1aRd++fQHo168fq1atAmDdunXExsai0+mqnbNGi/p37dplW8R/9uxZrrvuOg4cOFCTLoUQwmHk2AshnJSmCaja89eMmFvFY03N14/169eP6667jptvvplbbrmFrl27MmzYMF588UUefvhhhg4dSkxMDIMHDwZg0aJFLFy4kMGDB1NcXMykSZMAmDt3LitXrmTo0KHs3buXadOmAfDoo49y8OBBhg0bxueff84zzzxzRTlV1r9fd6ym0aNH89xzz9G+fXsAjh49yrx582xbRJWUnJzMgAED2LRpExEREUrHEY2MjD/n8rF6AABBfTswfPPrCqdxPBl/QtQ/NZohMxqNtmIMoH379pTLGg0hhJOylsklSyGEc6pRQebu7s7WrVttj3fu3ImHh0eNQwkhhCNYyuVOIkII51Sjc8hmz57Ngw8+aDuXQ61W8+abb9ZKMCGEqG1mOYdMCOGkalSQde7cmc2bNxMXF4dGoyE6OhoXF5fayiaEELXKIvfaFUI4qSsqyFavXs3IkSP5+OOPK7Xv2LEDgLvuuqvmyYQQopZZjLKGTAjhnK6oIEtMTAQgLi4OqDi5X6PR4O3tXXvJhBCilsk5ZEIIZ3VFi/ofeeQRAKZMmUJcXBxbtmzhl19+ISkpiYcffrhWAwohRG2xWuSSpRCN2UsvvcTMmTMBeOqpp7jxxhsZOXIkI0eO5Oeffwbg+PHjjB49mkGDBjF79mxMfy51SE1NZcKECQwePJgHHniAoqIiAAwGA/fddx9DhgxhwoQJlU76r44a7bKcNWsWt956K4cOHeLgwYO28EII4Yyspn/evFgI0Vjs3LmT7777zvb4yJEjfPbZZ6xevZrVq1czcOBAAJ544gmeeeYZfvzxR6xWq+1s1Xnz5jF+/Hg2bNhAhw4deOeddwBYvHgxsbGxrF+/nrFjx7JgwYIrylejgqykpITbbrsNnU6Hi4sLEydOJCsrqyZdCiGEw1jNUpAJ4azi8uJZGvcdbx9dztK474jLi6+1vvPy8njttdds990uKSkhNTWVWbNmMWLECN544w0sFgspKSmUlpbSpUsXoOIA/A0bNmA0GtmzZw+DBg2q1A6wefNmRowYAcDw4cPZunUrxivY0V2jgiwmJob9+/fbHsfFxcmp0EIIp2UxyRoyIZxRXF48v6buotBYDEChsZhfU3fVWlH2zDPPMH36dPR6PVBx0/BevXrxwgsvsHLlSvbu3cvXX39NRkYGQUFBttcFBQWRnp5Obm4uXl5etmO+LrQDlV6j1Wrx8vIiJyen2hlrdOxFamoqEydOpHXr1mi1Wo4dO0ZQUJCtUlyzZk1NuhdCiFolM2RCOKedGQcxWSt/YDJZzezMOEgr3+ga9f3VV18RFhZG7969+fbbbwGIjIzk7bfftj1n4sSJrFq1iubNm6NSqWztVqsVlUpl+/ff/fPx31+jVld/vqtGBdmMGTNq8nIhhKhTFinIhHBKF2bG7G2vjnXr1pGZmcnIkSPJz8+nuLiYBx98kJtuusl2CdJqtaLVagkNDa20KD8rK4vg4GD8/f0pKCjAbDaj0WjIzMwkODgYgODgYLKysggNDcVkMlFUVISvr2+1c9aoIOvRo0dNXi6EEHXLLJcshXBGXjqPixZfXrqa347x72emfvvtt+zevZs777yT+++/n169euHh4cGKFSsYNWoU4eHhuLq6sm/fPq666ipWr15N37590el0xMbGsm7dOkaMGMGqVavo27cvAP369WPVqlVMnTqVdevWERsbi06nq3bOGq0hE0KI+sRqkRkyIZxR7+AuaFWaSm1alYbewV0c8v3atGnDfffdx+23386wYcNo27Ytw4cPB2DRokUsXLiQwYMHU1xczKRJkwCYO3cuK1euZOjQoezdu5dp06YB8Oijj3Lw4EGGDRvG559/zjPPPHNFmVRWq9VaK++uhr777jteeeUVAgICALjuuuuYPn06BoOBGTNmkJSUhL+/P4sXL6604O7fJCcnM2DAADZt2iQbDUSdk/HnXD5WD6j4g0bFXcaNyoapAzL+RH0UlxfPzoyDFBqL8dJ50Du4S43Xj9UnNbpkWZuOHDnCzJkzbRXqBRfO93j//fdZtWoVCxYsYPHixcqEFELUbzJBJoTTauUb3agKsH9ymoLs8OHDJCQk8N5779G6dWvmzJmDj48PmzdvZvny5UDF+R7z58/HaDRWuj5rMBgwGAyV+ktLS6vT/KLxkvFXnzjFBYFaJeNPiIbBaQqyoKAg7r77brp168arr77K/PnzeeWVV/71fI+QkBDba5cuXcpbb72lVHTRyMn4q0caXj0m40+IBqLOC7L169ezcOHCSm0xMTF88skntsdTpkyx3cLgny52vsfkyZMZNWpUpba0tDQmTJhQO6GFuAQZf0JJMv6EaBjqvCAbMmQIQ4YMqdRWUFDAJ598wp133glUFF0aTcVuC3vO99Dr9bbTd4WoazL+hJJk/AnRMDjFsRceHh588MEHHDp0CIDPPvvMNkN24XwPoEbnewghhBBCOCunWEOm0WhYvHgxzz77LKWlpTRr1oyXX34ZqDjfY+bMmQwbNgxvb28WLVqkcFohhBBCiNrlFAUZQGxsLN99912Vdl9fX5YsWaJAIiGEEEI0BL/88gtvvfUWJSUlXH311Tz99NPs2LGDhQsXUlZWxpAhQ5g+fToAx48fZ/bs2RQVFREbG8u8efPQarWkpqbyxBNPkJ2dTXR0NIsWLcLT0/OKz0v9J6e4ZCmEEEKIxm3b9kQemLaGWyeu4IFpa9i2PbFW+k1KSmLu3Lm88847fP/99xw7dowtW7Ywa9Ys3nnnHdatW8eRI0fYsmULAE888QTPPPMMP/74I1arlZUrVwIwb948xo8fz4YNG+jQoQPvvPMO8Nd5qevXr2fs2LEsWLDginJKQSaEEEIIRW3bnsiSj/aQlV2MFcjKLmbJR3tqpSj7+eefGTp0KKGhoeh0Ol577TXc3d2JiooiMjISrVbLiBEj2LBhAykpKZSWltKlSxcARo8ezYYNGzAajezZs8d2M/IL7QCbN29mxIgRQMV5qVu3bsVoNFY7pxRkQgghhFDU51/9QXm5uVJbebmZz7/6o8Z9JyYmYjabmTp1KiNHjuTzzz+vdMYpVJzokJ6eXqU9KCiI9PR0cnNz8fLyQqvVVmoH/vW81OpymjVkQgghhGicsrOLq9VeHWazmb1797Js2TI8PDx44IEHcHNzQ6VS2Z5jtVpRqVRYLJaLtl/499/98/HfX/PP81LtITNkQgghhFBUQIBHtdqrIzAwkN69e+Pv74+bmxs33HADO3bsIDMz0/aczMxMgoODCQ0NrdSelZVFcHAw/v7+FBQUYDabKz0f/jovFfjX81LtIQWZEEIIIRQ1fmwnXFw0ldpcXDSMH9upxn1ff/31/PbbbxgMBsxmM9u2bWPw4MHEx8fbLmeuXbuWvn37Eh4ejqurK/v27QNg9erV9O3bF51OR2xsLOvWrQNg1apV9O3bF6i981LlkqUQokGzWhvgDSyFaGCuvToKqFhLlp1dTECAB+PHdrK110Tnzp2ZMmUK48ePx2g0cvXVV3P77bcTExPDww8/TFlZGf369WPw4MEALFq0iKeffprCwkLat2/PpEmTAJg7dy4zZ87k3XffJSwsjFdffRWovfNSVdYG+tMqOTmZAQMGsGnTJiIiIpSOIxoZGX/Ow2qx8In2r3vj3mXZpGCauiHjT4j6Ry5ZCiEaNKulQX7mFEI0MFKQCSEaNIvZfPknCSGEwqQgE0I0aBaTFGRCCOcnBZkQokGzlFf/xGwhhKhrUpAJIRo0S7lJ6QhCCHFZUpAJhyorLcVkMlFWVqZ0FNFIlReXKB1BNFJGo/GK7mkoGic5h0w4TNrWQ5z7fgd5x88RMaQHgT3aENyjrdKxRCNTkJiudATRyOQcTyT/cDzxKzej9XQj+rbr8OvZCq8Af6WjCScmBZlwiIzfj7H1joUUJVfcgiJl/W7aPnQznjEheAbKDyVRd/IPJygdQTQyuQdPs3XCC7bH8V/+yoBVz+E1pIeCqYSzk0uWwiHyT5yzFWMXnHz/BwrjUhVKJBqrrEOnlI4gGpHClCxOvPt9pTaL0UTKT3sUSiTqCynIhENc9DDOhnlTCOHkco8kKB1BNCoWsFiqtFov0ibE30lBJhzCt20U7qGVL022vGcIXi2bKJRINFaG08lKRxCNiFd4MK2n3lSpTaVREz5YLleKS5M1ZMIhgnu3o9/ns0n4eiu5R+JpelMfgq9uj2eQrB8TdcuSU6x0BNHI+HdtQb/lszm97Gd0Xm60mDQIn87NlY4lnJwUZMJhwq7rQkCfdmCy4OLhpnQcIYSoE/7to/FvH03EzX1QqVXoXF2VjiTqASnIhEO5uLiAi9IpRH1Rkp6DWqfF1V+vdBQhaszFXT6ICvtJQSaEcApWq5Uvw8aCVs1d5T877PuYy41oXHQO618IIa5Egy3IzOaKGwqnpaUpnEQ0JKGhoWi1l//fxhnHX2lpKea8IjxDA5SOUoXVYuHXsfMqHpgs7Pv1N4JbRKFSqWrUb+qOP6q0feo2mP6nP6iXRVl9Hn+i/rN3/Ikro7JaG+ZZBHv37mXChAlKxxANzKZNm4iIiLjs8y43/maeunwfonF6seW/7wqtrfEnxJWwd/yJK9NgC7LS0lKOHDlCUFAQGo1G6Tj/Ki0tjQkTJrB8+XJCQ0OVjlMtjTG7vZ8QHTX+6vPf+eXIe7s8pcdfbarP/70ba3aZIXOsBvs36+bmRmxsrNIx7BYaGlpvP3lI9qocPf7q89/55ch7q7n69POvPv/3luyiNsnBsEIIIYQQCpOCTAghhBBCYVKQCSGEEEIoTAoyhen1eh566CH0+vp3EKZkr3v1Nbc95L01LvX570SyC0dosLsshRBCCCHqC5khE0IIIYRQmBRkQgghhBAKk4JMCCGEEEJhDbYgM5lMJCcnYzKZlI4iGiEZf0JJMv6EqH8abEGWlpbGgAED5Oa6QhEy/oSSZPwJUf802IJMCCGEEKK+kIJMCCGEEEJhUpAJIYQQQihMq3QAUf+UZOSS+vM+zny2Ef+uLYgZ1x//TjFKxxL1WN6JcyR8tZn0347QbExfIob0xDMiSOlYQghRZ6QgE9VitVg4uWQNB55dCkDKj3s49eF6hm1/A32LcIXTifqoKDmDjTfNpuB0KgCpP++j1X3D6fn6g2hdXRROJ4QQdUMuWYpqKTyXwR8vfVmprTQzj5w/ziqUSNR3uUcSbMXYBac+WEfBmdR/eYUQQjQ8UpAJIYRoNIqSM9n92DtKxxCiCinIRLV4NQ2m08zbK7W5BfvJGjJxxfw6NMO7RZNKbS2nDMW7eZN/eYUQV+7c9zs4uvgbpWMIUYWsIRPVolKraX3/cLxjwjizfBP+XZoTc3t/WT8mrphnRDA3fL+AhK+2kP7bYZqN6UfEkB6yfkw4hEot8xDCOUlBJqrNPdiP5hNuoPmEG5SOIhoI3zZN6TJnotIxRCOgUquUjiDERclHBSGEEI2GFGTCWUlBJoQQovGQS5bCScnIFEII0WjIDJlwVlKQCSGEaDRkUb9wVjIyhRBCNBoyQyaclRRkQgghGg+ZIRNOSkamEEKIRkNmyISzkoJMCCFEoyFryISzkpEphBCi0ZAZMuGspCATQgjReMgMmXBSTnXrpIkTJ5KTk4NWWxFr/vz5FBUVsXDhQsrKyhgyZAjTp09XOKUQQgghRO1ymoLMarWSkJDAr7/+aivISktLGTx4MMuWLSMsLIz777+fLVu20K9fP4XTCiGEqJesVqUTCHFRTlOQnT17FoC7776bvLw8br31Vlq1akVUVBSRkZEAjBgxgg0bNlQpyAwGAwaDoVJbWlpa3QQXjZ6MP6EkGX9CNAxOU5AZDAZ69+7NnDlzMBqNTJo0iSlTphAUFGR7TnBwMOnp6VVeu3TpUt566626jCuEjYw/oSQZf0I0DE5TkHXt2pWuXbvaHo8ZM4Y33niDq666ytZmtVpRqarukJk8eTKjRo2q1JaWlsaECRMcF1iIP8n4E0qS8SdEw+A0BdnevXsxGo307t0bqCi+wsPDyczMtD0nMzOT4ODgKq/V6/Xo9fo6yyrE38n4E0qS8VdNsoZMOCmn2f9bUFDAyy+/TFlZGYWFhXz33Xc89thjxMfHk5iYiNlsZu3atfTt21fpqMJOpSUlpG8/TNIPv5N96IzScRq13GMJJK3fRdrWQxRl5SodRwghxD84zQzZ9ddfz6FDh7j55puxWCyMHz+erl278uKLL/Lwww9TVlZGv379GDx4sNJRhR1yTyeTum43+2d9iKm4FO+YMPq89xhNBnRTOlqjk/bbYXY98iY5B8+g1mlpP2MszW69jsDOLZSOJoQQ4k9OU5ABTJs2jWnTplVq6927N99//70ygcQVKzyVwu5pb9seF5w9z+7p79D3y9n4t4tWMFnjYjiXzpH/riDnYMUMpcVo4vDCL/Dv0kIKMtEoyRVL4ayc5pKlaFgKE6ruhs09Ek9ZRr4CaRqvssx8zv9yoEp74Vk5FkEIIZyJFGTCITxC/aq0eUYGo9N7KJCm8dJ5u+PXOaZKu0cTfwXSCCGE+DdSkAmH8IwOo/X9I2yPNW4u9HjlAQK7tVIwVePj2yqSrs9MxsXP29YWeVMf9K2bKphKCOWUZOQpHUGIi7JrDZnFYuGjjz7i1KlTzJkzh+XLlzNlyhQ0Go2j84l6KrBLC1T/uYmIYT0pzcpHHx2GZ8dIpWM1Sn7XtOOGNc9TcDoVnbcHXs3DCOjUXOlYQiii4EyK0hGEuCi7CrKXX36ZnJwcDh8+DMC2bdvIzMzk6aefdmg4Ub8FdIwhoGPVy2Wibnl4eODRpwMhfTooHUUIIcS/sOuS5c6dO3nxxRdxdXXFy8uLjz76iO3btzs6mxBCCFG7ZJulcFJ2FWRarRa1+q+nuri4oNU61YkZQgghhBD1ll1VVatWrVi+fDlms5mzZ8/yySef0KZNG0dnE0IIIWqVTJAJZ2XXDNns2bM5evQo2dnZ3H777RQVFTFr1ixHZxNCCCGEaBTsmiHz8vLihRdecHQWIYQQwsFkikw4p0sWZE899dQlX7xw4cJaDSOEEEII0Rhd8pJly5YtadmyJQUFBZw8eZLWrVvTrl07EhISMJvNdZVRCCGEqB0yQSac1CVnyO6++24Afv75Z5YvX467uzsAt956K5MmTXJ8OiGEEKI2/VmQWa1WVCqVslmE+Bu7FvVnZ2fj4uJie6xSqcjNzXVYKCGEEMIRrFbLhT8oG0SIf7BrUX/v3r2ZMmUKw4cPx2q1snr1avr37+/obEIIIUTtkjpMOCm7CrIL96/8+eefARgyZAjjxo1zaDAhhBCi9lVUZFarFblgKZyJXQWZVqtl8uTJTJ482dF5hBBCCIcpyzZU/EFmyoSTsasg69q160UXP+7fv7/WAwkhhBCOYjQUV/xB1pAJJ2NXQbZ27Vrbn8vLy/nhhx9sOy6FEEKI+kLqMOGs7NplGR4ebvsnOjqahx56iA0bNjg6mxBCCFHL/lpDJoQzsasg+6czZ86QnZ1d21mEEEIIh7JabAeRKRtEiH+o9hoyq9WK0WhkxowZDg0mhBBC1Dqr9e//EsJpVHsNmUqlQq/X4+Xl5bBQQgghhBCNiV2XLOfOnWtbQ9akSRO8vLy49dZbHZ1NCCGEqF0XZsZkikw4mUvOkD3yyCPEx8eTlJTEiBEjbO0mk6nSrZSEEEKI+kHWkAnndMmC7MknnyQlJYU5c+YwZ84cW7tGo6FFixYODyeEEELUJqnDhLO6ZEEWERFBREQEP/7440UPhq0ra9as4d1338VkMjF58mQmTJigWJb6qDg1i6KULFwD9Kh93Cg8moSxoATPqGC8o8PQedp/plx+3DnKvbSos0ooTspEp/fAq30kXv5+DnwHoqErKSnBsP8M5bkFuIcHomrqjzUxG//OzVFrNFfWZ2Ye5eXFmHNLKUrMQOftjneHSDz9/Ws5vahXrHLshXBOlyzIbr/9dr744gu6detWqSCzWq2oVKo6Oak/PT2d1157jW+//RYXFxfGjRtHz549ZYbOTum/HWbzuOcpTs3ipkPvc27Zzxx+8QvMZUZ82zej99uP4BEZhD66yeX72nGEZJcymqRq2HH/axhOJaNxd6Xr3EmED++Ff7tmjn9DosHJPZNCxqYD7HniPYwFxXhGBtPn/cdw6RpF3AfriL71Olz9vKvVZ/q2w6SpSgmxuPL7Q2+QeyQetYuOjjPHEXXLtQR0bO6gdyOcn7XSv4RwFpdc1P/6668DFbss16xZY/vnwuO6sGPHDnr16oWvry8eHh4MGjRIDqW1U3FqFptvryjG1DothafPc3Dep5jLjADkHU3g0PPLsZjt+8mU+N1vxHgFsnfm/zCcSgbAXFLG3pn/o/DseYe9D9GwFSeksfM/r2MsqLilTVFSBjv/8zqa1AJ+f/ANsg+cqlZ/hjOpbLxpNs3Cwjm04DNyj8QDYCk3cmj+MgpOpVCUllPr70PUD1ZZ1C+c1CVnyIKDgwHYs2dPla+5u7tTWlpK8+aO/aSZkZFBUFBQpUx//PFHpecYDAYMBkOltrS0NIfmqg+KUrMpTskCwD+2FQUJVf9Ozv96AGNuwWX7KkhII/WnfUTdfA1Zu09U+XrhRfpuLGT81Uzh2TSsFkvltvjzlKRlY7VYKIiv3t9lYXwa5flFlOcWkLb5UNWvJ2bg064Az9CGcelSxl81WeSSpXBOdp1Dtnr1ag4ePEivXr3QaDTs3LmTyMhIDAYD999/P7fddpvDAlosloteLv27pUuX8tZbbzksQ33lFqDHxceT8vwi8g7H4/7QzVWe49+5OVpPt8v25RKsJ/CqVui8PdC3jLDNkF3gHtIwfrldCRl/NePeJKBKm1uQL67+FZcpPcKqfv1SXP29QaVC6+WGX6cYsvfFVf5+Ib6oq7Fu0tnJ+Kseq6whE07KroJMpVLx9ddf22bDkpKSeP755/nss88YP368Qwuy0NBQ9u7da3ucmZlpm7m7YPLkyYwaNapSW1paWqNf/O8dHcbVH85g87jnMRWWoG8ZQbNbryNh5WYAdHpPuj13N9qgy6/PcfXwoPnkG7EEexL78n1sveMFTEWlALS4cxDeLcIc+Vacmoy/mvFqFkyHGbdyZNFKANQuOnq8+gAe7ZvSYcat+HeKqVZ/Pm0j6fL0HWiC9XR7/m62jHuO8vwiAKJuuRZ9y0j0EUGX6aX+kPFXTRc+z/9jVlYIpdlVkGVmZla6NBkZGUl6ejpeXl5ornAHlL369OnDm2++SU5ODu7u7vz0008899xzlZ6j1+vR6/UOzVFfNb3pakbuf4/CxHR0vh50mj2emNv7U55fhHfzMLw7R1OWlA1Bl5+F8G7RBMOxZAJv6MLAH16gID4NVz9vPKND8WvTtA7ejXOS8Vcz/u1j4M4bCb2uMyXpeXhFh+LVNpK8nSdoP2MsHsHVm33VurvR/vGxZOw+ju/Vbblh7QsYzqTg6uOFZ3QoGk83RXeN1zYZf9X058SYxSIzZMK52FWQ+fj4sGLFCsaMGYPVauWbb77B19eX+Ph4LA7+lBESEsL06dOZNGkSRqORMWPG0KlTJ4d+z4ZErdXg1yEavw7RpP12mPTfDnPkpS8pzy8iuE97Os2egF83+3aspv1ykG2TX8S3XRTNxvTFarbg2b8rm8fOo9/y2QRe1crB70Y0VP7tovFvF12pTR9SvUuVf+ei98SnQzS5W49y+KUvSN92GJ3ekw5P3Epov87QPLymkUV9ZZVdlsI52VWQvfDCCzz55JPMmzcPlUpFt27dePHFF1mzZg0PPPCAozMyYsSISncKEFemND2X/bM+tD3O2HGUY29+R/f/3g+X+eVXmlvAyf9V3NM071giB+cvA6AkLZfA2NbkxyVJQSacijEzn5PvryF92+GKx4YiDsz5mOtXzqU0Ox+3AB+FEwpFXJgdlUuWwsnYVZA1bdqUL7/8EoPBgEajwdPTE4CpU6c6NJyoXUXJmVXaUn/ci3n+XZd9rdViQevuWqVd4+6CyWTCzV8umQjnYi4zkrJhb5X2ouRMuzayiIbJtqhfCjLhZOwqyM6ePcv//vc/8vLyKu1MWbJkicOCidrnfpFt/vpW4bgEXX6mwD3Ah5Z3DSZ1437blL/GzYXwG2M5+dEG/LvIQb3CubgG+6BvFUHen+eQXeAW4ovWreqHC9FI2AoyuWYpnItdBdnMmTPp1KkT3bt3b1CLYRsb304xRI7oTdKanUDFbrbu/30Aj0D7Lt0E9mhN32VPcf6X/ahdXAgf2A23UF+ufnca7iFy6yThXNwDfIh96V5+veVZzKXlAIQP6o5f15YKJxPK+vN3mBx7IZyMXQVZSUkJTz/9tKOzCAfzahJA1xen0Pre4ZTnF6JvFYHWy93ue1nqY8LxbhZGaN9OqDTqap8PJURd0nm64xUVypCtizGcTEKn98SzRSheFzn3TDQiMkMmnJRdBVlUVBQZGRlVzv8S9YuLjxd+Hm6orWAqKMErKhT3YN9q9aFSq/FsQGc4iYbNr10UJem5WE0WdHp3fFpEoNbZ9WNPNFQXNlmaZQ2ZcC52/WSyWCwMHz6c9u3b4+r619oLWUNW/6h1WvzkJuCiEXEP8ZNL6sLGiizqF87JroJs4MCBDBw40NFZhBBCCMe6MEMmBZlwMnYVZKNGjSIlJYXdu3djMpno0aMHUVFRjs4mhBBC1C5rRSFmNcsaMuFc1PY8adu2bdxyyy1s3LiRTZs2MWbMGDZu3OjobEIIIUStsp1DZjYrnESIyuyaIXv99df57LPPaNGi4qypU6dO8cQTT3DDDTc4NJwQQghRm8rzKm40L4v6hbOxa4bMaDTaijGAli1bYpZPF0IIIeqZshwDIMeQCedjV0Hm5ubG4cOHbY8PHz6Mu7t9Z1cJIYQQzsJcXAaA1SKTCsK52HXJ8oknnmDq1Km2hfzx8fG8/vrrDg0mhBBC1LoL0xByyVI4GbsKstjYWH744QcOHTqExWKhS5cu+PnJuT71keF0Cunbj1KSlk1Qz3YE9WyN1l1utCwaJlNJKZm7T5L5+zHcQwMIubo9+hbhSscSCrqwu9IiBZlwMpcsyD7++OOLtickJABw11131Xog4TgF8ef5edhTlGUX4BqoZ9+sD+m3fBYx4/orHU0Ihzj3/U62jF+AvmU4ZVkGXAO8uXHDS3hHhykdTSjEKrdOEk7qkgVZXFxcXeUQdSDn4Gm6zr+L0sw8yvOL0bdoQubOY4Re3xUPOclcNDDF6Tlk7DpGv+WzMJxOxcXXE7cgX3IOnpGCrDG7UIfJwbDCyVyyIFu4cOFlO3jsscd49dVXay2QcBwXP292/ud18k+cq2hQqbj6/cfkPB7RIFlMFnzbRLFl/AJbm2/7ZvR66xEFUwnlyQyZcE527bK8lPj4+NrIIepAwdnzfxVjAFYrhxYsx/TnriMhGhJzcSmHnltWqS3vaAKF8ecVSiScgwqQc8iE86lxQSbqj4sVXiVpOVjKTQqkEcKxLEYTpRl5VdrlA0hj9+cMmVUKMuFcpCBrRPzaN0OlqfyfvPnEgehbyq4z0fDoW4YTM35ApTaVVoNv+2bKBBJO4cJNxeVelsLZSEHWiIRc25Hrv34W3w7RuPh60fbBkbR7ZDQanV2nnwhRr2h0Ojo8PpbWD9yEi48nfh1j6P/1s4Rc00HpaEJJFybGZFG/cDLym7gRUWs1RI28mpBrOmIsLMYrMhiVWmpy0XD5dYim1xsP0enJ29B6eeAWoFc6klCa7dgLKciEc7nkb+NDhw5dtgOr3BCs3nEL0OMdFSrFmGgU1BoNXlGhUowJ4G/nkMklS+FkLvkb+dlnnwVg8uTJ//qc1157rVYDCSGEEI4mM2TC2VzykqXJZOLuu+/m6NGjTJ06tcrXlyxZQnR0tMPCCSGEELXqz4kxi5y/KJzMJQuyuXPnkpycTHx8PIMGDaqrTEIIIYSD/HnJ0iQFmXAulz2p/5tvvuHVV19l1KhRdZVJCCGEcCiLUQoy4VwuWZAZDAbmzJmDyWTi+eefr/L1p59+utaCfPfdd7zyyisEBAQAcN111zF9+nQMBgMzZswgKSkJf39/Fi9eTFBQUK19XyGEEI2PWQ7EFk7mkgXZm2++yaZNm1Cr1fj6+jo0yJEjR5g5cybDhw+v1L548WJiY2N5//33WbVqFQsWLGDx4sUOzSKEEKJhs5TKHRuEc7lkQdamTRvatGlD06ZNGTFiBCaTCavVik6nq/Ughw8fJiEhgffee4/WrVszZ84cfHx82Lx5M8uXLwdg+PDhzJ8/H6PRWCmDwWDAYDBU6i8tLa3WMwpxMTL+hJJk/FXTn4v6zUaZIRPOxa6DYXv37s2UKVP4/fffMZvNdO/enf/+97+EhITUWpCgoCDuvvtuunXrxquvvsr8+fN55ZVXyMjIsF2i1Gq1eHl5kZOTU+l7L126lLfeeqvWsjR0xWk5mIvLcA8PROta+8V1YyPjz7mZysopSclG4+mKR4i/0nFqnYy/K2MplzVkwrnYVZA999xzdOnShVdffRWz2cyyZct49tlneffdd6v9DdevX8/ChQsrtcXExPDJJ5/YHk+ZMoWBAwde9PVWqxX1Pw40nTx5cpVNB2lpaUyYMKHa+Royc7mRpLU72fXI25Sk5RAzvj9d5k5C31zuZVkTMv6cV/6pZA7MXUrCys24h/nT+61HCB/SA41Lw/kgIuPvChmNSicQohK7CrKEhARef/112+NHHnmEYcOGXdE3HDJkCEOGDKnUVlBQwCeffMKdd94JVBRdGo0GgODgYLKysggNDcVkMlFUVFRlPZter0evl1O4Lyd73yl+HTvfduuQM59tRO2qo/c7j6JxwGXoxkLGn3MylZVzcN5S4r/8BYDilCw2jZ7L8J1vEtSjrcLpao+MvytjLJeCTDgXu+6dYzKZKCv7awFkSUkJKpWq1kJ4eHjwwQcf2G7V9Nlnn9lmyPr168eqVasAWLduHbGxsQ5Zw9YY5J84ZyvGLjj72UZKzucolEgIxyk5n038l5srN1qt5J9MViSPcC7mUllDJpyLXTNkQ4cO5c4772T06NGoVCq++eabWj0oVqPRsHjxYp599llKS0tp1qwZL7/8MgCPPvooM2fOZNiwYXh7e7No0aJa+76NjYuvV5U2z+hQtJ5uCqQRwrF0nu54Ng2mMKHyAndXv6r/H4hGyCwzZMK52FWQPfjgg4SGhrJt2zYsFgujR49mzJgxtRokNjaW7777rkq7r68vS5YsqdXv1Vh5NAkg4KpWZO+LA0ClUdP1mcmYymT7t2h4dD6edJo1np1TF9vuWxjUsy1uIX4Xfb6ptIzSzHxcfb3QeXvUZVShALMs6hdOxq6CDKB///54e3uj0Wjo0aNHrV6yFHUj78Q5mo7sQ4cnbsVcasQzPIAD85fx+yNv0nn2BGIm3IB7oI/SMYWoFcWp2Rx/axX9vnwaY0ExLj5eoIKyLEOV5+YciefQ/E9J+mEXAd1a0H3RAwT3bDjrzERV5lKZIRPOxa6C7Oeff2bWrFm0bt0as9nM7NmzWbx4Mb169XJ0PlGLPJoEkLnrBAfmLgWrFY8mgXR+egK/P/wWu6e/g2uAnhZ3XHx3qxD1hbGklPyjiRQmptPtubvZ+cBiilOzQKWi9f3DcfGrmAELuaYDhQlpZO45wR8LPyfn4BkAMrYf5efB/8eIPe+ibyE7kBsqi+yyFE7GroLstdde47PPPqN169YAHD16lKeffvqilxiF8zIVl3Fyyfe2x8WpWZz5fBPXfPwEp5f+RNz/fiDm9v6o/9zhKkR9YyozEvfeD+x+7B0iRvSmPK+wohgDsFo5uWQNfZZMJ3XjPjTuLhxZtBJ9y3BbMXZBeX4RhlMpUpA1YOYyKciEc7GrIHNzc7MVYwDt27eXS5b1UFFiepW2zJ3HCLm6A0E92mAsLEGltmvjrRBOyXDiHHtmVKw5bTq8Fzv/83qV5xQlZXBowXJyDp/FUlqO1WJB7aLD8o9jEP6/vTsNiLJcGzj+nxkYFtlEQUIEQVESCxfccsEtlQB3zUJbNM2Wk6dOmluauXusND1tZnkyTTNNQ1MrO6ampmju4i6gCC7s2zDL837gdZJQQQWGgev3ybmfZa5n5vLmmme5b1tnhwqJWViGUYa9EJVMqf76durUic8++4zc3Fx0Oh2rV68mMDCQjIwM0tPTyzlEUVbs3J2LtXm0DiLt2EXiPv6B+gM6SqEtrFre1XQUk4maTf1x9PXEo23x+8A0DnYAJHy/i9qtHyZ+7U6CXu5dZJ2Ap7riFly/IkIWFmKSycVFJVOqM2RLlizBaDTy/vvvF2nfsGEDKpWKkydPlktwomw51K1N8OsDOL5gnfkesqZvPsm5lb9gzNNh4yRnBETlp0vLIvtiMhpHexwecufa7hOc/2YbDl7u1ItoS4uZI0g/doGdT88idO4osi+mkHu58B6ywOd7kbLrmHlf9p5uZJxKxNG7Fi1mDMdUYMC9WQM82jbBrmbxHzCi6lB0UpCJyqVUBdnx48fLOw5RAVQqFd49W2Ffxx1Ddh4F6dn8NnQWjV54gkcnD8Wtaf1S7UeXkc31P+LIPHMJrbszbk3qUyukQfkGL6q0/BsZpB46R15KGs4NvHEPaYCNvbbYeuknE9g14t9c23sCrZsTLWe/wJ6XFpiXx/1nA20XvcrBSUtRqdVc/imWdp+8jmIwknXhChdW/Y/r++IACs+AmUyETIom9fB58q9n4Nv7MR7q3KxiDlpYlNEgBZmoXEpVkJlMJpYuXcqOHTswGAy0b9+e0aNHY2NT6lEzRCWQHpdAvae74t4hGFtbW3Lik/Ho1pzd0bPpsXUuNtrifwBv58rvJ0jce5i2k58lPzOH3UPnEjr3BWqFNCznIxBVkS49iwMTPydoajQeHR/hyMofybp0lQYDwoqsZ9DpObVkI9f2ngDAu3sLTi4q+mCRITef9BPx2LrWoMW7z3E1No6aLRpiX9sVfYEen8g2/K/vVLwfb4ljXQ/+GPMf1Ha2uATW5cafZwgaHVVhxy0sy6grsHQIQhRRqorqvffeIy4ujmeffRaTycTq1auZO3cukyZNKu/4xH26cfgsOUnXUZkU8q5notHa4v1kR3KOx5N+9AIFGTm4BtXD/WE/OqyejNrOFmOB/o6TLmfHp2C005B9+CIufnXwMwYT9+H32Lm70HzaM2QrBdSq4GMUVUPm2UsEjogg9ZcjXE5OpVYDb5wb+XD036twa+qPjZMjKkUh6ZcD6FKzCJ07irNf/YRKo8FkKD64p1prS+v3X8KmlhMhvVqRFnuajLhEtK41cHvEn46/zCbvcDyGjFy6bZrJgbeWkJt0g47L3sIl0Oe2MRoMBq7+doTUQ2dBpcK9eUO8wkJQy0MwVkvRy8CwonIpVUG2c+dO1q5da55DsnPnzvTu3buErYSlXPvjJPvf+oxGLzzB8Q/W4tmuCd69QtGdSub3ke+RcSK+cEWVig5L36TekM7oklNJ3nWUul1bFNtfzuVrnPx2G3UeDsC9RUMub9zL7tEfmJfXatmIdh+NqajDE1WMysaWgxOWkLQ11tzWYvrzeEe0YWOL0XT4YizHFqwl/cj5/99ARat/v8jhmV/T5LX+HJr2lXk7tdYW9xaBbB80jadyN5G46jd2jfi3eQ5X1yZ+dPj8TTzCHmWVS29azhhO6/dfxiWwLk71PO8YY8qvh9jWbwrGvMJZLWycHOi69h3qPh5aDp+IqAhyhkxUNqX6eacoSpEJvbVarUzwXUkpikLcxz8Q8HQ3LqzeTr2INpxb8QuOdWqRfuLiX8VY4cocmvYVOXGXyLmQwo3Y0+TfyCi2z9RD5wh6shunl2wkLzmVg29/WWT5jQOnyTiVWN6HJqqo7HNJRYoxgMOzVmLKLSx+Ysd/TsjEp/9aqCgkrP+dWi0aYTIaaffxP/EKC8GvXwc6LhvHwUlLaTgyguyTiRya9l9zMQaQcSKe9JPxFFzLpO7jLTn23hp0qZmo73BmGMCg13Nu+c/mYgzAkJ1H/Pe7yugTEJZgkqmTRCVTqoIsKCiIWbNmkZCQQGJiIrNnz6ZRo0blHZu4D4rRRNaFK6htNOiuZ4BKhcZOi0mtYMjJL7Z+XnIqJr0BY64Ok06PIa/4vJb6rFyM+frCdfML0N0oPvWMPiu3XI5HVH0FGTnF2ox5OnO+6m5kYONoX2S5QVdA6JwXCBoVycnF61EUhazzV8g6l0TmmcvU6fgIit5AXnJqsX0bsvPRONhiV8vFnMvGvOL/N25STAq5yTeKtedeKb5vYT1kYFhR2ZSqIJs6dSqZmZkMGTKEwYMHk5qayttvv13esYn7oLbR0HhUJGnHLuAT0Ybsi8nYe7hiV9MZl8b1UGmKfuX+T3fF0c8DbS0X7L3ccXyo+J1grg/7Yefliv+TXbCrUxPfvu2LvqfWFpeGt7/3RoiSuATWLTaZt0e7Jjj6eAAQ8HQ3zn+7vcjyR/41mNotG1PDx5NGLzxByo4jpB4+h6OPB379O/L7M3NwqOeJ/1Ndi2yn0qhxaVyPgswskrb9Sf3BYdg42OPkW+eO8dnaafF/skuxdr9+He7ziEVlYJKnLEUlU6p7yD799FPmzJlT3rGIMlK3Vyv02XloazqjmKB2aGN0Kem4Nven8zdv8+e0/5J76Rr1B3em4XM90admo0vPou7jLW87bZL7owEk/3aYOh0eIXHDboLfGIiNoz0JP+zG2d+LkMlDcWlev+IPVFQJTiH1CVs5icMzvib9RDze3VvQ5J8D+GngdIJe7kPAsO7kXbpOwfVMCtKzCX59AHV7FN67lfTLAdJPJtBy9gtcWPMbqYfP4T+oE7Y17NGnZ9NoVARqrS0XV/8Px7q1af7Oc7g29ydl60EavxiBd/dQ7DxcS5yholZoY1rNH82JD9eh0mgI/ucA3JvLU8XWzKSXgkxULipFueUGizuIiooiJiamIuIpM5cuXaJbt25s27YNH5/qefYmNyUNBTBkZJN/LYNTn2+i9cdjyLuQgjFPh0OAJ5d/2YdH0yBcA+uWOIdlQUYOJjsNOXGJaGu5kpd0A5sadqi9XHF2dUEj9xWaSf7dmxvnE1DlmTBk5WJXxw1Djg4UBXtPN9QqNQ6ebhgL9CgmEzb2hSPtZ124wg8tR1OQnk2zKcMw5usx6gpQqdVc3XuCRycPRVvbGeeG3uRduIrGwR77+h5saj6arDOX8evfgdDZI+9pvsrUI+cKn7J8JKC8PooyIfl3Z1+quwFg51WTp5O+s3A0QvylVGfIfHx8GD58OC1atKBGjRrm9ueff77cAhMPzrFOTQDSM3M4+u/VJP6wm/MrtlG3Zysc6tSkTqdHyUu6gamhrlQTimtdC797+2aB5GfloLuegcbODtfaMuCFeDC1AnzJunAFU34Bti6OuPp7F1vn70Oy5CTdwH9IF+w93FDZ2ODezBd9dh6xby2h47K3OLdsK56PBXPyve+wdXLkoa7N2RnyAsr/D5URv3YnTn5etJo3qtRzuLo/KgMgVxWKUW7qF5VLqQoyNzc3AC5fvlyesYhykptwlUs//gGAYjByadNeAGo29efCqv9RL7LtPe/T3rkG9s0DyzROUb05+z+Es/9DpV5fbaMm6adYss5fAaBuz1bU7dWKsJWTyYlP5uKa37j43Q58nmhDzUcCSDt2wVyM3XT+m19pOnYwjnXcy/RYROVnknHIRCVz14Js2LBhRSabvvXqpkxCbR0MBXp0qZm4BPqQcTK+yDIbJ3uavj4Au1ouFopOiPtj0hs4/flmczEGcHnrfnz7tse7azMu//T/w2goCpc27eXyln2ETIoutp+aj/ij/dsDBaJ6MBlNlg5BiCLuWpANHToUgJ9//pns7GwGDBiARqNhw4YNuLjIH3FroM/IwZivp/GoSGLf+gxTQeGj3t7dW+LSwBtdRjYFqVnUuM3TlUJUVgWZuVz59c9i7dkXU1Db2uDSyAdbZ0fsPd0IfL4XxvwC3Jr6U7vNw1z/4yRQOLhr83eeLTakhqgmTCXePi1EhbprQdazZ08Ali5dyqpVq8zThHTu3Jknn3yy/KMTD0zrWgO1vS02Nezo+NV4ss4loRiMZMQlsPXxcbT75J/Yd3CzdJhC3BOtWw3qRbTh5OL1RdprhxaOj+ga6EO39dPJiItn72uLUf7/bEjIlGdo+sYgVBo1bg/74fawb0WHLiqJv1++FsLSSnUna1paGjrdXwOG5uTkkJFRfER3UflotLa4PxKASW/EkJPPwUlL+XPqMs5/8yuKycTReavl8rOwOmqNhqCX+1CrxV8DVDcaGYFn+2Dz65qP+HN84TpzMQZw+N2vQKWifv+OUoxVc4qcIROVTKlu6o+MjGTw4ME8/vjjKIrCli1bGDx4cHnHJsqIW5AvdrVcuPjdjmLLchKuUpCZi30tVwtEJsT9cwvypceWOWSevYzGXotrI58ilx8LMnPIiU8ptp3uWnoFRikqL7mHTFQupSrIxowZQ3BwMHv3Fj6dN378eMLCwso1MFG2HDzccPB0A5WqyNx+vr3byQCJwmrZ13bFvvbtf0wYdXp8+7Tnwq2j/KtU2P//cDCimjNJQSYql1IVZADdu3ene/fu5RmLKGdGg4HQOSM5uXg9uUnX8e3THvcWjeReClElKSYTbk398TMYSdjwO44P1eLhV/vKlDmikHR7opIp3WiIokpwqO3Gxe9+o27PUB4ZN4SchKvY1rC77fyVQlg7p3qe2NSwJyfhKo+MG0LdXq1IiNmDXU15QlwIUfmU+gyZsH4aOy0B0d3RZ+Zg0unxG9gJx3qeqGwlDUTVo1KrcQ7wpv7AThRk5lDD1xPXIF9sHOwsHZoQQhRjsTNkCxYsYNGiRebXmZmZjBo1ivDwcKKjo7l27RoABQUFjB07lvDwcPr168e5c+csFbLVyzhzieTth1BpNGjs7TDk5LP35YXobmRaOjQhylz+jUx2v/ge+qxcbBzsUWk0XN1zgowzlywdmhBCFFPhBVlWVhYTJ07kyy+/LNK+YMECQkND2bx5M4MGDWLmzJkALF++HAcHBzZv3szEiROZMGFCRYdcZdTw8cA9pAG6G5lknE7ExkGLb9/22NV0snRoQpQ5u5pO+PXrgE0NezJOJ6K7kUnNYD9q1POwdGhCCFFMhV+r2rZtG/Xr1y82Mfn27dtZsWIFUDjMxrvvvoter2f79u2MGTMGgFatWpGamkpSUhLe3sUnHxZ35/iQO6eX/Ehu0nVzW9uPxqB1qXGXrYSwTlqXGtQMacDelxea2xy9a1N/UGfLBSWEEHdQ4QVZ3759AYpcrgS4evUqHh6Fv1xtbGxwcnIiNTW1SDuAh4cHycnJRQqyzMxMMjOLXnZLTk4upyOwXukn4osUYwCH3vkKv77tcfSSG/vvl+Rf5ZR75QaHpv63aFvSddJPxFMzuL5lgioHkn9CVA3lVpBt3ryZ2bNnF2kLCAhg2bJlpdpeURTUajWKohSb4PzmFE43/fe//2Xx4sUPHHNVZyoo/ri/IScPRS/j8TwIyb/KSTEYMeTmF2u/OZ9rVSH5J0TVUG4FWXh4OOHh4aVe39PTk+vXr+Pl5YXBYCAnJwc3Nzfq1KnD1atX8fUtnObk+vXreHp6Ftn22WefpV+/fkXakpOTiY6OfvADqUJqPhqAxsEOY95f02A1/ddgHH1qWzAq6yf5Vzk51q1N8BsDOTz9a3ObxsGOmo8EWDCqsif5J0TVUGnGOwgLC2P9+vWMHj2aH3/8kdDQUGxtbQkLC2PDhg2EhoYSGxuLnZ1dsfvHXFxccHGRsYVK4v5oAL22zefYe2vIPJVIo1ER1B/QSeayfECSf5WTSq0maHRv7D3cOP3ZJlwa1+ORfw3C/dGqVZBJ/glRNVSagmzMmDGMHz+eiIgInJ2dmT9/PgDDhg1jypQpREREoNVqmTdvnoUjtW6ebZsQtnISJp0eWycHS4cjRLlyfKgWTV7tR+BzvVDb2aKRMfeEEJWUxXqnf/zjH0Veu7m58cknnxRbz87Ojrlz51ZUWNWCxtZG/jCJakV+fAghKjuZOkkIIYQQwsKkIBNCCCGEsDC5blVFKCYTGWcuk3v5Oo4PuePSyAe1RmPpsISwCH1OHhlxiRiy83Bu6E2NujI6vxCicpOCrApQFIX4DbvZMXQWxjwdGjtb2i8di/+TnaUoE9VO3rV0Dr27nLj/rAeghm8duq1/l1rNGlo2MCGEuAu5ZFkFZJ69zM5nZpvHFzPq9Owa/m8yT8skyqL6uRF7ylyMAeQkpPDn1GUYbhl/TwghKhspyKqAvORUDDlFRyQ3FejJTbphoYiEsJzMs0nF2pJ/O4IuNfM2awshROUglyyrAEfv2nRY9hZqWw1/Tv0vWWcvo7GzxdFb5qcU1Y9Lw7rmf/v260DAU90wFhRg5y6DpwohKi8pyKxc3rV0ru07Sdzi9Rh1eoJfHwgqFfa1nHFp5GPp8ISocLVbNSZkcjTe3Vpy+edYDk5aipO/F/a13fDpEWrp8IQQ4rbkkqWVS9l5lB3Rs7gee4q0o+fZ+8pC1DZq6g/oJDf0i2rJvrYrfgPDOLfyF47MWknmmUsk/RTLr/2mkLzrqKXDE0KI25KCzIoZ9HoSN+4p1n7miy3oMnMtEJEQlqfPyUN3LYNzX/1cpN2YpyPjRLyFohJCiLuTgsyKGXUGtK5Oxdq1bk5otHI1WlRP+qw8FEXB5jbTJantbC0QkRBClEwKMitm5+SAT6/W2NSwN7epNGqCRkdh62h/ly2FqLocvdwpyMim6ZuDi7Q7+Xvh3qyBhaISQoi7k9MoVs6p4UN0XTuNlF1HMeYX4BUWgltIgKXDEsKi3IJ80dhr6bR8Itf2nqCGXx082wdTK0QGhxVCVE5SkFk51wZ1qVHPA0c/T9Q2Nrg28LZ0SEJYXM1gf5wb+pB5KhHP9sE41/eydEhCCHFXUpBVATZaLTUb+1o6DCEqFRs7W9wflbPFonxc3XsC18b1sKvpbOlQRBUh95AJIYSoFkx6Q5nta9Nj/2Brr7fKbH9CVNkzZEajEYDk5GQLRyKqEi8vL2xsSv5vI/knyoPk34PZ/sJ7RV6f2rGfGgEP3fN+Mi6nAHBj/ykuXao+cwaXNv/E/VEpiqJYOojyEBsbS3R0tKXDEFXMtm3b8PEpeQYEyT9RHsoq/8afkVk8xO3NCbxzgVna/BP3p8oWZPn5+Rw7dgwPDw80lXjE+uTkZKKjo1mxYgVeXtZ143F1jL20vxDLK/+s+TMviRxbySydf2XJmr/v6hq7nCErX1X2k7W3tyc01HrmrfPy8rLaXx4Se3HlnX/W/JmXRI7twVlT/2fN37fELsqS3NQvhBBCCGFhUpAJIYQQQliYFGRCCCGEEBYmBZmFubi48Oqrr+Li4mLpUO6ZxF7xrDXu0pBjq16s+TOR2EV5qLJPWQohhBBCWAs5QyaEEEIIYWFSkAkhhBBCWJgUZBXowIEDDBw4kD59+vDss89y+fJlADIzMxk1ahTh4eFER0dz7do1AAoKChg7dizh4eH069ePc+fOWTL8ImJiYnjiiSfo0aMHK1assHQ4t7V48WIiIiKIiIhg3rx5AOzevZuoqCh69OjBBx98YF735MmT9O/fn549ezJp0iQMhrKb864sLFiwgEWLFplfW2POlMQacqok2dnZREZGmqfTsdZ8K2tVqe8D68jVqtT/VRuKqDBdunRRTp48qSiKoqxZs0YZPXq0oiiKMm3aNOXTTz9VFEVRvv/+e2XMmDGKoijK559/rrz99tuKoijKvn37lEGDBlV80LeRnJysdOnSRUlLS1NycnKUqKgo5cyZM5YOq4jff/9defLJJxWdTqcUFBQozzzzjBITE6OEhYUpCQkJil6vV4YPH65s375dURRFiYiIUP78809FURRlwoQJyooVKywY/V8yMzOVCRMmKI8++qjy4YcfmtutLWdKYg05VZJDhw4pkZGRSnBwsJKYmKjk5eVZXb6Vl6rS9ymKdeRqVen/qhs5Q1ZBCgoKGDNmDEFBQQA0btyYK1euALB9+3aioqIAiIyMZMeOHej1erZv307v3r0BaNWqFampqSQlJVnmAG6xe/du2rZti5ubG46OjvTs2ZMtW7ZYOqwiPDw8GD9+PFqtFltbWxo0aMDFixfx8/OjXr162NjYEBUVxZYtW7h8+TL5+fk0a9YMgP79+1ea49m2bRv169fn+eefL9JubTlTEmvIqZJ8++23TJ06FU9PTwCOHDlidflWHqpS3wfWkatVpf+rbqQgqyBarZY+ffoAYDKZWLx4Md27dwfg6tWreHh4AGBjY4OTkxOpqalF2qHwP1lycnLFB/83f4/L09OTlJQUC0ZUXGBgoLmDuXjxIps3b0alUt027tt9zpXlePr27cuoUaOKzUdobTlTEmvIqZLMnDmzyHRFdzqmypxv5aEq9X1gHblaVfq/6qbKzmVpSZs3b2b27NlF2gICAli2bBkFBQWMHz8eg8HAiy++eNvtFUVBrVajKAoqlapYu6WZTKZicd36ujI5c+YML774IuPGjUOj0XDx4kXzsptxV4bjuVvOlEZlz5mSVIbvoKzd6Ziq4rHeVNX7PrCuXLWW/k8UkoKsHISHhxMeHl6sPScnh5deegk3Nzc+/vhjbG1tgcJfKtevX8fLywuDwUBOTg5ubm7UqVOHq1ev4uvrC8D169fNl0MsycvLi9jYWPPra9euVYq4/u7AgQO89tprTJw4kYiICPbt22e+aRj+itvLy6tIuyU+5zvlzJ1YW86UxFpy6l78Pa8qU76Vl6re94H15Ko19X+iUOX4yVFNjB07Fj8/PxYsWIBWqzW3h4WFsX79egB+/PFHQkNDsbW1JSwsjA0bNgAQGxuLnZ0d3t7elgi9iMcee4w9e/aQmppKXl4eP/30E506dbJ0WEVcuXKFV155hfnz5xMREQFASEgIFy5cID4+HqPRyMaNG+nUqRN169bFzs6OAwcOALBhw4ZKdzx/Z205UxJryKl7VZXy7UFVlb4PrCNXq3r/V1XJSP0V5MSJE/Tr14+GDRtiY1N4YtLT05MlS5aQnp7O+PHjSUxMxNnZmfnz5+Pj44NOp2PKlCkcO3YMrVbLjBkzCA4OtvCRFIqJieHTTz9Fr9czcOBARo4caemQipgxYwZr1641/8IGGDJkCPXr12f27NnodDrCwsKYMGECKpWKuLg4Jk+eTHZ2NsHBwcyePbvIHw5LuznkxT/+8Q8Aq8yZklT2nCqtrl278tVXX+Hj48OePXusMt/KUlXr+6Dy52pV6/+qCynIhBBCCCEsTC5ZCiGEEEJYmBRkQgghhBAWJgWZEEIIIYSFSUEmhBBCCGFhUpAJIYQQQliYFGQVaOHCheYxd+6kcePGpKamlnss5fU+33zzDZ999hkAa9asYcWKFfe8j8jISP7444+yDk3chrXl5Pbt21m4cCFQOM/njBkzirXfixdffJF169bde7CiRFu2bGHYsGHl/j4nT56ke/fu9O/fn9jYWCIjI+nTpw9//vnnHbcZP348S5cuLfNYUlJSGDJkCACJiYnmYWruxdKlSxk/fnxZhyasgIzUX4HGjBlj6RDK3VNPPWX+94EDBwgMDLRgNKIk1paTR48eJSMjA4Bu3brRrVu3Yu2ietm2bRtt2rRh5syZrF+/ntq1a5d6yrGyVqdOHVatWgVAUlISFy5csEgcwjpJQVYO/vjjD+bPn4+3tzfnz5/H3t6eOXPmsGTJEgIDAxkxYgSHDx9mxowZ5OXlYWtry7hx42jXrp15H9euXeP555/nqaeeIjo6msaNG7Nnzx7c3d0BzK/PnDlz2/dq0KBBqeP9z3/+w6ZNm9BoNPj7+/P222/j4eHBsGHDaNasGQcPHuTKlSu0a9eO6dOno1arWbduHZ999hn29va0bduWr776ihMnTrBo0SLS0tJo164dv/76K7///jv29vakpqaSlpbGlClTAMzrTZkyhbNnzzJx4kTy8vIICAggNzfXHNvBgweZP38+eXl5qNVqXn31Vbp06VJG31T1YU05mZubyzvvvEN8fDzp6enUqFGD+fPnk5WVxapVqzAajTg7O+Pn58fWrVt5+eWXb9v+6aefArBu3Trz65SUFMaPH8/Vq1fx9vbmxo0b5vc9d+4cM2fOJD09HaPRyLBhwxg4cGAZfgtV38KFC4mJicHNzQ0/Pz+g8GxUeno6iYmJdO7cmdGjRzNt2jTi4uJQqVR07NiRN954AxsbG5o0acLIkSPZuXMnubm5vPHGG/To0QO4fT+1Z88evvnmG4xGIzt27ECj0ZCVlcWwYcNYvnx5qWKOjY1l3rx55rz/5z//SadOnVi3bh0///wzarWa+Ph47O3tmTt3Lg0aNCA+Pp6JEyeSkZGBh4cHiqLQu3dvWrduTVRUFLGxsUyePJmUlBRGjBjBtGnTiIqKMp+1u3Tpkvm1Xq9nxowZ7N69m1q1alGrVi2cnZ0ByMrKYubMmZw+fRq9Xk+7du0YN26ceYBdUbXIJctycuzYMYYNG0ZMTAz9+/dn7Nix5mV6vZ5XXnmFV155hY0bNzJ9+nRmzZqFyWQCCk97P/fcc4waNYro6OgHeq+SrF27lp07d/Ldd98RExNDYGBgkdPlCQkJLF++nB9++IEdO3awb98+zp49y/z581m2bBnr16/HyckJo9FYZL+PP/44Xbt25bnnnivxGN58800GDRpETEwMzzzzDElJSQBkZGQwYcIE5s2bx/fff89HH33EO++8Y14u7o215OSOHTtwcXFh9erVbN26laZNm7JixQpCQkIYMmQITzzxBK+//rp5/Tu13867775LSEgImzZtYvLkyeYzGAaDgddee41//etfrFu3jq+//povvviCQ4cOlTru6u6XX37hp59+Yv369axatYrs7Gzzsvz8fDZt2sTYsWOZMWMGbm5uxMTEsHbtWk6dOsUXX3wBgNFoxMHBgXXr1rFgwQImTpxIamrqHfup3r17m7/7nTt38tprrxEaGlrqYiwtLY3XXnuNSZMmERMTw9y5cxk7diyJiYkA7N+/n7fffpuNGzcSEhJivh1j3LhxREREsHHjRiZPnlwsTzQaDTNmzMDX17fES6MrV67k4sWLbNq0iS+++IIrV66Yl82aNYvg4GDWrVvH+vXrSUtL48svvyzVsQnrIwVZOQkKCiI0NBSAAQMGcPLkSdLT0wE4ffo0arWazp07A9C0aVNiYmJQqwu/jpEjR+Lg4EBUVNR9v1daWlqptt2xYwf9+/fH0dERgGeeeYa9e/dSUFAAQJcuXVCr1Tg5OeHn50dGRga7du2iffv2eHl5ATB06NBSvdftpKWlcerUKfr27QtAy5YtzZc5Dx06xLVr13jllVfo06cPo0aNQqVScerUqft+v+rMWnKyV69e9OvXj+XLlzNjxgz27dtX5Kzpg9i9ezf9+/cHwM/PjzZt2gBw8eJFEhISmDhxIn369GHo0KHk5+dz4sSJMnnf6mDPnj08/vjjODk5YWNjw4ABA8zLWrZsaf73jh07GDp0KCqVCq1Wy5AhQ9ixY4d5+c3+JCgoiEaNGrF///4S+6n7deTIEXx9fQkJCQEgMDCQFi1asG/fPgCCg4PN/VyTJk3IyMggIyODI0eOMGjQIAAaNGhA27Zt7zuGPXv2EBkZiVarxdHRscj/se3bt7N69Wr69OlD//79OXLkCKdPn77v9xKVm5z3LCcajaZY280/bhqNBpVKVWTZ6dOnCQgIAAp/xX/yySd8+eWXDB8+vNh+/t4J3e69btd2OyaTqUgsJpMJg8Fgfm1vb2/+t0qlQlEUNBoNt864VZr3urntTXq9vsjyW5fdPB1vNBpp0KABa9asMS9LSUkxXyIT98ZacnLlypV8++23REdHExUVhZubG5cuXSrVtnD3XPv7sltzzdnZ2TyhNcD169fNl45E6dypX7hZSEHJfc6t25lMJjQaTYnb3C+j0Vgs7xVFwWAwYGtre8f+7+Z6t4v5dkrq/2719+NfuHCh+XJ/ZmZmsXhF1SFnyMpJXFwccXFxAKxevZrmzZvj4uICQEBAACqVit9//x2A48eP8+yzz5ovDzVr1ow5c+bw8ccfm38Nubu7c/ToUQA2btxY6vcqSceOHVm7dq35DMTy5ctp1arVXSeW7dChA3v27CElJQWgSMF0K41GY+40a9asyfHjx1EUhezsbP73v/+Z24ODg837OH78uPmYmzVrRnx8PPv37wcKn6bq2bOn+X3FvbGWnNy1axf9+vVj0KBB+Pv78+uvv5ovid+aU7e6td3d3Z0zZ86g0+nQ6/Vs3brVvF7Hjh1ZvXo1UHjT9c2nef39/bG3tzcXZFeuXCEyMpJjx46VKmYBnTp1YsuWLWRmZmIymYoUt7fq0KEDX3/9NYqiUFBQwLfffstjjz1mXn7zqd/jx49z4cIFWrVqdV/9VGk0a9aM8+fPc+TIEQDOnDnD/v37ad269R23cXJyokWLFuancxMTE9mzZ0+xQkmj0ZgLLxcXF/R6PWfPngVg06ZN5vU6duzI+vXr0el06HQ6fvzxR/OyDh06sGzZMvNn9dJLL/H1118/0DGLykvOkJWT2rVrs2DBAi5fvoy7uzvz5s1j8eLFAGi1WhYtWsSsWbOYN28etra2LFq0qEjnEhAQwMsvv8zYsWNZs2YNkydP5t1338XFxYXHHnsMDw+Pu75XaQ0cOJArV64waNAgTCYTfn5+zJ8//67b+Pv7M2HCBEaMGIFWq+Xhhx/GwcGh2HqdOnVizpw5ADz99NPs3LmTHj16UKdOHVq3bm3+xfj+++8zYcIEVq1aha+vr/msjLu7Ox9++CHz5s1Dp9OhKArz5s3Dx8en1Mcn/mItOTl8+HCmTJnCd999BxT+0bxZBLZt25Y333yT6dOnExwcbN7m1vYJEybQqlUrwsPD8fDwoE2bNubL3FOnTmXChAmEh4fj5eVFUFCQ+fg/+ugjZs6cyeeff47BYGDMmDFFLrWJuwsLC+PUqVMMGDAAFxcXgoKCbnuZevLkycyYMYOoqCj0ej0dO3Zk9OjR5uUHDx7k22+/xWQy8cEHH+Dq6npf/VRpuLu7s3DhQqZPn05+fj4qlYrZs2fj7+9/12Ez5s6dy6RJk1i5ciV16tTBx8enyNk0gIYNG2JnZ8fAgQNZs2YNY8eOZeTIkbi7u9OrVy/zekOGDCEhIYHIyMgiD0MATJo0iZkzZ5o/q8cee4wXXnjhgY9bVFKKKHN79+5VIiIiqtx73ZSQkKAsWrRIMRqNiqIoytatW5WBAwdWaAzi3lT1nBRVQ6NGjZQbN25YOowSffTRR8rZs2cVRVGUzMxMpXPnzsqZM2csHJWwdnKGrIr6/PPPiYmJue2yESNG0Lt37/vet5eXF1evXiUqKgqNRoOzszOzZs267/2J6qE8c1KIW50/f/6OT9z6+/uzYMGCB9p//fr1ef3111Gr1RiNRkaOHEnDhg0faJ9CqBTlljsNhRBCCCFEhZOb+oUQQgghLEwKMiGEEEIIC5OCTAghhBDCwqQgE0IIIYSwMCnIhBBCCCEsTAoyIYQQQggL+z87rrLCBZXXggAAAABJRU5ErkJggg==\n",
      "text/plain": [
       "<Figure size 616.175x540 with 12 Axes>"
      ]
     },
     "metadata": {},
     "output_type": "display_data"
    }
   ],
   "source": [
    "#Dispersion de las características\n",
    "caracteristicas=pandasData[['fare_amount','pickup_longitude','pickup_latitude','dropoff_longitude']]\n",
    "sns.set(style=\"ticks\", color_codes=True)\n",
    "g= sns.pairplot(caracteristicas,hue='fare_amount',palette='Spectral')"
   ]
  },
  {
   "cell_type": "code",
   "execution_count": null,
   "metadata": {},
   "outputs": [],
   "source": [
    "g=sns.lmplot(x='passenger_count',y='hora',data=caracteristicas,palette='Set1')"
   ]
  },
  {
   "cell_type": "code",
   "execution_count": null,
   "metadata": {},
   "outputs": [],
   "source": [
    "# Relación entre dos caracteristicas vista como tendencia lineal\n",
    "g=sns.lmplot(x='passenger_count',y='hora',hue='dia_semana',data=caracteristicas,palette='Set1')"
   ]
  },
  {
   "cell_type": "markdown",
   "metadata": {},
   "source": [
    "### Exportamos  La Data  en un formato CSV"
   ]
  },
  {
   "cell_type": "code",
   "execution_count": 47,
   "metadata": {},
   "outputs": [],
   "source": [
    "\n",
    "#exportar la data a un formato csv\n",
    "pandasData.to_csv(\"newDatapandas.csv\",encoding = 'utf-8',index = False)"
   ]
  },
  {
   "cell_type": "markdown",
   "metadata": {},
   "source": [
    "#### A partir de aqui evaluamos la data con arboles, arboles de regresion y de clasificacion\n"
   ]
  },
  {
   "cell_type": "markdown",
   "metadata": {},
   "source": [
    "## Arboles"
   ]
  },
  {
   "cell_type": "code",
   "execution_count": 3,
   "metadata": {},
   "outputs": [],
   "source": [
    "import pandas as pd"
   ]
  },
  {
   "cell_type": "code",
   "execution_count": 4,
   "metadata": {},
   "outputs": [],
   "source": [
    "new_data =  pd.read_csv(\"newDatapandas.csv\")"
   ]
  },
  {
   "cell_type": "markdown",
   "metadata": {},
   "source": [
    "## Arbol de regresion"
   ]
  },
  {
   "cell_type": "code",
   "execution_count": 3,
   "metadata": {},
   "outputs": [],
   "source": [
    "\n",
    "# Tratamiento de datos\n",
    "# ------------------------------------------------------------------------------\n",
    "import numpy as np\n",
    "import pandas as pd\n",
    "\n",
    "# Gráficos\n",
    "# ------------------------------------------------------------------------------\n",
    "import matplotlib.pyplot as plt\n",
    "\n",
    "# Preprocesado y modelado\n",
    "# ------------------------------------------------------------------------------\n",
    "from sklearn.datasets import load_boston\n",
    "from sklearn.model_selection import train_test_split\n",
    "from sklearn.tree import DecisionTreeRegressor\n",
    "from sklearn.tree import plot_tree\n",
    "from sklearn.tree import export_graphviz\n",
    "from sklearn.tree import export_text\n",
    "from sklearn.model_selection import GridSearchCV\n",
    "from sklearn.metrics import mean_squared_error\n",
    "\n",
    "# Configuración warnings\n",
    "# ------------------------------------------------------------------------------\n",
    "import warnings\n",
    "warnings.filterwarnings('once')\n",
    "\n"
   ]
  },
  {
   "cell_type": "code",
<<<<<<< HEAD:Predicción de tarifas de taxis.ipynb
   "execution_count": 4,
=======
   "execution_count": 29,
>>>>>>> renzo:Predicción de tarifas de taxis de una muestra del Dataset.ipynb
   "metadata": {},
   "outputs": [
    {
     "name": "stderr",
     "output_type": "stream",
     "text": [
<<<<<<< HEAD:Predicción de tarifas de taxis.ipynb
      "C:\\Users\\frank\\anaconda3\\lib\\site-packages\\ipykernel\\ipkernel.py:287: DeprecationWarning: `should_run_async` will not call `transform_cell` automatically in the future. Please pass the result to `transformed_cell` argument and any exception that happen during thetransform in `preprocessing_exc_tuple` in IPython 7.17 and above.\n",
      "  and should_run_async(code)\n"
=======
      "time: 572 ms (started: 2021-06-12 12:20:13 -05:00)\n"
>>>>>>> renzo:Predicción de tarifas de taxis de una muestra del Dataset.ipynb
     ]
    },
    {
     "data": {
      "text/html": [
       "<div>\n",
       "<style scoped>\n",
       "    .dataframe tbody tr th:only-of-type {\n",
       "        vertical-align: middle;\n",
       "    }\n",
       "\n",
       "    .dataframe tbody tr th {\n",
       "        vertical-align: top;\n",
       "    }\n",
       "\n",
       "    .dataframe thead th {\n",
       "        text-align: right;\n",
       "    }\n",
       "</style>\n",
       "<table border=\"1\" class=\"dataframe\">\n",
       "  <thead>\n",
       "    <tr style=\"text-align: right;\">\n",
       "      <th></th>\n",
       "      <th>fare_amount</th>\n",
       "      <th>pickup_datetime</th>\n",
       "      <th>pickup_longitude</th>\n",
       "      <th>pickup_latitude</th>\n",
       "      <th>dropoff_longitude</th>\n",
       "      <th>dropoff_latitude</th>\n",
       "      <th>passenger_count</th>\n",
       "      <th>dif_latitude</th>\n",
       "      <th>dif_longitude</th>\n",
       "      <th>distancia</th>\n",
       "      <th>dia_semana</th>\n",
       "      <th>hora</th>\n",
       "    </tr>\n",
       "  </thead>\n",
       "  <tbody>\n",
       "    <tr>\n",
       "      <th>0</th>\n",
       "      <td>8.0</td>\n",
       "      <td>2015-03-12 23:14:59 UTC</td>\n",
       "      <td>-73.993141</td>\n",
       "      <td>40.727940</td>\n",
       "      <td>-73.996613</td>\n",
       "      <td>40.744530</td>\n",
       "      <td>2</td>\n",
       "      <td>0.016590</td>\n",
       "      <td>0.003471</td>\n",
       "      <td>1.868306</td>\n",
       "      <td>4</td>\n",
       "      <td>23</td>\n",
       "    </tr>\n",
       "    <tr>\n",
       "      <th>1</th>\n",
       "      <td>10.0</td>\n",
       "      <td>2013-08-21 08:38:06 UTC</td>\n",
       "      <td>-73.964837</td>\n",
       "      <td>40.769933</td>\n",
       "      <td>-73.983462</td>\n",
       "      <td>40.761655</td>\n",
       "      <td>1</td>\n",
       "      <td>0.008278</td>\n",
       "      <td>0.018625</td>\n",
       "      <td>1.819197</td>\n",
       "      <td>3</td>\n",
       "      <td>8</td>\n",
       "    </tr>\n",
       "    <tr>\n",
       "      <th>2</th>\n",
       "      <td>5.5</td>\n",
       "      <td>2014-01-23 18:40:00 UTC</td>\n",
       "      <td>-74.001017</td>\n",
       "      <td>40.746352</td>\n",
       "      <td>-73.990873</td>\n",
       "      <td>40.739497</td>\n",
       "      <td>1</td>\n",
       "      <td>0.006855</td>\n",
       "      <td>0.010144</td>\n",
       "      <td>1.145462</td>\n",
       "      <td>4</td>\n",
       "      <td>18</td>\n",
       "    </tr>\n",
       "  </tbody>\n",
       "</table>\n",
       "</div>"
      ],
      "text/plain": [
       "   fare_amount          pickup_datetime  pickup_longitude  pickup_latitude  \\\n",
       "0          8.0  2015-03-12 23:14:59 UTC        -73.993141        40.727940   \n",
       "1         10.0  2013-08-21 08:38:06 UTC        -73.964837        40.769933   \n",
       "2          5.5  2014-01-23 18:40:00 UTC        -74.001017        40.746352   \n",
       "\n",
       "   dropoff_longitude  dropoff_latitude  passenger_count  dif_latitude  \\\n",
       "0         -73.996613         40.744530                2      0.016590   \n",
       "1         -73.983462         40.761655                1      0.008278   \n",
       "2         -73.990873         40.739497                1      0.006855   \n",
       "\n",
       "   dif_longitude  distancia  dia_semana  hora  \n",
       "0       0.003471   1.868306           4    23  \n",
       "1       0.018625   1.819197           3     8  \n",
       "2       0.010144   1.145462           4    18  "
      ]
     },
     "execution_count": 4,
     "metadata": {},
     "output_type": "execute_result"
    }
   ],
   "source": [
    "new_data.head(3)"
   ]
  },
  {
   "cell_type": "code",
   "execution_count": 5,
   "metadata": {},
   "outputs": [
    {
     "name": "stdout",
     "output_type": "stream",
     "text": [
      "<class 'pandas.core.frame.DataFrame'>\n",
      "RangeIndex: 2219173 entries, 0 to 2219172\n",
      "Data columns (total 12 columns):\n",
      " #   Column             Dtype  \n",
      "---  ------             -----  \n",
      " 0   fare_amount        float64\n",
      " 1   pickup_datetime    object \n",
      " 2   pickup_longitude   float64\n",
      " 3   pickup_latitude    float64\n",
      " 4   dropoff_longitude  float64\n",
      " 5   dropoff_latitude   float64\n",
      " 6   passenger_count    int64  \n",
      " 7   dif_latitude       float64\n",
      " 8   dif_longitude      float64\n",
      " 9   distancia          float64\n",
      " 10  dia_semana         int64  \n",
      " 11  hora               int64  \n",
      "dtypes: float64(8), int64(3), object(1)\n",
      "memory usage: 203.2+ MB\n"
     ]
    },
    {
     "name": "stderr",
     "output_type": "stream",
     "text": [
      "C:\\Users\\frank\\anaconda3\\lib\\site-packages\\ipykernel\\ipkernel.py:287: DeprecationWarning: `should_run_async` will not call `transform_cell` automatically in the future. Please pass the result to `transformed_cell` argument and any exception that happen during thetransform in `preprocessing_exc_tuple` in IPython 7.17 and above.\n",
      "  and should_run_async(code)\n"
     ]
    }
   ],
   "source": [
    "new_data.info()"
   ]
  },
  {
   "cell_type": "code",
   "execution_count": 6,
   "metadata": {},
   "outputs": [],
   "source": [
    "#se entablece las variables predictoras y obejtivos\n",
    "# se establece las columnas\n",
    "columnas_float = [\"passenger_count\",\"distancia\",\"dia_semana\", \"hora\"]\n",
    "#extraccion de datos predictores\n",
    "predictors = new_data[columnas_float]\n",
    "#extraccion de dato objetivo\n",
    "target = new_data[\"fare_amount\"]"
   ]
  },
  {
   "cell_type": "code",
   "execution_count": 7,
   "metadata": {},
   "outputs": [],
   "source": [
    "#Se indican las etiquetas de las variable predictoras y objetivos\n",
    "predictors_label = [\"passenger_count\",\"distancia\",\"dia_semana\", \"hora\"]\n",
    "\n",
    "target_label =[\"fare_amount\"]\n"
   ]
  },
  {
   "cell_type": "markdown",
   "metadata": {},
   "source": [
    "### Ajuste del modelos \n",
    "\n",
    " No solo es importante ajustar el mdelos sino que tambien es importante cuantificar su capacidad para predecir observaciones, para esto dividimos los datos en dos grupos uno de entrenamiento y otro en test"
   ]
  },
  {
   "cell_type": "code",
   "execution_count": 8,
   "metadata": {},
   "outputs": [
    {
     "data": {
      "text/plain": [
       "DecisionTreeRegressor(max_depth=3, random_state=123)"
      ]
     },
     "execution_count": 8,
     "metadata": {},
     "output_type": "execute_result"
    }
   ],
   "source": [
    "# División de los datos en train y test\n",
    "\n",
    "X_train, X_test, y_train, y_test = train_test_split(predictors,target,random_state = 123)\n",
    "# Creación del modelo\n",
    "\n",
    "modelo = DecisionTreeRegressor(max_depth = 3,random_state = 123)\n",
    "\n",
    "# Entrenamiento del modelo\n",
    "# ------------------------------------------------------------------------------\n",
    "modelo.fit(X_train, y_train)"
   ]
  },
  {
   "cell_type": "code",
   "execution_count": 9,
   "metadata": {},
   "outputs": [
    {
     "name": "stderr",
     "output_type": "stream",
     "text": [
      "C:\\Users\\frank\\anaconda3\\lib\\site-packages\\ipykernel\\ipkernel.py:287: DeprecationWarning: `should_run_async` will not call `transform_cell` automatically in the future. Please pass the result to `transformed_cell` argument and any exception that happen during thetransform in `preprocessing_exc_tuple` in IPython 7.17 and above.\n",
      "  and should_run_async(code)\n"
     ]
    },
    {
     "data": {
      "text/plain": [
       "pandas.core.frame.DataFrame"
      ]
     },
     "execution_count": 9,
     "metadata": {},
     "output_type": "execute_result"
    }
   ],
   "source": [
    "predic = new_data[predictors_label]\n",
    "type(new_data)"
   ]
  },
  {
   "cell_type": "code",
   "execution_count": 10,
   "metadata": {},
   "outputs": [
    {
     "data": {
      "text/html": [
       "<div>\n",
       "<style scoped>\n",
       "    .dataframe tbody tr th:only-of-type {\n",
       "        vertical-align: middle;\n",
       "    }\n",
       "\n",
       "    .dataframe tbody tr th {\n",
       "        vertical-align: top;\n",
       "    }\n",
       "\n",
       "    .dataframe thead th {\n",
       "        text-align: right;\n",
       "    }\n",
       "</style>\n",
       "<table border=\"1\" class=\"dataframe\">\n",
       "  <thead>\n",
       "    <tr style=\"text-align: right;\">\n",
       "      <th></th>\n",
       "      <th>passenger_count</th>\n",
       "      <th>distancia</th>\n",
       "      <th>dia_semana</th>\n",
       "      <th>hora</th>\n",
       "    </tr>\n",
       "  </thead>\n",
       "  <tbody>\n",
       "    <tr>\n",
       "      <th>0</th>\n",
       "      <td>2</td>\n",
       "      <td>1.868306</td>\n",
       "      <td>4</td>\n",
       "      <td>23</td>\n",
       "    </tr>\n",
       "    <tr>\n",
       "      <th>1</th>\n",
       "      <td>1</td>\n",
       "      <td>1.819197</td>\n",
       "      <td>3</td>\n",
       "      <td>8</td>\n",
       "    </tr>\n",
       "    <tr>\n",
       "      <th>2</th>\n",
       "      <td>1</td>\n",
       "      <td>1.145462</td>\n",
       "      <td>4</td>\n",
       "      <td>18</td>\n",
       "    </tr>\n",
       "    <tr>\n",
       "      <th>3</th>\n",
       "      <td>1</td>\n",
       "      <td>1.079354</td>\n",
       "      <td>6</td>\n",
       "      <td>14</td>\n",
       "    </tr>\n",
       "    <tr>\n",
       "      <th>4</th>\n",
       "      <td>1</td>\n",
       "      <td>1.136704</td>\n",
       "      <td>7</td>\n",
       "      <td>23</td>\n",
       "    </tr>\n",
       "    <tr>\n",
       "      <th>...</th>\n",
       "      <td>...</td>\n",
       "      <td>...</td>\n",
       "      <td>...</td>\n",
       "      <td>...</td>\n",
       "    </tr>\n",
       "    <tr>\n",
       "      <th>2219168</th>\n",
       "      <td>1</td>\n",
       "      <td>1.666461</td>\n",
       "      <td>1</td>\n",
       "      <td>10</td>\n",
       "    </tr>\n",
       "    <tr>\n",
       "      <th>2219169</th>\n",
       "      <td>1</td>\n",
       "      <td>0.005198</td>\n",
       "      <td>3</td>\n",
       "      <td>19</td>\n",
       "    </tr>\n",
       "    <tr>\n",
       "      <th>2219170</th>\n",
       "      <td>1</td>\n",
       "      <td>0.412344</td>\n",
       "      <td>5</td>\n",
       "      <td>19</td>\n",
       "    </tr>\n",
       "    <tr>\n",
       "      <th>2219171</th>\n",
       "      <td>5</td>\n",
       "      <td>20.622059</td>\n",
       "      <td>1</td>\n",
       "      <td>19</td>\n",
       "    </tr>\n",
       "    <tr>\n",
       "      <th>2219172</th>\n",
       "      <td>3</td>\n",
       "      <td>1.879400</td>\n",
       "      <td>5</td>\n",
       "      <td>0</td>\n",
       "    </tr>\n",
       "  </tbody>\n",
       "</table>\n",
       "<p>2219173 rows × 4 columns</p>\n",
       "</div>"
      ],
      "text/plain": [
       "         passenger_count  distancia  dia_semana  hora\n",
       "0                      2   1.868306           4    23\n",
       "1                      1   1.819197           3     8\n",
       "2                      1   1.145462           4    18\n",
       "3                      1   1.079354           6    14\n",
       "4                      1   1.136704           7    23\n",
       "...                  ...        ...         ...   ...\n",
       "2219168                1   1.666461           1    10\n",
       "2219169                1   0.005198           3    19\n",
       "2219170                1   0.412344           5    19\n",
       "2219171                5  20.622059           1    19\n",
       "2219172                3   1.879400           5     0\n",
       "\n",
       "[2219173 rows x 4 columns]"
      ]
     },
     "execution_count": 10,
     "metadata": {},
     "output_type": "execute_result"
    }
   ],
   "source": [
    "predic"
   ]
  },
  {
   "cell_type": "code",
   "execution_count": 11,
   "metadata": {},
   "outputs": [
    {
     "name": "stderr",
     "output_type": "stream",
     "text": [
      "C:\\Users\\frank\\anaconda3\\lib\\site-packages\\ipykernel\\ipkernel.py:287: DeprecationWarning: `should_run_async` will not call `transform_cell` automatically in the future. Please pass the result to `transformed_cell` argument and any exception that happen during thetransform in `preprocessing_exc_tuple` in IPython 7.17 and above.\n",
      "  and should_run_async(code)\n"
     ]
    },
    {
     "name": "stdout",
     "output_type": "stream",
     "text": [
      "Profundidad del árbol: 3\n",
      "Número de nodos terminales: 8\n"
     ]
    },
    {
     "data": {
      "image/png": "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\n",
      "text/plain": [
       "<Figure size 1296x360 with 1 Axes>"
      ]
     },
     "metadata": {
      "needs_background": "light"
     },
     "output_type": "display_data"
    }
   ],
   "source": [
    "\n",
    "# Estructura del árbol creado\n",
    "# ------------------------------------------------------------------------------\n",
    "fig, ax = plt.subplots(figsize=(18, 5))\n",
    "\n",
    "print(f\"Profundidad del árbol: {modelo.get_depth()}\")\n",
    "print(f\"Número de nodos terminales: {modelo.get_n_leaves()}\")\n",
    "\n",
    "plot = plot_tree(\n",
    "            decision_tree = modelo,\n",
    "            feature_names = predic.columns,\n",
    "            class_names   = 'fare_amount',\n",
    "            filled        = True,\n",
    "            impurity      = False,\n",
    "            fontsize      = 10,\n",
    "            precision     = 2,\n",
    "            ax            = ax\n",
    "       )\n"
   ]
  },
  {
   "cell_type": "code",
   "execution_count": 12,
   "metadata": {},
   "outputs": [
    {
     "name": "stdout",
     "output_type": "stream",
     "text": [
      "|--- distancia <= 7.82\n",
      "|   |--- distancia <= 3.35\n",
      "|   |   |--- distancia <= 2.06\n",
      "|   |   |   |--- value: [6.81]\n",
      "|   |   |--- distancia >  2.06\n",
      "|   |   |   |--- value: [9.73]\n",
      "|   |--- distancia >  3.35\n",
      "|   |   |--- distancia <= 5.27\n",
      "|   |   |   |--- value: [12.86]\n",
      "|   |   |--- distancia >  5.27\n",
      "|   |   |   |--- value: [17.57]\n",
      "|--- distancia >  7.82\n",
      "|   |--- distancia <= 14.95\n",
      "|   |   |--- distancia <= 9.16\n",
      "|   |   |   |--- value: [24.01]\n",
      "|   |   |--- distancia >  9.16\n",
      "|   |   |   |--- value: [30.37]\n",
      "|   |--- distancia >  14.95\n",
      "|   |   |--- distancia <= 88.82\n",
      "|   |   |   |--- value: [49.90]\n",
      "|   |   |--- distancia >  88.82\n",
      "|   |   |   |--- value: [16.60]\n",
      "\n"
     ]
    }
   ],
   "source": [
    "texto_modelo = export_text(decision_tree = modelo,feature_names = list(new_data[predictors_label].columns)\n",
    "               )\n",
    "print(texto_modelo)"
   ]
  },
  {
   "cell_type": "markdown",
   "metadata": {},
   "source": [
    "Si seguimos la rama mas a la izquierda del arbol podemos notar que predice un precio promedio de 6.81 dolares por viaje que estan a un distancia <= 7.82 kilometros"
   ]
  },
  {
   "cell_type": "markdown",
   "metadata": {},
   "source": [
    "### Importancia de Predictores"
   ]
  },
  {
   "cell_type": "code",
   "execution_count": 13,
   "metadata": {},
   "outputs": [
    {
     "name": "stdout",
     "output_type": "stream",
     "text": [
      "Importancia de los predictores en el modelo\n",
      "-------------------------------------------\n"
     ]
    },
    {
     "data": {
      "text/html": [
       "<div>\n",
       "<style scoped>\n",
       "    .dataframe tbody tr th:only-of-type {\n",
       "        vertical-align: middle;\n",
       "    }\n",
       "\n",
       "    .dataframe tbody tr th {\n",
       "        vertical-align: top;\n",
       "    }\n",
       "\n",
       "    .dataframe thead th {\n",
       "        text-align: right;\n",
       "    }\n",
       "</style>\n",
       "<table border=\"1\" class=\"dataframe\">\n",
       "  <thead>\n",
       "    <tr style=\"text-align: right;\">\n",
       "      <th></th>\n",
       "      <th>predictor</th>\n",
       "      <th>importancia</th>\n",
       "    </tr>\n",
       "  </thead>\n",
       "  <tbody>\n",
       "    <tr>\n",
       "      <th>1</th>\n",
       "      <td>distancia</td>\n",
       "      <td>1.0</td>\n",
       "    </tr>\n",
       "    <tr>\n",
       "      <th>0</th>\n",
       "      <td>passenger_count</td>\n",
       "      <td>0.0</td>\n",
       "    </tr>\n",
       "    <tr>\n",
       "      <th>2</th>\n",
       "      <td>dia_semana</td>\n",
       "      <td>0.0</td>\n",
       "    </tr>\n",
       "    <tr>\n",
       "      <th>3</th>\n",
       "      <td>hora</td>\n",
       "      <td>0.0</td>\n",
       "    </tr>\n",
       "  </tbody>\n",
       "</table>\n",
       "</div>"
      ],
      "text/plain": [
       "         predictor  importancia\n",
       "1        distancia          1.0\n",
       "0  passenger_count          0.0\n",
       "2       dia_semana          0.0\n",
       "3             hora          0.0"
      ]
     },
     "execution_count": 13,
     "metadata": {},
     "output_type": "execute_result"
    }
   ],
   "source": [
    "importancia_predictores = pd.DataFrame(\n",
    "                            {'predictor': predic.columns,\n",
    "                             'importancia': modelo.feature_importances_}\n",
    "                            )\n",
    "print(\"Importancia de los predictores en el modelo\")\n",
    "print(\"-------------------------------------------\")\n",
    "importancia_predictores.sort_values('importancia', ascending=False)\n",
    "\n"
   ]
  },
  {
   "cell_type": "markdown",
   "metadata": {},
   "source": [
    "Como podemos notar en la tabla la variable mas importante en el predictor es la distancia\n",
    "tenendo en cuenta que la importancia de cada predictor en un modelo se calcula como la reduccion total(normalizada)en un criterio de division\n",
    "si el predictor no ha sido seleccionado en ninguna prediccion, no se ha incluido en el modelo por tanto su valor es cero"
   ]
  },
  {
   "cell_type": "markdown",
   "metadata": {},
   "source": [
    "## Podando el arbol\n",
    "Se intenta encontrar el arbol mas sencillo ( menor tamaño) que consigue los mejores resultados de prediccion"
   ]
  },
  {
   "cell_type": "code",
   "execution_count": null,
   "metadata": {},
   "outputs": [
    {
     "name": "stderr",
     "output_type": "stream",
     "text": [
      "C:\\Users\\frank\\anaconda3\\lib\\site-packages\\ipykernel\\ipkernel.py:287: DeprecationWarning: `should_run_async` will not call `transform_cell` automatically in the future. Please pass the result to `transformed_cell` argument and any exception that happen during thetransform in `preprocessing_exc_tuple` in IPython 7.17 and above.\n",
      "  and should_run_async(code)\n"
     ]
    }
   ],
   "source": [
    "#descomentar el codigo faltante para ejecutar el grafico\n",
    "\n",
    "# Pruning (const complexity pruning) por validación cruzada\n",
    "# Valores de ccp_alpha evaluados\n",
    "param_grid = {'ccp_alpha':np.linspace(0, 80, 20)}\n",
    "\n",
    "# Búsqueda por validación cruzada\n",
    "grid = GridSearchCV(\n",
    "        # El árbol se crece al máximo posible para luego aplicar el pruning\n",
    "        estimator = DecisionTreeRegressor(max_depth  = None,min_samples_split = 2,min_samples_leaf  = 1,random_state      = 123),\n",
    "        param_grid = param_grid,cv = 10,refit = True,return_train_score = True)\n",
    "\n",
    "grid.fit(X_train, y_train)\n",
    "\n",
    "#fig, ax = plt.subplots(figsize=(6, 3.84))\n",
    "#scores = pd.DataFrame(grid.cv_results_)\n",
    "#scores.plot(x='param_ccp_alpha', y='mean_train_score', yerr='std_train_score', ax=ax)\n",
    "#scores.plot(x='param_ccp_alpha', y='mean_test_score', yerr='std_test_score', ax=ax)\n",
    "#ax.set_title(\"Error de validacion cruzada vs hiperparámetro ccp_alpha\");\n",
    "\n"
   ]
  },
  {
   "cell_type": "markdown",
   "metadata": {},
   "source": [
    "Para aplicar un proceso de prunning es necesario indicar el argumento ccp_aplpha que determine el grado de penalizacion por complejidad, cuando mayor sea este valor menor sera elk tamaño del arbol\n",
    "Una vez que encontremos el cpp_alpha optimo lo que haremos es reentrenar el arbol."
   ]
  },
  {
   "cell_type": "code",
   "execution_count": null,
   "metadata": {},
   "outputs": [],
   "source": [
    "#Mejor cpp_alpha encontrado\n",
    "grid.best_params_"
   ]
  },
  {
   "cell_type": "code",
   "execution_count": null,
   "metadata": {},
   "outputs": [],
   "source": [
    "# Estructura del árbol final\n",
    "\n",
    "modelo_final = grid.best_estimator_\n",
    "print(f\"Profundidad del árbol: {modelo_final.get_depth()}\")\n",
    "print(f\"Número de nodos terminales: {modelo_final.get_n_leaves()}\")\n",
    "\n",
    "fig, ax = plt.subplots(figsize=(7, 5))\n",
    "plot = plot_tree(\n",
    "            decision_tree = modelo_final,\n",
    "            feature_names = predic.columns,\n",
    "            class_names   = 'fare_amount',\n",
    "            filled        = True,\n",
    "            impurity      = False,\n",
    "            ax            = ax)\n",
    "\n"
   ]
  },
  {
   "cell_type": "markdown",
   "metadata": {},
   "source": [
    "El proceso de pruning a identificado como mejor árbol uno mucho más pequeño que el modelo inicialmente entrenado"
   ]
  },
  {
   "cell_type": "markdown",
   "metadata": {},
   "source": [
    "### Prediccion y evaluacion del modelo\n"
   ]
  },
  {
   "cell_type": "code",
   "execution_count": null,
   "metadata": {},
   "outputs": [],
   "source": [
    "# Error de test del modelo inicial\n",
    "predicciones = modelo.predict(X = X_test)\n",
    "\n",
    "rmse = mean_squared_error(\n",
    "        y_true  = y_test,\n",
    "        y_pred  = predicciones,\n",
    "        squared = False\n",
    "       )\n",
    "print(f\"El error (rmse) de test es: {rmse}\")"
   ]
  },
  {
   "cell_type": "code",
   "execution_count": null,
   "metadata": {},
   "outputs": [],
   "source": [
    "# Error de test del modelo final (tras aplicar pruning)\n",
    "predicciones = modelo_final.predict(X = X_test)\n",
    "\n",
    "rmse = mean_squared_error(\n",
    "        y_true  = y_test,\n",
    "        y_pred  = predicciones,\n",
    "        squared = False\n",
    "       )\n",
    "print(f\"El error (rmse) de test es: {rmse}\")"
   ]
  },
  {
   "cell_type": "markdown",
   "metadata": {},
   "source": [
    "## Arbol de clasificacion"
   ]
  },
  {
   "cell_type": "markdown",
   "metadata": {},
   "source": [
    "#### Librerias"
   ]
  },
  {
   "cell_type": "code",
   "execution_count": 49,
   "metadata": {},
   "outputs": [],
   "source": [
    "\n",
    "import numpy as np\n",
    "import pandas as pd\n",
    "import statsmodels.api as sm\n",
    "import matplotlib.pyplot as plt\n",
    "from sklearn.model_selection import train_test_split\n",
    "from sklearn.tree import DecisionTreeClassifier\n",
    "from sklearn.tree import plot_tree\n",
    "from sklearn.tree import export_graphviz\n",
    "from sklearn.tree import export_text\n",
    "from sklearn.model_selection import GridSearchCV\n",
    "from sklearn.compose import ColumnTransformer\n",
    "from sklearn.preprocessing import OneHotEncoder\n",
    "from sklearn.metrics import accuracy_score\n",
    "from sklearn.metrics import confusion_matrix\n",
    "import warnings\n",
    "warnings.filterwarnings('once')\n",
    "\n"
   ]
  },
  {
   "cell_type": "code",
   "execution_count": 50,
   "metadata": {},
   "outputs": [
    {
     "name": "stderr",
     "output_type": "stream",
     "text": [
      "C:\\Users\\frank\\anaconda3\\lib\\site-packages\\ipykernel\\ipkernel.py:287: DeprecationWarning: `should_run_async` will not call `transform_cell` automatically in the future. Please pass the result to `transformed_cell` argument and any exception that happen during thetransform in `preprocessing_exc_tuple` in IPython 7.17 and above.\n",
      "  and should_run_async(code)\n"
     ]
    },
    {
     "data": {
      "text/html": [
       "<div>\n",
       "<style scoped>\n",
       "    .dataframe tbody tr th:only-of-type {\n",
       "        vertical-align: middle;\n",
       "    }\n",
       "\n",
       "    .dataframe tbody tr th {\n",
       "        vertical-align: top;\n",
       "    }\n",
       "\n",
       "    .dataframe thead th {\n",
       "        text-align: right;\n",
       "    }\n",
       "</style>\n",
       "<table border=\"1\" class=\"dataframe\">\n",
       "  <thead>\n",
       "    <tr style=\"text-align: right;\">\n",
       "      <th></th>\n",
       "      <th>fare_amount</th>\n",
       "      <th>pickup_datetime</th>\n",
       "      <th>pickup_longitude</th>\n",
       "      <th>pickup_latitude</th>\n",
       "      <th>dropoff_longitude</th>\n",
       "      <th>dropoff_latitude</th>\n",
       "      <th>dif_latitude</th>\n",
       "      <th>dif_longitude</th>\n",
       "      <th>distancia</th>\n",
       "      <th>dia_semana</th>\n",
       "      <th>hora</th>\n",
       "      <th>muchos_pasajeros</th>\n",
       "    </tr>\n",
       "  </thead>\n",
       "  <tbody>\n",
       "    <tr>\n",
       "      <th>0</th>\n",
       "      <td>8.0</td>\n",
       "      <td>2015-03-12 23:14:59 UTC</td>\n",
       "      <td>-73.993141</td>\n",
       "      <td>40.727940</td>\n",
       "      <td>-73.996613</td>\n",
       "      <td>40.744530</td>\n",
       "      <td>0.016590</td>\n",
       "      <td>0.003471</td>\n",
       "      <td>1.868306</td>\n",
       "      <td>4</td>\n",
       "      <td>23</td>\n",
       "      <td>1</td>\n",
       "    </tr>\n",
       "    <tr>\n",
       "      <th>1</th>\n",
       "      <td>10.0</td>\n",
       "      <td>2013-08-21 08:38:06 UTC</td>\n",
       "      <td>-73.964837</td>\n",
       "      <td>40.769933</td>\n",
       "      <td>-73.983462</td>\n",
       "      <td>40.761655</td>\n",
       "      <td>0.008278</td>\n",
       "      <td>0.018625</td>\n",
       "      <td>1.819197</td>\n",
       "      <td>3</td>\n",
       "      <td>8</td>\n",
       "      <td>1</td>\n",
       "    </tr>\n",
       "    <tr>\n",
       "      <th>2</th>\n",
       "      <td>5.5</td>\n",
       "      <td>2014-01-23 18:40:00 UTC</td>\n",
       "      <td>-74.001017</td>\n",
       "      <td>40.746352</td>\n",
       "      <td>-73.990873</td>\n",
       "      <td>40.739497</td>\n",
       "      <td>0.006855</td>\n",
       "      <td>0.010144</td>\n",
       "      <td>1.145462</td>\n",
       "      <td>4</td>\n",
       "      <td>18</td>\n",
       "      <td>1</td>\n",
       "    </tr>\n",
       "  </tbody>\n",
       "</table>\n",
       "</div>"
      ],
      "text/plain": [
       "   fare_amount          pickup_datetime  pickup_longitude  pickup_latitude  \\\n",
       "0          8.0  2015-03-12 23:14:59 UTC        -73.993141        40.727940   \n",
       "1         10.0  2013-08-21 08:38:06 UTC        -73.964837        40.769933   \n",
       "2          5.5  2014-01-23 18:40:00 UTC        -74.001017        40.746352   \n",
       "\n",
       "   dropoff_longitude  dropoff_latitude  dif_latitude  dif_longitude  \\\n",
       "0         -73.996613         40.744530      0.016590       0.003471   \n",
       "1         -73.983462         40.761655      0.008278       0.018625   \n",
       "2         -73.990873         40.739497      0.006855       0.010144   \n",
       "\n",
       "   distancia  dia_semana  hora  muchos_pasajeros  \n",
       "0   1.868306           4    23                 1  \n",
       "1   1.819197           3     8                 1  \n",
       "2   1.145462           4    18                 1  "
      ]
     },
     "execution_count": 50,
     "metadata": {},
     "output_type": "execute_result"
    }
   ],
   "source": [
    "new_data.head(3)"
   ]
  },
  {
   "cell_type": "code",
   "execution_count": 51,
   "metadata": {
    "collapsed": true
   },
   "outputs": [
    {
     "name": "stderr",
     "output_type": "stream",
     "text": [
      "C:\\Users\\frank\\anaconda3\\lib\\site-packages\\ipykernel\\ipkernel.py:287: DeprecationWarning: `should_run_async` will not call `transform_cell` automatically in the future. Please pass the result to `transformed_cell` argument and any exception that happen during thetransform in `preprocessing_exc_tuple` in IPython 7.17 and above.\n",
      "  and should_run_async(code)\n"
     ]
    },
    {
     "ename": "AttributeError",
     "evalue": "'DataFrame' object has no attribute 'passenger_count'",
     "output_type": "error",
     "traceback": [
      "\u001b[1;31m---------------------------------------------------------------------------\u001b[0m",
      "\u001b[1;31mAttributeError\u001b[0m                            Traceback (most recent call last)",
      "\u001b[1;32m<ipython-input-51-877ad3a8d3e1>\u001b[0m in \u001b[0;36m<module>\u001b[1;34m\u001b[0m\n\u001b[1;32m----> 1\u001b[1;33m \u001b[0mnew_data\u001b[0m\u001b[1;33m[\u001b[0m\u001b[1;34m'muchos_pasajeros'\u001b[0m\u001b[1;33m]\u001b[0m \u001b[1;33m=\u001b[0m \u001b[0mnp\u001b[0m\u001b[1;33m.\u001b[0m\u001b[0mwhere\u001b[0m\u001b[1;33m(\u001b[0m\u001b[0mnew_data\u001b[0m\u001b[1;33m.\u001b[0m\u001b[0mpassenger_count\u001b[0m \u001b[1;33m>\u001b[0m \u001b[1;36m5\u001b[0m\u001b[1;33m,\u001b[0m \u001b[1;36m0\u001b[0m\u001b[1;33m,\u001b[0m \u001b[1;36m1\u001b[0m\u001b[1;33m)\u001b[0m\u001b[1;33m\u001b[0m\u001b[1;33m\u001b[0m\u001b[0m\n\u001b[0m\u001b[0;32m      2\u001b[0m \u001b[1;31m# Una vez creada la nueva variable respuesta se descarta la original\u001b[0m\u001b[1;33m\u001b[0m\u001b[1;33m\u001b[0m\u001b[1;33m\u001b[0m\u001b[0m\n\u001b[0;32m      3\u001b[0m \u001b[0mnew_data\u001b[0m \u001b[1;33m=\u001b[0m \u001b[0mnew_data\u001b[0m\u001b[1;33m.\u001b[0m\u001b[0mdrop\u001b[0m\u001b[1;33m(\u001b[0m\u001b[0mcolumns\u001b[0m \u001b[1;33m=\u001b[0m \u001b[1;34m'passenger_count'\u001b[0m\u001b[1;33m)\u001b[0m\u001b[1;33m\u001b[0m\u001b[1;33m\u001b[0m\u001b[0m\n\u001b[0;32m      4\u001b[0m \u001b[1;33m\u001b[0m\u001b[0m\n",
      "\u001b[1;32m~\\anaconda3\\lib\\site-packages\\pandas\\core\\generic.py\u001b[0m in \u001b[0;36m__getattr__\u001b[1;34m(self, name)\u001b[0m\n\u001b[0;32m   5463\u001b[0m             \u001b[1;32mif\u001b[0m \u001b[0mself\u001b[0m\u001b[1;33m.\u001b[0m\u001b[0m_info_axis\u001b[0m\u001b[1;33m.\u001b[0m\u001b[0m_can_hold_identifiers_and_holds_name\u001b[0m\u001b[1;33m(\u001b[0m\u001b[0mname\u001b[0m\u001b[1;33m)\u001b[0m\u001b[1;33m:\u001b[0m\u001b[1;33m\u001b[0m\u001b[1;33m\u001b[0m\u001b[0m\n\u001b[0;32m   5464\u001b[0m                 \u001b[1;32mreturn\u001b[0m \u001b[0mself\u001b[0m\u001b[1;33m[\u001b[0m\u001b[0mname\u001b[0m\u001b[1;33m]\u001b[0m\u001b[1;33m\u001b[0m\u001b[1;33m\u001b[0m\u001b[0m\n\u001b[1;32m-> 5465\u001b[1;33m             \u001b[1;32mreturn\u001b[0m \u001b[0mobject\u001b[0m\u001b[1;33m.\u001b[0m\u001b[0m__getattribute__\u001b[0m\u001b[1;33m(\u001b[0m\u001b[0mself\u001b[0m\u001b[1;33m,\u001b[0m \u001b[0mname\u001b[0m\u001b[1;33m)\u001b[0m\u001b[1;33m\u001b[0m\u001b[1;33m\u001b[0m\u001b[0m\n\u001b[0m\u001b[0;32m   5466\u001b[0m \u001b[1;33m\u001b[0m\u001b[0m\n\u001b[0;32m   5467\u001b[0m     \u001b[1;32mdef\u001b[0m \u001b[0m__setattr__\u001b[0m\u001b[1;33m(\u001b[0m\u001b[0mself\u001b[0m\u001b[1;33m,\u001b[0m \u001b[0mname\u001b[0m\u001b[1;33m:\u001b[0m \u001b[0mstr\u001b[0m\u001b[1;33m,\u001b[0m \u001b[0mvalue\u001b[0m\u001b[1;33m)\u001b[0m \u001b[1;33m->\u001b[0m \u001b[1;32mNone\u001b[0m\u001b[1;33m:\u001b[0m\u001b[1;33m\u001b[0m\u001b[1;33m\u001b[0m\u001b[0m\n",
      "\u001b[1;31mAttributeError\u001b[0m: 'DataFrame' object has no attribute 'passenger_count'"
     ]
    }
   ],
   "source": [
    "\n",
    "\n",
    "new_data['muchos_pasajeros'] = np.where(new_data.passenger_count > 5, 0, 1)\n",
    "# Una vez creada la nueva variable respuesta se descarta la original\n",
    "new_data = new_data.drop(columns = 'passenger_count')\n",
    "\n"
   ]
  },
  {
   "cell_type": "code",
   "execution_count": 53,
   "metadata": {},
   "outputs": [
    {
     "name": "stdout",
     "output_type": "stream",
     "text": [
      "<class 'pandas.core.frame.DataFrame'>\n",
      "RangeIndex: 2219173 entries, 0 to 2219172\n",
      "Data columns (total 12 columns):\n",
      " #   Column             Dtype  \n",
      "---  ------             -----  \n",
      " 0   fare_amount        float64\n",
      " 1   pickup_datetime    object \n",
      " 2   pickup_longitude   float64\n",
      " 3   pickup_latitude    float64\n",
      " 4   dropoff_longitude  float64\n",
      " 5   dropoff_latitude   float64\n",
      " 6   dif_latitude       float64\n",
      " 7   dif_longitude      float64\n",
      " 8   distancia          float64\n",
      " 9   dia_semana         int64  \n",
      " 10  hora               int64  \n",
      " 11  muchos_pasajeros   int32  \n",
      "dtypes: float64(8), int32(1), int64(2), object(1)\n",
      "memory usage: 194.7+ MB\n"
     ]
    },
    {
     "name": "stderr",
     "output_type": "stream",
     "text": [
      "C:\\Users\\frank\\anaconda3\\lib\\site-packages\\ipykernel\\ipkernel.py:287: DeprecationWarning: `should_run_async` will not call `transform_cell` automatically in the future. Please pass the result to `transformed_cell` argument and any exception that happen during thetransform in `preprocessing_exc_tuple` in IPython 7.17 and above.\n",
      "  and should_run_async(code)\n"
     ]
    }
   ],
   "source": [
    "new_data.info()"
   ]
  },
  {
   "cell_type": "code",
   "execution_count": 84,
   "metadata": {},
   "outputs": [],
   "source": [
    "#se entablece las variables predictoras y obejtivos\n",
    "# se establece las columnas\n",
    "columnas_float = [\"distancia\",\"dia_semana\", \"hora\",\"fare_amount\"]\n",
    "#extraccion de datos predictores\n",
    "predictors = new_data[columnas_float]\n",
    "#extraccion de dato objetivo\n",
    "\n",
    "objetivo = [\"muchos_pasajeros\"]\n",
    "target = new_data[objetivo]"
   ]
  },
  {
   "cell_type": "code",
   "execution_count": 85,
   "metadata": {},
   "outputs": [],
   "source": [
    "#Se indican las etiquetas de las variable predictoras y objetivos\n",
    "predictors_label = [\"distancia\",\"dia_semana\", \"hora\",\"fare_amount\"]\n",
    "\n",
    "target_label =[\"muchos_pasajeros\"]\n"
   ]
  },
  {
   "cell_type": "code",
   "execution_count": 86,
   "metadata": {},
   "outputs": [
    {
     "data": {
      "text/html": [
       "<div>\n",
       "<style scoped>\n",
       "    .dataframe tbody tr th:only-of-type {\n",
       "        vertical-align: middle;\n",
       "    }\n",
       "\n",
       "    .dataframe tbody tr th {\n",
       "        vertical-align: top;\n",
       "    }\n",
       "\n",
       "    .dataframe thead th {\n",
       "        text-align: right;\n",
       "    }\n",
       "</style>\n",
       "<table border=\"1\" class=\"dataframe\">\n",
       "  <thead>\n",
       "    <tr style=\"text-align: right;\">\n",
       "      <th></th>\n",
       "      <th>muchos_pasajeros</th>\n",
       "    </tr>\n",
       "  </thead>\n",
       "  <tbody>\n",
       "    <tr>\n",
       "      <th>0</th>\n",
       "      <td>1</td>\n",
       "    </tr>\n",
       "    <tr>\n",
       "      <th>1</th>\n",
       "      <td>1</td>\n",
       "    </tr>\n",
       "    <tr>\n",
       "      <th>2</th>\n",
       "      <td>1</td>\n",
       "    </tr>\n",
       "    <tr>\n",
       "      <th>3</th>\n",
       "      <td>1</td>\n",
       "    </tr>\n",
       "    <tr>\n",
       "      <th>4</th>\n",
       "      <td>1</td>\n",
       "    </tr>\n",
       "    <tr>\n",
       "      <th>...</th>\n",
       "      <td>...</td>\n",
       "    </tr>\n",
       "    <tr>\n",
       "      <th>2219168</th>\n",
       "      <td>1</td>\n",
       "    </tr>\n",
       "    <tr>\n",
       "      <th>2219169</th>\n",
       "      <td>1</td>\n",
       "    </tr>\n",
       "    <tr>\n",
       "      <th>2219170</th>\n",
       "      <td>1</td>\n",
       "    </tr>\n",
       "    <tr>\n",
       "      <th>2219171</th>\n",
       "      <td>1</td>\n",
       "    </tr>\n",
       "    <tr>\n",
       "      <th>2219172</th>\n",
       "      <td>1</td>\n",
       "    </tr>\n",
       "  </tbody>\n",
       "</table>\n",
       "<p>2219173 rows × 1 columns</p>\n",
       "</div>"
      ],
      "text/plain": [
       "         muchos_pasajeros\n",
       "0                       1\n",
       "1                       1\n",
       "2                       1\n",
       "3                       1\n",
       "4                       1\n",
       "...                   ...\n",
       "2219168                 1\n",
       "2219169                 1\n",
       "2219170                 1\n",
       "2219171                 1\n",
       "2219172                 1\n",
       "\n",
       "[2219173 rows x 1 columns]"
      ]
     },
     "execution_count": 86,
     "metadata": {},
     "output_type": "execute_result"
    }
   ],
   "source": [
    "target"
   ]
  },
  {
   "cell_type": "markdown",
   "metadata": {},
   "source": [
    "### Ajuste del modelo"
   ]
  },
  {
   "cell_type": "markdown",
   "metadata": {},
   "source": [
    "En este arbol d clasificacion empleamos la variable de respuesta `muchos_pasajeros` y las demas variables las variables predictoras usamos los hiperparametros `max_deppth =5` y `creiterion = 'gini`"
   ]
  },
  {
   "cell_type": "code",
   "execution_count": 87,
   "metadata": {},
   "outputs": [
    {
     "name": "stderr",
     "output_type": "stream",
     "text": [
      "C:\\Users\\frank\\anaconda3\\lib\\site-packages\\ipykernel\\ipkernel.py:287: DeprecationWarning: `should_run_async` will not call `transform_cell` automatically in the future. Please pass the result to `transformed_cell` argument and any exception that happen during thetransform in `preprocessing_exc_tuple` in IPython 7.17 and above.\n",
      "  and should_run_async(code)\n"
     ]
    }
   ],
   "source": [
    "\n",
    "\n",
    "# División de los datos en train y test\n",
    "X_train, X_test, y_train, y_test = train_test_split(predictors,target,random_state = 123)\n",
    "\n",
    "# One-hot-encoding de las variables categóricas\n",
    "\n",
    "# Se identifica el nobre de las columnas numéricas y categóricas\n",
    "cat_cols = X_train.select_dtypes(include=['object', 'category']).columns.to_list()\n",
    "numeric_cols = X_train.select_dtypes(include=['float64', 'int64']).columns.to_list()\n",
    "\n",
    "# Se aplica one-hot-encoding solo a las columnas categóricas\n",
    "preprocessor = ColumnTransformer(\n",
    "                    [('onehot', OneHotEncoder(handle_unknown='ignore'), cat_cols)],\n",
    "                    remainder='passthrough')\n",
    "\n",
    "# Una vez que se ha definido el objeto ColumnTransformer, con el método fit()\n",
    "# se aprenden las transformaciones con los datos de entrenamiento y se aplican a\n",
    "# los dos conjuntos con transform(). Ambas operaciones a la vez con fit_transform().\n",
    "X_train_prep = preprocessor.fit_transform(X_train)\n",
    "X_test_prep  = preprocessor.transform(X_test)\n",
    "\n"
   ]
  },
  {
   "cell_type": "code",
   "execution_count": 88,
   "metadata": {},
   "outputs": [
    {
     "data": {
      "text/html": [
       "<div>\n",
       "<style scoped>\n",
       "    .dataframe tbody tr th:only-of-type {\n",
       "        vertical-align: middle;\n",
       "    }\n",
       "\n",
       "    .dataframe tbody tr th {\n",
       "        vertical-align: top;\n",
       "    }\n",
       "\n",
       "    .dataframe thead th {\n",
       "        text-align: right;\n",
       "    }\n",
       "</style>\n",
       "<table border=\"1\" class=\"dataframe\">\n",
       "  <thead>\n",
       "    <tr style=\"text-align: right;\">\n",
       "      <th></th>\n",
       "      <th>distancia</th>\n",
       "      <th>dia_semana</th>\n",
       "      <th>hora</th>\n",
       "      <th>fare_amount</th>\n",
       "    </tr>\n",
       "  </thead>\n",
       "  <tbody>\n",
       "    <tr>\n",
       "      <th>906115</th>\n",
       "      <td>1.306685</td>\n",
       "      <td>4</td>\n",
       "      <td>13</td>\n",
       "      <td>9.0</td>\n",
       "    </tr>\n",
       "    <tr>\n",
       "      <th>1753783</th>\n",
       "      <td>1.000391</td>\n",
       "      <td>6</td>\n",
       "      <td>19</td>\n",
       "      <td>7.0</td>\n",
       "    </tr>\n",
       "    <tr>\n",
       "      <th>1698583</th>\n",
       "      <td>10.736091</td>\n",
       "      <td>4</td>\n",
       "      <td>22</td>\n",
       "      <td>21.3</td>\n",
       "    </tr>\n",
       "    <tr>\n",
       "      <th>137580</th>\n",
       "      <td>0.833966</td>\n",
       "      <td>4</td>\n",
       "      <td>0</td>\n",
       "      <td>4.5</td>\n",
       "    </tr>\n",
       "    <tr>\n",
       "      <th>1178767</th>\n",
       "      <td>2.906311</td>\n",
       "      <td>6</td>\n",
       "      <td>12</td>\n",
       "      <td>10.5</td>\n",
       "    </tr>\n",
       "    <tr>\n",
       "      <th>...</th>\n",
       "      <td>...</td>\n",
       "      <td>...</td>\n",
       "      <td>...</td>\n",
       "      <td>...</td>\n",
       "    </tr>\n",
       "    <tr>\n",
       "      <th>1954914</th>\n",
       "      <td>1.688715</td>\n",
       "      <td>3</td>\n",
       "      <td>15</td>\n",
       "      <td>9.0</td>\n",
       "    </tr>\n",
       "    <tr>\n",
       "      <th>1241052</th>\n",
       "      <td>1.801208</td>\n",
       "      <td>2</td>\n",
       "      <td>14</td>\n",
       "      <td>6.5</td>\n",
       "    </tr>\n",
       "    <tr>\n",
       "      <th>28030</th>\n",
       "      <td>2.172580</td>\n",
       "      <td>2</td>\n",
       "      <td>18</td>\n",
       "      <td>9.3</td>\n",
       "    </tr>\n",
       "    <tr>\n",
       "      <th>277869</th>\n",
       "      <td>6.315911</td>\n",
       "      <td>5</td>\n",
       "      <td>4</td>\n",
       "      <td>14.1</td>\n",
       "    </tr>\n",
       "    <tr>\n",
       "      <th>773630</th>\n",
       "      <td>2.635571</td>\n",
       "      <td>6</td>\n",
       "      <td>19</td>\n",
       "      <td>8.0</td>\n",
       "    </tr>\n",
       "  </tbody>\n",
       "</table>\n",
       "<p>1664379 rows × 4 columns</p>\n",
       "</div>"
      ],
      "text/plain": [
       "         distancia  dia_semana  hora  fare_amount\n",
       "906115    1.306685           4    13          9.0\n",
       "1753783   1.000391           6    19          7.0\n",
       "1698583  10.736091           4    22         21.3\n",
       "137580    0.833966           4     0          4.5\n",
       "1178767   2.906311           6    12         10.5\n",
       "...            ...         ...   ...          ...\n",
       "1954914   1.688715           3    15          9.0\n",
       "1241052   1.801208           2    14          6.5\n",
       "28030     2.172580           2    18          9.3\n",
       "277869    6.315911           5     4         14.1\n",
       "773630    2.635571           6    19          8.0\n",
       "\n",
       "[1664379 rows x 4 columns]"
      ]
     },
     "execution_count": 88,
     "metadata": {},
     "output_type": "execute_result"
    }
   ],
   "source": [
    "X_train"
   ]
  },
  {
   "cell_type": "markdown",
   "metadata": {},
   "source": [
    "El resultado devuelto por `ColumnTransformer` es un `numpy array`, por lo que se pierden los nombres de las columnas. Suele ser interesante poder inspeccionar cómo queda el set de datos tras el preprocesado en formato dataframe. Por defecto, `OneHotEncoder` ordena las nuevas columnas de izquierda a derecha por orden alfabético"
   ]
  },
  {
   "cell_type": "code",
   "execution_count": 89,
   "metadata": {},
   "outputs": [
    {
     "name": "stderr",
     "output_type": "stream",
     "text": [
      "C:\\Users\\frank\\anaconda3\\lib\\site-packages\\ipykernel\\ipkernel.py:287: DeprecationWarning: `should_run_async` will not call `transform_cell` automatically in the future. Please pass the result to `transformed_cell` argument and any exception that happen during thetransform in `preprocessing_exc_tuple` in IPython 7.17 and above.\n",
      "  and should_run_async(code)\n"
     ]
    },
    {
     "data": {
      "text/plain": [
       "ColumnTransformer(remainder='passthrough',\n",
       "                  transformers=[('onehot',\n",
       "                                 OneHotEncoder(handle_unknown='ignore'), [])])"
      ]
     },
     "execution_count": 89,
     "metadata": {},
     "output_type": "execute_result"
    }
   ],
   "source": [
    "preprocessor"
   ]
  },
  {
   "cell_type": "code",
   "execution_count": 92,
   "metadata": {},
   "outputs": [],
   "source": [
    "# Convertir el output del ColumnTransformer en dataframe y añadir el nombre de las columnas\n",
    "# Nombre de todas las columnas\n",
    "#encoded_cat = preprocessor.named_transformers_['onehot'].get_feature_names(cat_cols)\n",
    "#labels = np.concatenate([numeric_cols,encoded_cat])\n",
    "\n",
    "# Conversión a dataframe\n",
    "#X_train_prep = pd.DataFrame(X_train_prep,columns = labels)\n",
    "#X_test_prep  = pd.DataFrame(X_test_prep,columns = labels)\n",
    "\n"
   ]
  },
  {
   "cell_type": "code",
   "execution_count": 93,
   "metadata": {},
   "outputs": [
    {
     "name": "stdout",
     "output_type": "stream",
     "text": [
      "<class 'pandas.core.frame.DataFrame'>\n",
      "RangeIndex: 1664379 entries, 0 to 1664378\n",
      "Data columns (total 4 columns):\n",
      " #   Column       Non-Null Count    Dtype  \n",
      "---  ------       --------------    -----  \n",
      " 0   distancia    1664379 non-null  float64\n",
      " 1   dia_semana   1664379 non-null  float64\n",
      " 2   hora         1664379 non-null  float64\n",
      " 3   fare_amount  1664379 non-null  float64\n",
      "dtypes: float64(4)\n",
      "memory usage: 50.8 MB\n"
     ]
    }
   ],
   "source": [
    "X_train_prep = pd.DataFrame(X_train_prep,columns =numeric_cols)\n",
    "X_test_prep  = pd.DataFrame(X_test_prep,columns = numeric_cols)\n",
    "X_train_prep.info()"
   ]
  },
  {
   "cell_type": "code",
   "execution_count": 83,
   "metadata": {},
   "outputs": [
    {
     "name": "stderr",
     "output_type": "stream",
     "text": [
      "C:\\Users\\frank\\anaconda3\\lib\\site-packages\\ipykernel\\ipkernel.py:287: DeprecationWarning: `should_run_async` will not call `transform_cell` automatically in the future. Please pass the result to `transformed_cell` argument and any exception that happen during thetransform in `preprocessing_exc_tuple` in IPython 7.17 and above.\n",
      "  and should_run_async(code)\n"
     ]
    },
    {
     "data": {
      "text/plain": [
       "array(['distancia', 'dia_semana', 'hora', ...,\n",
       "       'pickup_datetime_2015-06-30 23:50:00 UTC',\n",
       "       'pickup_datetime_2015-06-30 23:52:21 UTC',\n",
       "       'pickup_datetime_2015-06-30 23:58:36 UTC'], dtype=object)"
      ]
     },
     "execution_count": 83,
     "metadata": {},
     "output_type": "execute_result"
    }
   ],
   "source": [
    "labels"
   ]
  },
  {
   "cell_type": "code",
   "execution_count": 102,
   "metadata": {},
   "outputs": [
    {
     "data": {
      "text/plain": [
       "DecisionTreeClassifier(max_depth=5, random_state=123)"
      ]
     },
     "execution_count": 102,
     "metadata": {},
     "output_type": "execute_result"
    }
   ],
   "source": [
    "# Creación del modelo\n",
    "# ------------------------------------------------------------------------------\n",
    "modelo = DecisionTreeClassifier(\n",
    "            max_depth         = 5,\n",
    "            criterion         = 'gini',\n",
    "            random_state      = 123\n",
    "          )\n",
    "\n",
    "# Entrenamiento del modelo\n",
    "# ------------------------------------------------------------------------------\n",
    "modelo.fit(X_train_prep, y_train)"
   ]
  },
  {
   "cell_type": "code",
   "execution_count": 103,
   "metadata": {},
   "outputs": [
    {
     "name": "stderr",
     "output_type": "stream",
     "text": [
      "C:\\Users\\frank\\anaconda3\\lib\\site-packages\\ipykernel\\ipkernel.py:287: DeprecationWarning: `should_run_async` will not call `transform_cell` automatically in the future. Please pass the result to `transformed_cell` argument and any exception that happen during thetransform in `preprocessing_exc_tuple` in IPython 7.17 and above.\n",
      "  and should_run_async(code)\n"
     ]
    },
    {
     "name": "stdout",
     "output_type": "stream",
     "text": [
      "Profundidad del árbol: 5\n",
      "Número de nodos terminales: 32\n"
     ]
    },
    {
     "data": {
      "image/png": "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\n",
      "text/plain": [
       "<Figure size 1584x576 with 1 Axes>"
      ]
     },
     "metadata": {
      "needs_background": "light"
     },
     "output_type": "display_data"
    }
   ],
   "source": [
    "# Estructura del árbol creado\n",
    "# ------------------------------------------------------------------------------\n",
    "fig, ax = plt.subplots(figsize=(22, 8))\n",
    "\n",
    "print(f\"Profundidad del árbol: {modelo.get_depth()}\")\n",
    "print(f\"Número de nodos terminales: {modelo.get_n_leaves()}\")\n",
    "\n",
    "plot = plot_tree(\n",
    "            decision_tree = modelo,\n",
    "            feature_names = numeric_cols,\n",
    "            class_names   = \"muchos_pasajeros\",\n",
    "            filled        = True,\n",
    "            impurity      = False,\n",
    "            fontsize      = 7,\n",
    "            ax            = ax\n",
    "       )"
   ]
  },
  {
   "cell_type": "markdown",
   "metadata": {},
   "source": [
    "### Prediccion y evaluacion del modelo"
   ]
  },
  {
   "cell_type": "markdown",
   "metadata": {},
   "source": [
    "Evaluaremos la capacidad predictiva del arbol"
   ]
  },
  {
   "cell_type": "code",
   "execution_count": 104,
   "metadata": {},
   "outputs": [
    {
     "name": "stdout",
     "output_type": "stream",
     "text": [
      "Matriz de confusión\n",
      "-------------------\n"
     ]
    },
    {
     "data": {
      "text/plain": [
       "array([[     0,  11829],\n",
       "       [     2, 542963]], dtype=int64)"
      ]
     },
     "execution_count": 104,
     "metadata": {},
     "output_type": "execute_result"
    }
   ],
   "source": [
    "# Error de test del modelo\n",
    "predicciones = modelo.predict(X = X_test_prep,)\n",
    "\n",
    "print(\"Matriz de confusión\")\n",
    "print(\"-------------------\")\n",
    "confusion_matrix(\n",
    "    y_true    = y_test,\n",
    "    y_pred    = predicciones\n",
    ")\n",
    "\n"
   ]
  },
  {
   "cell_type": "code",
   "execution_count": 105,
   "metadata": {},
   "outputs": [
    {
     "name": "stdout",
     "output_type": "stream",
     "text": [
      "El accuracy de test es: 97.86749676456486 %\n"
     ]
    },
    {
     "name": "stderr",
     "output_type": "stream",
     "text": [
      "C:\\Users\\frank\\anaconda3\\lib\\site-packages\\ipykernel\\ipkernel.py:287: DeprecationWarning: `should_run_async` will not call `transform_cell` automatically in the future. Please pass the result to `transformed_cell` argument and any exception that happen during thetransform in `preprocessing_exc_tuple` in IPython 7.17 and above.\n",
      "  and should_run_async(code)\n"
     ]
    }
   ],
   "source": [
    "accuracy = accuracy_score(\n",
    "            y_true    = y_test,\n",
    "            y_pred    = predicciones,\n",
    "            normalize = True\n",
    "           )\n",
    "print(f\"El accuracy de test es: {100 * accuracy} %\")\n",
    "\n"
   ]
  },
  {
   "cell_type": "markdown",
   "metadata": {},
   "source": [
    "Esto nos indica que el modelo inicial es capz de predecir el 92.87% de las observaciones del conjunto de test"
   ]
  },
  {
   "cell_type": "markdown",
   "metadata": {},
   "source": [
    "### Podando el arbol "
   ]
  },
  {
   "cell_type": "code",
   "execution_count": null,
   "metadata": {},
   "outputs": [],
   "source": [
    "\n",
    "\n",
    "# Post pruning (const complexity pruning) por validación cruzada\n",
    "# ------------------------------------------------------------------------------\n",
    "# Valores de ccp_alpha evaluados\n",
    "param_grid = {'ccp_alpha':np.linspace(0, 5, 10)}\n",
    "\n",
    "# Búsqueda por validación cruzada\n",
    "grid = GridSearchCV(\n",
    "        # El árbol se crece al máximo posible antes de aplicar el pruning\n",
    "        estimator = DecisionTreeClassifier(\n",
    "                            max_depth         = None,\n",
    "                            min_samples_split = 2,\n",
    "                            min_samples_leaf  = 1,\n",
    "                            random_state      = 123\n",
    "                       ),\n",
    "        param_grid = param_grid,\n",
    "        scoring    = 'accuracy',\n",
    "        cv         = 10,\n",
    "        refit      = True,\n",
    "        return_train_score = True\n",
    "      )\n",
    "\n",
    "grid.fit(X_train_prep, y_train)\n",
    "\n",
    "fig, ax = plt.subplots(figsize=(6, 3.84))\n",
    "scores = pd.DataFrame(grid.cv_results_)\n",
    "scores.plot(x='param_ccp_alpha', y='mean_train_score', yerr='std_train_score', ax=ax)\n",
    "scores.plot(x='param_ccp_alpha', y='mean_test_score', yerr='std_test_score', ax=ax)\n",
    "ax.set_title(\"Error de validacion cruzada vs hiperparámetro ccp_alpha\");\n",
    "\n"
   ]
  },
  {
   "cell_type": "code",
   "execution_count": null,
   "metadata": {},
   "outputs": [],
   "source": []
  },
  {
   "cell_type": "code",
   "execution_count": null,
   "metadata": {},
   "outputs": [],
   "source": []
  },
  {
   "cell_type": "code",
   "execution_count": null,
   "metadata": {},
   "outputs": [],
   "source": []
  },
  {
   "cell_type": "code",
   "execution_count": null,
   "metadata": {},
   "outputs": [],
   "source": [
    "# cerramos la sesión spark\n",
    "sc.stop()"
   ]
  },
  {
   "cell_type": "code",
   "execution_count": null,
   "metadata": {},
   "outputs": [],
   "source": []
  }
 ],
 "metadata": {
  "kernelspec": {
   "display_name": "Python 3",
   "language": "python",
   "name": "python3"
  },
  "language_info": {
   "codemirror_mode": {
    "name": "ipython",
    "version": 3
   },
   "file_extension": ".py",
   "mimetype": "text/x-python",
   "name": "python",
   "nbconvert_exporter": "python",
   "pygments_lexer": "ipython3",
   "version": "3.8.8"
  }
 },
 "nbformat": 4,
 "nbformat_minor": 4
}
